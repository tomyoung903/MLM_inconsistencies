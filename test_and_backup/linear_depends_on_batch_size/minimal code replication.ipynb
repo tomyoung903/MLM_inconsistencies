{
 "cells": [
  {
   "cell_type": "code",
   "execution_count": null,
   "metadata": {},
   "outputs": [],
   "source": []
  },
  {
   "cell_type": "code",
   "execution_count": null,
   "metadata": {},
   "outputs": [
    {
     "name": "stdout",
     "output_type": "stream",
     "text": [
      "1.3213139027357101e-07\n"
     ]
    },
    {
     "ename": "",
     "evalue": "",
     "output_type": "error",
     "traceback": [
      "\u001b[1;31mThe Kernel crashed while executing code in the the current cell or a previous cell. Please review the code in the cell(s) to identify a possible cause of the failure. Click <a href='https://aka.ms/vscodeJupyterKernelCrash'>here</a> for more info. View Jupyter <a href='command:jupyter.viewOutput'>log</a> for further details."
     ]
    }
   ],
   "source": [
    "import torch\n",
    "import torch.nn as nn\n",
    "\n",
    "linear_layer = nn.Linear(1024, 64).cuda()\n",
    "huge_tensor = torch.ones(16, 300, 1024).float().cuda()\n",
    "\n",
    "a = linear_layer( huge_tensor ) [0] # 300 x 64\n",
    "b = linear_layer( huge_tensor[0]) # 300 x 64\n",
    "\n",
    "print(torch.abs(a - b).mean().item())"
   ]
  }
 ],
 "metadata": {
  "language_info": {
   "name": "python"
  }
 },
 "nbformat": 4,
 "nbformat_minor": 2
}

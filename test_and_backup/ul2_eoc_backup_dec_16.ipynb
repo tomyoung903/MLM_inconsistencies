{
 "cells": [
  {
   "cell_type": "markdown",
   "metadata": {},
   "source": [
    "This code uses UL2 to \n",
    "\n",
    "(1) measure inconsistencies in its bidirectional conditionals; \n",
    "\n",
    "(2) improve llm inference with Emsemble of Conditionals.  \n",
    "\n"
   ]
  },
  {
   "cell_type": "markdown",
   "metadata": {},
   "source": [
    "### Imports and global utils"
   ]
  },
  {
   "cell_type": "code",
   "execution_count": 2,
   "metadata": {},
   "outputs": [
    {
     "name": "stderr",
     "output_type": "stream",
     "text": [
      "/home/nus-ytj/miniconda3/envs/inconsistencies/lib/python3.11/site-packages/tqdm/auto.py:21: TqdmWarning: IProgress not found. Please update jupyter and ipywidgets. See https://ipywidgets.readthedocs.io/en/stable/user_install.html\n",
      "  from .autonotebook import tqdm as notebook_tqdm\n"
     ]
    }
   ],
   "source": [
    "'''imports'''\n",
    "import os\n",
    "# os.environ[\"CUDA_VISIBLE_DEVICES\"]=\"0,1,4,5,6,7\"\n",
    "os.environ[\"CUDA_VISIBLE_DEVICES\"]=\"7\"\n",
    "import general_utils\n",
    "# clear GPU memory\n",
    "if False:   \n",
    "    general_utils.kill_gpu_process(os.environ[\"CUDA_VISIBLE_DEVICES\"])\n",
    "import torch\n",
    "from transformers import T5ForConditionalGeneration, AutoTokenizer, T5Tokenizer\n",
    "import numpy as np\n",
    "import pickle\n",
    "import time\n",
    "from tqdm import tqdm\n",
    "import json\n",
    "import lambada_utils\n",
    "from lambada_utils import LambadaProcessor\n"
   ]
  },
  {
   "cell_type": "markdown",
   "metadata": {},
   "source": [
    "### Load tokenizer and model"
   ]
  },
  {
   "cell_type": "code",
   "execution_count": 3,
   "metadata": {},
   "outputs": [
    {
     "name": "stderr",
     "output_type": "stream",
     "text": [
      "Special tokens have been added in the vocabulary, make sure the associated word embeddings are fine-tuned or trained.\n"
     ]
    }
   ],
   "source": [
    "'''Load tokenizer'''\n",
    "# We are using custom huggingface cache dirs in case the default one doesn't have the capacity, since the models can be quite large.\n",
    "MY_HUGGINGFACE_CACHE_DIR ='huggingface_cache' # relative to this notebook path\n",
    "tokenizer = AutoTokenizer.from_pretrained(\"google/ul2\",\n",
    "                                        cache_dir = MY_HUGGINGFACE_CACHE_DIR+'/google-ul2')\n",
    "\n"
   ]
  },
  {
   "cell_type": "code",
   "execution_count": 4,
   "metadata": {},
   "outputs": [
    {
     "name": "stderr",
     "output_type": "stream",
     "text": [
      "Loading checkpoint shards: 100%|██████████| 4/4 [00:28<00:00,  7.13s/it]\n"
     ]
    }
   ],
   "source": [
    "RUN_CELL = 1 # Load model 0\n",
    "# device_map = general_utils.get_ul2_device_map('4')\n",
    "device_map = \"balanced\"\n",
    "if RUN_CELL:\n",
    "    model = T5ForConditionalGeneration.from_pretrained(\"google/ul2\", \n",
    "                                                    cache_dir=MY_HUGGINGFACE_CACHE_DIR + '/google-ul2', \n",
    "                                                    low_cpu_mem_usage=True, \n",
    "                                                    torch_dtype=torch.bfloat16,\n",
    "                                                    device_map=device_map)"
   ]
  },
  {
   "cell_type": "markdown",
   "metadata": {},
   "source": [
    "### Ensemble of Conditionals"
   ]
  },
  {
   "cell_type": "code",
   "execution_count": 5,
   "metadata": {},
   "outputs": [],
   "source": [
    "'''Specify set partition and UL2 mode; and instantiate the lambada processor'''\n",
    "IS_DEVELOPMENT = True # Set to False to run on the test set\n",
    "set_partition = 'validation_' if IS_DEVELOPMENT else 'test_' # filename part for saving results \n",
    "LAMBADA_TEST_DATA_PATH = \"data/jsonls/validation.jsonl\" if IS_DEVELOPMENT else \"data/jsonls/test.jsonl\"\n",
    "UL2_MODE = \"[NLG]\"\n",
    "\n",
    "processor = LambadaProcessor(tokenizer, \n",
    "                             ul2_mode=UL2_MODE, \n",
    "                             lambada_dataset_path=LAMBADA_TEST_DATA_PATH, \n",
    "                             rm_punc_space=True)\n",
    "lambada = processor.dataset\n",
    "ce_loss = torch.nn.CrossEntropyLoss(ignore_index=tokenizer.pad_token_id) #reduction='avg'\n",
    "ce_loss_sum = torch.nn.CrossEntropyLoss(ignore_index=tokenizer.pad_token_id, reduction='sum') #reduction='sum'"
   ]
  },
  {
   "cell_type": "markdown",
   "metadata": {},
   "source": [
    "Strategy for different punctuations\n",
    "<details>\n",
    "<summary>click to expand</summary>\n",
    "\n",
    "In the LAMBADA last word prediction task, natural language models (LLMs) may append various punctuations to the same last word, leading to different completions. For example, to complete the sentence \"My color of my pet dog is\":\n",
    "\n",
    "Possible Completions:\n",
    "\n",
    "1. _white._ with probability `p_1`\n",
    "2. _white!_ with probability `p_2` (assuming `p_1 > p_2`)\n",
    "3. _black,_ with probability `p_3`\n",
    "4. _black?_ with probability `p_4` (assuming `p_3 > p_4`)\n",
    "\n",
    "Strategies to Rank _white_ and _black_:\n",
    "\n",
    "1. Maximum Probability Strategy\n",
    "\n",
    "- Probability of _white_: `p(white) = p_1`\n",
    "- Probability of _black_: `p(black) = p_3`\n",
    "\n",
    "2. Sum of Probabilities Strategy\n",
    "\n",
    "- Probability of _white_: `p(white) = p_1 + p_2`\n",
    "- Probability of _black_: `p(black) = p_3 + p_4`\n",
    "\n",
    "Afterwards `p(_white_)` and `p(_black_)` may need normalization.\n",
    "\n",
    "WE ARE STICKING WITH MAXIMUM PROBABILITY STRAGEGY ACCORDING TO ACCURACIES OBTAINED FROM TRIAL RUNS. "
   ]
  },
  {
   "cell_type": "code",
   "execution_count": 6,
   "metadata": {
    "tags": []
   },
   "outputs": [],
   "source": [
    "RUN_CELL = 0 # '''Generate the top completions (through beam search) for each example, and get the word from each completion.'''\n",
    "if RUN_CELL:\n",
    "    # generate for all examples, and then get the words from the completions, and compare the first one with the target\n",
    "    count_correct = 0 # No. correct last word predictions if only the top completion is considered\n",
    "    count_correct_top_num_beams = 0 # ... if the top num_beams completions are considered\n",
    "    count_no_words_found = 0  # No. examples where no valid last word is found\n",
    "\n",
    "    # punctuated_word: the last word and the punctuation that follows it\n",
    "    id_to_punctuated_words = {} # maps example index to a list of word and punc pairs; every punc is kept for each word\n",
    "    id_to_completions_ids = {}\n",
    "\n",
    "    MAX_COMPLETION_LENGTH = 8 # for last word prediction, 8 is sufficient\n",
    "    NUM_BEAMS = 20 # 20 is sufficient; more doesn't help\n",
    "\n",
    "    # for example_index in tqdm(range(10)): # len(lambada)\n",
    "    for example_index in tqdm(range(len(lambada))): # len(lambada)\n",
    "        input_string = lambada[example_index]['inputs_pretokenized']\n",
    "        inputs = tokenizer(input_string, return_tensors=\"pt\").input_ids.to(\"cuda\")\n",
    "        outputs = model.generate(inputs,\n",
    "                                max_length=MAX_COMPLETION_LENGTH, \n",
    "                                num_beams=NUM_BEAMS, \n",
    "                                num_return_sequences=NUM_BEAMS, \n",
    "                                output_scores=True,\n",
    "                                eos_token_id=tokenizer.convert_tokens_to_ids('<extra_id_1>'), \n",
    "                                return_dict_in_generate=True)\n",
    "        \n",
    "        completions = [tokenizer.decode(outputs['sequences'][i]) for i in range(NUM_BEAMS)]\n",
    "        completions_ids_with_valid_lastword = [\n",
    "            outputs['sequences'][i].cpu()\n",
    "            for i in range(NUM_BEAMS)\n",
    "            if processor.get_word_from_completion(completions[i]) is not None # if the completion has a valid last word\n",
    "        ]\n",
    "\n",
    "        words = processor.get_words_from_completions(completions)\n",
    "        words_unique = list(set(words))\n",
    "\n",
    "        # TODO: combine them and move to lambada_utils.py\n",
    "        completions_without_pad = processor.remove_pad_id(completions_ids_with_valid_lastword)\n",
    "        completions_without_pad_before_punctuation = processor.before_first_punc_including(completions_without_pad) # including the first punc\n",
    "        \n",
    "        if words:\n",
    "            if words[0] == lambada[example_index]['targets_pretokenized'][0]:\n",
    "                count_correct += 1\n",
    "        else:\n",
    "            count_no_words_found += 1\n",
    "            # print(\"no words found\")\n",
    "        punctuated_words = processor.get_punctuated_words(completions)\n",
    "        id_to_punctuated_words[example_index] = punctuated_words\n",
    "        \n",
    "        completions_without_pad_before_punctuation_unique = list(set([tuple(x.numpy()) for x in completions_without_pad_before_punctuation]))\n",
    "        id_to_completions_ids[example_index] = [torch.tensor(x) for x in completions_without_pad_before_punctuation_unique]\n",
    "\n",
    "        # calculate the number of correct top num_beams: if the correct word is in the top num_beams, then it is correct\n",
    "        for word in words_unique:\n",
    "            if word == lambada[example_index]['targets_pretokenized'][0]:\n",
    "                count_correct_top_num_beams += 1\n",
    "                break\n",
    "    print(\"count_correct\", count_correct)\n",
    "    # count_correct, NLU: 0.7595\n",
    "    # count_correct, NLG: 0.7680 (test)\n",
    "    # count_correct, S2S: 0.3743 (could be because how the mode handles extra_ids)\n"
   ]
  },
  {
   "cell_type": "code",
   "execution_count": 7,
   "metadata": {},
   "outputs": [],
   "source": [
    "RUN_CELL = 0 # '''Save the beam search results by generate()'''\n",
    "if RUN_CELL:\n",
    "    note = ''\n",
    "    timed_pickle_filename = 'data/pkls/lambada_ul2/' + set_partition + UL2_MODE + '_ul2_lambada_vanilla_beam_search_results_' + general_utils.get_time() + note + '.pickle'\n",
    "    print('\\''+timed_pickle_filename+'\\'')\n",
    "\n",
    "    data_keys = ['count_correct', 'count_correct_top_num_beams', 'count_no_words_found',\n",
    "                'id_to_punctuated_words', 'id_to_completions_ids']\n",
    "    data = {}\n",
    "    for key in data_keys:\n",
    "        data[key] = locals()[key]\n",
    "\n",
    "    with open(timed_pickle_filename, 'wb') as fp:\n",
    "        pickle.dump(data, fp)"
   ]
  },
  {
   "cell_type": "code",
   "execution_count": 8,
   "metadata": {},
   "outputs": [],
   "source": [
    "'''Load the beam search results'''\n",
    "if IS_DEVELOPMENT:\n",
    "    # make sure to use punc fixed version\n",
    "    timed_pickle_filename = 'data/pkls/lambada_ul2/validation_[NLG]_vanilla_beam_search_results_2023-12-15-10:52:20.pickle'\n",
    "else:\n",
    "    timed_pickle_filename = 'data/pkls/lambada_ul2/test_[NLG]_vanilla_beam_search_results_2023-12-07-11:25:07.pickle'    \n",
    "with open(timed_pickle_filename, 'rb') as fp:\n",
    "    ul2_lambada_vanilla_beam_search_results = pickle.load(fp)\n",
    "id_to_completions_ids = ul2_lambada_vanilla_beam_search_results['id_to_completions_ids']"
   ]
  },
  {
   "cell_type": "markdown",
   "metadata": {},
   "source": [
    "K-offset Ensemble\n",
    "<details>\n",
    "<summary>Click to expand</summary>\n",
    "\n",
    "__K-offset Ensemble__ is a particular type of __Ensemble of Conditionals__.\n",
    "\n",
    "It aims to augment the only conditional distribution obtained by masking the last word with more distributions. The new distributions are obtained by masking the last __offset__ + 1 words.\n",
    "\n",
    "An example with the _lambada[0]_\n",
    "\n",
    "_lambada[0]['input_pretokenized']_: `... his mouth curved in a confident grin , i do n't care about <last_word>`\n",
    "\n",
    "We consider candidates `['angels.', 'signs.', 'that.']`.\n",
    "\n",
    "The baseline approach is to input `... his mouth curved in a confident grin , i do n't care about <extra_id_0>` to UL2 and obtain the distribution containing the 3 candidates.\n",
    "\n",
    "For the offset=1 case in K-offset Ensemble, we mask an extra token `about` in the end and input instead\n",
    "\n",
    "`... his mouth curved in a confident grin , i do n't care <extra_id_1>`\n",
    "\n",
    "This gives us a different distribution regarding `['about angels.', 'about signs.', 'about that.']`. They are given in an autoregressive manner\n",
    "e.g., `p(about angels) = p(about) * p(angels|about)`. Therefore we will use conditionals in the style of `p(angels|about)` to augment the baseline conditionals.\n",
    "\n",
    "Cases where __K__ is larger can be similarly derived.\n",
    "\n",
    "\n"
   ]
  },
  {
   "cell_type": "code",
   "execution_count": 9,
   "metadata": {},
   "outputs": [],
   "source": [
    "MAX_OFFSET = 15"
   ]
  },
  {
   "cell_type": "code",
   "execution_count": 10,
   "metadata": {
    "tags": []
   },
   "outputs": [],
   "source": [
    "RUN_CELL = 0 # '''Generate and save the offset samples'''\n",
    "if RUN_CELL:\n",
    "    id_and_offset_to_inputs_and_completions = \\\n",
    "        processor.get_offset_samples(\n",
    "            ul2_lambada_vanilla_beam_search_results['id_to_completions_ids'], \n",
    "            max_offset=MAX_OFFSET,\n",
    "            to_gpu=True\n",
    "        )\n",
    "    note = ''\n",
    "    timed_pickle_filename = 'data/pkls/lambada_ul2/offset_samples_' + set_partition + 'max_offset_' + str(MAX_OFFSET) + note + '_' + general_utils.get_time() + '.pickle'\n",
    "    print('\\''+timed_pickle_filename+'\\'')\n",
    "    with open(timed_pickle_filename, 'wb') as fp:\n",
    "        pickle.dump(id_and_offset_to_inputs_and_completions, fp)"
   ]
  },
  {
   "cell_type": "code",
   "execution_count": 11,
   "metadata": {
    "tags": []
   },
   "outputs": [],
   "source": [
    "RUN_CELL = 0 # Load the offset samples\n",
    "if RUN_CELL:\n",
    "    if IS_DEVELOPMENT:\n",
    "        timed_pickle_filename = \\\n",
    "            'data/pkls/lambada_ul2/offset_samples_validation_max_offset_15_2023-12-15-11:00:41.pickle'\n",
    "    else:\n",
    "        # data/pkls/lambada_ul2/avg_log_p_map_max_offset_15_fixed_spaced_punc_2023-12-07-13:44:15.pickle\n",
    "        timed_pickle_filename = 'data/pkls/lambada_ul2/offset_samples_max_offset_15_fixed_spaced_punc_2023-12-07-11:47:28.pickle'\n",
    "        # timed_pickle_filename = 'data/pkls/lambada_ul2/offset_samples_parallel_max_offset_5_2023-11-21-20:01:12.pickle'\n",
    "    with open(timed_pickle_filename, 'rb') as fp:\n",
    "        id_and_offset_to_inputs_and_completions = pickle.load(fp)"
   ]
  },
  {
   "cell_type": "code",
   "execution_count": 12,
   "metadata": {},
   "outputs": [],
   "source": [
    "RUN_CELL = 0 # Obtain and save the avg_log_p_map_offset\n",
    "if RUN_CELL:\n",
    "# id_and_offset_to_input_and_completions:\n",
    "# (id, offset) -> input_ids, [completion_ids_0, completion_ids_1, completion_ids_2,...]\n",
    "    avg_log_p_map_offset = dict() # (id, offset, completion_index) -> avg_log_p of the tokens constituting the last word (might be punctuated)\n",
    "    \n",
    "    for example_index in tqdm(range(len(lambada))): \n",
    "    # for example_index in tqdm(range(1)): \n",
    "        if len(id_to_completions_ids[example_index]) == 0:\n",
    "            continue\n",
    "        for offset in range(MAX_OFFSET):\n",
    "            completions_batch = id_and_offset_to_inputs_and_completions[(example_index, offset)]['labels']\n",
    "            input_ids = id_and_offset_to_inputs_and_completions[(example_index, offset)]['inputs'].unsqueeze(0)\n",
    "            outputs = lambada_utils.multi_labels_forward(model, input_ids, completions_batch)\n",
    "\n",
    "            for completion_index in range(len(id_to_completions_ids[example_index])):\n",
    "                avg_log_p = -ce_loss(\n",
    "                    # Only care about the tokens corresponding to the last word and omit offset tokens \n",
    "                    # the first one is <extra_id_0> and omitted\n",
    "                    outputs.logits[completion_index][1+offset:], \n",
    "                    completions_batch[completion_index][1+offset:]\n",
    "                )\n",
    "                avg_log_p_map_offset[(example_index, offset, completion_index)] = \\\n",
    "                    avg_log_p.detach().cpu().tolist()\n",
    "    \n",
    "    # Save the avg_log_p_map_offset\n",
    "    note = ''\n",
    "    pickle_filename = 'data/pkls/lambada_ul2/avg_log_p_map_' + set_partition + 'max_offset_' + str(MAX_OFFSET) + note + '_' + general_utils.get_time() + '.pickle'\n",
    "    print('\\''+pickle_filename+'\\'')\n",
    "    with open(pickle_filename, 'wb') as handle:\n",
    "        pickle.dump(avg_log_p_map_offset, handle)"
   ]
  },
  {
   "cell_type": "code",
   "execution_count": 13,
   "metadata": {},
   "outputs": [],
   "source": [
    "RUN_CELL = 1 # Load the avg_log_p_map for the offset samples\n",
    "if RUN_CELL:\n",
    "    # pickle_filename = 'data/pkls/lambada_ul2/avg_log_p_map_max_offset_15_2023-12-07-13:44:15.pickle'\n",
    "    pickle_filename = 'data/pkls/lambada_ul2/avg_log_p_map_validation_max_offset_15_2023-12-15-12:49:33.pickle'\n",
    "    # avg_log_p_map_offset (Dict): (id, offset, completion_index) -> avg_log_p of the tokens constituting the last word (might be punctuated)\n",
    "    with open(pickle_filename, 'rb') as handle:\n",
    "        avg_log_p_map_offset = pickle.load(handle)"
   ]
  },
  {
   "cell_type": "code",
   "execution_count": 14,
   "metadata": {},
   "outputs": [],
   "source": [
    "RUN_CELL = 0 # Quantify disagreement on last word predictions among K-offset conditionals\n",
    "if RUN_CELL: \n",
    "    for NUM_CONDITIONALS in range(2, 6): # 2, 3, 4, 5; how many sets of conditionals to consider; offset = 0 and offset = 1 are 2 different sets of conditionals\n",
    "        id_offset_to_lastword = dict()\n",
    "        id_to_lastwords_by_offsets = dict()\n",
    "        for offset in range(NUM_CONDITIONALS): # if NUM_CONDITIONALS = 2, then offset = 0, 1\n",
    "            for example_index in range(len(lambada)): # len(lambada)\n",
    "                # Create a list of tuples (avg_log_p, completion) for each completion\n",
    "                avg_log_p_and_completion = [\n",
    "                    (avg_log_p_map_offset[(example_index, offset, completion_index)], id_to_completions_ids[example_index][completion_index])\n",
    "                    for completion_index in range(len(id_to_completions_ids[example_index]))\n",
    "                ]\n",
    "                if len(avg_log_p_and_completion) == 0:\n",
    "                    continue\n",
    "                # Find the tuple with the maximum avg_log_p; this is essentially max reduction\n",
    "                best_avg_log_p, best_completion = max(avg_log_p_and_completion, key=lambda x: x[0])\n",
    "                lastword = processor.get_word_from_completion(tokenizer.decode(best_completion))\n",
    "                id_offset_to_lastword[(example_index, offset)] = lastword\n",
    "                if example_index not in id_to_lastwords_by_offsets:\n",
    "                    id_to_lastwords_by_offsets[example_index] = []\n",
    "                id_to_lastwords_by_offsets[example_index].append(lastword)\n",
    "        no_disagreement_count = 0\n",
    "        for example_index in id_to_lastwords_by_offsets:\n",
    "            if len(set(id_to_lastwords_by_offsets[example_index])) > 1:\n",
    "                no_disagreement_count += 1\n",
    "        ratio_disagreement = no_disagreement_count / (len(lambada) - ul2_lambada_vanilla_beam_search_results['count_no_words_found'])\n",
    "        print(\"NUM_CONDITIONALS\", NUM_CONDITIONALS, \"ratio_disagreement\", ratio_disagreement)"
   ]
  },
  {
   "cell_type": "markdown",
   "metadata": {},
   "source": [
    "Span-corruption ensemble  \n",
    "\n",
    "\n",
    "<details>\n",
    "<summary>Click to expand</summary>\n",
    "\n",
    "__Span-corruption Ensemble__ is a particular type of __Ensemble of Conditionals__.\n",
    "\n",
    "\n",
    "It aims to augment the only conditional distribution obtained by masking a number of additional spans in the middle of the input for additional distributions. \n",
    "\n",
    "\n",
    "(inaccurate notes copied from K offset ensemble)\n",
    "The key sample generation function is create_middle_off_sample() in lambada_utils, which is controlled by\n",
    "`middle_span_length`: the length of the masked span in the middle\n",
    "and \n",
    "`middle_to_end_gap`： the gap between the middle_span and the last word\n",
    "\n",
    "on average, the len of a lambada completion is 4.8 (including punc and extra_token_id)\n",
    "\n",
    "An example with the _lambada[0]_\n",
    "\n",
    "_lambada[0]['input_pretokenized']_: `... his mouth curved in a confident grin , i do n't care about <last_word>`\n",
    "\n",
    "We consider candidates `['angels.', 'signs.', 'that.']`.\n",
    "\n",
    "The baseline approach is to input `... his mouth curved in a confident grin , i do n't care about <extra_id_0>` to UL2 and obtain the distribution containing the 3 candidates.\n",
    "\n",
    "\n",
    "\n",
    "completion_lengths = [\n",
    "    id_and_offset_to_inputs_and_completions[example_index,0][completion_index][1].shape[0] - 1\n",
    "    for example_index in range(len(lambada)) \n",
    "    for completion_index in range(len(id_and_offset_to_inputs_and_completions[example_index,0]))\n",
    "] \n",
    "np.mean(completion_lengths) == 3.8\n"
   ]
  },
  {
   "cell_type": "code",
   "execution_count": 60,
   "metadata": {},
   "outputs": [],
   "source": [
    "# Parameters for generation and saving span-corruption samples\n",
    "LENGTH_GAP_NUM_TUPLE = (3, 5, 4)\n",
    "multiple_spans_filename_part = 'length_3_gap_5_numspan_4_multispan_'"
   ]
  },
  {
   "cell_type": "code",
   "execution_count": 64,
   "metadata": {},
   "outputs": [],
   "source": [
    "# check the lengths of all the inputs\n",
    "all_input_lengths = []\n",
    "for example_index in range(len(lambada)):\n",
    "    input_string = lambada[example_index]['inputs_pretokenized']\n",
    "    inputs = tokenizer(input_string, return_tensors=\"pt\").input_ids.to(\"cuda\")\n",
    "    all_input_lengths.append(inputs.shape[1])"
   ]
  },
  {
   "cell_type": "code",
   "execution_count": 68,
   "metadata": {},
   "outputs": [
    {
     "data": {
      "text/plain": [
       "234"
      ]
     },
     "execution_count": 68,
     "metadata": {},
     "output_type": "execute_result"
    }
   ],
   "source": [
    "max(all_input_lengths)\n",
    "\n"
   ]
  },
  {
   "cell_type": "code",
   "execution_count": 61,
   "metadata": {},
   "outputs": [
    {
     "name": "stderr",
     "output_type": "stream",
     "text": [
      "100%|██████████| 4869/4869 [00:10<00:00, 458.73it/s]\n"
     ]
    }
   ],
   "source": [
    "RUN_CELL = 1 # Generate the multispan samples\n",
    "if RUN_CELL:\n",
    "    # id_span_gap_num_to_input_and_completions: maps (id, span_length, gap_between_spans, num_spans) to a input_ids(Tensor) and multiple completion_ids(List[Tensor])\n",
    "    id_span_gap_num_to_input_and_completions = \\\n",
    "        processor.get_multiple_span_samples(\n",
    "            id_to_completions_ids, \n",
    "            length_gap_num_tuple=LENGTH_GAP_NUM_TUPLE,\n",
    "            to_gpu=True\n",
    "        )\n",
    "# INFO: input length range: 70 ~ 234"
   ]
  },
  {
   "cell_type": "code",
   "execution_count": 63,
   "metadata": {},
   "outputs": [
    {
     "data": {
      "text/plain": [
       "dict_keys([(0, 3, 5, 4), (1, 3, 5, 4), (2, 3, 5, 4), (3, 3, 5, 4), (4, 3, 5, 4), (5, 3, 5, 4), (6, 3, 5, 4), (7, 3, 5, 4), (8, 3, 5, 4), (9, 3, 5, 4), (10, 3, 5, 4), (11, 3, 5, 4), (12, 3, 5, 4), (13, 3, 5, 4), (14, 3, 5, 4), (15, 3, 5, 4), (16, 3, 5, 4), (17, 3, 5, 4), (18, 3, 5, 4), (19, 3, 5, 4), (20, 3, 5, 4), (21, 3, 5, 4), (22, 3, 5, 4), (24, 3, 5, 4), (25, 3, 5, 4), (26, 3, 5, 4), (27, 3, 5, 4), (28, 3, 5, 4), (29, 3, 5, 4), (30, 3, 5, 4), (31, 3, 5, 4), (32, 3, 5, 4), (33, 3, 5, 4), (34, 3, 5, 4), (35, 3, 5, 4), (36, 3, 5, 4), (37, 3, 5, 4), (38, 3, 5, 4), (39, 3, 5, 4), (40, 3, 5, 4), (41, 3, 5, 4), (42, 3, 5, 4), (43, 3, 5, 4), (44, 3, 5, 4), (45, 3, 5, 4), (46, 3, 5, 4), (47, 3, 5, 4), (48, 3, 5, 4), (49, 3, 5, 4), (50, 3, 5, 4), (51, 3, 5, 4), (52, 3, 5, 4), (53, 3, 5, 4), (54, 3, 5, 4), (55, 3, 5, 4), (56, 3, 5, 4), (57, 3, 5, 4), (58, 3, 5, 4), (59, 3, 5, 4), (60, 3, 5, 4), (61, 3, 5, 4), (62, 3, 5, 4), (63, 3, 5, 4), (64, 3, 5, 4), (65, 3, 5, 4), (66, 3, 5, 4), (68, 3, 5, 4), (69, 3, 5, 4), (70, 3, 5, 4), (71, 3, 5, 4), (72, 3, 5, 4), (73, 3, 5, 4), (74, 3, 5, 4), (75, 3, 5, 4), (76, 3, 5, 4), (77, 3, 5, 4), (78, 3, 5, 4), (79, 3, 5, 4), (80, 3, 5, 4), (81, 3, 5, 4), (82, 3, 5, 4), (83, 3, 5, 4), (84, 3, 5, 4), (85, 3, 5, 4), (86, 3, 5, 4), (88, 3, 5, 4), (89, 3, 5, 4), (90, 3, 5, 4), (91, 3, 5, 4), (92, 3, 5, 4), (93, 3, 5, 4), (94, 3, 5, 4), (95, 3, 5, 4), (96, 3, 5, 4), (97, 3, 5, 4), (98, 3, 5, 4), (99, 3, 5, 4), (100, 3, 5, 4), (101, 3, 5, 4), (102, 3, 5, 4), (103, 3, 5, 4), (104, 3, 5, 4), (105, 3, 5, 4), (106, 3, 5, 4), (107, 3, 5, 4), (108, 3, 5, 4), (109, 3, 5, 4), (110, 3, 5, 4), (111, 3, 5, 4), (112, 3, 5, 4), (113, 3, 5, 4), (114, 3, 5, 4), (115, 3, 5, 4), (116, 3, 5, 4), (117, 3, 5, 4), (118, 3, 5, 4), (119, 3, 5, 4), (120, 3, 5, 4), (121, 3, 5, 4), (122, 3, 5, 4), (123, 3, 5, 4), (124, 3, 5, 4), (125, 3, 5, 4), (126, 3, 5, 4), (127, 3, 5, 4), (128, 3, 5, 4), (129, 3, 5, 4), (130, 3, 5, 4), (131, 3, 5, 4), (132, 3, 5, 4), (133, 3, 5, 4), (134, 3, 5, 4), (135, 3, 5, 4), (136, 3, 5, 4), (137, 3, 5, 4), (138, 3, 5, 4), (139, 3, 5, 4), (140, 3, 5, 4), (141, 3, 5, 4), (142, 3, 5, 4), (143, 3, 5, 4), (144, 3, 5, 4), (145, 3, 5, 4), (146, 3, 5, 4), (147, 3, 5, 4), (148, 3, 5, 4), (149, 3, 5, 4), (150, 3, 5, 4), (151, 3, 5, 4), (152, 3, 5, 4), (153, 3, 5, 4), (154, 3, 5, 4), (155, 3, 5, 4), (156, 3, 5, 4), (157, 3, 5, 4), (158, 3, 5, 4), (159, 3, 5, 4), (160, 3, 5, 4), (161, 3, 5, 4), (162, 3, 5, 4), (163, 3, 5, 4), (165, 3, 5, 4), (166, 3, 5, 4), (167, 3, 5, 4), (168, 3, 5, 4), (169, 3, 5, 4), (170, 3, 5, 4), (171, 3, 5, 4), (172, 3, 5, 4), (173, 3, 5, 4), (174, 3, 5, 4), (175, 3, 5, 4), (176, 3, 5, 4), (177, 3, 5, 4), (178, 3, 5, 4), (179, 3, 5, 4), (180, 3, 5, 4), (181, 3, 5, 4), (183, 3, 5, 4), (184, 3, 5, 4), (185, 3, 5, 4), (186, 3, 5, 4), (188, 3, 5, 4), (189, 3, 5, 4), (190, 3, 5, 4), (191, 3, 5, 4), (192, 3, 5, 4), (193, 3, 5, 4), (194, 3, 5, 4), (195, 3, 5, 4), (196, 3, 5, 4), (197, 3, 5, 4), (198, 3, 5, 4), (199, 3, 5, 4), (200, 3, 5, 4), (201, 3, 5, 4), (202, 3, 5, 4), (203, 3, 5, 4), (204, 3, 5, 4), (205, 3, 5, 4), (206, 3, 5, 4), (207, 3, 5, 4), (208, 3, 5, 4), (209, 3, 5, 4), (210, 3, 5, 4), (211, 3, 5, 4), (212, 3, 5, 4), (213, 3, 5, 4), (215, 3, 5, 4), (216, 3, 5, 4), (217, 3, 5, 4), (218, 3, 5, 4), (219, 3, 5, 4), (220, 3, 5, 4), (221, 3, 5, 4), (222, 3, 5, 4), (223, 3, 5, 4), (224, 3, 5, 4), (225, 3, 5, 4), (226, 3, 5, 4), (227, 3, 5, 4), (228, 3, 5, 4), (229, 3, 5, 4), (230, 3, 5, 4), (231, 3, 5, 4), (232, 3, 5, 4), (233, 3, 5, 4), (234, 3, 5, 4), (235, 3, 5, 4), (236, 3, 5, 4), (237, 3, 5, 4), (238, 3, 5, 4), (239, 3, 5, 4), (240, 3, 5, 4), (241, 3, 5, 4), (242, 3, 5, 4), (243, 3, 5, 4), (244, 3, 5, 4), (245, 3, 5, 4), (246, 3, 5, 4), (248, 3, 5, 4), (249, 3, 5, 4), (250, 3, 5, 4), (251, 3, 5, 4), (252, 3, 5, 4), (253, 3, 5, 4), (255, 3, 5, 4), (257, 3, 5, 4), (258, 3, 5, 4), (259, 3, 5, 4), (260, 3, 5, 4), (261, 3, 5, 4), (262, 3, 5, 4), (263, 3, 5, 4), (264, 3, 5, 4), (265, 3, 5, 4), (266, 3, 5, 4), (267, 3, 5, 4), (268, 3, 5, 4), (269, 3, 5, 4), (270, 3, 5, 4), (271, 3, 5, 4), (272, 3, 5, 4), (273, 3, 5, 4), (274, 3, 5, 4), (275, 3, 5, 4), (276, 3, 5, 4), (277, 3, 5, 4), (278, 3, 5, 4), (279, 3, 5, 4), (280, 3, 5, 4), (282, 3, 5, 4), (283, 3, 5, 4), (284, 3, 5, 4), (285, 3, 5, 4), (286, 3, 5, 4), (287, 3, 5, 4), (288, 3, 5, 4), (289, 3, 5, 4), (290, 3, 5, 4), (291, 3, 5, 4), (292, 3, 5, 4), (293, 3, 5, 4), (294, 3, 5, 4), (295, 3, 5, 4), (296, 3, 5, 4), (297, 3, 5, 4), (298, 3, 5, 4), (299, 3, 5, 4), (300, 3, 5, 4), (301, 3, 5, 4), (302, 3, 5, 4), (303, 3, 5, 4), (304, 3, 5, 4), (305, 3, 5, 4), (306, 3, 5, 4), (307, 3, 5, 4), (308, 3, 5, 4), (309, 3, 5, 4), (310, 3, 5, 4), (311, 3, 5, 4), (312, 3, 5, 4), (313, 3, 5, 4), (314, 3, 5, 4), (315, 3, 5, 4), (316, 3, 5, 4), (317, 3, 5, 4), (318, 3, 5, 4), (319, 3, 5, 4), (320, 3, 5, 4), (321, 3, 5, 4), (322, 3, 5, 4), (323, 3, 5, 4), (324, 3, 5, 4), (325, 3, 5, 4), (326, 3, 5, 4), (327, 3, 5, 4), (328, 3, 5, 4), (329, 3, 5, 4), (330, 3, 5, 4), (331, 3, 5, 4), (332, 3, 5, 4), (333, 3, 5, 4), (335, 3, 5, 4), (336, 3, 5, 4), (337, 3, 5, 4), (338, 3, 5, 4), (339, 3, 5, 4), (340, 3, 5, 4), (342, 3, 5, 4), (343, 3, 5, 4), (344, 3, 5, 4), (345, 3, 5, 4), (346, 3, 5, 4), (347, 3, 5, 4), (348, 3, 5, 4), (349, 3, 5, 4), (350, 3, 5, 4), (351, 3, 5, 4), (352, 3, 5, 4), (353, 3, 5, 4), (354, 3, 5, 4), (355, 3, 5, 4), (357, 3, 5, 4), (358, 3, 5, 4), (359, 3, 5, 4), (360, 3, 5, 4), (361, 3, 5, 4), (362, 3, 5, 4), (363, 3, 5, 4), (364, 3, 5, 4), (365, 3, 5, 4), (366, 3, 5, 4), (367, 3, 5, 4), (369, 3, 5, 4), (370, 3, 5, 4), (371, 3, 5, 4), (372, 3, 5, 4), (373, 3, 5, 4), (374, 3, 5, 4), (375, 3, 5, 4), (376, 3, 5, 4), (377, 3, 5, 4), (378, 3, 5, 4), (379, 3, 5, 4), (380, 3, 5, 4), (381, 3, 5, 4), (382, 3, 5, 4), (383, 3, 5, 4), (384, 3, 5, 4), (385, 3, 5, 4), (386, 3, 5, 4), (387, 3, 5, 4), (388, 3, 5, 4), (389, 3, 5, 4), (390, 3, 5, 4), (391, 3, 5, 4), (392, 3, 5, 4), (393, 3, 5, 4), (394, 3, 5, 4), (395, 3, 5, 4), (396, 3, 5, 4), (397, 3, 5, 4), (398, 3, 5, 4), (400, 3, 5, 4), (401, 3, 5, 4), (402, 3, 5, 4), (403, 3, 5, 4), (404, 3, 5, 4), (405, 3, 5, 4), (406, 3, 5, 4), (407, 3, 5, 4), (408, 3, 5, 4), (409, 3, 5, 4), (410, 3, 5, 4), (411, 3, 5, 4), (412, 3, 5, 4), (413, 3, 5, 4), (414, 3, 5, 4), (415, 3, 5, 4), (416, 3, 5, 4), (417, 3, 5, 4), (418, 3, 5, 4), (419, 3, 5, 4), (420, 3, 5, 4), (421, 3, 5, 4), (422, 3, 5, 4), (423, 3, 5, 4), (424, 3, 5, 4), (425, 3, 5, 4), (427, 3, 5, 4), (428, 3, 5, 4), (429, 3, 5, 4), (430, 3, 5, 4), (431, 3, 5, 4), (432, 3, 5, 4), (433, 3, 5, 4), (434, 3, 5, 4), (435, 3, 5, 4), (436, 3, 5, 4), (437, 3, 5, 4), (438, 3, 5, 4), (439, 3, 5, 4), (440, 3, 5, 4), (442, 3, 5, 4), (443, 3, 5, 4), (444, 3, 5, 4), (445, 3, 5, 4), (446, 3, 5, 4), (447, 3, 5, 4), (448, 3, 5, 4), (449, 3, 5, 4), (450, 3, 5, 4), (451, 3, 5, 4), (452, 3, 5, 4), (453, 3, 5, 4), (454, 3, 5, 4), (455, 3, 5, 4), (456, 3, 5, 4), (457, 3, 5, 4), (458, 3, 5, 4), (459, 3, 5, 4), (461, 3, 5, 4), (462, 3, 5, 4), (463, 3, 5, 4), (464, 3, 5, 4), (465, 3, 5, 4), (466, 3, 5, 4), (467, 3, 5, 4), (468, 3, 5, 4), (470, 3, 5, 4), (471, 3, 5, 4), (472, 3, 5, 4), (473, 3, 5, 4), (474, 3, 5, 4), (475, 3, 5, 4), (476, 3, 5, 4), (477, 3, 5, 4), (478, 3, 5, 4), (479, 3, 5, 4), (480, 3, 5, 4), (481, 3, 5, 4), (482, 3, 5, 4), (483, 3, 5, 4), (484, 3, 5, 4), (485, 3, 5, 4), (486, 3, 5, 4), (487, 3, 5, 4), (488, 3, 5, 4), (489, 3, 5, 4), (490, 3, 5, 4), (491, 3, 5, 4), (492, 3, 5, 4), (493, 3, 5, 4), (494, 3, 5, 4), (495, 3, 5, 4), (496, 3, 5, 4), (497, 3, 5, 4), (498, 3, 5, 4), (499, 3, 5, 4), (500, 3, 5, 4), (501, 3, 5, 4), (502, 3, 5, 4), (503, 3, 5, 4), (504, 3, 5, 4), (505, 3, 5, 4), (506, 3, 5, 4), (507, 3, 5, 4), (508, 3, 5, 4), (509, 3, 5, 4), (510, 3, 5, 4), (511, 3, 5, 4), (512, 3, 5, 4), (513, 3, 5, 4), (514, 3, 5, 4), (515, 3, 5, 4), (517, 3, 5, 4), (518, 3, 5, 4), (519, 3, 5, 4), (520, 3, 5, 4), (521, 3, 5, 4), (522, 3, 5, 4), (523, 3, 5, 4), (524, 3, 5, 4), (525, 3, 5, 4), (526, 3, 5, 4), (527, 3, 5, 4), (528, 3, 5, 4), (529, 3, 5, 4), (530, 3, 5, 4), (531, 3, 5, 4), (532, 3, 5, 4), (533, 3, 5, 4), (534, 3, 5, 4), (535, 3, 5, 4), (536, 3, 5, 4), (537, 3, 5, 4), (538, 3, 5, 4), (539, 3, 5, 4), (540, 3, 5, 4), (541, 3, 5, 4), (542, 3, 5, 4), (543, 3, 5, 4), (544, 3, 5, 4), (545, 3, 5, 4), (546, 3, 5, 4), (547, 3, 5, 4), (548, 3, 5, 4), (549, 3, 5, 4), (550, 3, 5, 4), (551, 3, 5, 4), (552, 3, 5, 4), (553, 3, 5, 4), (554, 3, 5, 4), (555, 3, 5, 4), (556, 3, 5, 4), (557, 3, 5, 4), (558, 3, 5, 4), (560, 3, 5, 4), (561, 3, 5, 4), (562, 3, 5, 4), (563, 3, 5, 4), (564, 3, 5, 4), (565, 3, 5, 4), (566, 3, 5, 4), (567, 3, 5, 4), (568, 3, 5, 4), (569, 3, 5, 4), (570, 3, 5, 4), (571, 3, 5, 4), (572, 3, 5, 4), (573, 3, 5, 4), (574, 3, 5, 4), (575, 3, 5, 4), (577, 3, 5, 4), (578, 3, 5, 4), (579, 3, 5, 4), (580, 3, 5, 4), (581, 3, 5, 4), (582, 3, 5, 4), (583, 3, 5, 4), (584, 3, 5, 4), (585, 3, 5, 4), (586, 3, 5, 4), (587, 3, 5, 4), (588, 3, 5, 4), (589, 3, 5, 4), (590, 3, 5, 4), (591, 3, 5, 4), (592, 3, 5, 4), (593, 3, 5, 4), (594, 3, 5, 4), (595, 3, 5, 4), (596, 3, 5, 4), (597, 3, 5, 4), (598, 3, 5, 4), (599, 3, 5, 4), (600, 3, 5, 4), (601, 3, 5, 4), (602, 3, 5, 4), (603, 3, 5, 4), (604, 3, 5, 4), (605, 3, 5, 4), (606, 3, 5, 4), (608, 3, 5, 4), (609, 3, 5, 4), (610, 3, 5, 4), (611, 3, 5, 4), (612, 3, 5, 4), (613, 3, 5, 4), (614, 3, 5, 4), (615, 3, 5, 4), (616, 3, 5, 4), (617, 3, 5, 4), (618, 3, 5, 4), (619, 3, 5, 4), (620, 3, 5, 4), (621, 3, 5, 4), (622, 3, 5, 4), (623, 3, 5, 4), (624, 3, 5, 4), (625, 3, 5, 4), (626, 3, 5, 4), (627, 3, 5, 4), (629, 3, 5, 4), (630, 3, 5, 4), (631, 3, 5, 4), (632, 3, 5, 4), (633, 3, 5, 4), (634, 3, 5, 4), (635, 3, 5, 4), (636, 3, 5, 4), (637, 3, 5, 4), (638, 3, 5, 4), (640, 3, 5, 4), (641, 3, 5, 4), (642, 3, 5, 4), (643, 3, 5, 4), (644, 3, 5, 4), (645, 3, 5, 4), (646, 3, 5, 4), (647, 3, 5, 4), (648, 3, 5, 4), (649, 3, 5, 4), (650, 3, 5, 4), (651, 3, 5, 4), (652, 3, 5, 4), (654, 3, 5, 4), (655, 3, 5, 4), (656, 3, 5, 4), (658, 3, 5, 4), (659, 3, 5, 4), (660, 3, 5, 4), (661, 3, 5, 4), (662, 3, 5, 4), (663, 3, 5, 4), (664, 3, 5, 4), (665, 3, 5, 4), (666, 3, 5, 4), (667, 3, 5, 4), (668, 3, 5, 4), (669, 3, 5, 4), (670, 3, 5, 4), (671, 3, 5, 4), (672, 3, 5, 4), (673, 3, 5, 4), (674, 3, 5, 4), (675, 3, 5, 4), (676, 3, 5, 4), (677, 3, 5, 4), (678, 3, 5, 4), (680, 3, 5, 4), (681, 3, 5, 4), (682, 3, 5, 4), (683, 3, 5, 4), (684, 3, 5, 4), (685, 3, 5, 4), (686, 3, 5, 4), (687, 3, 5, 4), (688, 3, 5, 4), (689, 3, 5, 4), (690, 3, 5, 4), (691, 3, 5, 4), (692, 3, 5, 4), (693, 3, 5, 4), (694, 3, 5, 4), (695, 3, 5, 4), (696, 3, 5, 4), (697, 3, 5, 4), (698, 3, 5, 4), (699, 3, 5, 4), (701, 3, 5, 4), (702, 3, 5, 4), (703, 3, 5, 4), (704, 3, 5, 4), (705, 3, 5, 4), (706, 3, 5, 4), (707, 3, 5, 4), (708, 3, 5, 4), (709, 3, 5, 4), (711, 3, 5, 4), (712, 3, 5, 4), (713, 3, 5, 4), (714, 3, 5, 4), (715, 3, 5, 4), (716, 3, 5, 4), (717, 3, 5, 4), (719, 3, 5, 4), (720, 3, 5, 4), (721, 3, 5, 4), (722, 3, 5, 4), (723, 3, 5, 4), (724, 3, 5, 4), (725, 3, 5, 4), (726, 3, 5, 4), (727, 3, 5, 4), (728, 3, 5, 4), (729, 3, 5, 4), (730, 3, 5, 4), (731, 3, 5, 4), (732, 3, 5, 4), (733, 3, 5, 4), (734, 3, 5, 4), (735, 3, 5, 4), (736, 3, 5, 4), (737, 3, 5, 4), (738, 3, 5, 4), (739, 3, 5, 4), (740, 3, 5, 4), (741, 3, 5, 4), (742, 3, 5, 4), (743, 3, 5, 4), (744, 3, 5, 4), (745, 3, 5, 4), (746, 3, 5, 4), (747, 3, 5, 4), (748, 3, 5, 4), (749, 3, 5, 4), (750, 3, 5, 4), (751, 3, 5, 4), (752, 3, 5, 4), (753, 3, 5, 4), (754, 3, 5, 4), (755, 3, 5, 4), (756, 3, 5, 4), (757, 3, 5, 4), (758, 3, 5, 4), (759, 3, 5, 4), (760, 3, 5, 4), (761, 3, 5, 4), (762, 3, 5, 4), (763, 3, 5, 4), (764, 3, 5, 4), (765, 3, 5, 4), (766, 3, 5, 4), (767, 3, 5, 4), (768, 3, 5, 4), (769, 3, 5, 4), (770, 3, 5, 4), (771, 3, 5, 4), (772, 3, 5, 4), (773, 3, 5, 4), (774, 3, 5, 4), (775, 3, 5, 4), (776, 3, 5, 4), (777, 3, 5, 4), (779, 3, 5, 4), (780, 3, 5, 4), (781, 3, 5, 4), (782, 3, 5, 4), (783, 3, 5, 4), (784, 3, 5, 4), (785, 3, 5, 4), (787, 3, 5, 4), (788, 3, 5, 4), (789, 3, 5, 4), (790, 3, 5, 4), (791, 3, 5, 4), (792, 3, 5, 4), (793, 3, 5, 4), (794, 3, 5, 4), (795, 3, 5, 4), (796, 3, 5, 4), (798, 3, 5, 4), (799, 3, 5, 4), (800, 3, 5, 4), (801, 3, 5, 4), (802, 3, 5, 4), (803, 3, 5, 4), (804, 3, 5, 4), (805, 3, 5, 4), (806, 3, 5, 4), (807, 3, 5, 4), (808, 3, 5, 4), (809, 3, 5, 4), (810, 3, 5, 4), (811, 3, 5, 4), (812, 3, 5, 4), (813, 3, 5, 4), (814, 3, 5, 4), (815, 3, 5, 4), (816, 3, 5, 4), (817, 3, 5, 4), (818, 3, 5, 4), (819, 3, 5, 4), (820, 3, 5, 4), (821, 3, 5, 4), (822, 3, 5, 4), (823, 3, 5, 4), (824, 3, 5, 4), (825, 3, 5, 4), (826, 3, 5, 4), (827, 3, 5, 4), (828, 3, 5, 4), (829, 3, 5, 4), (830, 3, 5, 4), (831, 3, 5, 4), (832, 3, 5, 4), (833, 3, 5, 4), (834, 3, 5, 4), (835, 3, 5, 4), (837, 3, 5, 4), (838, 3, 5, 4), (839, 3, 5, 4), (840, 3, 5, 4), (841, 3, 5, 4), (842, 3, 5, 4), (843, 3, 5, 4), (844, 3, 5, 4), (845, 3, 5, 4), (846, 3, 5, 4), (847, 3, 5, 4), (848, 3, 5, 4), (849, 3, 5, 4), (850, 3, 5, 4), (851, 3, 5, 4), (852, 3, 5, 4), (853, 3, 5, 4), (854, 3, 5, 4), (855, 3, 5, 4), (856, 3, 5, 4), (857, 3, 5, 4), (858, 3, 5, 4), (859, 3, 5, 4), (860, 3, 5, 4), (861, 3, 5, 4), (862, 3, 5, 4), (863, 3, 5, 4), (864, 3, 5, 4), (865, 3, 5, 4), (866, 3, 5, 4), (867, 3, 5, 4), (868, 3, 5, 4), (869, 3, 5, 4), (870, 3, 5, 4), (871, 3, 5, 4), (872, 3, 5, 4), (873, 3, 5, 4), (874, 3, 5, 4), (875, 3, 5, 4), (876, 3, 5, 4), (877, 3, 5, 4), (878, 3, 5, 4), (879, 3, 5, 4), (880, 3, 5, 4), (881, 3, 5, 4), (882, 3, 5, 4), (883, 3, 5, 4), (884, 3, 5, 4), (885, 3, 5, 4), (886, 3, 5, 4), (887, 3, 5, 4), (888, 3, 5, 4), (889, 3, 5, 4), (890, 3, 5, 4), (891, 3, 5, 4), (892, 3, 5, 4), (893, 3, 5, 4), (895, 3, 5, 4), (896, 3, 5, 4), (897, 3, 5, 4), (898, 3, 5, 4), (899, 3, 5, 4), (900, 3, 5, 4), (901, 3, 5, 4), (902, 3, 5, 4), (903, 3, 5, 4), (904, 3, 5, 4), (905, 3, 5, 4), (906, 3, 5, 4), (907, 3, 5, 4), (908, 3, 5, 4), (909, 3, 5, 4), (910, 3, 5, 4), (911, 3, 5, 4), (913, 3, 5, 4), (914, 3, 5, 4), (915, 3, 5, 4), (916, 3, 5, 4), (917, 3, 5, 4), (918, 3, 5, 4), (919, 3, 5, 4), (920, 3, 5, 4), (921, 3, 5, 4), (922, 3, 5, 4), (923, 3, 5, 4), (924, 3, 5, 4), (925, 3, 5, 4), (926, 3, 5, 4), (927, 3, 5, 4), (928, 3, 5, 4), (929, 3, 5, 4), (930, 3, 5, 4), (931, 3, 5, 4), (932, 3, 5, 4), (933, 3, 5, 4), (934, 3, 5, 4), (935, 3, 5, 4), (936, 3, 5, 4), (937, 3, 5, 4), (938, 3, 5, 4), (939, 3, 5, 4), (940, 3, 5, 4), (941, 3, 5, 4), (942, 3, 5, 4), (943, 3, 5, 4), (944, 3, 5, 4), (945, 3, 5, 4), (946, 3, 5, 4), (947, 3, 5, 4), (949, 3, 5, 4), (950, 3, 5, 4), (951, 3, 5, 4), (952, 3, 5, 4), (953, 3, 5, 4), (954, 3, 5, 4), (955, 3, 5, 4), (956, 3, 5, 4), (957, 3, 5, 4), (958, 3, 5, 4), (959, 3, 5, 4), (960, 3, 5, 4), (961, 3, 5, 4), (962, 3, 5, 4), (963, 3, 5, 4), (964, 3, 5, 4), (965, 3, 5, 4), (966, 3, 5, 4), (967, 3, 5, 4), (968, 3, 5, 4), (969, 3, 5, 4), (970, 3, 5, 4), (971, 3, 5, 4), (972, 3, 5, 4), (973, 3, 5, 4), (974, 3, 5, 4), (975, 3, 5, 4), (976, 3, 5, 4), (977, 3, 5, 4), (978, 3, 5, 4), (979, 3, 5, 4), (980, 3, 5, 4), (981, 3, 5, 4), (982, 3, 5, 4), (983, 3, 5, 4), (984, 3, 5, 4), (985, 3, 5, 4), (986, 3, 5, 4), (987, 3, 5, 4), (988, 3, 5, 4), (989, 3, 5, 4), (991, 3, 5, 4), (992, 3, 5, 4), (993, 3, 5, 4), (994, 3, 5, 4), (995, 3, 5, 4), (996, 3, 5, 4), (997, 3, 5, 4), (998, 3, 5, 4), (999, 3, 5, 4), (1000, 3, 5, 4), (1002, 3, 5, 4), (1003, 3, 5, 4), (1005, 3, 5, 4), (1006, 3, 5, 4), (1007, 3, 5, 4), (1008, 3, 5, 4), (1009, 3, 5, 4), (1010, 3, 5, 4), (1011, 3, 5, 4), (1012, 3, 5, 4), (1013, 3, 5, 4), (1014, 3, 5, 4), (1015, 3, 5, 4), (1016, 3, 5, 4), (1017, 3, 5, 4), (1018, 3, 5, 4), (1019, 3, 5, 4), (1020, 3, 5, 4), (1021, 3, 5, 4), (1022, 3, 5, 4), (1023, 3, 5, 4), (1024, 3, 5, 4), (1025, 3, 5, 4), (1026, 3, 5, 4), (1027, 3, 5, 4), (1028, 3, 5, 4), (1029, 3, 5, 4), (1030, 3, 5, 4), (1031, 3, 5, 4), (1032, 3, 5, 4), (1033, 3, 5, 4), (1034, 3, 5, 4), (1035, 3, 5, 4), (1036, 3, 5, 4), (1037, 3, 5, 4), (1038, 3, 5, 4), (1039, 3, 5, 4), (1040, 3, 5, 4), (1041, 3, 5, 4), (1042, 3, 5, 4), (1043, 3, 5, 4), (1044, 3, 5, 4), (1045, 3, 5, 4), (1046, 3, 5, 4), (1047, 3, 5, 4), (1048, 3, 5, 4), (1049, 3, 5, 4), (1050, 3, 5, 4), (1051, 3, 5, 4), (1053, 3, 5, 4), (1054, 3, 5, 4), (1056, 3, 5, 4), (1057, 3, 5, 4), (1058, 3, 5, 4), (1059, 3, 5, 4), (1060, 3, 5, 4), (1061, 3, 5, 4), (1063, 3, 5, 4), (1064, 3, 5, 4), (1066, 3, 5, 4), (1067, 3, 5, 4), (1068, 3, 5, 4), (1069, 3, 5, 4), (1070, 3, 5, 4), (1071, 3, 5, 4), (1072, 3, 5, 4), (1073, 3, 5, 4), (1074, 3, 5, 4), (1075, 3, 5, 4), (1076, 3, 5, 4), (1077, 3, 5, 4), (1078, 3, 5, 4), (1079, 3, 5, 4), (1080, 3, 5, 4), (1081, 3, 5, 4), (1082, 3, 5, 4), (1083, 3, 5, 4), (1084, 3, 5, 4), (1085, 3, 5, 4), (1086, 3, 5, 4), (1087, 3, 5, 4), (1088, 3, 5, 4), (1089, 3, 5, 4), (1090, 3, 5, 4), (1091, 3, 5, 4), (1092, 3, 5, 4), (1093, 3, 5, 4), (1094, 3, 5, 4), (1095, 3, 5, 4), (1096, 3, 5, 4), (1097, 3, 5, 4), (1098, 3, 5, 4), (1099, 3, 5, 4), (1100, 3, 5, 4), (1101, 3, 5, 4), (1102, 3, 5, 4), (1103, 3, 5, 4), (1104, 3, 5, 4), (1105, 3, 5, 4), (1106, 3, 5, 4), (1107, 3, 5, 4), (1108, 3, 5, 4), (1109, 3, 5, 4), (1110, 3, 5, 4), (1111, 3, 5, 4), (1112, 3, 5, 4), (1113, 3, 5, 4), (1114, 3, 5, 4), (1115, 3, 5, 4), (1116, 3, 5, 4), (1117, 3, 5, 4), (1118, 3, 5, 4), (1119, 3, 5, 4), (1120, 3, 5, 4), (1121, 3, 5, 4), (1122, 3, 5, 4), (1124, 3, 5, 4), (1125, 3, 5, 4), (1126, 3, 5, 4), (1127, 3, 5, 4), (1128, 3, 5, 4), (1129, 3, 5, 4), (1130, 3, 5, 4), (1131, 3, 5, 4), (1132, 3, 5, 4), (1133, 3, 5, 4), (1134, 3, 5, 4), (1135, 3, 5, 4), (1136, 3, 5, 4), (1137, 3, 5, 4), (1138, 3, 5, 4), (1139, 3, 5, 4), (1140, 3, 5, 4), (1141, 3, 5, 4), (1143, 3, 5, 4), (1144, 3, 5, 4), (1145, 3, 5, 4), (1146, 3, 5, 4), (1147, 3, 5, 4), (1148, 3, 5, 4), (1149, 3, 5, 4), (1150, 3, 5, 4), (1151, 3, 5, 4), (1152, 3, 5, 4), (1153, 3, 5, 4), (1154, 3, 5, 4), (1155, 3, 5, 4), (1156, 3, 5, 4), (1157, 3, 5, 4), (1158, 3, 5, 4), (1159, 3, 5, 4), (1160, 3, 5, 4), (1161, 3, 5, 4), (1162, 3, 5, 4), (1163, 3, 5, 4), (1164, 3, 5, 4), (1165, 3, 5, 4), (1166, 3, 5, 4), (1167, 3, 5, 4), (1168, 3, 5, 4), (1169, 3, 5, 4), (1170, 3, 5, 4), (1171, 3, 5, 4), (1172, 3, 5, 4), (1173, 3, 5, 4), (1174, 3, 5, 4), (1175, 3, 5, 4), (1176, 3, 5, 4), (1177, 3, 5, 4), (1178, 3, 5, 4), (1179, 3, 5, 4), (1180, 3, 5, 4), (1181, 3, 5, 4), (1182, 3, 5, 4), (1183, 3, 5, 4), (1184, 3, 5, 4), (1185, 3, 5, 4), (1186, 3, 5, 4), (1187, 3, 5, 4), (1188, 3, 5, 4), (1189, 3, 5, 4), (1190, 3, 5, 4), (1191, 3, 5, 4), (1192, 3, 5, 4), (1193, 3, 5, 4), (1194, 3, 5, 4), (1195, 3, 5, 4), (1196, 3, 5, 4), (1197, 3, 5, 4), (1198, 3, 5, 4), (1199, 3, 5, 4), (1200, 3, 5, 4), (1201, 3, 5, 4), (1202, 3, 5, 4), (1203, 3, 5, 4), (1204, 3, 5, 4), (1205, 3, 5, 4), (1206, 3, 5, 4), (1207, 3, 5, 4), (1208, 3, 5, 4), (1209, 3, 5, 4), (1210, 3, 5, 4), (1211, 3, 5, 4), (1212, 3, 5, 4), (1213, 3, 5, 4), (1214, 3, 5, 4), (1215, 3, 5, 4), (1216, 3, 5, 4), (1217, 3, 5, 4), (1218, 3, 5, 4), (1219, 3, 5, 4), (1220, 3, 5, 4), (1222, 3, 5, 4), (1223, 3, 5, 4), (1224, 3, 5, 4), (1225, 3, 5, 4), (1226, 3, 5, 4), (1227, 3, 5, 4), (1228, 3, 5, 4), (1229, 3, 5, 4), (1230, 3, 5, 4), (1231, 3, 5, 4), (1232, 3, 5, 4), (1233, 3, 5, 4), (1234, 3, 5, 4), (1235, 3, 5, 4), (1236, 3, 5, 4), (1237, 3, 5, 4), (1238, 3, 5, 4), (1239, 3, 5, 4), (1240, 3, 5, 4), (1241, 3, 5, 4), (1242, 3, 5, 4), (1243, 3, 5, 4), (1244, 3, 5, 4), (1245, 3, 5, 4), (1246, 3, 5, 4), (1247, 3, 5, 4), (1248, 3, 5, 4), (1249, 3, 5, 4), (1250, 3, 5, 4), (1251, 3, 5, 4), (1252, 3, 5, 4), (1253, 3, 5, 4), (1254, 3, 5, 4), (1255, 3, 5, 4), (1256, 3, 5, 4), (1257, 3, 5, 4), (1258, 3, 5, 4), (1259, 3, 5, 4), (1260, 3, 5, 4), (1261, 3, 5, 4), (1262, 3, 5, 4), (1263, 3, 5, 4), (1264, 3, 5, 4), (1265, 3, 5, 4), (1266, 3, 5, 4), (1267, 3, 5, 4), (1268, 3, 5, 4), (1269, 3, 5, 4), (1270, 3, 5, 4), (1271, 3, 5, 4), (1272, 3, 5, 4), (1274, 3, 5, 4), (1275, 3, 5, 4), (1276, 3, 5, 4), (1277, 3, 5, 4), (1278, 3, 5, 4), (1279, 3, 5, 4), (1281, 3, 5, 4), (1282, 3, 5, 4), (1283, 3, 5, 4), (1284, 3, 5, 4), (1285, 3, 5, 4), (1286, 3, 5, 4), (1287, 3, 5, 4), (1289, 3, 5, 4), (1290, 3, 5, 4), (1291, 3, 5, 4), (1292, 3, 5, 4), (1293, 3, 5, 4), (1294, 3, 5, 4), (1295, 3, 5, 4), (1296, 3, 5, 4), (1297, 3, 5, 4), (1298, 3, 5, 4), (1299, 3, 5, 4), (1300, 3, 5, 4), (1301, 3, 5, 4), (1302, 3, 5, 4), (1303, 3, 5, 4), (1304, 3, 5, 4), (1305, 3, 5, 4), (1306, 3, 5, 4), (1307, 3, 5, 4), (1308, 3, 5, 4), (1309, 3, 5, 4), (1310, 3, 5, 4), (1311, 3, 5, 4), (1312, 3, 5, 4), (1313, 3, 5, 4), (1314, 3, 5, 4), (1315, 3, 5, 4), (1316, 3, 5, 4), (1317, 3, 5, 4), (1318, 3, 5, 4), (1319, 3, 5, 4), (1320, 3, 5, 4), (1322, 3, 5, 4), (1323, 3, 5, 4), (1324, 3, 5, 4), (1325, 3, 5, 4), (1326, 3, 5, 4), (1327, 3, 5, 4), (1328, 3, 5, 4), (1329, 3, 5, 4), (1330, 3, 5, 4), (1331, 3, 5, 4), (1332, 3, 5, 4), (1333, 3, 5, 4), (1334, 3, 5, 4), (1335, 3, 5, 4), (1336, 3, 5, 4), (1337, 3, 5, 4), (1338, 3, 5, 4), (1339, 3, 5, 4), (1340, 3, 5, 4), (1341, 3, 5, 4), (1342, 3, 5, 4), (1343, 3, 5, 4), (1344, 3, 5, 4), (1345, 3, 5, 4), (1346, 3, 5, 4), (1347, 3, 5, 4), (1348, 3, 5, 4), (1349, 3, 5, 4), (1350, 3, 5, 4), (1351, 3, 5, 4), (1352, 3, 5, 4), (1353, 3, 5, 4), (1355, 3, 5, 4), (1356, 3, 5, 4), (1357, 3, 5, 4), (1358, 3, 5, 4), (1359, 3, 5, 4), (1360, 3, 5, 4), (1361, 3, 5, 4), (1363, 3, 5, 4), (1364, 3, 5, 4), (1365, 3, 5, 4), (1366, 3, 5, 4), (1367, 3, 5, 4), (1368, 3, 5, 4), (1369, 3, 5, 4), (1370, 3, 5, 4), (1371, 3, 5, 4), (1372, 3, 5, 4), (1373, 3, 5, 4), (1374, 3, 5, 4), (1375, 3, 5, 4), (1376, 3, 5, 4), (1377, 3, 5, 4), (1378, 3, 5, 4), (1379, 3, 5, 4), (1380, 3, 5, 4), (1381, 3, 5, 4), (1382, 3, 5, 4), (1383, 3, 5, 4), (1384, 3, 5, 4), (1385, 3, 5, 4), (1386, 3, 5, 4), (1387, 3, 5, 4), (1388, 3, 5, 4), (1390, 3, 5, 4), (1391, 3, 5, 4), (1392, 3, 5, 4), (1393, 3, 5, 4), (1394, 3, 5, 4), (1395, 3, 5, 4), (1396, 3, 5, 4), (1397, 3, 5, 4), (1398, 3, 5, 4), (1399, 3, 5, 4), (1400, 3, 5, 4), (1401, 3, 5, 4), (1402, 3, 5, 4), (1403, 3, 5, 4), (1404, 3, 5, 4), (1405, 3, 5, 4), (1406, 3, 5, 4), (1407, 3, 5, 4), (1408, 3, 5, 4), (1410, 3, 5, 4), (1411, 3, 5, 4), (1412, 3, 5, 4), (1413, 3, 5, 4), (1414, 3, 5, 4), (1415, 3, 5, 4), (1416, 3, 5, 4), (1417, 3, 5, 4), (1418, 3, 5, 4), (1419, 3, 5, 4), (1420, 3, 5, 4), (1422, 3, 5, 4), (1423, 3, 5, 4), (1424, 3, 5, 4), (1425, 3, 5, 4), (1426, 3, 5, 4), (1427, 3, 5, 4), (1428, 3, 5, 4), (1429, 3, 5, 4), (1430, 3, 5, 4), (1431, 3, 5, 4), (1432, 3, 5, 4), (1433, 3, 5, 4), (1434, 3, 5, 4), (1435, 3, 5, 4), (1436, 3, 5, 4), (1437, 3, 5, 4), (1438, 3, 5, 4), (1439, 3, 5, 4), (1440, 3, 5, 4), (1441, 3, 5, 4), (1442, 3, 5, 4), (1443, 3, 5, 4), (1444, 3, 5, 4), (1445, 3, 5, 4), (1446, 3, 5, 4), (1447, 3, 5, 4), (1448, 3, 5, 4), (1449, 3, 5, 4), (1450, 3, 5, 4), (1451, 3, 5, 4), (1452, 3, 5, 4), (1453, 3, 5, 4), (1454, 3, 5, 4), (1455, 3, 5, 4), (1456, 3, 5, 4), (1458, 3, 5, 4), (1459, 3, 5, 4), (1460, 3, 5, 4), (1461, 3, 5, 4), (1462, 3, 5, 4), (1463, 3, 5, 4), (1464, 3, 5, 4), (1465, 3, 5, 4), (1466, 3, 5, 4), (1467, 3, 5, 4), (1468, 3, 5, 4), (1469, 3, 5, 4), (1470, 3, 5, 4), (1471, 3, 5, 4), (1473, 3, 5, 4), (1474, 3, 5, 4), (1475, 3, 5, 4), (1476, 3, 5, 4), (1477, 3, 5, 4), (1478, 3, 5, 4), (1479, 3, 5, 4), (1480, 3, 5, 4), (1481, 3, 5, 4), (1482, 3, 5, 4), (1483, 3, 5, 4), (1484, 3, 5, 4), (1485, 3, 5, 4), (1486, 3, 5, 4), (1487, 3, 5, 4), (1488, 3, 5, 4), (1489, 3, 5, 4), (1490, 3, 5, 4), (1491, 3, 5, 4), (1492, 3, 5, 4), (1493, 3, 5, 4), (1494, 3, 5, 4), (1495, 3, 5, 4), (1496, 3, 5, 4), (1497, 3, 5, 4), (1498, 3, 5, 4), (1499, 3, 5, 4), (1500, 3, 5, 4), (1501, 3, 5, 4), (1502, 3, 5, 4), (1503, 3, 5, 4), (1504, 3, 5, 4), (1505, 3, 5, 4), (1506, 3, 5, 4), (1507, 3, 5, 4), (1508, 3, 5, 4), (1509, 3, 5, 4), (1510, 3, 5, 4), (1511, 3, 5, 4), (1512, 3, 5, 4), (1513, 3, 5, 4), (1514, 3, 5, 4), (1515, 3, 5, 4), (1516, 3, 5, 4), (1517, 3, 5, 4), (1518, 3, 5, 4), (1519, 3, 5, 4), (1520, 3, 5, 4), (1521, 3, 5, 4), (1522, 3, 5, 4), (1523, 3, 5, 4), (1524, 3, 5, 4), (1525, 3, 5, 4), (1526, 3, 5, 4), (1527, 3, 5, 4), (1528, 3, 5, 4), (1529, 3, 5, 4), (1530, 3, 5, 4), (1531, 3, 5, 4), (1532, 3, 5, 4), (1533, 3, 5, 4), (1534, 3, 5, 4), (1535, 3, 5, 4), (1536, 3, 5, 4), (1537, 3, 5, 4), (1538, 3, 5, 4), (1539, 3, 5, 4), (1540, 3, 5, 4), (1541, 3, 5, 4), (1543, 3, 5, 4), (1544, 3, 5, 4), (1545, 3, 5, 4), (1546, 3, 5, 4), (1547, 3, 5, 4), (1548, 3, 5, 4), (1549, 3, 5, 4), (1550, 3, 5, 4), (1551, 3, 5, 4), (1552, 3, 5, 4), (1553, 3, 5, 4), (1554, 3, 5, 4), (1555, 3, 5, 4), (1556, 3, 5, 4), (1557, 3, 5, 4), (1558, 3, 5, 4), (1559, 3, 5, 4), (1560, 3, 5, 4), (1561, 3, 5, 4), (1562, 3, 5, 4), (1563, 3, 5, 4), (1564, 3, 5, 4), (1565, 3, 5, 4), (1566, 3, 5, 4), (1567, 3, 5, 4), (1568, 3, 5, 4), (1569, 3, 5, 4), (1570, 3, 5, 4), (1571, 3, 5, 4), (1572, 3, 5, 4), (1573, 3, 5, 4), (1574, 3, 5, 4), (1575, 3, 5, 4), (1576, 3, 5, 4), (1577, 3, 5, 4), (1579, 3, 5, 4), (1580, 3, 5, 4), (1581, 3, 5, 4), (1582, 3, 5, 4), (1583, 3, 5, 4), (1584, 3, 5, 4), (1585, 3, 5, 4), (1586, 3, 5, 4), (1587, 3, 5, 4), (1588, 3, 5, 4), (1589, 3, 5, 4), (1590, 3, 5, 4), (1591, 3, 5, 4), (1592, 3, 5, 4), (1593, 3, 5, 4), (1594, 3, 5, 4), (1595, 3, 5, 4), (1596, 3, 5, 4), (1597, 3, 5, 4), (1598, 3, 5, 4), (1599, 3, 5, 4), (1600, 3, 5, 4), (1601, 3, 5, 4), (1602, 3, 5, 4), (1603, 3, 5, 4), (1604, 3, 5, 4), (1605, 3, 5, 4), (1606, 3, 5, 4), (1607, 3, 5, 4), (1608, 3, 5, 4), (1609, 3, 5, 4), (1610, 3, 5, 4), (1611, 3, 5, 4), (1612, 3, 5, 4), (1613, 3, 5, 4), (1614, 3, 5, 4), (1615, 3, 5, 4), (1616, 3, 5, 4), (1617, 3, 5, 4), (1618, 3, 5, 4), (1619, 3, 5, 4), (1620, 3, 5, 4), (1621, 3, 5, 4), (1622, 3, 5, 4), (1623, 3, 5, 4), (1624, 3, 5, 4), (1625, 3, 5, 4), (1626, 3, 5, 4), (1627, 3, 5, 4), (1628, 3, 5, 4), (1629, 3, 5, 4), (1630, 3, 5, 4), (1631, 3, 5, 4), (1632, 3, 5, 4), (1633, 3, 5, 4), (1634, 3, 5, 4), (1635, 3, 5, 4), (1636, 3, 5, 4), (1637, 3, 5, 4), (1638, 3, 5, 4), (1639, 3, 5, 4), (1640, 3, 5, 4), (1641, 3, 5, 4), (1642, 3, 5, 4), (1643, 3, 5, 4), (1644, 3, 5, 4), (1645, 3, 5, 4), (1646, 3, 5, 4), (1647, 3, 5, 4), (1648, 3, 5, 4), (1649, 3, 5, 4), (1650, 3, 5, 4), (1651, 3, 5, 4), (1652, 3, 5, 4), (1653, 3, 5, 4), (1654, 3, 5, 4), (1655, 3, 5, 4), (1656, 3, 5, 4), (1658, 3, 5, 4), (1659, 3, 5, 4), (1660, 3, 5, 4), (1661, 3, 5, 4), (1662, 3, 5, 4), (1663, 3, 5, 4), (1664, 3, 5, 4), (1665, 3, 5, 4), (1667, 3, 5, 4), (1668, 3, 5, 4), (1669, 3, 5, 4), (1670, 3, 5, 4), (1671, 3, 5, 4), (1672, 3, 5, 4), (1673, 3, 5, 4), (1674, 3, 5, 4), (1675, 3, 5, 4), (1676, 3, 5, 4), (1677, 3, 5, 4), (1678, 3, 5, 4), (1679, 3, 5, 4), (1680, 3, 5, 4), (1681, 3, 5, 4), (1682, 3, 5, 4), (1683, 3, 5, 4), (1684, 3, 5, 4), (1685, 3, 5, 4), (1686, 3, 5, 4), (1687, 3, 5, 4), (1688, 3, 5, 4), (1689, 3, 5, 4), (1691, 3, 5, 4), (1692, 3, 5, 4), (1693, 3, 5, 4), (1694, 3, 5, 4), (1695, 3, 5, 4), (1696, 3, 5, 4), (1697, 3, 5, 4), (1698, 3, 5, 4), (1699, 3, 5, 4), (1700, 3, 5, 4), (1701, 3, 5, 4), (1702, 3, 5, 4), (1703, 3, 5, 4), (1704, 3, 5, 4), (1705, 3, 5, 4), (1706, 3, 5, 4), (1707, 3, 5, 4), (1708, 3, 5, 4), (1709, 3, 5, 4), (1710, 3, 5, 4), (1712, 3, 5, 4), (1713, 3, 5, 4), (1715, 3, 5, 4), (1716, 3, 5, 4), (1717, 3, 5, 4), (1718, 3, 5, 4), (1719, 3, 5, 4), (1720, 3, 5, 4), (1721, 3, 5, 4), (1722, 3, 5, 4), (1723, 3, 5, 4), (1724, 3, 5, 4), (1725, 3, 5, 4), (1726, 3, 5, 4), (1727, 3, 5, 4), (1728, 3, 5, 4), (1729, 3, 5, 4), (1730, 3, 5, 4), (1731, 3, 5, 4), (1732, 3, 5, 4), (1733, 3, 5, 4), (1734, 3, 5, 4), (1735, 3, 5, 4), (1737, 3, 5, 4), (1739, 3, 5, 4), (1740, 3, 5, 4), (1741, 3, 5, 4), (1742, 3, 5, 4), (1743, 3, 5, 4), (1744, 3, 5, 4), (1746, 3, 5, 4), (1747, 3, 5, 4), (1748, 3, 5, 4), (1749, 3, 5, 4), (1750, 3, 5, 4), (1751, 3, 5, 4), (1752, 3, 5, 4), (1753, 3, 5, 4), (1754, 3, 5, 4), (1755, 3, 5, 4), (1756, 3, 5, 4), (1757, 3, 5, 4), (1758, 3, 5, 4), (1759, 3, 5, 4), (1760, 3, 5, 4), (1761, 3, 5, 4), (1762, 3, 5, 4), (1763, 3, 5, 4), (1764, 3, 5, 4), (1765, 3, 5, 4), (1766, 3, 5, 4), (1767, 3, 5, 4), (1768, 3, 5, 4), (1769, 3, 5, 4), (1770, 3, 5, 4), (1771, 3, 5, 4), (1772, 3, 5, 4), (1773, 3, 5, 4), (1774, 3, 5, 4), (1775, 3, 5, 4), (1776, 3, 5, 4), (1777, 3, 5, 4), (1778, 3, 5, 4), (1779, 3, 5, 4), (1781, 3, 5, 4), (1782, 3, 5, 4), (1783, 3, 5, 4), (1784, 3, 5, 4), (1785, 3, 5, 4), (1786, 3, 5, 4), (1787, 3, 5, 4), (1788, 3, 5, 4), (1789, 3, 5, 4), (1790, 3, 5, 4), (1791, 3, 5, 4), (1793, 3, 5, 4), (1795, 3, 5, 4), (1796, 3, 5, 4), (1797, 3, 5, 4), (1798, 3, 5, 4), (1799, 3, 5, 4), (1800, 3, 5, 4), (1801, 3, 5, 4), (1802, 3, 5, 4), (1803, 3, 5, 4), (1804, 3, 5, 4), (1805, 3, 5, 4), (1806, 3, 5, 4), (1807, 3, 5, 4), (1808, 3, 5, 4), (1809, 3, 5, 4), (1810, 3, 5, 4), (1811, 3, 5, 4), (1812, 3, 5, 4), (1813, 3, 5, 4), (1814, 3, 5, 4), (1815, 3, 5, 4), (1816, 3, 5, 4), (1817, 3, 5, 4), (1818, 3, 5, 4), (1819, 3, 5, 4), (1820, 3, 5, 4), (1822, 3, 5, 4), (1823, 3, 5, 4), (1824, 3, 5, 4), (1825, 3, 5, 4), (1826, 3, 5, 4), (1827, 3, 5, 4), (1828, 3, 5, 4), (1829, 3, 5, 4), (1830, 3, 5, 4), (1831, 3, 5, 4), (1832, 3, 5, 4), (1833, 3, 5, 4), (1834, 3, 5, 4), (1835, 3, 5, 4), (1836, 3, 5, 4), (1837, 3, 5, 4), (1838, 3, 5, 4), (1839, 3, 5, 4), (1840, 3, 5, 4), (1841, 3, 5, 4), (1842, 3, 5, 4), (1843, 3, 5, 4), (1844, 3, 5, 4), (1845, 3, 5, 4), (1846, 3, 5, 4), (1847, 3, 5, 4), (1848, 3, 5, 4), (1849, 3, 5, 4), (1850, 3, 5, 4), (1851, 3, 5, 4), (1852, 3, 5, 4), (1853, 3, 5, 4), (1854, 3, 5, 4), (1855, 3, 5, 4), (1856, 3, 5, 4), (1857, 3, 5, 4), (1858, 3, 5, 4), (1859, 3, 5, 4), (1860, 3, 5, 4), (1861, 3, 5, 4), (1862, 3, 5, 4), (1863, 3, 5, 4), (1864, 3, 5, 4), (1865, 3, 5, 4), (1866, 3, 5, 4), (1867, 3, 5, 4), (1868, 3, 5, 4), (1869, 3, 5, 4), (1870, 3, 5, 4), (1871, 3, 5, 4), (1872, 3, 5, 4), (1873, 3, 5, 4), (1874, 3, 5, 4), (1875, 3, 5, 4), (1876, 3, 5, 4), (1877, 3, 5, 4), (1878, 3, 5, 4), (1879, 3, 5, 4), (1880, 3, 5, 4), (1881, 3, 5, 4), (1882, 3, 5, 4), (1883, 3, 5, 4), (1884, 3, 5, 4), (1885, 3, 5, 4), (1886, 3, 5, 4), (1887, 3, 5, 4), (1888, 3, 5, 4), (1889, 3, 5, 4), (1890, 3, 5, 4), (1891, 3, 5, 4), (1892, 3, 5, 4), (1893, 3, 5, 4), (1894, 3, 5, 4), (1895, 3, 5, 4), (1896, 3, 5, 4), (1897, 3, 5, 4), (1898, 3, 5, 4), (1899, 3, 5, 4), (1900, 3, 5, 4), (1901, 3, 5, 4), (1902, 3, 5, 4), (1903, 3, 5, 4), (1904, 3, 5, 4), (1905, 3, 5, 4), (1906, 3, 5, 4), (1907, 3, 5, 4), (1908, 3, 5, 4), (1909, 3, 5, 4), (1910, 3, 5, 4), (1911, 3, 5, 4), (1912, 3, 5, 4), (1913, 3, 5, 4), (1914, 3, 5, 4), (1915, 3, 5, 4), (1916, 3, 5, 4), (1917, 3, 5, 4), (1918, 3, 5, 4), (1919, 3, 5, 4), (1920, 3, 5, 4), (1921, 3, 5, 4), (1922, 3, 5, 4), (1923, 3, 5, 4), (1924, 3, 5, 4), (1925, 3, 5, 4), (1926, 3, 5, 4), (1927, 3, 5, 4), (1928, 3, 5, 4), (1929, 3, 5, 4), (1930, 3, 5, 4), (1931, 3, 5, 4), (1932, 3, 5, 4), (1933, 3, 5, 4), (1934, 3, 5, 4), (1935, 3, 5, 4), (1936, 3, 5, 4), (1937, 3, 5, 4), (1938, 3, 5, 4), (1939, 3, 5, 4), (1940, 3, 5, 4), (1941, 3, 5, 4), (1942, 3, 5, 4), (1943, 3, 5, 4), (1944, 3, 5, 4), (1945, 3, 5, 4), (1946, 3, 5, 4), (1947, 3, 5, 4), (1948, 3, 5, 4), (1949, 3, 5, 4), (1950, 3, 5, 4), (1951, 3, 5, 4), (1952, 3, 5, 4), (1953, 3, 5, 4), (1954, 3, 5, 4), (1955, 3, 5, 4), (1956, 3, 5, 4), (1957, 3, 5, 4), (1958, 3, 5, 4), (1959, 3, 5, 4), (1960, 3, 5, 4), (1961, 3, 5, 4), (1962, 3, 5, 4), (1963, 3, 5, 4), (1964, 3, 5, 4), (1966, 3, 5, 4), (1967, 3, 5, 4), (1968, 3, 5, 4), (1969, 3, 5, 4), (1971, 3, 5, 4), (1972, 3, 5, 4), (1973, 3, 5, 4), (1974, 3, 5, 4), (1975, 3, 5, 4), (1976, 3, 5, 4), (1977, 3, 5, 4), (1978, 3, 5, 4), (1979, 3, 5, 4), (1980, 3, 5, 4), (1981, 3, 5, 4), (1982, 3, 5, 4), (1983, 3, 5, 4), (1984, 3, 5, 4), (1985, 3, 5, 4), (1986, 3, 5, 4), (1987, 3, 5, 4), (1988, 3, 5, 4), (1989, 3, 5, 4), (1990, 3, 5, 4), (1991, 3, 5, 4), (1993, 3, 5, 4), (1994, 3, 5, 4), (1995, 3, 5, 4), (1996, 3, 5, 4), (1997, 3, 5, 4), (1998, 3, 5, 4), (1999, 3, 5, 4), (2000, 3, 5, 4), (2001, 3, 5, 4), (2002, 3, 5, 4), (2003, 3, 5, 4), (2004, 3, 5, 4), (2005, 3, 5, 4), (2006, 3, 5, 4), (2007, 3, 5, 4), (2008, 3, 5, 4), (2009, 3, 5, 4), (2011, 3, 5, 4), (2012, 3, 5, 4), (2013, 3, 5, 4), (2014, 3, 5, 4), (2015, 3, 5, 4), (2016, 3, 5, 4), (2017, 3, 5, 4), (2019, 3, 5, 4), (2020, 3, 5, 4), (2021, 3, 5, 4), (2022, 3, 5, 4), (2023, 3, 5, 4), (2024, 3, 5, 4), (2025, 3, 5, 4), (2026, 3, 5, 4), (2027, 3, 5, 4), (2028, 3, 5, 4), (2029, 3, 5, 4), (2030, 3, 5, 4), (2031, 3, 5, 4), (2032, 3, 5, 4), (2033, 3, 5, 4), (2034, 3, 5, 4), (2035, 3, 5, 4), (2036, 3, 5, 4), (2037, 3, 5, 4), (2038, 3, 5, 4), (2039, 3, 5, 4), (2040, 3, 5, 4), (2041, 3, 5, 4), (2042, 3, 5, 4), (2043, 3, 5, 4), (2044, 3, 5, 4), (2045, 3, 5, 4), (2046, 3, 5, 4), (2047, 3, 5, 4), (2048, 3, 5, 4), (2049, 3, 5, 4), (2050, 3, 5, 4), (2051, 3, 5, 4), (2052, 3, 5, 4), (2053, 3, 5, 4), (2054, 3, 5, 4), (2055, 3, 5, 4), (2056, 3, 5, 4), (2057, 3, 5, 4), (2058, 3, 5, 4), (2059, 3, 5, 4), (2060, 3, 5, 4), (2061, 3, 5, 4), (2062, 3, 5, 4), (2063, 3, 5, 4), (2064, 3, 5, 4), (2065, 3, 5, 4), (2066, 3, 5, 4), (2067, 3, 5, 4), (2068, 3, 5, 4), (2069, 3, 5, 4), (2070, 3, 5, 4), (2071, 3, 5, 4), (2072, 3, 5, 4), (2073, 3, 5, 4), (2074, 3, 5, 4), (2075, 3, 5, 4), (2076, 3, 5, 4), (2077, 3, 5, 4), (2078, 3, 5, 4), (2079, 3, 5, 4), (2080, 3, 5, 4), (2081, 3, 5, 4), (2082, 3, 5, 4), (2083, 3, 5, 4), (2085, 3, 5, 4), (2086, 3, 5, 4), (2087, 3, 5, 4), (2088, 3, 5, 4), (2089, 3, 5, 4), (2090, 3, 5, 4), (2091, 3, 5, 4), (2092, 3, 5, 4), (2093, 3, 5, 4), (2094, 3, 5, 4), (2095, 3, 5, 4), (2096, 3, 5, 4), (2097, 3, 5, 4), (2098, 3, 5, 4), (2099, 3, 5, 4), (2100, 3, 5, 4), (2101, 3, 5, 4), (2102, 3, 5, 4), (2103, 3, 5, 4), (2104, 3, 5, 4), (2105, 3, 5, 4), (2106, 3, 5, 4), (2107, 3, 5, 4), (2109, 3, 5, 4), (2110, 3, 5, 4), (2111, 3, 5, 4), (2112, 3, 5, 4), (2113, 3, 5, 4), (2114, 3, 5, 4), (2116, 3, 5, 4), (2117, 3, 5, 4), (2118, 3, 5, 4), (2119, 3, 5, 4), (2120, 3, 5, 4), (2121, 3, 5, 4), (2122, 3, 5, 4), (2123, 3, 5, 4), (2124, 3, 5, 4), (2125, 3, 5, 4), (2126, 3, 5, 4), (2127, 3, 5, 4), (2128, 3, 5, 4), (2129, 3, 5, 4), (2130, 3, 5, 4), (2131, 3, 5, 4), (2132, 3, 5, 4), (2133, 3, 5, 4), (2134, 3, 5, 4), (2135, 3, 5, 4), (2136, 3, 5, 4), (2137, 3, 5, 4), (2138, 3, 5, 4), (2139, 3, 5, 4), (2140, 3, 5, 4), (2141, 3, 5, 4), (2142, 3, 5, 4), (2143, 3, 5, 4), (2144, 3, 5, 4), (2146, 3, 5, 4), (2147, 3, 5, 4), (2148, 3, 5, 4), (2149, 3, 5, 4), (2150, 3, 5, 4), (2151, 3, 5, 4), (2152, 3, 5, 4), (2153, 3, 5, 4), (2154, 3, 5, 4), (2155, 3, 5, 4), (2157, 3, 5, 4), (2158, 3, 5, 4), (2159, 3, 5, 4), (2160, 3, 5, 4), (2161, 3, 5, 4), (2162, 3, 5, 4), (2163, 3, 5, 4), (2164, 3, 5, 4), (2165, 3, 5, 4), (2166, 3, 5, 4), (2167, 3, 5, 4), (2168, 3, 5, 4), (2169, 3, 5, 4), (2170, 3, 5, 4), (2171, 3, 5, 4), (2172, 3, 5, 4), (2173, 3, 5, 4), (2174, 3, 5, 4), (2175, 3, 5, 4), (2176, 3, 5, 4), (2177, 3, 5, 4), (2178, 3, 5, 4), (2179, 3, 5, 4), (2180, 3, 5, 4), (2181, 3, 5, 4), (2182, 3, 5, 4), (2183, 3, 5, 4), (2184, 3, 5, 4), (2185, 3, 5, 4), (2186, 3, 5, 4), (2187, 3, 5, 4), (2189, 3, 5, 4), (2190, 3, 5, 4), (2191, 3, 5, 4), (2192, 3, 5, 4), (2193, 3, 5, 4), (2194, 3, 5, 4), (2195, 3, 5, 4), (2196, 3, 5, 4), (2197, 3, 5, 4), (2198, 3, 5, 4), (2199, 3, 5, 4), (2200, 3, 5, 4), (2201, 3, 5, 4), (2202, 3, 5, 4), (2204, 3, 5, 4), (2205, 3, 5, 4), (2206, 3, 5, 4), (2207, 3, 5, 4), (2208, 3, 5, 4), (2209, 3, 5, 4), (2210, 3, 5, 4), (2211, 3, 5, 4), (2212, 3, 5, 4), (2213, 3, 5, 4), (2214, 3, 5, 4), (2215, 3, 5, 4), (2216, 3, 5, 4), (2217, 3, 5, 4), (2218, 3, 5, 4), (2219, 3, 5, 4), (2220, 3, 5, 4), (2221, 3, 5, 4), (2222, 3, 5, 4), (2223, 3, 5, 4), (2224, 3, 5, 4), (2225, 3, 5, 4), (2226, 3, 5, 4), (2227, 3, 5, 4), (2228, 3, 5, 4), (2229, 3, 5, 4), (2230, 3, 5, 4), (2231, 3, 5, 4), (2232, 3, 5, 4), (2233, 3, 5, 4), (2234, 3, 5, 4), (2235, 3, 5, 4), (2236, 3, 5, 4), (2237, 3, 5, 4), (2238, 3, 5, 4), (2239, 3, 5, 4), (2240, 3, 5, 4), (2241, 3, 5, 4), (2242, 3, 5, 4), (2244, 3, 5, 4), (2245, 3, 5, 4), (2246, 3, 5, 4), (2247, 3, 5, 4), (2248, 3, 5, 4), (2249, 3, 5, 4), (2250, 3, 5, 4), (2251, 3, 5, 4), (2252, 3, 5, 4), (2253, 3, 5, 4), (2254, 3, 5, 4), (2255, 3, 5, 4), (2256, 3, 5, 4), (2257, 3, 5, 4), (2258, 3, 5, 4), (2259, 3, 5, 4), (2260, 3, 5, 4), (2261, 3, 5, 4), (2262, 3, 5, 4), (2263, 3, 5, 4), (2264, 3, 5, 4), (2265, 3, 5, 4), (2266, 3, 5, 4), (2267, 3, 5, 4), (2268, 3, 5, 4), (2269, 3, 5, 4), (2270, 3, 5, 4), (2271, 3, 5, 4), (2272, 3, 5, 4), (2273, 3, 5, 4), (2275, 3, 5, 4), (2276, 3, 5, 4), (2277, 3, 5, 4), (2278, 3, 5, 4), (2279, 3, 5, 4), (2280, 3, 5, 4), (2281, 3, 5, 4), (2282, 3, 5, 4), (2283, 3, 5, 4), (2284, 3, 5, 4), (2285, 3, 5, 4), (2286, 3, 5, 4), (2287, 3, 5, 4), (2288, 3, 5, 4), (2289, 3, 5, 4), (2290, 3, 5, 4), (2291, 3, 5, 4), (2292, 3, 5, 4), (2293, 3, 5, 4), (2294, 3, 5, 4), (2295, 3, 5, 4), (2296, 3, 5, 4), (2297, 3, 5, 4), (2298, 3, 5, 4), (2299, 3, 5, 4), (2300, 3, 5, 4), (2301, 3, 5, 4), (2303, 3, 5, 4), (2304, 3, 5, 4), (2305, 3, 5, 4), (2306, 3, 5, 4), (2307, 3, 5, 4), (2308, 3, 5, 4), (2309, 3, 5, 4), (2310, 3, 5, 4), (2311, 3, 5, 4), (2312, 3, 5, 4), (2313, 3, 5, 4), (2314, 3, 5, 4), (2315, 3, 5, 4), (2316, 3, 5, 4), (2317, 3, 5, 4), (2318, 3, 5, 4), (2319, 3, 5, 4), (2320, 3, 5, 4), (2321, 3, 5, 4), (2322, 3, 5, 4), (2323, 3, 5, 4), (2324, 3, 5, 4), (2325, 3, 5, 4), (2326, 3, 5, 4), (2327, 3, 5, 4), (2328, 3, 5, 4), (2329, 3, 5, 4), (2330, 3, 5, 4), (2331, 3, 5, 4), (2332, 3, 5, 4), (2333, 3, 5, 4), (2334, 3, 5, 4), (2335, 3, 5, 4), (2336, 3, 5, 4), (2337, 3, 5, 4), (2338, 3, 5, 4), (2339, 3, 5, 4), (2340, 3, 5, 4), (2341, 3, 5, 4), (2342, 3, 5, 4), (2344, 3, 5, 4), (2345, 3, 5, 4), (2346, 3, 5, 4), (2347, 3, 5, 4), (2348, 3, 5, 4), (2349, 3, 5, 4), (2350, 3, 5, 4), (2351, 3, 5, 4), (2352, 3, 5, 4), (2353, 3, 5, 4), (2354, 3, 5, 4), (2355, 3, 5, 4), (2356, 3, 5, 4), (2357, 3, 5, 4), (2358, 3, 5, 4), (2359, 3, 5, 4), (2361, 3, 5, 4), (2362, 3, 5, 4), (2363, 3, 5, 4), (2364, 3, 5, 4), (2365, 3, 5, 4), (2366, 3, 5, 4), (2367, 3, 5, 4), (2368, 3, 5, 4), (2369, 3, 5, 4), (2371, 3, 5, 4), (2372, 3, 5, 4), (2374, 3, 5, 4), (2375, 3, 5, 4), (2376, 3, 5, 4), (2377, 3, 5, 4), (2378, 3, 5, 4), (2379, 3, 5, 4), (2380, 3, 5, 4), (2381, 3, 5, 4), (2382, 3, 5, 4), (2383, 3, 5, 4), (2384, 3, 5, 4), (2385, 3, 5, 4), (2386, 3, 5, 4), (2387, 3, 5, 4), (2388, 3, 5, 4), (2389, 3, 5, 4), (2390, 3, 5, 4), (2391, 3, 5, 4), (2392, 3, 5, 4), (2393, 3, 5, 4), (2394, 3, 5, 4), (2395, 3, 5, 4), (2396, 3, 5, 4), (2397, 3, 5, 4), (2398, 3, 5, 4), (2399, 3, 5, 4), (2400, 3, 5, 4), (2401, 3, 5, 4), (2402, 3, 5, 4), (2403, 3, 5, 4), (2404, 3, 5, 4), (2405, 3, 5, 4), (2406, 3, 5, 4), (2407, 3, 5, 4), (2408, 3, 5, 4), (2409, 3, 5, 4), (2410, 3, 5, 4), (2411, 3, 5, 4), (2412, 3, 5, 4), (2413, 3, 5, 4), (2414, 3, 5, 4), (2415, 3, 5, 4), (2416, 3, 5, 4), (2417, 3, 5, 4), (2418, 3, 5, 4), (2419, 3, 5, 4), (2420, 3, 5, 4), (2421, 3, 5, 4), (2422, 3, 5, 4), (2423, 3, 5, 4), (2424, 3, 5, 4), (2425, 3, 5, 4), (2426, 3, 5, 4), (2427, 3, 5, 4), (2428, 3, 5, 4), (2429, 3, 5, 4), (2430, 3, 5, 4), (2431, 3, 5, 4), (2432, 3, 5, 4), (2433, 3, 5, 4), (2434, 3, 5, 4), (2435, 3, 5, 4), (2436, 3, 5, 4), (2437, 3, 5, 4), (2438, 3, 5, 4), (2439, 3, 5, 4), (2440, 3, 5, 4), (2441, 3, 5, 4), (2442, 3, 5, 4), (2443, 3, 5, 4), (2444, 3, 5, 4), (2445, 3, 5, 4), (2446, 3, 5, 4), (2447, 3, 5, 4), (2448, 3, 5, 4), (2449, 3, 5, 4), (2450, 3, 5, 4), (2451, 3, 5, 4), (2452, 3, 5, 4), (2453, 3, 5, 4), (2454, 3, 5, 4), (2455, 3, 5, 4), (2456, 3, 5, 4), (2457, 3, 5, 4), (2458, 3, 5, 4), (2459, 3, 5, 4), (2460, 3, 5, 4), (2461, 3, 5, 4), (2462, 3, 5, 4), (2463, 3, 5, 4), (2464, 3, 5, 4), (2465, 3, 5, 4), (2466, 3, 5, 4), (2467, 3, 5, 4), (2468, 3, 5, 4), (2469, 3, 5, 4), (2470, 3, 5, 4), (2471, 3, 5, 4), (2472, 3, 5, 4), (2473, 3, 5, 4), (2474, 3, 5, 4), (2475, 3, 5, 4), (2476, 3, 5, 4), (2477, 3, 5, 4), (2478, 3, 5, 4), (2479, 3, 5, 4), (2480, 3, 5, 4), (2481, 3, 5, 4), (2482, 3, 5, 4), (2483, 3, 5, 4), (2484, 3, 5, 4), (2485, 3, 5, 4), (2486, 3, 5, 4), (2487, 3, 5, 4), (2488, 3, 5, 4), (2490, 3, 5, 4), (2491, 3, 5, 4), (2493, 3, 5, 4), (2494, 3, 5, 4), (2495, 3, 5, 4), (2496, 3, 5, 4), (2497, 3, 5, 4), (2498, 3, 5, 4), (2499, 3, 5, 4), (2500, 3, 5, 4), (2501, 3, 5, 4), (2502, 3, 5, 4), (2503, 3, 5, 4), (2504, 3, 5, 4), (2505, 3, 5, 4), (2506, 3, 5, 4), (2507, 3, 5, 4), (2508, 3, 5, 4), (2509, 3, 5, 4), (2510, 3, 5, 4), (2511, 3, 5, 4), (2512, 3, 5, 4), (2513, 3, 5, 4), (2514, 3, 5, 4), (2515, 3, 5, 4), (2516, 3, 5, 4), (2517, 3, 5, 4), (2518, 3, 5, 4), (2519, 3, 5, 4), (2520, 3, 5, 4), (2521, 3, 5, 4), (2522, 3, 5, 4), (2523, 3, 5, 4), (2524, 3, 5, 4), (2525, 3, 5, 4), (2526, 3, 5, 4), (2527, 3, 5, 4), (2528, 3, 5, 4), (2529, 3, 5, 4), (2530, 3, 5, 4), (2531, 3, 5, 4), (2533, 3, 5, 4), (2534, 3, 5, 4), (2535, 3, 5, 4), (2536, 3, 5, 4), (2537, 3, 5, 4), (2538, 3, 5, 4), (2539, 3, 5, 4), (2540, 3, 5, 4), (2541, 3, 5, 4), (2542, 3, 5, 4), (2543, 3, 5, 4), (2544, 3, 5, 4), (2545, 3, 5, 4), (2546, 3, 5, 4), (2547, 3, 5, 4), (2548, 3, 5, 4), (2550, 3, 5, 4), (2551, 3, 5, 4), (2552, 3, 5, 4), (2553, 3, 5, 4), (2555, 3, 5, 4), (2556, 3, 5, 4), (2557, 3, 5, 4), (2558, 3, 5, 4), (2559, 3, 5, 4), (2560, 3, 5, 4), (2561, 3, 5, 4), (2562, 3, 5, 4), (2563, 3, 5, 4), (2564, 3, 5, 4), (2565, 3, 5, 4), (2566, 3, 5, 4), (2567, 3, 5, 4), (2568, 3, 5, 4), (2569, 3, 5, 4), (2570, 3, 5, 4), (2571, 3, 5, 4), (2572, 3, 5, 4), (2573, 3, 5, 4), (2574, 3, 5, 4), (2575, 3, 5, 4), (2576, 3, 5, 4), (2577, 3, 5, 4), (2579, 3, 5, 4), (2580, 3, 5, 4), (2581, 3, 5, 4), (2582, 3, 5, 4), (2583, 3, 5, 4), (2584, 3, 5, 4), (2586, 3, 5, 4), (2587, 3, 5, 4), (2588, 3, 5, 4), (2589, 3, 5, 4), (2590, 3, 5, 4), (2591, 3, 5, 4), (2592, 3, 5, 4), (2593, 3, 5, 4), (2594, 3, 5, 4), (2595, 3, 5, 4), (2596, 3, 5, 4), (2597, 3, 5, 4), (2598, 3, 5, 4), (2599, 3, 5, 4), (2600, 3, 5, 4), (2601, 3, 5, 4), (2602, 3, 5, 4), (2603, 3, 5, 4), (2604, 3, 5, 4), (2605, 3, 5, 4), (2606, 3, 5, 4), (2607, 3, 5, 4), (2608, 3, 5, 4), (2609, 3, 5, 4), (2610, 3, 5, 4), (2611, 3, 5, 4), (2612, 3, 5, 4), (2613, 3, 5, 4), (2614, 3, 5, 4), (2615, 3, 5, 4), (2616, 3, 5, 4), (2617, 3, 5, 4), (2618, 3, 5, 4), (2619, 3, 5, 4), (2620, 3, 5, 4), (2621, 3, 5, 4), (2622, 3, 5, 4), (2623, 3, 5, 4), (2624, 3, 5, 4), (2625, 3, 5, 4), (2626, 3, 5, 4), (2627, 3, 5, 4), (2628, 3, 5, 4), (2629, 3, 5, 4), (2630, 3, 5, 4), (2631, 3, 5, 4), (2632, 3, 5, 4), (2633, 3, 5, 4), (2634, 3, 5, 4), (2635, 3, 5, 4), (2636, 3, 5, 4), (2637, 3, 5, 4), (2638, 3, 5, 4), (2639, 3, 5, 4), (2640, 3, 5, 4), (2641, 3, 5, 4), (2642, 3, 5, 4), (2643, 3, 5, 4), (2644, 3, 5, 4), (2645, 3, 5, 4), (2646, 3, 5, 4), (2647, 3, 5, 4), (2648, 3, 5, 4), (2649, 3, 5, 4), (2650, 3, 5, 4), (2651, 3, 5, 4), (2652, 3, 5, 4), (2653, 3, 5, 4), (2654, 3, 5, 4), (2656, 3, 5, 4), (2657, 3, 5, 4), (2658, 3, 5, 4), (2659, 3, 5, 4), (2660, 3, 5, 4), (2663, 3, 5, 4), (2664, 3, 5, 4), (2665, 3, 5, 4), (2666, 3, 5, 4), (2667, 3, 5, 4), (2668, 3, 5, 4), (2669, 3, 5, 4), (2670, 3, 5, 4), (2671, 3, 5, 4), (2672, 3, 5, 4), (2673, 3, 5, 4), (2674, 3, 5, 4), (2675, 3, 5, 4), (2676, 3, 5, 4), (2678, 3, 5, 4), (2679, 3, 5, 4), (2680, 3, 5, 4), (2681, 3, 5, 4), (2682, 3, 5, 4), (2683, 3, 5, 4), (2684, 3, 5, 4), (2685, 3, 5, 4), (2686, 3, 5, 4), (2687, 3, 5, 4), (2688, 3, 5, 4), (2689, 3, 5, 4), (2690, 3, 5, 4), (2691, 3, 5, 4), (2692, 3, 5, 4), (2693, 3, 5, 4), (2694, 3, 5, 4), (2695, 3, 5, 4), (2696, 3, 5, 4), (2697, 3, 5, 4), (2698, 3, 5, 4), (2699, 3, 5, 4), (2700, 3, 5, 4), (2701, 3, 5, 4), (2702, 3, 5, 4), (2703, 3, 5, 4), (2704, 3, 5, 4), (2705, 3, 5, 4), (2706, 3, 5, 4), (2707, 3, 5, 4), (2708, 3, 5, 4), (2709, 3, 5, 4), (2710, 3, 5, 4), (2711, 3, 5, 4), (2713, 3, 5, 4), (2714, 3, 5, 4), (2715, 3, 5, 4), (2716, 3, 5, 4), (2717, 3, 5, 4), (2718, 3, 5, 4), (2719, 3, 5, 4), (2720, 3, 5, 4), (2721, 3, 5, 4), (2722, 3, 5, 4), (2723, 3, 5, 4), (2724, 3, 5, 4), (2725, 3, 5, 4), (2726, 3, 5, 4), (2727, 3, 5, 4), (2728, 3, 5, 4), (2729, 3, 5, 4), (2730, 3, 5, 4), (2731, 3, 5, 4), (2732, 3, 5, 4), (2733, 3, 5, 4), (2734, 3, 5, 4), (2735, 3, 5, 4), (2736, 3, 5, 4), (2737, 3, 5, 4), (2738, 3, 5, 4), (2739, 3, 5, 4), (2740, 3, 5, 4), (2741, 3, 5, 4), (2742, 3, 5, 4), (2743, 3, 5, 4), (2744, 3, 5, 4), (2745, 3, 5, 4), (2746, 3, 5, 4), (2747, 3, 5, 4), (2748, 3, 5, 4), (2749, 3, 5, 4), (2750, 3, 5, 4), (2751, 3, 5, 4), (2752, 3, 5, 4), (2753, 3, 5, 4), (2754, 3, 5, 4), (2756, 3, 5, 4), (2757, 3, 5, 4), (2758, 3, 5, 4), (2759, 3, 5, 4), (2760, 3, 5, 4), (2761, 3, 5, 4), (2762, 3, 5, 4), (2763, 3, 5, 4), (2764, 3, 5, 4), (2765, 3, 5, 4), (2766, 3, 5, 4), (2767, 3, 5, 4), (2769, 3, 5, 4), (2770, 3, 5, 4), (2771, 3, 5, 4), (2772, 3, 5, 4), (2773, 3, 5, 4), (2774, 3, 5, 4), (2775, 3, 5, 4), (2776, 3, 5, 4), (2777, 3, 5, 4), (2778, 3, 5, 4), (2779, 3, 5, 4), (2780, 3, 5, 4), (2781, 3, 5, 4), (2782, 3, 5, 4), (2784, 3, 5, 4), (2785, 3, 5, 4), (2786, 3, 5, 4), (2787, 3, 5, 4), (2788, 3, 5, 4), (2789, 3, 5, 4), (2790, 3, 5, 4), (2792, 3, 5, 4), (2793, 3, 5, 4), (2794, 3, 5, 4), (2795, 3, 5, 4), (2796, 3, 5, 4), (2797, 3, 5, 4), (2798, 3, 5, 4), (2799, 3, 5, 4), (2800, 3, 5, 4), (2801, 3, 5, 4), (2802, 3, 5, 4), (2803, 3, 5, 4), (2804, 3, 5, 4), (2805, 3, 5, 4), (2806, 3, 5, 4), (2807, 3, 5, 4), (2808, 3, 5, 4), (2809, 3, 5, 4), (2810, 3, 5, 4), (2811, 3, 5, 4), (2812, 3, 5, 4), (2813, 3, 5, 4), (2814, 3, 5, 4), (2815, 3, 5, 4), (2816, 3, 5, 4), (2817, 3, 5, 4), (2818, 3, 5, 4), (2819, 3, 5, 4), (2821, 3, 5, 4), (2822, 3, 5, 4), (2823, 3, 5, 4), (2824, 3, 5, 4), (2825, 3, 5, 4), (2826, 3, 5, 4), (2829, 3, 5, 4), (2830, 3, 5, 4), (2831, 3, 5, 4), (2832, 3, 5, 4), (2833, 3, 5, 4), (2834, 3, 5, 4), (2835, 3, 5, 4), (2836, 3, 5, 4), (2837, 3, 5, 4), (2838, 3, 5, 4), (2839, 3, 5, 4), (2840, 3, 5, 4), (2841, 3, 5, 4), (2842, 3, 5, 4), (2843, 3, 5, 4), (2844, 3, 5, 4), (2845, 3, 5, 4), (2846, 3, 5, 4), (2847, 3, 5, 4), (2848, 3, 5, 4), (2849, 3, 5, 4), (2850, 3, 5, 4), (2851, 3, 5, 4), (2852, 3, 5, 4), (2853, 3, 5, 4), (2854, 3, 5, 4), (2855, 3, 5, 4), (2856, 3, 5, 4), (2857, 3, 5, 4), (2858, 3, 5, 4), (2859, 3, 5, 4), (2860, 3, 5, 4), (2861, 3, 5, 4), (2862, 3, 5, 4), (2863, 3, 5, 4), (2864, 3, 5, 4), (2865, 3, 5, 4), (2866, 3, 5, 4), (2867, 3, 5, 4), (2868, 3, 5, 4), (2869, 3, 5, 4), (2870, 3, 5, 4), (2871, 3, 5, 4), (2872, 3, 5, 4), (2873, 3, 5, 4), (2874, 3, 5, 4), (2875, 3, 5, 4), (2876, 3, 5, 4), (2877, 3, 5, 4), (2878, 3, 5, 4), (2879, 3, 5, 4), (2880, 3, 5, 4), (2881, 3, 5, 4), (2882, 3, 5, 4), (2883, 3, 5, 4), (2884, 3, 5, 4), (2885, 3, 5, 4), (2886, 3, 5, 4), (2887, 3, 5, 4), (2888, 3, 5, 4), (2889, 3, 5, 4), (2890, 3, 5, 4), (2891, 3, 5, 4), (2892, 3, 5, 4), (2893, 3, 5, 4), (2894, 3, 5, 4), (2895, 3, 5, 4), (2896, 3, 5, 4), (2898, 3, 5, 4), (2899, 3, 5, 4), (2900, 3, 5, 4), (2901, 3, 5, 4), (2902, 3, 5, 4), (2903, 3, 5, 4), (2904, 3, 5, 4), (2905, 3, 5, 4), (2906, 3, 5, 4), (2907, 3, 5, 4), (2908, 3, 5, 4), (2909, 3, 5, 4), (2910, 3, 5, 4), (2911, 3, 5, 4), (2912, 3, 5, 4), (2913, 3, 5, 4), (2914, 3, 5, 4), (2915, 3, 5, 4), (2916, 3, 5, 4), (2917, 3, 5, 4), (2918, 3, 5, 4), (2919, 3, 5, 4), (2920, 3, 5, 4), (2921, 3, 5, 4), (2922, 3, 5, 4), (2923, 3, 5, 4), (2924, 3, 5, 4), (2925, 3, 5, 4), (2926, 3, 5, 4), (2928, 3, 5, 4), (2929, 3, 5, 4), (2930, 3, 5, 4), (2931, 3, 5, 4), (2932, 3, 5, 4), (2933, 3, 5, 4), (2934, 3, 5, 4), (2935, 3, 5, 4), (2936, 3, 5, 4), (2937, 3, 5, 4), (2938, 3, 5, 4), (2939, 3, 5, 4), (2940, 3, 5, 4), (2941, 3, 5, 4), (2942, 3, 5, 4), (2943, 3, 5, 4), (2944, 3, 5, 4), (2945, 3, 5, 4), (2946, 3, 5, 4), (2947, 3, 5, 4), (2948, 3, 5, 4), (2949, 3, 5, 4), (2950, 3, 5, 4), (2951, 3, 5, 4), (2952, 3, 5, 4), (2953, 3, 5, 4), (2954, 3, 5, 4), (2955, 3, 5, 4), (2956, 3, 5, 4), (2957, 3, 5, 4), (2958, 3, 5, 4), (2959, 3, 5, 4), (2960, 3, 5, 4), (2961, 3, 5, 4), (2962, 3, 5, 4), (2963, 3, 5, 4), (2964, 3, 5, 4), (2965, 3, 5, 4), (2966, 3, 5, 4), (2967, 3, 5, 4), (2970, 3, 5, 4), (2971, 3, 5, 4), (2972, 3, 5, 4), (2973, 3, 5, 4), (2974, 3, 5, 4), (2975, 3, 5, 4), (2976, 3, 5, 4), (2977, 3, 5, 4), (2978, 3, 5, 4), (2979, 3, 5, 4), (2980, 3, 5, 4), (2981, 3, 5, 4), (2982, 3, 5, 4), (2983, 3, 5, 4), (2984, 3, 5, 4), (2985, 3, 5, 4), (2986, 3, 5, 4), (2987, 3, 5, 4), (2988, 3, 5, 4), (2989, 3, 5, 4), (2990, 3, 5, 4), (2991, 3, 5, 4), (2992, 3, 5, 4), (2993, 3, 5, 4), (2994, 3, 5, 4), (2995, 3, 5, 4), (2996, 3, 5, 4), (2997, 3, 5, 4), (2998, 3, 5, 4), (2999, 3, 5, 4), (3000, 3, 5, 4), (3001, 3, 5, 4), (3002, 3, 5, 4), (3003, 3, 5, 4), (3004, 3, 5, 4), (3005, 3, 5, 4), (3006, 3, 5, 4), (3007, 3, 5, 4), (3008, 3, 5, 4), (3009, 3, 5, 4), (3010, 3, 5, 4), (3011, 3, 5, 4), (3012, 3, 5, 4), (3013, 3, 5, 4), (3014, 3, 5, 4), (3015, 3, 5, 4), (3016, 3, 5, 4), (3018, 3, 5, 4), (3019, 3, 5, 4), (3020, 3, 5, 4), (3021, 3, 5, 4), (3022, 3, 5, 4), (3023, 3, 5, 4), (3024, 3, 5, 4), (3025, 3, 5, 4), (3026, 3, 5, 4), (3027, 3, 5, 4), (3028, 3, 5, 4), (3029, 3, 5, 4), (3030, 3, 5, 4), (3031, 3, 5, 4), (3032, 3, 5, 4), (3033, 3, 5, 4), (3034, 3, 5, 4), (3035, 3, 5, 4), (3036, 3, 5, 4), (3037, 3, 5, 4), (3038, 3, 5, 4), (3039, 3, 5, 4), (3040, 3, 5, 4), (3041, 3, 5, 4), (3042, 3, 5, 4), (3043, 3, 5, 4), (3044, 3, 5, 4), (3045, 3, 5, 4), (3046, 3, 5, 4), (3047, 3, 5, 4), (3048, 3, 5, 4), (3049, 3, 5, 4), (3050, 3, 5, 4), (3051, 3, 5, 4), (3052, 3, 5, 4), (3053, 3, 5, 4), (3054, 3, 5, 4), (3056, 3, 5, 4), (3057, 3, 5, 4), (3058, 3, 5, 4), (3059, 3, 5, 4), (3060, 3, 5, 4), (3061, 3, 5, 4), (3062, 3, 5, 4), (3063, 3, 5, 4), (3064, 3, 5, 4), (3065, 3, 5, 4), (3066, 3, 5, 4), (3067, 3, 5, 4), (3068, 3, 5, 4), (3069, 3, 5, 4), (3070, 3, 5, 4), (3071, 3, 5, 4), (3072, 3, 5, 4), (3073, 3, 5, 4), (3074, 3, 5, 4), (3075, 3, 5, 4), (3076, 3, 5, 4), (3077, 3, 5, 4), (3078, 3, 5, 4), (3079, 3, 5, 4), (3080, 3, 5, 4), (3081, 3, 5, 4), (3082, 3, 5, 4), (3084, 3, 5, 4), (3085, 3, 5, 4), (3086, 3, 5, 4), (3087, 3, 5, 4), (3088, 3, 5, 4), (3089, 3, 5, 4), (3090, 3, 5, 4), (3091, 3, 5, 4), (3092, 3, 5, 4), (3093, 3, 5, 4), (3094, 3, 5, 4), (3095, 3, 5, 4), (3096, 3, 5, 4), (3097, 3, 5, 4), (3098, 3, 5, 4), (3099, 3, 5, 4), (3101, 3, 5, 4), (3102, 3, 5, 4), (3103, 3, 5, 4), (3104, 3, 5, 4), (3105, 3, 5, 4), (3106, 3, 5, 4), (3107, 3, 5, 4), (3108, 3, 5, 4), (3109, 3, 5, 4), (3110, 3, 5, 4), (3111, 3, 5, 4), (3112, 3, 5, 4), (3113, 3, 5, 4), (3114, 3, 5, 4), (3115, 3, 5, 4), (3116, 3, 5, 4), (3117, 3, 5, 4), (3118, 3, 5, 4), (3119, 3, 5, 4), (3120, 3, 5, 4), (3121, 3, 5, 4), (3122, 3, 5, 4), (3123, 3, 5, 4), (3124, 3, 5, 4), (3125, 3, 5, 4), (3126, 3, 5, 4), (3127, 3, 5, 4), (3128, 3, 5, 4), (3129, 3, 5, 4), (3130, 3, 5, 4), (3131, 3, 5, 4), (3132, 3, 5, 4), (3133, 3, 5, 4), (3134, 3, 5, 4), (3135, 3, 5, 4), (3136, 3, 5, 4), (3138, 3, 5, 4), (3139, 3, 5, 4), (3140, 3, 5, 4), (3141, 3, 5, 4), (3142, 3, 5, 4), (3143, 3, 5, 4), (3144, 3, 5, 4), (3145, 3, 5, 4), (3146, 3, 5, 4), (3147, 3, 5, 4), (3148, 3, 5, 4), (3149, 3, 5, 4), (3150, 3, 5, 4), (3152, 3, 5, 4), (3153, 3, 5, 4), (3155, 3, 5, 4), (3156, 3, 5, 4), (3157, 3, 5, 4), (3158, 3, 5, 4), (3159, 3, 5, 4), (3160, 3, 5, 4), (3162, 3, 5, 4), (3163, 3, 5, 4), (3164, 3, 5, 4), (3165, 3, 5, 4), (3166, 3, 5, 4), (3167, 3, 5, 4), (3168, 3, 5, 4), (3169, 3, 5, 4), (3170, 3, 5, 4), (3171, 3, 5, 4), (3172, 3, 5, 4), (3173, 3, 5, 4), (3174, 3, 5, 4), (3175, 3, 5, 4), (3176, 3, 5, 4), (3177, 3, 5, 4), (3178, 3, 5, 4), (3179, 3, 5, 4), (3180, 3, 5, 4), (3181, 3, 5, 4), (3182, 3, 5, 4), (3184, 3, 5, 4), (3186, 3, 5, 4), (3187, 3, 5, 4), (3188, 3, 5, 4), (3190, 3, 5, 4), (3191, 3, 5, 4), (3192, 3, 5, 4), (3193, 3, 5, 4), (3194, 3, 5, 4), (3195, 3, 5, 4), (3196, 3, 5, 4), (3197, 3, 5, 4), (3198, 3, 5, 4), (3199, 3, 5, 4), (3200, 3, 5, 4), (3201, 3, 5, 4), (3202, 3, 5, 4), (3203, 3, 5, 4), (3204, 3, 5, 4), (3205, 3, 5, 4), (3206, 3, 5, 4), (3207, 3, 5, 4), (3208, 3, 5, 4), (3209, 3, 5, 4), (3210, 3, 5, 4), (3211, 3, 5, 4), (3212, 3, 5, 4), (3213, 3, 5, 4), (3214, 3, 5, 4), (3215, 3, 5, 4), (3216, 3, 5, 4), (3217, 3, 5, 4), (3219, 3, 5, 4), (3220, 3, 5, 4), (3221, 3, 5, 4), (3222, 3, 5, 4), (3223, 3, 5, 4), (3224, 3, 5, 4), (3225, 3, 5, 4), (3226, 3, 5, 4), (3227, 3, 5, 4), (3228, 3, 5, 4), (3229, 3, 5, 4), (3230, 3, 5, 4), (3231, 3, 5, 4), (3232, 3, 5, 4), (3233, 3, 5, 4), (3235, 3, 5, 4), (3236, 3, 5, 4), (3237, 3, 5, 4), (3238, 3, 5, 4), (3240, 3, 5, 4), (3241, 3, 5, 4), (3242, 3, 5, 4), (3243, 3, 5, 4), (3244, 3, 5, 4), (3245, 3, 5, 4), (3246, 3, 5, 4), (3247, 3, 5, 4), (3248, 3, 5, 4), (3249, 3, 5, 4), (3250, 3, 5, 4), (3251, 3, 5, 4), (3252, 3, 5, 4), (3253, 3, 5, 4), (3254, 3, 5, 4), (3255, 3, 5, 4), (3256, 3, 5, 4), (3257, 3, 5, 4), (3258, 3, 5, 4), (3259, 3, 5, 4), (3260, 3, 5, 4), (3261, 3, 5, 4), (3262, 3, 5, 4), (3263, 3, 5, 4), (3264, 3, 5, 4), (3265, 3, 5, 4), (3266, 3, 5, 4), (3267, 3, 5, 4), (3268, 3, 5, 4), (3269, 3, 5, 4), (3270, 3, 5, 4), (3271, 3, 5, 4), (3272, 3, 5, 4), (3273, 3, 5, 4), (3274, 3, 5, 4), (3275, 3, 5, 4), (3276, 3, 5, 4), (3278, 3, 5, 4), (3279, 3, 5, 4), (3280, 3, 5, 4), (3281, 3, 5, 4), (3282, 3, 5, 4), (3283, 3, 5, 4), (3284, 3, 5, 4), (3285, 3, 5, 4), (3286, 3, 5, 4), (3287, 3, 5, 4), (3288, 3, 5, 4), (3289, 3, 5, 4), (3290, 3, 5, 4), (3291, 3, 5, 4), (3292, 3, 5, 4), (3293, 3, 5, 4), (3294, 3, 5, 4), (3295, 3, 5, 4), (3296, 3, 5, 4), (3297, 3, 5, 4), (3298, 3, 5, 4), (3300, 3, 5, 4), (3301, 3, 5, 4), (3302, 3, 5, 4), (3303, 3, 5, 4), (3304, 3, 5, 4), (3305, 3, 5, 4), (3306, 3, 5, 4), (3307, 3, 5, 4), (3308, 3, 5, 4), (3309, 3, 5, 4), (3310, 3, 5, 4), (3311, 3, 5, 4), (3312, 3, 5, 4), (3313, 3, 5, 4), (3314, 3, 5, 4), (3315, 3, 5, 4), (3316, 3, 5, 4), (3317, 3, 5, 4), (3318, 3, 5, 4), (3319, 3, 5, 4), (3320, 3, 5, 4), (3321, 3, 5, 4), (3322, 3, 5, 4), (3323, 3, 5, 4), (3324, 3, 5, 4), (3325, 3, 5, 4), (3326, 3, 5, 4), (3327, 3, 5, 4), (3328, 3, 5, 4), (3329, 3, 5, 4), (3330, 3, 5, 4), (3331, 3, 5, 4), (3332, 3, 5, 4), (3333, 3, 5, 4), (3334, 3, 5, 4), (3335, 3, 5, 4), (3336, 3, 5, 4), (3337, 3, 5, 4), (3338, 3, 5, 4), (3339, 3, 5, 4), (3340, 3, 5, 4), (3341, 3, 5, 4), (3342, 3, 5, 4), (3343, 3, 5, 4), (3344, 3, 5, 4), (3345, 3, 5, 4), (3346, 3, 5, 4), (3347, 3, 5, 4), (3348, 3, 5, 4), (3349, 3, 5, 4), (3350, 3, 5, 4), (3351, 3, 5, 4), (3352, 3, 5, 4), (3353, 3, 5, 4), (3354, 3, 5, 4), (3356, 3, 5, 4), (3357, 3, 5, 4), (3359, 3, 5, 4), (3360, 3, 5, 4), (3361, 3, 5, 4), (3362, 3, 5, 4), (3363, 3, 5, 4), (3364, 3, 5, 4), (3365, 3, 5, 4), (3366, 3, 5, 4), (3367, 3, 5, 4), (3368, 3, 5, 4), (3369, 3, 5, 4), (3371, 3, 5, 4), (3372, 3, 5, 4), (3373, 3, 5, 4), (3374, 3, 5, 4), (3375, 3, 5, 4), (3376, 3, 5, 4), (3377, 3, 5, 4), (3378, 3, 5, 4), (3379, 3, 5, 4), (3380, 3, 5, 4), (3381, 3, 5, 4), (3382, 3, 5, 4), (3383, 3, 5, 4), (3384, 3, 5, 4), (3385, 3, 5, 4), (3386, 3, 5, 4), (3387, 3, 5, 4), (3388, 3, 5, 4), (3389, 3, 5, 4), (3390, 3, 5, 4), (3391, 3, 5, 4), (3392, 3, 5, 4), (3393, 3, 5, 4), (3394, 3, 5, 4), (3395, 3, 5, 4), (3396, 3, 5, 4), (3397, 3, 5, 4), (3398, 3, 5, 4), (3399, 3, 5, 4), (3400, 3, 5, 4), (3401, 3, 5, 4), (3402, 3, 5, 4), (3403, 3, 5, 4), (3404, 3, 5, 4), (3405, 3, 5, 4), (3406, 3, 5, 4), (3407, 3, 5, 4), (3410, 3, 5, 4), (3411, 3, 5, 4), (3412, 3, 5, 4), (3413, 3, 5, 4), (3414, 3, 5, 4), (3415, 3, 5, 4), (3416, 3, 5, 4), (3417, 3, 5, 4), (3418, 3, 5, 4), (3419, 3, 5, 4), (3420, 3, 5, 4), (3421, 3, 5, 4), (3422, 3, 5, 4), (3423, 3, 5, 4), (3424, 3, 5, 4), (3425, 3, 5, 4), (3426, 3, 5, 4), (3427, 3, 5, 4), (3428, 3, 5, 4), (3429, 3, 5, 4), (3430, 3, 5, 4), (3431, 3, 5, 4), (3432, 3, 5, 4), (3433, 3, 5, 4), (3434, 3, 5, 4), (3435, 3, 5, 4), (3436, 3, 5, 4), (3437, 3, 5, 4), (3438, 3, 5, 4), (3439, 3, 5, 4), (3440, 3, 5, 4), (3441, 3, 5, 4), (3442, 3, 5, 4), (3443, 3, 5, 4), (3444, 3, 5, 4), (3445, 3, 5, 4), (3446, 3, 5, 4), (3447, 3, 5, 4), (3448, 3, 5, 4), (3449, 3, 5, 4), (3450, 3, 5, 4), (3451, 3, 5, 4), (3452, 3, 5, 4), (3453, 3, 5, 4), (3454, 3, 5, 4), (3455, 3, 5, 4), (3456, 3, 5, 4), (3457, 3, 5, 4), (3458, 3, 5, 4), (3459, 3, 5, 4), (3460, 3, 5, 4), (3461, 3, 5, 4), (3462, 3, 5, 4), (3463, 3, 5, 4), (3464, 3, 5, 4), (3465, 3, 5, 4), (3466, 3, 5, 4), (3467, 3, 5, 4), (3468, 3, 5, 4), (3469, 3, 5, 4), (3470, 3, 5, 4), (3471, 3, 5, 4), (3473, 3, 5, 4), (3474, 3, 5, 4), (3476, 3, 5, 4), (3477, 3, 5, 4), (3478, 3, 5, 4), (3479, 3, 5, 4), (3480, 3, 5, 4), (3481, 3, 5, 4), (3482, 3, 5, 4), (3483, 3, 5, 4), (3484, 3, 5, 4), (3485, 3, 5, 4), (3486, 3, 5, 4), (3487, 3, 5, 4), (3488, 3, 5, 4), (3489, 3, 5, 4), (3490, 3, 5, 4), (3491, 3, 5, 4), (3492, 3, 5, 4), (3493, 3, 5, 4), (3494, 3, 5, 4), (3496, 3, 5, 4), (3497, 3, 5, 4), (3498, 3, 5, 4), (3499, 3, 5, 4), (3500, 3, 5, 4), (3501, 3, 5, 4), (3502, 3, 5, 4), (3503, 3, 5, 4), (3504, 3, 5, 4), (3505, 3, 5, 4), (3506, 3, 5, 4), (3507, 3, 5, 4), (3508, 3, 5, 4), (3509, 3, 5, 4), (3510, 3, 5, 4), (3511, 3, 5, 4), (3512, 3, 5, 4), (3513, 3, 5, 4), (3514, 3, 5, 4), (3515, 3, 5, 4), (3516, 3, 5, 4), (3517, 3, 5, 4), (3518, 3, 5, 4), (3519, 3, 5, 4), (3520, 3, 5, 4), (3521, 3, 5, 4), (3522, 3, 5, 4), (3523, 3, 5, 4), (3524, 3, 5, 4), (3525, 3, 5, 4), (3526, 3, 5, 4), (3527, 3, 5, 4), (3528, 3, 5, 4), (3529, 3, 5, 4), (3530, 3, 5, 4), (3531, 3, 5, 4), (3532, 3, 5, 4), (3533, 3, 5, 4), (3534, 3, 5, 4), (3535, 3, 5, 4), (3536, 3, 5, 4), (3537, 3, 5, 4), (3538, 3, 5, 4), (3539, 3, 5, 4), (3540, 3, 5, 4), (3541, 3, 5, 4), (3542, 3, 5, 4), (3543, 3, 5, 4), (3544, 3, 5, 4), (3545, 3, 5, 4), (3546, 3, 5, 4), (3547, 3, 5, 4), (3548, 3, 5, 4), (3549, 3, 5, 4), (3550, 3, 5, 4), (3551, 3, 5, 4), (3552, 3, 5, 4), (3553, 3, 5, 4), (3554, 3, 5, 4), (3555, 3, 5, 4), (3556, 3, 5, 4), (3557, 3, 5, 4), (3558, 3, 5, 4), (3559, 3, 5, 4), (3560, 3, 5, 4), (3561, 3, 5, 4), (3562, 3, 5, 4), (3563, 3, 5, 4), (3564, 3, 5, 4), (3565, 3, 5, 4), (3567, 3, 5, 4), (3568, 3, 5, 4), (3569, 3, 5, 4), (3570, 3, 5, 4), (3571, 3, 5, 4), (3572, 3, 5, 4), (3573, 3, 5, 4), (3574, 3, 5, 4), (3575, 3, 5, 4), (3576, 3, 5, 4), (3577, 3, 5, 4), (3578, 3, 5, 4), (3579, 3, 5, 4), (3581, 3, 5, 4), (3582, 3, 5, 4), (3583, 3, 5, 4), (3584, 3, 5, 4), (3585, 3, 5, 4), (3586, 3, 5, 4), (3587, 3, 5, 4), (3588, 3, 5, 4), (3589, 3, 5, 4), (3590, 3, 5, 4), (3591, 3, 5, 4), (3592, 3, 5, 4), (3593, 3, 5, 4), (3594, 3, 5, 4), (3595, 3, 5, 4), (3596, 3, 5, 4), (3597, 3, 5, 4), (3598, 3, 5, 4), (3599, 3, 5, 4), (3600, 3, 5, 4), (3601, 3, 5, 4), (3602, 3, 5, 4), (3603, 3, 5, 4), (3604, 3, 5, 4), (3605, 3, 5, 4), (3606, 3, 5, 4), (3607, 3, 5, 4), (3608, 3, 5, 4), (3609, 3, 5, 4), (3610, 3, 5, 4), (3611, 3, 5, 4), (3612, 3, 5, 4), (3614, 3, 5, 4), (3615, 3, 5, 4), (3616, 3, 5, 4), (3617, 3, 5, 4), (3618, 3, 5, 4), (3619, 3, 5, 4), (3620, 3, 5, 4), (3621, 3, 5, 4), (3622, 3, 5, 4), (3623, 3, 5, 4), (3624, 3, 5, 4), (3625, 3, 5, 4), (3626, 3, 5, 4), (3627, 3, 5, 4), (3628, 3, 5, 4), (3629, 3, 5, 4), (3630, 3, 5, 4), (3631, 3, 5, 4), (3632, 3, 5, 4), (3633, 3, 5, 4), (3634, 3, 5, 4), (3635, 3, 5, 4), (3636, 3, 5, 4), (3637, 3, 5, 4), (3638, 3, 5, 4), (3639, 3, 5, 4), (3640, 3, 5, 4), (3641, 3, 5, 4), (3642, 3, 5, 4), (3643, 3, 5, 4), (3644, 3, 5, 4), (3645, 3, 5, 4), (3646, 3, 5, 4), (3647, 3, 5, 4), (3648, 3, 5, 4), (3649, 3, 5, 4), (3651, 3, 5, 4), (3652, 3, 5, 4), (3653, 3, 5, 4), (3654, 3, 5, 4), (3655, 3, 5, 4), (3656, 3, 5, 4), (3657, 3, 5, 4), (3658, 3, 5, 4), (3659, 3, 5, 4), (3660, 3, 5, 4), (3661, 3, 5, 4), (3662, 3, 5, 4), (3663, 3, 5, 4), (3664, 3, 5, 4), (3665, 3, 5, 4), (3666, 3, 5, 4), (3667, 3, 5, 4), (3668, 3, 5, 4), (3669, 3, 5, 4), (3670, 3, 5, 4), (3671, 3, 5, 4), (3672, 3, 5, 4), (3673, 3, 5, 4), (3674, 3, 5, 4), (3675, 3, 5, 4), (3676, 3, 5, 4), (3677, 3, 5, 4), (3678, 3, 5, 4), (3679, 3, 5, 4), (3680, 3, 5, 4), (3681, 3, 5, 4), (3682, 3, 5, 4), (3683, 3, 5, 4), (3684, 3, 5, 4), (3685, 3, 5, 4), (3686, 3, 5, 4), (3687, 3, 5, 4), (3688, 3, 5, 4), (3689, 3, 5, 4), (3690, 3, 5, 4), (3691, 3, 5, 4), (3692, 3, 5, 4), (3693, 3, 5, 4), (3694, 3, 5, 4), (3695, 3, 5, 4), (3697, 3, 5, 4), (3698, 3, 5, 4), (3699, 3, 5, 4), (3700, 3, 5, 4), (3701, 3, 5, 4), (3702, 3, 5, 4), (3704, 3, 5, 4), (3705, 3, 5, 4), (3706, 3, 5, 4), (3707, 3, 5, 4), (3708, 3, 5, 4), (3709, 3, 5, 4), (3710, 3, 5, 4), (3711, 3, 5, 4), (3712, 3, 5, 4), (3713, 3, 5, 4), (3714, 3, 5, 4), (3716, 3, 5, 4), (3717, 3, 5, 4), (3718, 3, 5, 4), (3719, 3, 5, 4), (3720, 3, 5, 4), (3721, 3, 5, 4), (3722, 3, 5, 4), (3723, 3, 5, 4), (3724, 3, 5, 4), (3725, 3, 5, 4), (3726, 3, 5, 4), (3727, 3, 5, 4), (3728, 3, 5, 4), (3729, 3, 5, 4), (3730, 3, 5, 4), (3731, 3, 5, 4), (3732, 3, 5, 4), (3733, 3, 5, 4), (3734, 3, 5, 4), (3735, 3, 5, 4), (3736, 3, 5, 4), (3737, 3, 5, 4), (3739, 3, 5, 4), (3740, 3, 5, 4), (3741, 3, 5, 4), (3742, 3, 5, 4), (3743, 3, 5, 4), (3744, 3, 5, 4), (3745, 3, 5, 4), (3746, 3, 5, 4), (3747, 3, 5, 4), (3748, 3, 5, 4), (3749, 3, 5, 4), (3750, 3, 5, 4), (3751, 3, 5, 4), (3752, 3, 5, 4), (3753, 3, 5, 4), (3754, 3, 5, 4), (3755, 3, 5, 4), (3756, 3, 5, 4), (3757, 3, 5, 4), (3758, 3, 5, 4), (3759, 3, 5, 4), (3760, 3, 5, 4), (3761, 3, 5, 4), (3762, 3, 5, 4), (3763, 3, 5, 4), (3764, 3, 5, 4), (3765, 3, 5, 4), (3766, 3, 5, 4), (3767, 3, 5, 4), (3768, 3, 5, 4), (3769, 3, 5, 4), (3770, 3, 5, 4), (3771, 3, 5, 4), (3772, 3, 5, 4), (3773, 3, 5, 4), (3774, 3, 5, 4), (3775, 3, 5, 4), (3776, 3, 5, 4), (3777, 3, 5, 4), (3778, 3, 5, 4), (3779, 3, 5, 4), (3780, 3, 5, 4), (3781, 3, 5, 4), (3782, 3, 5, 4), (3783, 3, 5, 4), (3784, 3, 5, 4), (3785, 3, 5, 4), (3786, 3, 5, 4), (3787, 3, 5, 4), (3788, 3, 5, 4), (3789, 3, 5, 4), (3790, 3, 5, 4), (3791, 3, 5, 4), (3792, 3, 5, 4), (3793, 3, 5, 4), (3794, 3, 5, 4), (3795, 3, 5, 4), (3797, 3, 5, 4), (3799, 3, 5, 4), (3800, 3, 5, 4), (3801, 3, 5, 4), (3802, 3, 5, 4), (3803, 3, 5, 4), (3804, 3, 5, 4), (3805, 3, 5, 4), (3807, 3, 5, 4), (3808, 3, 5, 4), (3809, 3, 5, 4), (3810, 3, 5, 4), (3811, 3, 5, 4), (3812, 3, 5, 4), (3813, 3, 5, 4), (3815, 3, 5, 4), (3816, 3, 5, 4), (3817, 3, 5, 4), (3818, 3, 5, 4), (3819, 3, 5, 4), (3820, 3, 5, 4), (3821, 3, 5, 4), (3822, 3, 5, 4), (3823, 3, 5, 4), (3824, 3, 5, 4), (3825, 3, 5, 4), (3826, 3, 5, 4), (3828, 3, 5, 4), (3829, 3, 5, 4), (3830, 3, 5, 4), (3831, 3, 5, 4), (3832, 3, 5, 4), (3833, 3, 5, 4), (3834, 3, 5, 4), (3835, 3, 5, 4), (3836, 3, 5, 4), (3837, 3, 5, 4), (3838, 3, 5, 4), (3839, 3, 5, 4), (3840, 3, 5, 4), (3842, 3, 5, 4), (3843, 3, 5, 4), (3844, 3, 5, 4), (3845, 3, 5, 4), (3846, 3, 5, 4), (3847, 3, 5, 4), (3848, 3, 5, 4), (3849, 3, 5, 4), (3850, 3, 5, 4), (3851, 3, 5, 4), (3852, 3, 5, 4), (3853, 3, 5, 4), (3854, 3, 5, 4), (3855, 3, 5, 4), (3857, 3, 5, 4), (3858, 3, 5, 4), (3860, 3, 5, 4), (3861, 3, 5, 4), (3862, 3, 5, 4), (3863, 3, 5, 4), (3864, 3, 5, 4), (3865, 3, 5, 4), (3866, 3, 5, 4), (3867, 3, 5, 4), (3868, 3, 5, 4), (3869, 3, 5, 4), (3870, 3, 5, 4), (3871, 3, 5, 4), (3872, 3, 5, 4), (3873, 3, 5, 4), (3874, 3, 5, 4), (3875, 3, 5, 4), (3877, 3, 5, 4), (3878, 3, 5, 4), (3879, 3, 5, 4), (3880, 3, 5, 4), (3881, 3, 5, 4), (3882, 3, 5, 4), (3883, 3, 5, 4), (3884, 3, 5, 4), (3886, 3, 5, 4), (3887, 3, 5, 4), (3888, 3, 5, 4), (3889, 3, 5, 4), (3890, 3, 5, 4), (3891, 3, 5, 4), (3892, 3, 5, 4), (3893, 3, 5, 4), (3894, 3, 5, 4), (3895, 3, 5, 4), (3896, 3, 5, 4), (3897, 3, 5, 4), (3898, 3, 5, 4), (3899, 3, 5, 4), (3900, 3, 5, 4), (3901, 3, 5, 4), (3902, 3, 5, 4), (3903, 3, 5, 4), (3904, 3, 5, 4), (3905, 3, 5, 4), (3906, 3, 5, 4), (3907, 3, 5, 4), (3908, 3, 5, 4), (3909, 3, 5, 4), (3910, 3, 5, 4), (3911, 3, 5, 4), (3912, 3, 5, 4), (3913, 3, 5, 4), (3914, 3, 5, 4), (3915, 3, 5, 4), (3916, 3, 5, 4), (3917, 3, 5, 4), (3918, 3, 5, 4), (3919, 3, 5, 4), (3920, 3, 5, 4), (3921, 3, 5, 4), (3922, 3, 5, 4), (3924, 3, 5, 4), (3925, 3, 5, 4), (3926, 3, 5, 4), (3927, 3, 5, 4), (3928, 3, 5, 4), (3929, 3, 5, 4), (3930, 3, 5, 4), (3931, 3, 5, 4), (3932, 3, 5, 4), (3933, 3, 5, 4), (3934, 3, 5, 4), (3935, 3, 5, 4), (3936, 3, 5, 4), (3937, 3, 5, 4), (3938, 3, 5, 4), (3939, 3, 5, 4), (3940, 3, 5, 4), (3942, 3, 5, 4), (3943, 3, 5, 4), (3944, 3, 5, 4), (3945, 3, 5, 4), (3946, 3, 5, 4), (3947, 3, 5, 4), (3948, 3, 5, 4), (3949, 3, 5, 4), (3950, 3, 5, 4), (3951, 3, 5, 4), (3952, 3, 5, 4), (3953, 3, 5, 4), (3954, 3, 5, 4), (3955, 3, 5, 4), (3956, 3, 5, 4), (3957, 3, 5, 4), (3958, 3, 5, 4), (3959, 3, 5, 4), (3960, 3, 5, 4), (3961, 3, 5, 4), (3962, 3, 5, 4), (3963, 3, 5, 4), (3964, 3, 5, 4), (3965, 3, 5, 4), (3966, 3, 5, 4), (3967, 3, 5, 4), (3968, 3, 5, 4), (3969, 3, 5, 4), (3970, 3, 5, 4), (3971, 3, 5, 4), (3972, 3, 5, 4), (3973, 3, 5, 4), (3974, 3, 5, 4), (3975, 3, 5, 4), (3976, 3, 5, 4), (3978, 3, 5, 4), (3979, 3, 5, 4), (3980, 3, 5, 4), (3981, 3, 5, 4), (3982, 3, 5, 4), (3983, 3, 5, 4), (3984, 3, 5, 4), (3985, 3, 5, 4), (3986, 3, 5, 4), (3987, 3, 5, 4), (3988, 3, 5, 4), (3989, 3, 5, 4), (3990, 3, 5, 4), (3991, 3, 5, 4), (3992, 3, 5, 4), (3993, 3, 5, 4), (3994, 3, 5, 4), (3995, 3, 5, 4), (3996, 3, 5, 4), (3997, 3, 5, 4), (3998, 3, 5, 4), (3999, 3, 5, 4), (4000, 3, 5, 4), (4001, 3, 5, 4), (4002, 3, 5, 4), (4003, 3, 5, 4), (4004, 3, 5, 4), (4005, 3, 5, 4), (4006, 3, 5, 4), (4007, 3, 5, 4), (4008, 3, 5, 4), (4009, 3, 5, 4), (4010, 3, 5, 4), (4011, 3, 5, 4), (4012, 3, 5, 4), (4013, 3, 5, 4), (4014, 3, 5, 4), (4015, 3, 5, 4), (4016, 3, 5, 4), (4017, 3, 5, 4), (4018, 3, 5, 4), (4019, 3, 5, 4), (4020, 3, 5, 4), (4021, 3, 5, 4), (4022, 3, 5, 4), (4023, 3, 5, 4), (4024, 3, 5, 4), (4025, 3, 5, 4), (4026, 3, 5, 4), (4027, 3, 5, 4), (4028, 3, 5, 4), (4029, 3, 5, 4), (4030, 3, 5, 4), (4031, 3, 5, 4), (4032, 3, 5, 4), (4033, 3, 5, 4), (4034, 3, 5, 4), (4035, 3, 5, 4), (4036, 3, 5, 4), (4037, 3, 5, 4), (4038, 3, 5, 4), (4039, 3, 5, 4), (4040, 3, 5, 4), (4041, 3, 5, 4), (4042, 3, 5, 4), (4044, 3, 5, 4), (4045, 3, 5, 4), (4046, 3, 5, 4), (4047, 3, 5, 4), (4048, 3, 5, 4), (4049, 3, 5, 4), (4050, 3, 5, 4), (4051, 3, 5, 4), (4052, 3, 5, 4), (4053, 3, 5, 4), (4054, 3, 5, 4), (4055, 3, 5, 4), (4056, 3, 5, 4), (4057, 3, 5, 4), (4058, 3, 5, 4), (4059, 3, 5, 4), (4060, 3, 5, 4), (4061, 3, 5, 4), (4062, 3, 5, 4), (4063, 3, 5, 4), (4064, 3, 5, 4), (4065, 3, 5, 4), (4066, 3, 5, 4), (4067, 3, 5, 4), (4068, 3, 5, 4), (4069, 3, 5, 4), (4070, 3, 5, 4), (4071, 3, 5, 4), (4072, 3, 5, 4), (4073, 3, 5, 4), (4074, 3, 5, 4), (4075, 3, 5, 4), (4076, 3, 5, 4), (4077, 3, 5, 4), (4078, 3, 5, 4), (4080, 3, 5, 4), (4081, 3, 5, 4), (4082, 3, 5, 4), (4084, 3, 5, 4), (4085, 3, 5, 4), (4086, 3, 5, 4), (4087, 3, 5, 4), (4088, 3, 5, 4), (4089, 3, 5, 4), (4090, 3, 5, 4), (4091, 3, 5, 4), (4092, 3, 5, 4), (4093, 3, 5, 4), (4094, 3, 5, 4), (4096, 3, 5, 4), (4097, 3, 5, 4), (4098, 3, 5, 4), (4099, 3, 5, 4), (4100, 3, 5, 4), (4101, 3, 5, 4), (4102, 3, 5, 4), (4103, 3, 5, 4), (4104, 3, 5, 4), (4105, 3, 5, 4), (4106, 3, 5, 4), (4107, 3, 5, 4), (4108, 3, 5, 4), (4109, 3, 5, 4), (4110, 3, 5, 4), (4111, 3, 5, 4), (4112, 3, 5, 4), (4113, 3, 5, 4), (4114, 3, 5, 4), (4115, 3, 5, 4), (4116, 3, 5, 4), (4117, 3, 5, 4), (4118, 3, 5, 4), (4119, 3, 5, 4), (4120, 3, 5, 4), (4121, 3, 5, 4), (4122, 3, 5, 4), (4123, 3, 5, 4), (4124, 3, 5, 4), (4125, 3, 5, 4), (4126, 3, 5, 4), (4127, 3, 5, 4), (4128, 3, 5, 4), (4129, 3, 5, 4), (4130, 3, 5, 4), (4131, 3, 5, 4), (4132, 3, 5, 4), (4133, 3, 5, 4), (4134, 3, 5, 4), (4135, 3, 5, 4), (4136, 3, 5, 4), (4137, 3, 5, 4), (4138, 3, 5, 4), (4139, 3, 5, 4), (4140, 3, 5, 4), (4141, 3, 5, 4), (4142, 3, 5, 4), (4143, 3, 5, 4), (4144, 3, 5, 4), (4145, 3, 5, 4), (4146, 3, 5, 4), (4147, 3, 5, 4), (4148, 3, 5, 4), (4149, 3, 5, 4), (4150, 3, 5, 4), (4151, 3, 5, 4), (4152, 3, 5, 4), (4153, 3, 5, 4), (4154, 3, 5, 4), (4155, 3, 5, 4), (4156, 3, 5, 4), (4157, 3, 5, 4), (4158, 3, 5, 4), (4159, 3, 5, 4), (4160, 3, 5, 4), (4161, 3, 5, 4), (4162, 3, 5, 4), (4163, 3, 5, 4), (4164, 3, 5, 4), (4165, 3, 5, 4), (4166, 3, 5, 4), (4167, 3, 5, 4), (4168, 3, 5, 4), (4169, 3, 5, 4), (4170, 3, 5, 4), (4171, 3, 5, 4), (4172, 3, 5, 4), (4173, 3, 5, 4), (4175, 3, 5, 4), (4176, 3, 5, 4), (4177, 3, 5, 4), (4178, 3, 5, 4), (4179, 3, 5, 4), (4180, 3, 5, 4), (4181, 3, 5, 4), (4182, 3, 5, 4), (4183, 3, 5, 4), (4184, 3, 5, 4), (4185, 3, 5, 4), (4186, 3, 5, 4), (4187, 3, 5, 4), (4188, 3, 5, 4), (4189, 3, 5, 4), (4190, 3, 5, 4), (4191, 3, 5, 4), (4192, 3, 5, 4), (4193, 3, 5, 4), (4194, 3, 5, 4), (4195, 3, 5, 4), (4196, 3, 5, 4), (4197, 3, 5, 4), (4198, 3, 5, 4), (4199, 3, 5, 4), (4200, 3, 5, 4), (4201, 3, 5, 4), (4202, 3, 5, 4), (4203, 3, 5, 4), (4204, 3, 5, 4), (4205, 3, 5, 4), (4206, 3, 5, 4), (4207, 3, 5, 4), (4208, 3, 5, 4), (4209, 3, 5, 4), (4211, 3, 5, 4), (4212, 3, 5, 4), (4213, 3, 5, 4), (4214, 3, 5, 4), (4216, 3, 5, 4), (4217, 3, 5, 4), (4218, 3, 5, 4), (4219, 3, 5, 4), (4220, 3, 5, 4), (4221, 3, 5, 4), (4222, 3, 5, 4), (4223, 3, 5, 4), (4224, 3, 5, 4), (4225, 3, 5, 4), (4226, 3, 5, 4), (4227, 3, 5, 4), (4228, 3, 5, 4), (4229, 3, 5, 4), (4230, 3, 5, 4), (4231, 3, 5, 4), (4232, 3, 5, 4), (4233, 3, 5, 4), (4234, 3, 5, 4), (4235, 3, 5, 4), (4236, 3, 5, 4), (4237, 3, 5, 4), (4238, 3, 5, 4), (4239, 3, 5, 4), (4240, 3, 5, 4), (4241, 3, 5, 4), (4242, 3, 5, 4), (4243, 3, 5, 4), (4244, 3, 5, 4), (4245, 3, 5, 4), (4246, 3, 5, 4), (4247, 3, 5, 4), (4248, 3, 5, 4), (4249, 3, 5, 4), (4250, 3, 5, 4), (4251, 3, 5, 4), (4252, 3, 5, 4), (4253, 3, 5, 4), (4254, 3, 5, 4), (4255, 3, 5, 4), (4256, 3, 5, 4), (4257, 3, 5, 4), (4258, 3, 5, 4), (4259, 3, 5, 4), (4260, 3, 5, 4), (4261, 3, 5, 4), (4262, 3, 5, 4), (4263, 3, 5, 4), (4264, 3, 5, 4), (4265, 3, 5, 4), (4266, 3, 5, 4), (4267, 3, 5, 4), (4268, 3, 5, 4), (4269, 3, 5, 4), (4270, 3, 5, 4), (4271, 3, 5, 4), (4272, 3, 5, 4), (4273, 3, 5, 4), (4274, 3, 5, 4), (4275, 3, 5, 4), (4276, 3, 5, 4), (4277, 3, 5, 4), (4278, 3, 5, 4), (4279, 3, 5, 4), (4280, 3, 5, 4), (4281, 3, 5, 4), (4282, 3, 5, 4), (4283, 3, 5, 4), (4284, 3, 5, 4), (4285, 3, 5, 4), (4286, 3, 5, 4), (4288, 3, 5, 4), (4289, 3, 5, 4), (4290, 3, 5, 4), (4291, 3, 5, 4), (4292, 3, 5, 4), (4293, 3, 5, 4), (4294, 3, 5, 4), (4295, 3, 5, 4), (4296, 3, 5, 4), (4297, 3, 5, 4), (4298, 3, 5, 4), (4299, 3, 5, 4), (4300, 3, 5, 4), (4301, 3, 5, 4), (4302, 3, 5, 4), (4303, 3, 5, 4), (4304, 3, 5, 4), (4305, 3, 5, 4), (4306, 3, 5, 4), (4307, 3, 5, 4), (4308, 3, 5, 4), (4309, 3, 5, 4), (4310, 3, 5, 4), (4311, 3, 5, 4), (4312, 3, 5, 4), (4313, 3, 5, 4), (4314, 3, 5, 4), (4315, 3, 5, 4), (4316, 3, 5, 4), (4317, 3, 5, 4), (4318, 3, 5, 4), (4319, 3, 5, 4), (4320, 3, 5, 4), (4321, 3, 5, 4), (4322, 3, 5, 4), (4323, 3, 5, 4), (4324, 3, 5, 4), (4325, 3, 5, 4), (4326, 3, 5, 4), (4327, 3, 5, 4), (4328, 3, 5, 4), (4329, 3, 5, 4), (4330, 3, 5, 4), (4332, 3, 5, 4), (4333, 3, 5, 4), (4334, 3, 5, 4), (4335, 3, 5, 4), (4336, 3, 5, 4), (4337, 3, 5, 4), (4338, 3, 5, 4), (4339, 3, 5, 4), (4340, 3, 5, 4), (4341, 3, 5, 4), (4342, 3, 5, 4), (4343, 3, 5, 4), (4344, 3, 5, 4), (4345, 3, 5, 4), (4346, 3, 5, 4), (4347, 3, 5, 4), (4348, 3, 5, 4), (4349, 3, 5, 4), (4350, 3, 5, 4), (4352, 3, 5, 4), (4353, 3, 5, 4), (4354, 3, 5, 4), (4355, 3, 5, 4), (4356, 3, 5, 4), (4357, 3, 5, 4), (4358, 3, 5, 4), (4359, 3, 5, 4), (4360, 3, 5, 4), (4361, 3, 5, 4), (4362, 3, 5, 4), (4363, 3, 5, 4), (4364, 3, 5, 4), (4365, 3, 5, 4), (4366, 3, 5, 4), (4367, 3, 5, 4), (4368, 3, 5, 4), (4369, 3, 5, 4), (4370, 3, 5, 4), (4371, 3, 5, 4), (4372, 3, 5, 4), (4373, 3, 5, 4), (4374, 3, 5, 4), (4375, 3, 5, 4), (4376, 3, 5, 4), (4377, 3, 5, 4), (4378, 3, 5, 4), (4379, 3, 5, 4), (4380, 3, 5, 4), (4381, 3, 5, 4), (4382, 3, 5, 4), (4383, 3, 5, 4), (4384, 3, 5, 4), (4385, 3, 5, 4), (4386, 3, 5, 4), (4387, 3, 5, 4), (4388, 3, 5, 4), (4389, 3, 5, 4), (4390, 3, 5, 4), (4391, 3, 5, 4), (4392, 3, 5, 4), (4393, 3, 5, 4), (4394, 3, 5, 4), (4395, 3, 5, 4), (4396, 3, 5, 4), (4397, 3, 5, 4), (4398, 3, 5, 4), (4400, 3, 5, 4), (4401, 3, 5, 4), (4402, 3, 5, 4), (4404, 3, 5, 4), (4405, 3, 5, 4), (4406, 3, 5, 4), (4408, 3, 5, 4), (4409, 3, 5, 4), (4410, 3, 5, 4), (4412, 3, 5, 4), (4413, 3, 5, 4), (4414, 3, 5, 4), (4415, 3, 5, 4), (4416, 3, 5, 4), (4417, 3, 5, 4), (4418, 3, 5, 4), (4419, 3, 5, 4), (4420, 3, 5, 4), (4421, 3, 5, 4), (4422, 3, 5, 4), (4423, 3, 5, 4), (4424, 3, 5, 4), (4425, 3, 5, 4), (4426, 3, 5, 4), (4427, 3, 5, 4), (4428, 3, 5, 4), (4429, 3, 5, 4), (4430, 3, 5, 4), (4431, 3, 5, 4), (4433, 3, 5, 4), (4434, 3, 5, 4), (4435, 3, 5, 4), (4436, 3, 5, 4), (4437, 3, 5, 4), (4438, 3, 5, 4), (4439, 3, 5, 4), (4440, 3, 5, 4), (4441, 3, 5, 4), (4442, 3, 5, 4), (4443, 3, 5, 4), (4444, 3, 5, 4), (4445, 3, 5, 4), (4446, 3, 5, 4), (4448, 3, 5, 4), (4449, 3, 5, 4), (4450, 3, 5, 4), (4451, 3, 5, 4), (4452, 3, 5, 4), (4453, 3, 5, 4), (4454, 3, 5, 4), (4455, 3, 5, 4), (4456, 3, 5, 4), (4457, 3, 5, 4), (4458, 3, 5, 4), (4459, 3, 5, 4), (4460, 3, 5, 4), (4461, 3, 5, 4), (4462, 3, 5, 4), (4463, 3, 5, 4), (4464, 3, 5, 4), (4465, 3, 5, 4), (4466, 3, 5, 4), (4467, 3, 5, 4), (4468, 3, 5, 4), (4469, 3, 5, 4), (4470, 3, 5, 4), (4471, 3, 5, 4), (4472, 3, 5, 4), (4473, 3, 5, 4), (4474, 3, 5, 4), (4475, 3, 5, 4), (4476, 3, 5, 4), (4477, 3, 5, 4), (4478, 3, 5, 4), (4479, 3, 5, 4), (4480, 3, 5, 4), (4481, 3, 5, 4), (4482, 3, 5, 4), (4483, 3, 5, 4), (4484, 3, 5, 4), (4485, 3, 5, 4), (4486, 3, 5, 4), (4487, 3, 5, 4), (4488, 3, 5, 4), (4489, 3, 5, 4), (4490, 3, 5, 4), (4492, 3, 5, 4), (4493, 3, 5, 4), (4494, 3, 5, 4), (4495, 3, 5, 4), (4496, 3, 5, 4), (4497, 3, 5, 4), (4498, 3, 5, 4), (4499, 3, 5, 4), (4500, 3, 5, 4), (4501, 3, 5, 4), (4502, 3, 5, 4), (4503, 3, 5, 4), (4504, 3, 5, 4), (4505, 3, 5, 4), (4506, 3, 5, 4), (4507, 3, 5, 4), (4508, 3, 5, 4), (4509, 3, 5, 4), (4510, 3, 5, 4), (4511, 3, 5, 4), (4512, 3, 5, 4), (4513, 3, 5, 4), (4514, 3, 5, 4), (4515, 3, 5, 4), (4516, 3, 5, 4), (4517, 3, 5, 4), (4518, 3, 5, 4), (4519, 3, 5, 4), (4520, 3, 5, 4), (4521, 3, 5, 4), (4522, 3, 5, 4), (4523, 3, 5, 4), (4524, 3, 5, 4), (4525, 3, 5, 4), (4526, 3, 5, 4), (4527, 3, 5, 4), (4528, 3, 5, 4), (4529, 3, 5, 4), (4530, 3, 5, 4), (4531, 3, 5, 4), (4532, 3, 5, 4), (4533, 3, 5, 4), (4534, 3, 5, 4), (4535, 3, 5, 4), (4536, 3, 5, 4), (4537, 3, 5, 4), (4538, 3, 5, 4), (4539, 3, 5, 4), (4540, 3, 5, 4), (4541, 3, 5, 4), (4542, 3, 5, 4), (4543, 3, 5, 4), (4544, 3, 5, 4), (4545, 3, 5, 4), (4546, 3, 5, 4), (4547, 3, 5, 4), (4548, 3, 5, 4), (4549, 3, 5, 4), (4550, 3, 5, 4), (4551, 3, 5, 4), (4552, 3, 5, 4), (4553, 3, 5, 4), (4554, 3, 5, 4), (4555, 3, 5, 4), (4556, 3, 5, 4), (4557, 3, 5, 4), (4558, 3, 5, 4), (4559, 3, 5, 4), (4560, 3, 5, 4), (4561, 3, 5, 4), (4562, 3, 5, 4), (4563, 3, 5, 4), (4564, 3, 5, 4), (4565, 3, 5, 4), (4566, 3, 5, 4), (4567, 3, 5, 4), (4568, 3, 5, 4), (4569, 3, 5, 4), (4570, 3, 5, 4), (4571, 3, 5, 4), (4572, 3, 5, 4), (4573, 3, 5, 4), (4574, 3, 5, 4), (4575, 3, 5, 4), (4576, 3, 5, 4), (4577, 3, 5, 4), (4578, 3, 5, 4), (4579, 3, 5, 4), (4580, 3, 5, 4), (4581, 3, 5, 4), (4582, 3, 5, 4), (4583, 3, 5, 4), (4584, 3, 5, 4), (4585, 3, 5, 4), (4586, 3, 5, 4), (4587, 3, 5, 4), (4588, 3, 5, 4), (4589, 3, 5, 4), (4590, 3, 5, 4), (4591, 3, 5, 4), (4592, 3, 5, 4), (4593, 3, 5, 4), (4594, 3, 5, 4), (4595, 3, 5, 4), (4596, 3, 5, 4), (4597, 3, 5, 4), (4598, 3, 5, 4), (4599, 3, 5, 4), (4600, 3, 5, 4), (4601, 3, 5, 4), (4602, 3, 5, 4), (4603, 3, 5, 4), (4604, 3, 5, 4), (4605, 3, 5, 4), (4606, 3, 5, 4), (4607, 3, 5, 4), (4608, 3, 5, 4), (4609, 3, 5, 4), (4610, 3, 5, 4), (4611, 3, 5, 4), (4612, 3, 5, 4), (4613, 3, 5, 4), (4615, 3, 5, 4), (4616, 3, 5, 4), (4617, 3, 5, 4), (4618, 3, 5, 4), (4619, 3, 5, 4), (4620, 3, 5, 4), (4621, 3, 5, 4), (4622, 3, 5, 4), (4623, 3, 5, 4), (4624, 3, 5, 4), (4625, 3, 5, 4), (4626, 3, 5, 4), (4627, 3, 5, 4), (4629, 3, 5, 4), (4630, 3, 5, 4), (4631, 3, 5, 4), (4632, 3, 5, 4), (4633, 3, 5, 4), (4634, 3, 5, 4), (4635, 3, 5, 4), (4636, 3, 5, 4), (4637, 3, 5, 4), (4638, 3, 5, 4), (4639, 3, 5, 4), (4641, 3, 5, 4), (4642, 3, 5, 4), (4643, 3, 5, 4), (4644, 3, 5, 4), (4645, 3, 5, 4), (4646, 3, 5, 4), (4647, 3, 5, 4), (4648, 3, 5, 4), (4649, 3, 5, 4), (4650, 3, 5, 4), (4651, 3, 5, 4), (4652, 3, 5, 4), (4653, 3, 5, 4), (4654, 3, 5, 4), (4655, 3, 5, 4), (4656, 3, 5, 4), (4657, 3, 5, 4), (4658, 3, 5, 4), (4659, 3, 5, 4), (4660, 3, 5, 4), (4661, 3, 5, 4), (4663, 3, 5, 4), (4664, 3, 5, 4), (4665, 3, 5, 4), (4666, 3, 5, 4), (4667, 3, 5, 4), (4668, 3, 5, 4), (4669, 3, 5, 4), (4670, 3, 5, 4), (4671, 3, 5, 4), (4672, 3, 5, 4), (4673, 3, 5, 4), (4674, 3, 5, 4), (4675, 3, 5, 4), (4676, 3, 5, 4), (4677, 3, 5, 4), (4678, 3, 5, 4), (4679, 3, 5, 4), (4680, 3, 5, 4), (4681, 3, 5, 4), (4683, 3, 5, 4), (4684, 3, 5, 4), (4685, 3, 5, 4), (4686, 3, 5, 4), (4687, 3, 5, 4), (4688, 3, 5, 4), (4689, 3, 5, 4), (4691, 3, 5, 4), (4692, 3, 5, 4), (4693, 3, 5, 4), (4694, 3, 5, 4), (4697, 3, 5, 4), (4698, 3, 5, 4), (4699, 3, 5, 4), (4700, 3, 5, 4), (4701, 3, 5, 4), (4702, 3, 5, 4), (4703, 3, 5, 4), (4704, 3, 5, 4), (4705, 3, 5, 4), (4706, 3, 5, 4), (4707, 3, 5, 4), (4709, 3, 5, 4), (4710, 3, 5, 4), (4711, 3, 5, 4), (4712, 3, 5, 4), (4713, 3, 5, 4), (4714, 3, 5, 4), (4715, 3, 5, 4), (4716, 3, 5, 4), (4717, 3, 5, 4), (4718, 3, 5, 4), (4719, 3, 5, 4), (4720, 3, 5, 4), (4721, 3, 5, 4), (4722, 3, 5, 4), (4723, 3, 5, 4), (4724, 3, 5, 4), (4726, 3, 5, 4), (4727, 3, 5, 4), (4728, 3, 5, 4), (4729, 3, 5, 4), (4730, 3, 5, 4), (4731, 3, 5, 4), (4732, 3, 5, 4), (4733, 3, 5, 4), (4734, 3, 5, 4), (4735, 3, 5, 4), (4736, 3, 5, 4), (4737, 3, 5, 4), (4738, 3, 5, 4), (4739, 3, 5, 4), (4740, 3, 5, 4), (4741, 3, 5, 4), (4742, 3, 5, 4), (4743, 3, 5, 4), (4745, 3, 5, 4), (4746, 3, 5, 4), (4747, 3, 5, 4), (4748, 3, 5, 4), (4749, 3, 5, 4), (4750, 3, 5, 4), (4751, 3, 5, 4), (4752, 3, 5, 4), (4753, 3, 5, 4), (4754, 3, 5, 4), (4755, 3, 5, 4), (4756, 3, 5, 4), (4757, 3, 5, 4), (4758, 3, 5, 4), (4759, 3, 5, 4), (4760, 3, 5, 4), (4761, 3, 5, 4), (4762, 3, 5, 4), (4763, 3, 5, 4), (4764, 3, 5, 4), (4765, 3, 5, 4), (4766, 3, 5, 4), (4768, 3, 5, 4), (4769, 3, 5, 4), (4770, 3, 5, 4), (4771, 3, 5, 4), (4772, 3, 5, 4), (4773, 3, 5, 4), (4774, 3, 5, 4), (4775, 3, 5, 4), (4776, 3, 5, 4), (4777, 3, 5, 4), (4778, 3, 5, 4), (4779, 3, 5, 4), (4780, 3, 5, 4), (4781, 3, 5, 4), (4783, 3, 5, 4), (4784, 3, 5, 4), (4785, 3, 5, 4), (4786, 3, 5, 4), (4787, 3, 5, 4), (4788, 3, 5, 4), (4789, 3, 5, 4), (4790, 3, 5, 4), (4791, 3, 5, 4), (4792, 3, 5, 4), (4793, 3, 5, 4), (4794, 3, 5, 4), (4795, 3, 5, 4), (4796, 3, 5, 4), (4797, 3, 5, 4), (4798, 3, 5, 4), (4799, 3, 5, 4), (4800, 3, 5, 4), (4801, 3, 5, 4), (4802, 3, 5, 4), (4803, 3, 5, 4), (4804, 3, 5, 4), (4805, 3, 5, 4), (4806, 3, 5, 4), (4807, 3, 5, 4), (4808, 3, 5, 4), (4809, 3, 5, 4), (4811, 3, 5, 4), (4812, 3, 5, 4), (4813, 3, 5, 4), (4814, 3, 5, 4), (4815, 3, 5, 4), (4816, 3, 5, 4), (4817, 3, 5, 4), (4818, 3, 5, 4), (4819, 3, 5, 4), (4820, 3, 5, 4), (4821, 3, 5, 4), (4822, 3, 5, 4), (4823, 3, 5, 4), (4824, 3, 5, 4), (4825, 3, 5, 4), (4826, 3, 5, 4), (4827, 3, 5, 4), (4828, 3, 5, 4), (4829, 3, 5, 4), (4830, 3, 5, 4), (4832, 3, 5, 4), (4833, 3, 5, 4), (4834, 3, 5, 4), (4835, 3, 5, 4), (4836, 3, 5, 4), (4838, 3, 5, 4), (4839, 3, 5, 4), (4840, 3, 5, 4), (4841, 3, 5, 4), (4842, 3, 5, 4), (4843, 3, 5, 4), (4844, 3, 5, 4), (4845, 3, 5, 4), (4846, 3, 5, 4), (4847, 3, 5, 4), (4848, 3, 5, 4), (4849, 3, 5, 4), (4850, 3, 5, 4), (4851, 3, 5, 4), (4852, 3, 5, 4), (4853, 3, 5, 4), (4854, 3, 5, 4), (4855, 3, 5, 4), (4856, 3, 5, 4), (4857, 3, 5, 4), (4859, 3, 5, 4), (4860, 3, 5, 4), (4861, 3, 5, 4), (4862, 3, 5, 4), (4864, 3, 5, 4), (4865, 3, 5, 4), (4866, 3, 5, 4), (4867, 3, 5, 4), (4868, 3, 5, 4)])"
      ]
     },
     "execution_count": 63,
     "metadata": {},
     "output_type": "execute_result"
    }
   ],
   "source": [
    "id_span_gap_num_to_input_and_completions.keys()"
   ]
  },
  {
   "cell_type": "code",
   "execution_count": 54,
   "metadata": {},
   "outputs": [
    {
     "name": "stderr",
     "output_type": "stream",
     "text": [
      "100%|██████████| 4673/4673 [06:39<00:00, 11.70it/s]\n"
     ]
    }
   ],
   "source": [
    "RUN_CELL = 1 # Obtain the avg_log_p_map for multispan samples\n",
    "if RUN_CELL:\n",
    "    # id_span_gap_num_to_input_and_completions: maps (id, span_length, gap_length, num_spans) to a input_ids(Tensor) and completion_ids(List[Tensor])\n",
    "    # avg_log_p_map_middle_off: maps (id, middle_span_length, middle_to_end_gap, completion_index) to avg_log_p of the tokens constituting the last word (might be punctuated)\n",
    "    avg_log_p_map_multiple_spans = dict()\n",
    "    for id_span_gap_num in tqdm(id_span_gap_num_to_input_and_completions):\n",
    "        input_ids = id_span_gap_num_to_input_and_completions[id_span_gap_num]['inputs'].unsqueeze(0)\n",
    "        completions_batch = id_span_gap_num_to_input_and_completions[id_span_gap_num]['labels']\n",
    "        outputs = lambada_utils.multi_labels_forward(model, input_ids, completions_batch)\n",
    "\n",
    "        span_length = id_span_gap_num[1]\n",
    "        num_spans = id_span_gap_num[3]\n",
    "\n",
    "        for completion_index in range(len(completions_batch)):\n",
    "            avg_log_p = -ce_loss(\n",
    "                # Only care about the tokens corresponding to the last word (see assert below)); \n",
    "                # so the first <extra_id_0> is omitted, and for each span, the span + <extra_id_k> is omitted;\n",
    "                # totally 1 + num_spans * (span_length + 1) tokens are omitted;\n",
    "                # contains paddings.\n",
    "                outputs.logits[completion_index][1 + num_spans * (span_length + 1) :], \n",
    "                completions_batch[completion_index][1 + num_spans * (span_length + 1) :]\n",
    "            )\n",
    "            \n",
    "            assert id_to_completions_ids[id_span_gap_num[0]][completion_index].shape[0] - 1 == \\\n",
    "                completions_batch[completion_index][1 + num_spans * (span_length + 1) :].nonzero().shape[0]\n",
    "\n",
    "            avg_log_p_map_multiple_spans[(*id_span_gap_num, completion_index)] = \\\n",
    "                avg_log_p.detach().cpu().tolist()    \n",
    "            \n"
   ]
  },
  {
   "cell_type": "code",
   "execution_count": 56,
   "metadata": {},
   "outputs": [
    {
     "name": "stdout",
     "output_type": "stream",
     "text": [
      "'data/pkls/lambada_ul2/avg_log_p_map_multiple_spans_validation_length_3_gap_5_numspan_3_multispan_2023-12-16-10:40:10.pickle'\n"
     ]
    }
   ],
   "source": [
    "RUN_CELL = 1 # Save the avg_log_p_map_multiple_spans\n",
    "if RUN_CELL:\n",
    "    pickle_filename = 'data/pkls/lambada_ul2/avg_log_p_map_multiple_spans_' + set_partition + multiple_spans_filename_part + general_utils.get_time() + '.pickle'\n",
    "    print('\\'' + pickle_filename + '\\'')\n",
    "    with open(pickle_filename, 'wb') as handle:\n",
    "        pickle.dump(avg_log_p_map_multiple_spans, handle)"
   ]
  },
  {
   "cell_type": "code",
   "execution_count": 57,
   "metadata": {},
   "outputs": [],
   "source": [
    "RUN_CELL = 1 # Load the avg_log_p_map_multiple_spans\n",
    "if RUN_CELL:\n",
    "    # pickle_filename = 'data/pkls/lambada_ul2/avg_log_p_map_multiple_spans_test_length_3_gap_5_auto_numspan_2023-12-13-07:11:35.pickle'\n",
    "    # pickle_filename = 'data/pkls/lambada_ul2/avg_log_p_map_multiple_spans_test_length_3_gap_5_numspan_1_multispan2023-12-13-07:52:08.pickle'    \n",
    "    # load multiple dicts and combine them. NOTE: all the keys should be different\n",
    "    filenames = [\n",
    "        'data/pkls/lambada_ul2/avg_log_p_map_multiple_spans_validation_length_3_gap_5_numspan_1_multispan_2023-12-15-15:43:18.pickle',\n",
    "        'data/pkls/lambada_ul2/avg_log_p_map_multiple_spans_validation_length_3_gap_5_numspan_2_multispan_2023-12-15-14:25:00.pickle',\n",
    "        'data/pkls/lambada_ul2/avg_log_p_map_multiple_spans_validation_length_3_gap_5_numspan_3_multispan_2023-12-16-10:40:10.pickle'\n",
    "\n",
    "    ]\n",
    "    avg_log_p_map_multiple_spans = dict()\n",
    "    for filename in filenames:\n",
    "        with open(filename, 'rb') as handle:\n",
    "            avg_log_p_map_multiple_spans.update(pickle.load(handle))"
   ]
  },
  {
   "cell_type": "code",
   "execution_count": null,
   "metadata": {},
   "outputs": [],
   "source": [
    "# ensemble different LENGTH_GAP_NUM_TUPLE's\n",
    "# 1. load them into the same avg_log_p_map_multiple_spans\n",
    "# 2. modify max reduction cell to consider all of them"
   ]
  },
  {
   "cell_type": "code",
   "execution_count": 59,
   "metadata": {},
   "outputs": [
    {
     "name": "stderr",
     "output_type": "stream",
     "text": [
      "100%|██████████| 4869/4869 [00:00<00:00, 39250.33it/s]"
     ]
    },
    {
     "name": "stdout",
     "output_type": "stream",
     "text": [
      "count_correct: 3828\n",
      "accuracy: 0.7861983980283426\n"
     ]
    },
    {
     "name": "stderr",
     "output_type": "stream",
     "text": [
      "\n"
     ]
    }
   ],
   "source": [
    "RUN_CELL = 1 # Max reduction to emsemble conditionals for the same last word\n",
    "'''Max reduction to emsemble conditionals for the same last word, \n",
    "i.e., only the maximum avg_log_p is kept for each last word across different range_middle_span_length's and range_middle_to_end_gap's.\n",
    "Emsemble the baseline conditionals with the K-offset conditionals and middle-off conditionals.'''\n",
    "\n",
    "if RUN_CELL:\n",
    "    # Add the baseline (offset = 0 from K-offset ensemble) to the list\n",
    "    ADD_BASELINE = True \n",
    "\n",
    "    # Add K-offset conditionals to the list\n",
    "    ADD_K_OFFSET = False \n",
    "    MAX_OFFSET = 11\n",
    "\n",
    "    # Add multispan conditionals to the list\n",
    "    ADD_MULTISPAN = True \n",
    "    # MULTISPAN_TYPE = 'auto' # No. spans is automatically determined by the length of the input\n",
    "    MULTISPAN_TYPE = 'manual' # No. spans is manually specified\n",
    "    LENGTH_GAP_NUM_TUPLES_ENSEM = [(3, 5, 1), (3, 5, 2), (3, 5, 3),] # SPAN_LENGTH, GAP_LENGTH, NUM_SPANS (for multispan)\n",
    "\n",
    "\n",
    "    if ADD_MULTISPAN and (MULTISPAN_TYPE == 'auto'):\n",
    "        # get rid of the 3rd dimension in the tuple key\n",
    "        avg_log_p_map_multiple_spans_auto_length = {}\n",
    "        for key in avg_log_p_map_multiple_spans:\n",
    "            newkey = (key[0], key[1], key[2], key[4])\n",
    "            avg_log_p_map_multiple_spans_auto_length[newkey] = avg_log_p_map_multiple_spans[key]\n",
    "\n",
    "    count_correct = 0\n",
    "    correct_ids = []\n",
    "    for example_index in tqdm(range(len(lambada))): # len(lambada)\n",
    "        # Create a list of tuples (avg_log_p, completion) for each completion\n",
    "        avg_log_p_and_completion = []\n",
    "\n",
    "        if ADD_MULTISPAN:\n",
    "            if MULTISPAN_TYPE == 'auto':\n",
    "                avg_log_p_and_completion += [\n",
    "                    (avg_log_p_map_multiple_spans_auto_length[(example_index, SPAN_LENGTH, GAP_LENGTH, completion_index)], id_to_completions_ids[example_index][completion_index])\n",
    "                    for completion_index in range(len(id_to_completions_ids[example_index]))\n",
    "                ]\n",
    "                \n",
    "            elif MULTISPAN_TYPE == 'manual':\n",
    "                for length_gap_num in LENGTH_GAP_NUM_TUPLES_ENSEM:\n",
    "                    avg_log_p_and_completion += [\n",
    "                        (avg_log_p_map_multiple_spans[(example_index, *length_gap_num, completion_index)], id_to_completions_ids[example_index][completion_index])\n",
    "                        for completion_index in range(len(id_to_completions_ids[example_index]))\n",
    "                    ]\n",
    "                \n",
    "        # add the baseline (offset = 0 from K-offset ensemble) to the list\n",
    "        if ADD_BASELINE:\n",
    "            avg_log_p_and_completion += [\n",
    "                (avg_log_p_map_offset[(example_index, 0, completion_index)], id_to_completions_ids[example_index][completion_index])\n",
    "                for completion_index in range(len(id_to_completions_ids[example_index]))\n",
    "            ]\n",
    "            \n",
    "            \n",
    "        # add the whole K-offset ensemble to the list\n",
    "        if ADD_K_OFFSET:\n",
    "            for offset in range(1, MAX_OFFSET + 1):\n",
    "                avg_log_p_and_completion += [\n",
    "                    (avg_log_p_map_offset[(example_index, offset, completion_index)], id_to_completions_ids[example_index][completion_index])\n",
    "                    for completion_index in range(len(id_to_completions_ids[example_index]))\n",
    "                ]\n",
    "                \n",
    "\n",
    "        if len(avg_log_p_and_completion) == 0: # if no completions are found\n",
    "            continue\n",
    "        # Find the tuple with the maximum avg_log_p; this is essentially max reduction\n",
    "        best_avg_log_p, best_word = max(avg_log_p_and_completion, key=lambda x: x[0])\n",
    "        if processor.is_correct_result(example_index, best_word):\n",
    "            count_correct += 1\n",
    "            correct_ids.append(example_index)\n",
    "    print(\"count_correct:\", count_correct)\n",
    "    print(\"accuracy:\", count_correct / len(lambada))\n"
   ]
  },
  {
   "cell_type": "code",
   "execution_count": 47,
   "metadata": {},
   "outputs": [
    {
     "data": {
      "text/plain": [
       "33938"
      ]
     },
     "execution_count": 47,
     "metadata": {},
     "output_type": "execute_result"
    }
   ],
   "source": [
    "avg_log_p_map_multiple_spans.keys().__len__()"
   ]
  },
  {
   "cell_type": "code",
   "execution_count": 29,
   "metadata": {},
   "outputs": [],
   "source": []
  },
  {
   "cell_type": "markdown",
   "metadata": {},
   "source": [
    "### Notes\n",
    "\n",
    " Hypothesis: conditionals based on the mask patterns used during pretraining are more powerful; ->  change your story: smartly pick mask patterns to only use one conditional\n",
    "\n",
    "\n",
    " just ensemble with one LENGTH_GAP_TUPLE == (3,5) leads to accuracy: 0.7814865127110421\n",
    "\n",
    "\n"
   ]
  },
  {
   "cell_type": "markdown",
   "metadata": {},
   "source": [
    "### Pitfalls\n",
    "\n",
    "#### tokenizer.decode() can ignore spaces\n",
    "tokenizer.get_vocab()['▁'] == 3\n",
    "tokenizer.decode([32099,  4340,     3,     5]) = 0 '<extra_id_0> cake.' # the lowline token is  \n",
    "\n",
    "This happens a lot: tokenizer.decode(tokenizer.encode(text)) != text  "
   ]
  },
  {
   "cell_type": "markdown",
   "metadata": {},
   "source": [
    "### End of main code"
   ]
  },
  {
   "cell_type": "code",
   "execution_count": null,
   "metadata": {},
   "outputs": [],
   "source": [
    "''' Plot ensembled conditionals vs accuracy'''\n",
    "%matplotlib inline\n",
    "import matplotlib.pyplot as plt\n",
    "import matplotlib.font_manager as fm\n",
    "\n",
    "# Load a nice font\n",
    "font_path = '/usr/share/fonts/urw-base35/NimbusMonoPS-Italic.otf'\n",
    "font_prop = fm.FontProperties(fname=font_path)\n",
    "\n",
    "# offset = 0 corresponds to the baseline, which is no. ensembled conditionals = 1; adjust the offset by 1\n",
    "no_ensembled_conditionals_to_accuracy = dict()\n",
    "for offset in range(1, MAX_OFFSET_TEST+1):\n",
    "    no_ensembled_conditionals_to_accuracy[offset] = offset_to_accuracy[offset-1]\n",
    "\n",
    "\n",
    "max_line = plt.plot(list(no_ensembled_conditionals_to_accuracy.keys()), list(no_ensembled_conditionals_to_accuracy.values()), label='max')\n",
    "plt.xlabel('No. ensembled conditionals', fontsize=14)\n",
    "plt.ylabel('Accuracy', fontsize=14)\n",
    "# the interval on x should be 10\n",
    "plt.xticks(np.arange(10, max(list(no_ensembled_conditionals_to_accuracy.keys()))+1, 10))\\\n",
    "# add a tick at 1 on the x axis\n",
    "plt.xticks(list(plt.xticks()[0]) + [1])\n",
    "\n",
    "plt.xticks(fontsize=13)\n",
    "plt.yticks(fontsize=13)\n",
    "\n",
    "# add a dot at each point\n",
    "plt.scatter(list(no_ensembled_conditionals_to_accuracy.keys()), list(no_ensembled_conditionals_to_accuracy.values()))\n",
    "\n",
    "\n",
    "# add a yellow horizontal line at y=offset_to_accuracy[0]\n",
    "plt.axhline(y=no_ensembled_conditionals_to_accuracy[1], color='y', linestyle='--')\n",
    "# add the word \"baseline\" at the end of the yellow line in the font of calibri\n",
    "plt.text(48, no_ensembled_conditionals_to_accuracy[1] + 0.0002, 'baseline', fontproperties=font_prop, fontsize=13)\n",
    "\n",
    "# # plot the accuracy with avg reduction\n",
    "# avg_line = plt.plot([item+1 for item in list(offset_to_accuracy_avg_reduction.keys())], list(offset_to_accuracy_avg_reduction.values()), color='r', label='avg')\n",
    "# # add a dot at each point\n",
    "# plt.scatter([item+1 for item in list(offset_to_accuracy_avg_reduction.keys())], list(offset_to_accuracy_avg_reduction.values()), color='r')\n",
    "\n",
    "plt.scatter(1, no_ensembled_conditionals_to_accuracy[1], color='y')\n",
    "\n",
    "plt.legend(handles=[max_line[0], avg_line[0]], loc='upper center', bbox_to_anchor=(0.9, 0.45), ncol=1, fontsize=10)\n",
    "\n",
    "\n",
    "plt.tight_layout()\n",
    "\n",
    "# show the plot at a high resolution\n",
    "# plt.savefig('no_ensembled_conditionals_to_accuracy_combined.png', dpi=1200)\n",
    "\n",
    "# plt.print()\n"
   ]
  },
  {
   "cell_type": "code",
   "execution_count": null,
   "metadata": {},
   "outputs": [],
   "source": [
    "import threading\n",
    "import time\n",
    "\n",
    "# A simple function that prints and sleeps\n",
    "def print_numbers(name):\n",
    "    for i in range(1, 6):\n",
    "        time.sleep(2)\n",
    "        print(f\"{name} prints: {i}\")\n",
    "\n",
    "# Creating threads\n",
    "thread1 = threading.Thread(target=print_numbers, args=(\"Thread 1\",))\n",
    "thread2 = threading.Thread(target=print_numbers, args=(\"Thread 2\",))\n",
    "\n",
    "# Starting threads\n",
    "thread1.start()\n",
    "thread2.start()\n",
    "\n",
    "# Waiting for threads to complete\n",
    "thread1.join()\n",
    "thread2.join()\n",
    "\n",
    "print(\"Threads finished execution\")\n"
   ]
  },
  {
   "cell_type": "code",
   "execution_count": null,
   "metadata": {},
   "outputs": [],
   "source": [
    "import importlib\n",
    "import lambada_utils  # Import the module, not just the class\n",
    "importlib.reload(lambada_utils)\n",
    "from lambada_utils import LambadaProcessor  # Re-import the class"
   ]
  },
  {
   "cell_type": "code",
   "execution_count": null,
   "metadata": {},
   "outputs": [],
   "source": [
    "import importlib\n",
    "import general_utils\n",
    "importlib.reload(general_utils)"
   ]
  },
  {
   "cell_type": "code",
   "execution_count": null,
   "metadata": {},
   "outputs": [],
   "source": [
    "model.hf_device_map.keys().__len__()"
   ]
  },
  {
   "cell_type": "code",
   "execution_count": null,
   "metadata": {},
   "outputs": [],
   "source": [
    "general_utils.get_ul2_device_map('6,7').__len__()"
   ]
  }
 ],
 "metadata": {
  "kernelspec": {
   "display_name": "Python 3",
   "language": "python",
   "name": "python3"
  },
  "language_info": {
   "codemirror_mode": {
    "name": "ipython",
    "version": 3
   },
   "file_extension": ".py",
   "mimetype": "text/x-python",
   "name": "python",
   "nbconvert_exporter": "python",
   "pygments_lexer": "ipython3",
   "version": "3.11.5"
  },
  "orig_nbformat": 4
 },
 "nbformat": 4,
 "nbformat_minor": 2
}

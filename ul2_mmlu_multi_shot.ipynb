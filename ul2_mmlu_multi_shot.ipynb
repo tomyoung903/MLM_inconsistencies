{
 "cells": [
  {
   "cell_type": "markdown",
   "metadata": {},
   "source": [
    "### Import env"
   ]
  },
  {
   "cell_type": "code",
   "execution_count": 1,
   "metadata": {},
   "outputs": [],
   "source": [
    "'''imports'''\n",
    "import os\n",
    "# os.environ[\"CUDA_VISIBLE_DEVICES\"]=\"0,1,4,5,6,7\"\n",
    "os.environ[\"CUDA_VISIBLE_DEVICES\"]=\"0\"\n",
    "import general_utils\n",
    "# clear GPU memory\n",
    "if True:   \n",
    "    general_utils.kill_gpu_process(os.environ[\"CUDA_VISIBLE_DEVICES\"])\n",
    "import torch\n",
    "os.environ['PYDEVD_WARN_SLOW_RESOLVE_TIMEOUT'] = '5.0' # suppresses pydevd speed warnings\n",
    "from transformers import T5ForConditionalGeneration, AutoTokenizer, T5Tokenizer\n",
    "import numpy as np\n",
    "import pickle\n",
    "import time\n",
    "from tqdm import tqdm\n",
    "import json\n",
    "import lambada_utils\n",
    "from lambada_utils import LambadaProcessor\n",
    "from typing import Tuple, List"
   ]
  },
  {
   "cell_type": "markdown",
   "metadata": {},
   "source": [
    "### Load tokenizer and model"
   ]
  },
  {
   "cell_type": "code",
   "execution_count": 2,
   "metadata": {},
   "outputs": [
    {
     "data": {
      "application/vnd.jupyter.widget-view+json": {
       "model_id": "1723bda0e555420b946949d330991c8f",
       "version_major": 2,
       "version_minor": 0
      },
      "text/plain": [
       "Loading checkpoint shards:   0%|          | 0/4 [00:00<?, ?it/s]"
      ]
     },
     "metadata": {},
     "output_type": "display_data"
    }
   ],
   "source": [
    "# We are using custom huggingface cache dirs in case the default one doesn't have the capacity, since the models can be quite large.\n",
    "MY_HUGGINGFACE_CACHE_DIR ='huggingface_cache' # relative to this notebook path\n",
    "tokenizer = AutoTokenizer.from_pretrained(\"google/ul2\",\n",
    "                                        cache_dir = MY_HUGGINGFACE_CACHE_DIR+'/google-ul2')\n",
    "\n",
    "RUN_CELL = 1 # Load model 1\n",
    "# device_map=general_utils.get_ul2_device_map('2,3')\n",
    "if RUN_CELL:\n",
    "    model = T5ForConditionalGeneration.from_pretrained(\"google/ul2\",\n",
    "                                                        cache_dir=MY_HUGGINGFACE_CACHE_DIR + '/google-ul2',\n",
    "                                                        low_cpu_mem_usage=True,\n",
    "                                                        torch_dtype=torch.bfloat16,\n",
    "                                                        device_map='balanced')"
   ]
  },
  {
   "cell_type": "markdown",
   "metadata": {},
   "source": [
    "### Import datasets"
   ]
  },
  {
   "cell_type": "code",
   "execution_count": 3,
   "metadata": {},
   "outputs": [
    {
     "name": "stderr",
     "output_type": "stream",
     "text": [
      "Using the latest cached version of the module from /home/oem/.cache/huggingface/modules/datasets_modules/datasets/lukaemon--mmlu/134145dc2582b9a08b42d1f4b828f84a0066e9cc2e7dd8c1d83bee475746ecc3 (last modified on Thu Dec 21 09:53:23 2023) since it couldn't be found locally at lukaemon/mmlu., or remotely on the Hugging Face Hub.\n",
      "Using the latest cached version of the module from /home/oem/.cache/huggingface/modules/datasets_modules/datasets/lukaemon--mmlu/134145dc2582b9a08b42d1f4b828f84a0066e9cc2e7dd8c1d83bee475746ecc3 (last modified on Thu Dec 21 09:53:23 2023) since it couldn't be found locally at lukaemon/mmlu., or remotely on the Hugging Face Hub.\n",
      "Using the latest cached version of the module from /home/oem/.cache/huggingface/modules/datasets_modules/datasets/lukaemon--mmlu/134145dc2582b9a08b42d1f4b828f84a0066e9cc2e7dd8c1d83bee475746ecc3 (last modified on Thu Dec 21 09:53:23 2023) since it couldn't be found locally at lukaemon/mmlu., or remotely on the Hugging Face Hub.\n",
      "Using the latest cached version of the module from /home/oem/.cache/huggingface/modules/datasets_modules/datasets/lukaemon--mmlu/134145dc2582b9a08b42d1f4b828f84a0066e9cc2e7dd8c1d83bee475746ecc3 (last modified on Thu Dec 21 09:53:23 2023) since it couldn't be found locally at lukaemon/mmlu., or remotely on the Hugging Face Hub.\n",
      "Using the latest cached version of the module from /home/oem/.cache/huggingface/modules/datasets_modules/datasets/lukaemon--mmlu/134145dc2582b9a08b42d1f4b828f84a0066e9cc2e7dd8c1d83bee475746ecc3 (last modified on Thu Dec 21 09:53:23 2023) since it couldn't be found locally at lukaemon/mmlu., or remotely on the Hugging Face Hub.\n",
      "Using the latest cached version of the module from /home/oem/.cache/huggingface/modules/datasets_modules/datasets/lukaemon--mmlu/134145dc2582b9a08b42d1f4b828f84a0066e9cc2e7dd8c1d83bee475746ecc3 (last modified on Thu Dec 21 09:53:23 2023) since it couldn't be found locally at lukaemon/mmlu., or remotely on the Hugging Face Hub.\n",
      "Using the latest cached version of the module from /home/oem/.cache/huggingface/modules/datasets_modules/datasets/lukaemon--mmlu/134145dc2582b9a08b42d1f4b828f84a0066e9cc2e7dd8c1d83bee475746ecc3 (last modified on Thu Dec 21 09:53:23 2023) since it couldn't be found locally at lukaemon/mmlu., or remotely on the Hugging Face Hub.\n"
     ]
    }
   ],
   "source": [
    "from datasets import load_dataset\n",
    "\n",
    "SUBJECTS = ['high_school_european_history', 'business_ethics', 'clinical_knowledge', 'medical_genetics', \\\n",
    "            'high_school_us_history', 'high_school_physics', 'high_school_world_history', 'virology', \\\n",
    "            'high_school_microeconomics', 'econometrics', 'college_computer_science', 'high_school_biology', \\\n",
    "            'abstract_algebra', 'professional_accounting', 'philosophy', 'professional_medicine', 'nutrition', \\\n",
    "            'global_facts', 'machine_learning', 'security_studies', 'public_relations', 'professional_psychology', \\\n",
    "            'prehistory', 'anatomy', 'human_sexuality', 'college_medicine', 'high_school_government_and_politics', \\\n",
    "            'college_chemistry', 'logical_fallacies', 'high_school_geography', 'elementary_mathematics', 'human_aging', \\\n",
    "            'college_mathematics', 'high_school_psychology', 'formal_logic', 'high_school_statistics', 'international_law', \\\n",
    "            'high_school_mathematics', 'high_school_computer_science', 'conceptual_physics', 'miscellaneous', 'high_school_chemistry', \\\n",
    "            'marketing', 'professional_law', 'management', 'college_physics', 'jurisprudence', 'world_religions', 'sociology', 'us_foreign_policy', \\\n",
    "            'high_school_macroeconomics', 'computer_security', 'moral_scenarios', 'moral_disputes', 'electrical_engineering', 'astronomy', 'college_biology']\n",
    "\n",
    "# SUBJECTS = SUBJECTS[10:11] # tom is only using one subject for testing\n",
    "\n",
    "\n",
    "DATASET_PATH = os.path.join(\"lukaemon/mmlu\")\n",
    "MMLU_DATAS = [load_dataset(DATASET_PATH, sub) for sub in SUBJECTS]\n",
    "INDEX = [i for i in range(len(SUBJECTS))]\n",
    "NAMES_WITH_DATAS = zip(INDEX, SUBJECTS, MMLU_DATAS)"
   ]
  },
  {
   "cell_type": "markdown",
   "metadata": {},
   "source": [
    "### Define loss function"
   ]
  },
  {
   "cell_type": "code",
   "execution_count": 4,
   "metadata": {},
   "outputs": [],
   "source": [
    "# define loss\n",
    "ce_loss = torch.nn.CrossEntropyLoss(ignore_index=tokenizer.pad_token_id) #reduction='avg'\n",
    "ce_loss_sum = torch.nn.CrossEntropyLoss(ignore_index=tokenizer.pad_token_id, reduction='sum') #reduction='sum'"
   ]
  },
  {
   "cell_type": "code",
   "execution_count": 5,
   "metadata": {},
   "outputs": [],
   "source": [
    "extra_id_0 = torch.tensor([tokenizer.convert_tokens_to_ids(\"<extra_id_0>\")])\n",
    "extra_id_1 = torch.tensor([tokenizer.convert_tokens_to_ids(\"<extra_id_1>\")])"
   ]
  },
  {
   "cell_type": "markdown",
   "metadata": {},
   "source": [
    "### Prompt"
   ]
  },
  {
   "cell_type": "code",
   "execution_count": 6,
   "metadata": {},
   "outputs": [],
   "source": [
    "import torch.nn.functional as F\n",
    "UL2_MODE = \"[S2S]\"\n",
    "\n",
    "def data_prompting(docs, tokenizer, name, num_of_shot) -> Tuple:\n",
    "    '''\n",
    "        docs: DATA_SET[SUBJECTS_NAME], ex:MMLU[high_school_european_history]\n",
    "\n",
    "        5-shot data prompting\n",
    "    '''\n",
    "    keys = [\"A\", \"B\", \"C\", \"D\"]\n",
    "    key_to_index = {\"A\":0, \"B\":1, \"C\":2, \"D\":3}\n",
    "    \n",
    "    doc_count = 0\n",
    "    for doc in docs:\n",
    "        input_ = f\"The following are multiple choice questions (with answers) about {name} knowledge.\\n\\n\"\n",
    "\n",
    "        for data in docs:\n",
    "            if doc_count < num_of_shot and data != doc:\n",
    "                doc_count += 1\n",
    "                input_ += \"Q: \" + data['input'] + \" \" + \"The answer is \" + data[data['target']] + '.\\n\\n'\n",
    "\n",
    "            if doc_count == num_of_shot:\n",
    "                doc_count = 0\n",
    "                break\n",
    "\n",
    "        input_ += UL2_MODE + \" \" + doc['input'] + \" \" + \"<extra_id_0>\"\n",
    "        completions = [f\"<extra_id_0> {doc[key]}\" for key in keys]\n",
    "        # print(completions)\n",
    "        label = key_to_index[doc['target']]\n",
    "        \n",
    "        input_ids = tokenizer(input_, return_tensors=\"pt\").input_ids.to(\"cuda\").clone().detach().requires_grad_(False)\n",
    "        # label_id = tokenizer(label, return_tensors=\"pt\").input_ids.to(\"cuda\").clone().detach().requires_grad_(False)\n",
    "        # completions_ids = [tokenizer(completion, return_tensors=\"pt\").input_ids.to(\"cuda\").clone().detach().requires_grad_(False)\\\n",
    "                                                                # for completion in completions]\n",
    "        completions_ids = [tokenizer(completion, return_tensors=\"pt\").input_ids.to(\"cuda\").clone().detach()[:,:-1]\\\n",
    "                                                                for completion in completions] # remove <eos> token with [:,:-1]\n",
    "        # print(completions_ids)\n",
    "        # Assuming `max_length` is the maximum length you want to pad sequences to\n",
    "        max_length = max(seq.size(1) for seq in completions_ids)\n",
    "\n",
    "        # Note to Yunan: Please compress the following 2 code lines to remove one \"pad\" function call; Consult chatgpt or official doc for guidance on how to pad simply and effectively\n",
    "        # Pad sequences to the common length\n",
    "        padded_sequences = [F.pad(seq, (0, max_length - seq.size(1)), value=tokenizer.pad_token_id) for seq in completions_ids]\n",
    "\n",
    "        # Use pad_sequence\n",
    "        completions_ids_padded = torch.nn.utils.rnn.pad_sequence(padded_sequences, batch_first=True, padding_value=tokenizer.pad_token_id)\n",
    "\n",
    "        completions_ids_padded = torch.squeeze(completions_ids_padded, dim = 1)\n",
    "        yield input_ids, completions_ids_padded, label"
   ]
  },
  {
   "cell_type": "code",
   "execution_count": 7,
   "metadata": {},
   "outputs": [],
   "source": [
    "IS_DEVELOPMENT = True\n",
    "set_partition = 'validation' if IS_DEVELOPMENT else 'test' "
   ]
  },
  {
   "cell_type": "markdown",
   "metadata": {},
   "source": [
    "### Main Fun"
   ]
  },
  {
   "cell_type": "code",
   "execution_count": 8,
   "metadata": {},
   "outputs": [
    {
     "name": "stderr",
     "output_type": "stream",
     "text": [
      "  0%|          | 0/57 [00:00<?, ?it/s]Token indices sequence length is longer than the specified maximum sequence length for this model (717 > 512). Running this sequence through the model will result in indexing errors\n",
      "100%|██████████| 57/57 [01:50<00:00,  1.95s/it]\n"
     ]
    }
   ],
   "source": [
    "RUN_CELL = 1 # Obtain the avg_log_p_map_offset\n",
    "TOTAL_CASE = 0\n",
    "ACCURATE_CASE = 0\n",
    "NUM_SHOT = 1\n",
    "\n",
    "if RUN_CELL:\n",
    "# id_and_offset_to_input_and_completions:\n",
    "# (id, offset) -> input_ids, [completion_ids_0, completion_ids_1, completion_ids_2,...]\n",
    "    avg_log_p_map_offset = dict() # (id, offset, completion_index) -> avg_log_p of the tokens constituting the last word (might be punctuated)\n",
    "    \n",
    "    for example_index in tqdm(range(len(INDEX))): \n",
    "    # for example_index in tqdm(range(2)):\n",
    "        data = MMLU_DATAS[example_index]\n",
    "        name = (SUBJECTS[example_index]).replace('_', ' ')\n",
    "\n",
    "        gen = data_prompting(data[set_partition], tokenizer, name, NUM_SHOT)\n",
    "\n",
    "        for input_ids, completions_batch, label in gen:\n",
    "            avg_log_p_and_completion = []\n",
    "            outputs = lambada_utils.multi_labels_forward(model, input_ids, completions_batch)\n",
    "            # print('new completion batch')\n",
    "            for completion_index in range(len(completions_batch)):\n",
    "                \n",
    "                avg_log_p = -ce_loss(\n",
    "                    # Only care about the tokens corresponding to the last word and omit offset tokens \n",
    "                    # the first one is <extra_id_0> and omitted\n",
    "                    outputs.logits[completion_index][1:], \n",
    "                    completions_batch[completion_index][1:]\n",
    "                )\n",
    "                \n",
    "                avg_log_p_map_offset[(example_index, 0, completion_index)] = \\\n",
    "                    avg_log_p.detach().cpu().tolist()\n",
    "                \n",
    "                avg_log_p_and_completion.append([avg_log_p.detach().cpu().tolist(), completion_index])\n",
    "                \n",
    "            best_avg_log_p, best_completion_index = max(avg_log_p_and_completion, key=lambda x: x[0])\n",
    "\n",
    "            if best_completion_index == label:\n",
    "                ACCURATE_CASE += 1\n",
    "            TOTAL_CASE += 1"
   ]
  },
  {
   "cell_type": "code",
   "execution_count": 9,
   "metadata": {},
   "outputs": [
    {
     "data": {
      "text/plain": [
       "0.32903663500678426"
      ]
     },
     "execution_count": 9,
     "metadata": {},
     "output_type": "execute_result"
    }
   ],
   "source": [
    "ACCURATE_CASE/TOTAL_CASE"
   ]
  }
 ],
 "metadata": {
  "kernelspec": {
   "display_name": "cyn",
   "language": "python",
   "name": "python3"
  },
  "language_info": {
   "codemirror_mode": {
    "name": "ipython",
    "version": 3
   },
   "file_extension": ".py",
   "mimetype": "text/x-python",
   "name": "python",
   "nbconvert_exporter": "python",
   "pygments_lexer": "ipython3",
   "version": "3.10.13"
  }
 },
 "nbformat": 4,
 "nbformat_minor": 2
}

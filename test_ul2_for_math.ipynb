{
 "cells": [
  {
   "cell_type": "code",
   "execution_count": 3,
   "metadata": {},
   "outputs": [
    {
     "name": "stdout",
     "output_type": "stream",
     "text": [
      "self.device_map\n",
      "{0: [0, 1, 2, 3, 4, 5, 6, 7, 8, 9, 10], 1: [11, 12, 13, 14, 15, 16, 17, 18, 19, 20, 21], 2: [22, 23, 24, 25, 26, 27, 28, 29, 30, 31]}\n",
      "19459613696\n"
     ]
    }
   ],
   "source": [
    "from transformers import T5ForConditionalGeneration, AutoTokenizer\n",
    "import torch\n",
    "import os\n",
    "\n",
    "model = T5ForConditionalGeneration.from_pretrained(\"google/ul2\", cache_dir='/work/09127/tomyoung/ls6/LLM_cache/google-ul2/', low_cpu_mem_usage=True, torch_dtype=torch.bfloat16).to(\"cuda\")\n",
    "model.parallelize()\n",
    "tokenizer = AutoTokenizer.from_pretrained(\"google/ul2\")\n",
    "\n",
    "input_string = \"[NLU] Mr. Dursley was the director of a firm called <extra_id_0>, \\\n",
    "    which made <extra_id_1>. He was a big, solid man with a bald head. \\\n",
    "        Mrs. Dursley was thin and <extra_id_2> of neck, which came in very useful as she spent \\\n",
    "            so much of her time <extra_id_3>. The Dursleys had a small son \\\n",
    "                called Dudley and <extra_id_4>\"                                           \n",
    "\n",
    "print(sum(p.numel() for p in model.parameters()))\n"
   ]
  },
  {
   "cell_type": "code",
   "execution_count": 60,
   "metadata": {},
   "outputs": [],
   "source": [
    "import torch.nn as nn\n",
    "loss_fn_sum = nn.CrossEntropyLoss(ignore_index=tokenizer.pad_token_id, reduction='sum') #reduction='sum'"
   ]
  },
  {
   "cell_type": "code",
   "execution_count": 2,
   "metadata": {},
   "outputs": [],
   "source": [
    "# generate random math equations in the form of x + y = z\n",
    "# where x, y are integers between 0 and 100\n",
    "# and x + y = z is a valid equation\n",
    "import random\n",
    "import numpy as np\n",
    "import re\n",
    "# generate x\n",
    "x = random.randint(0, 10)\n",
    "# generate y\n",
    "y = random.randint(0, 10)\n",
    "# generate z\n",
    "z = x + y\n",
    "# generate equation in string\n",
    "equation = str(x) + \" + \" + str(y) + \" = \" + str(z)\n",
    "equation\n",
    "# generate a question form by replacing z with <extra_id_0>\n",
    "question = '[NLU] ' + str(x) + \" + \" + str(y) + \" = \" + \"<extra_id_0> .\""
   ]
  },
  {
   "cell_type": "code",
   "execution_count": 63,
   "metadata": {},
   "outputs": [
    {
     "name": "stdout",
     "output_type": "stream",
     "text": [
      "<pad><extra_id_0> the Bichon Frise<extra_id_1> The most popular breed for a\n",
      "<pad><extra_id_0> the Chihuahua<extra_id_1> The most popular breed\n",
      "<pad><extra_id_0> the Labrador Retriever<extra_id_1> The most popular breed for \n",
      "<pad><extra_id_0> the Fila Brasileiro (Brazilian Fila\n",
      "<pad><extra_id_0> the chihuahua<extra_id_1> The most popular\n",
      "<pad><extra_id_0> the<extra_id_1> The most popular breed for a pet dog in Brazil\n",
      "<pad><extra_id_0> the Fila Brasileiro<extra_id_1> The most popular breed for\n",
      "<pad><extra_id_0> the Cocker Spaniel<extra_id_1> The most popular breed for a\n",
      "<pad><extra_id_0> the Pumi<extra_id_1> The most popular breed for a pet\n",
      "<pad><extra_id_0> the Chihuahua, followed by the\n",
      "<pad><extra_id_0> the Chow Chow<extra_id_1> The most popular breed for a\n",
      "<pad><extra_id_0> the Brazilian Fila Brasileiro<extra_id_1> The most popular breed\n",
      "<pad><extra_id_0> the Cavalier King Charles Spaniel<extra_id_1> The most popular breed\n",
      "<pad><extra_id_0> the Bichon frise<extra_id_1> The most popular breed for \n",
      "<pad><extra_id_0> Chihuahua<extra_id_1> The most popular breed for\n",
      "<pad><extra_id_0> Labrador Retriever<extra_id_1> The most popular breed for a\n",
      "<pad><extra_id_0> the Chihuahua<extra_id_1> Chihua\n",
      "<pad><extra_id_0> the Chihuahua<extra_id_1> The most popular dog\n",
      "<pad><extra_id_0> the Bichon Frise (Bichon Frise)<extra_id_1>\n",
      "<pad><extra_id_0> the Cane Corso<extra_id_1> The most popular breed for \n",
      "<pad><extra_id_0> the Bichon<extra_id_1> The most popular breed for a pet dog\n",
      "<pad><extra_id_0> the bulldog<extra_id_1> The most popular breed for a pet dog\n",
      "<pad><extra_id_0> the Chihuahua<extra_id_1> The Chihu\n",
      "<pad><extra_id_0> the chow chow<extra_id_1> The most popular breed for\n",
      "<pad><extra_id_0> the chihuahua, followed by the\n",
      "<pad><extra_id_0> the Labrador Retriever<extra_id_1> The Labrador Retriever\n",
      "<pad><extra_id_0> the Cavalier King Charles spaniel<extra_id_1> The most\n",
      "<pad><extra_id_0> the Fila Brasileiro (Brazilian Terrier\n",
      "<pad><extra_id_0> the Bichon Frisé<extra_id_1> The most popular breed for a\n",
      "<pad><extra_id_0> Fila Brasileiro<extra_id_1> The most popular breed for \n",
      "<pad><extra_id_0> the Brazilian Fila Brasileiro, followed by the\n",
      "<pad><extra_id_0> the labrador retriever<extra_id_1> The most popular breed for \n",
      "<pad><extra_id_0> the chihuahua, followed by\n",
      "<pad><extra_id_0> the Miniature Schnauzer<extra_id_1> The most popular breed\n",
      "<pad><extra_id_0> the Dogo Argentino<extra_id_1> The most popular breed for \n",
      "<pad><extra_id_0> the bichon frise<extra_id_1> The most popular breed for \n",
      "<pad><extra_id_0> the Labrador Retriever, followed by the German Shepherd\n",
      "<pad><extra_id_0> the Cavalier King Charles<extra_id_1> The most popular breed for \n",
      "<pad><extra_id_0> chihuahua<extra_id_1> The most popular breed\n",
      "<pad><extra_id_0> the Chihuahua<extra_id_1> Other popular breeds\n",
      "<pad><extra_id_0> the Labrador retriever<extra_id_1> The most popular breed for \n",
      "<pad><extra_id_0> the Chihuahua, followed by the Bi\n",
      "<pad><extra_id_0> the Labrador Retriever ( Labrador )<extra_id_1>\n",
      "<pad><extra_id_0> the Chihuahua<extra_id_1> Brazil is a\n",
      "<pad><extra_id_0> the Chihuahua<extra_id_1> According to the Brazilian\n",
      "<pad><extra_id_0> the Chihuahua<extra_id_1> The most popular color\n",
      "<pad><extra_id_0> the Chihuahua and the Bichon F\n",
      "<pad><extra_id_0> the Cavalier King Charles Spaniel<extra_id_1> The most popular dog\n",
      "<pad><extra_id_0> the Chihuahua followed by the Bichon\n",
      "<pad><extra_id_0> the Chihuahua, followed by the P\n",
      "<pad><extra_id_0> the chihuahua<extra_id_1> According to the\n",
      "<pad><extra_id_0> the chihuahua ( chih\n",
      "<pad><extra_id_0> the Chihuahua<extra_id_1> According to a\n",
      "<pad><extra_id_0> the chihuahua<extra_id_1> The chi\n",
      "<pad><extra_id_0> the Chihuahua<extra_id_1> It is estimated that\n",
      "<pad><extra_id_0> the Brazilian Fila Brasileiro<extra_id_1> The most popular dog\n",
      "<pad><extra_id_0> the Pumi<extra_id_1> The most popular breed for a working\n",
      "<pad><extra_id_0> the Chihuahua<extra_id_1> Brazil has a\n",
      "<pad><extra_id_0> the Cane Corso Italiano<extra_id_1> The most popular breed\n",
      "<pad><extra_id_0> the chihuahua<extra_id_1> The most common\n",
      "<pad><extra_id_0> the Chihuahua<extra_id_1> Dogs in Brazil\n",
      "<pad><extra_id_0> the Chihuahua<extra_id_1> The most popular pet\n",
      "<pad><extra_id_0> the Chihuahua<extra_id_1> The most popular size\n",
      "<pad><extra_id_0> the Perro de Presa Canario<extra_id_1> The most popular\n",
      "<pad><extra_id_0> the chihuahua<extra_id_1> In Brazil,\n",
      "<pad><extra_id_0> the Chihuahua<extra_id_1> Brazil is home to\n",
      "<pad><extra_id_0> the Chihuahua<extra_id_1> The number of dogs\n",
      "<pad><extra_id_0> the Labrador Retriever ( Labrador)<extra_id_1> The\n",
      "<pad><extra_id_0> the Labrador Retriever<extra_id_1> The most popular color for \n",
      "<pad><extra_id_0> the Chihuahua<extra_id_1> The most popular type\n",
      "<pad><extra_id_0> the Chihuahua, followed by the \n",
      "<pad><extra_id_0> the chihuahua<extra_id_1> Dogs are\n",
      "<pad><extra_id_0> the Cavalier King Charles spaniel<extra_id_1> There are\n",
      "<pad><extra_id_0> the Labrador Retriever<extra_id_1> The most popular breed of dog\n",
      "<pad><extra_id_0> the Chihuahua. The most popular breed\n",
      "<pad><extra_id_0> the Labrador Retriever, followed by the German Shepherd Dog\n",
      "<pad><extra_id_0> the Labrador Retriever<extra_id_1> The most popular breeds for\n",
      "<pad><extra_id_0> the Chihuahua followed by the Poodle\n",
      "<pad><extra_id_0> the chihuahua<extra_id_1> Brazil is the\n",
      "<pad><extra_id_0> the Chihuahua, followed by the Brazilian\n",
      "<pad><extra_id_0> the Chihuahua<extra_id_1> There are a\n",
      "<pad><extra_id_0> the Chihuahua<extra_id_1> The most popular name\n",
      "<pad><extra_id_0> the chihuahua<extra_id_1> Brazil is \n",
      "<pad><extra_id_0> the Chihuahua<extra_id_1> The most common breed\n",
      "<pad><extra_id_0> the Labrador Retriever, followed by the German Shepherd and\n",
      "<pad><extra_id_0> the Chihuahua, followed by the Lab\n",
      "<pad><extra_id_0> the Brazilian Fila Brasileiro, followed by the Brazilian\n",
      "<pad><extra_id_0> the Miniature Schnauzer<extra_id_1> The most popular dog\n",
      "<pad><extra_id_0> the Labrador Retriever, followed by the German Shepherd<extra_id_1>\n",
      "<pad><extra_id_0> the Cavalier King Charles spaniel<extra_id_1> Dogs\n",
      "<pad><extra_id_0> the Cavalier King Charles spaniel<extra_id_1>.\n",
      "<pad><extra_id_0> the Fila Brasileiro<extra_id_1> The most popular breed in\n",
      "<pad><extra_id_0> the Chihuahua<extra_id_1> The most popular place\n",
      "<pad><extra_id_0> the Chihuahua, followed by the Po\n",
      "<pad><extra_id_0> the Cavalier King Charles Spaniel<extra_id_1> The most popular color\n",
      "<pad><extra_id_0> the<extra_id_1> The most popular breed for a pet dog in the\n",
      "<pad><extra_id_0> the Chihuahua, followed by the Portuguese\n",
      "<pad><extra_id_0> the Brazilian Fila Brasileiro, followed by the Portuguese\n",
      "<pad><extra_id_0> the Chihuahua<extra_id_1> In Brazil, the\n",
      "<pad><extra_id_0> the Chihuahua<extra_id_1> Brazil is the largest\n"
     ]
    }
   ],
   "source": [
    "question = '[NLU] The most popular breed for a pet dog in Brazil is <extra_id_0>, while the most popular color is white.'\n",
    "inputs = tokenizer(question, return_tensors=\"pt\").input_ids.to(\"cuda\")\n",
    "num_beams = 100\n",
    "outputs = model.generate(inputs, max_length=15, num_beams=num_beams, num_return_sequences=num_beams)\n",
    "for i in range(num_beams):\n",
    "    print(tokenizer.decode(outputs[i]))"
   ]
  },
  {
   "cell_type": "code",
   "execution_count": 74,
   "metadata": {},
   "outputs": [
    {
     "name": "stdout",
     "output_type": "stream",
     "text": [
      "0.0680508540250102\n"
     ]
    }
   ],
   "source": [
    "target_string = '<extra_id_0> the Labrador Retriever<extra_id_1>'\n",
    "labels_target = tokenizer(target_string, return_tensors=\"pt\").input_ids.to(\"cuda\")\n",
    "labels_target = labels_target[:, :-1].contiguous()\n",
    "outputs = model(inputs, labels=labels_target)\n",
    "outputs.loss\n",
    "log_p = -loss_fn_sum(outputs.logits[0][1:], labels_target[0][1:]) # [1:] to remove the first token <extra_id_0>\n",
    "import math\n",
    "print(math.exp(log_p))"
   ]
  },
  {
   "cell_type": "code",
   "execution_count": 72,
   "metadata": {},
   "outputs": [
    {
     "name": "stdout",
     "output_type": "stream",
     "text": [
      "<pad><extra_id_0> the Chihuahua\n",
      "<pad><extra_id_0> the Labrador Retriever<extra_id_1> white\n",
      "<pad><extra_id_0> the Bichon Frise<extra_id_1> white<extra_id_2>\n",
      "<pad><extra_id_0> the Labrador Retriever<extra_id_1> the\n",
      "<pad><extra_id_0> the Labrador Retriever<extra_id_1> brown\n",
      "<pad><extra_id_0> the Cavalier King Charles Spaniel\n",
      "<pad><extra_id_0> the Labrador Retriever<extra_id_1> black\n",
      "<pad><extra_id_0> the chihuahu\n",
      "<pad><extra_id_0> Chihuahua<extra_id_1>\n",
      "<pad><extra_id_0> the Brazilian Fila Brasileiro\n",
      "<pad><extra_id_0> the Labrador Retriever<extra_id_1> \n",
      "<pad><extra_id_0> the Fila Brasileiro<extra_id_1>\n",
      "<pad><extra_id_0> the Cocker Spaniel<extra_id_1> white<extra_id_2>\n",
      "<pad><extra_id_0> the Miniature Schnauzer\n",
      "<pad><extra_id_0> the Labrador Retriever<extra_id_1> White\n",
      "<pad><extra_id_0> the Rottweiler<extra_id_1> white<extra_id_2>\n",
      "<pad><extra_id_0> the Bichon frise<extra_id_1> white\n",
      "<pad><extra_id_0> the American Staffordshire Terrier<extra_id_1> white\n",
      "<pad><extra_id_0> the Labrador Retriever,\n",
      "<pad><extra_id_0> the Cane Corso<extra_id_1> white\n",
      "<pad><extra_id_0> Labrador Retriever<extra_id_1> white<extra_id_2>\n",
      "<pad><extra_id_0> the Bichon Frise<extra_id_1> white.\n",
      "<pad><extra_id_0> Cavalier King Charles Spaniel<extra_id_1>\n",
      "<pad><extra_id_0> the Bichon Frisé<extra_id_1> white<extra_id_2>\n",
      "<pad><extra_id_0> the Labrador Retriever<extra_id_1> yellow\n",
      "<pad><extra_id_0> the Labrador retriever<extra_id_1> white\n",
      "<pad><extra_id_0> the Bichon Frise<extra_id_1> White<extra_id_2>\n",
      "<pad><extra_id_0> the Cavalier King Charles spani\n",
      "<pad><extra_id_0> the Cavalier King Charles<extra_id_1> white\n",
      "<pad><extra_id_0> the Labrador Retriever.\n",
      "<pad><extra_id_0> chihuahua\n",
      "<pad><extra_id_0> the chow chow<extra_id_1>\n",
      "<pad><extra_id_0> the labrador retriever<extra_id_1> white\n",
      "<pad><extra_id_0> the Bichon Frise<extra_id_1> brown<extra_id_2>\n",
      "<pad><extra_id_0> Labrador Retriever<extra_id_1> brown<extra_id_2>\n",
      "<pad><extra_id_0> the Doberman Pinscher<extra_id_1> white\n",
      "<pad><extra_id_0> the bichon frise<extra_id_1> white\n",
      "<pad><extra_id_0> the Chow Chow<extra_id_1> white<extra_id_2>\n",
      "<pad><extra_id_0> the Labrador Retriever followed by\n",
      "<pad><extra_id_0> the Cane Corso Italiano\n",
      "<pad><extra_id_0> the Bichon Frise<extra_id_1> black<extra_id_2>\n",
      "<pad><extra_id_0> the Labrador Retriever<extra_id_1> Brown\n",
      "<pad><extra_id_0> the Bichon Frise<extra_id_1> white \n",
      "<pad><extra_id_0> the American Staffordshire Terrier<extra_id_1> \n",
      "<pad><extra_id_0> the Cocker Spaniel<extra_id_1> brown<extra_id_2>\n",
      "<pad><extra_id_0> Chihuahua (\n",
      "<pad><extra_id_0> the Labrador Retriever<extra_id_1> Black\n",
      "<pad><extra_id_0> the Labrador retriever<extra_id_1> black\n",
      "<pad><extra_id_0> Labrador Retriever<extra_id_1> black<extra_id_2>\n",
      "<pad><extra_id_0> the Pomeranian<extra_id_1> white<extra_id_2>\n",
      "<pad><extra_id_0> Labrador Retriever<extra_id_1> White<extra_id_2>\n",
      "<pad><extra_id_0> the Bichon Frise<extra_id_1> a\n",
      "<pad><extra_id_0> the Perro de Presa Can\n",
      "<pad><extra_id_0> the Rottweiler<extra_id_1> brown<extra_id_2>\n",
      "<pad><extra_id_0> the Labrador Retriever, followed\n",
      "<pad><extra_id_0> the Cocker Spaniel<extra_id_1> White<extra_id_2>\n",
      "<pad><extra_id_0> the shih tzu<extra_id_1>\n",
      "<pad><extra_id_0> the Cane Corso<extra_id_1> \n",
      "<pad><extra_id_0> the Labrador retriever<extra_id_1> brown\n",
      "<pad><extra_id_0> the Labrador Retriever<extra_id_1> that\n",
      "<pad><extra_id_0> the Cane Corso<extra_id_1> black\n",
      "<pad><extra_id_0> the Rottweiler<extra_id_1> black<extra_id_2>\n",
      "<pad><extra_id_0> the American Pit Bull Terrier<extra_id_1> white\n",
      "<pad><extra_id_0> Chihuahua \n",
      "<pad><extra_id_0> the American Staffordshire Terrier<extra_id_1> brown\n",
      "<pad><extra_id_0> the Pekingese<extra_id_1> white\n",
      "<pad><extra_id_0> the Labrador Retriever<extra_id_1> tri\n",
      "<pad><extra_id_0> the Bichon Frise<extra_id_1> f\n",
      "<pad><extra_id_0> the Labrador Retriever<extra_id_1> is\n",
      "<pad><extra_id_0> the Bichon Frise<extra_id_1> white followed\n",
      "<pad><extra_id_0> the labrador retriever<extra_id_1> black\n",
      "<pad><extra_id_0> the Cocker Spaniel<extra_id_1> white.\n",
      "<pad><extra_id_0> the American Staffordshire Terrier<extra_id_1> black\n",
      "<pad><extra_id_0> the Labrador retriever<extra_id_1> the\n",
      "<pad><extra_id_0> the Bichon Frise<extra_id_1> white with\n",
      "<pad><extra_id_0> the Cane Corso<extra_id_1> White\n",
      "<pad><extra_id_0> the Golden Retriever<extra_id_1> white<extra_id_2> The\n",
      "<pad><extra_id_0> the pit bull terrier<extra_id_1> white\n",
      "<pad><extra_id_0> the Fila Brasileiro (\n",
      "<pad><extra_id_0> the Cocker Spaniel<extra_id_1> black<extra_id_2>\n",
      "<pad><extra_id_0> the Labrador Retriever<extra_id_1> Yellow\n",
      "<pad><extra_id_0> the Fila Brasileiro \n",
      "<pad><extra_id_0> Cavalier King Charles<extra_id_1> white<extra_id_2>\n",
      "<pad><extra_id_0> the Bichon Frise<extra_id_1> white,\n",
      "<pad><extra_id_0> Rottweiler<extra_id_1> white<extra_id_2> The\n",
      "<pad><extra_id_0> the Labrador Retriever<extra_id_1> Bi\n",
      "<pad><extra_id_0> the Bichon Frise<extra_id_1> the white\n",
      "<pad><extra_id_0> Labrador Retriever<extra_id_1> white.\n",
      "<pad><extra_id_0> the Labrador Retriever<extra_id_1> Ble\n",
      "<pad><extra_id_0> the Pit Bull Terrier<extra_id_1> white<extra_id_2>\n",
      "<pad><extra_id_0> the Rottweiler<extra_id_1> white.\n",
      "<pad><extra_id_0> the Bichon frisé<extra_id_1> white<extra_id_2>\n",
      "<pad><extra_id_0> the labrador retriever<extra_id_1> brown\n",
      "<pad><extra_id_0> the Cane Corso<extra_id_1> brown\n",
      "<pad><extra_id_0> the Labrador Retriever. The\n",
      "<pad><extra_id_0> the Staffordshire Terrier<extra_id_1> white<extra_id_2>\n",
      "<pad><extra_id_0> the Bichon Frise<extra_id_1> white and\n",
      "<pad><extra_id_0> the Chow Chow<extra_id_1> White<extra_id_2>\n",
      "<pad><extra_id_0> the Cocker Spaniel, followed\n",
      "<pad><extra_id_0> the Cane Corso,\n"
     ]
    }
   ],
   "source": [
    "question = '[NLU] The most popular breed for a pet dog in Brazil is <extra_id_0>, while the most popular color is <extra_id_1>.'\n",
    "inputs = tokenizer(question, return_tensors=\"pt\").input_ids.to(\"cuda\")\n",
    "num_beams = 100\n",
    "outputs = model.generate(inputs, max_length=10, num_beams=num_beams, num_return_sequences=num_beams)\n",
    "for i in range(num_beams):\n",
    "    print(tokenizer.decode(outputs[i]))"
   ]
  },
  {
   "cell_type": "code",
   "execution_count": 73,
   "metadata": {},
   "outputs": [
    {
     "name": "stdout",
     "output_type": "stream",
     "text": [
      "0.012588142242433998\n"
     ]
    }
   ],
   "source": [
    "target_string = '<extra_id_0> the Labrador Retriever<extra_id_1> white<extra_id_2>'\n",
    "labels_target = tokenizer(target_string, return_tensors=\"pt\").input_ids.to(\"cuda\")\n",
    "labels_target = labels_target[:, :-1].contiguous()\n",
    "outputs = model(inputs, labels=labels_target)\n",
    "outputs.loss\n",
    "log_p = -loss_fn_sum(outputs.logits[0][1:], labels_target[0][1:]) # [1:] to remove the first token <extra_id_0>\n",
    "import math\n",
    "print(math.exp(log_p))"
   ]
  },
  {
   "cell_type": "code",
   "execution_count": 1,
   "metadata": {},
   "outputs": [
    {
     "ename": "NameError",
     "evalue": "name 'tokenizer' is not defined",
     "output_type": "error",
     "traceback": [
      "\u001b[0;31m---------------------------------------------------------------------------\u001b[0m",
      "\u001b[0;31mNameError\u001b[0m                                 Traceback (most recent call last)",
      "\u001b[0;32m/tmp/ipykernel_1379556/956509289.py\u001b[0m in \u001b[0;36m<module>\u001b[0;34m\u001b[0m\n\u001b[1;32m      1\u001b[0m \u001b[0mquestion\u001b[0m \u001b[0;34m=\u001b[0m \u001b[0;34m'[NLU] Tom bought 14 apples. He then ate <extra_id_0>. He now has 11 apples.'\u001b[0m\u001b[0;34m\u001b[0m\u001b[0;34m\u001b[0m\u001b[0m\n\u001b[0;32m----> 2\u001b[0;31m \u001b[0minputs\u001b[0m \u001b[0;34m=\u001b[0m \u001b[0mtokenizer\u001b[0m\u001b[0;34m(\u001b[0m\u001b[0mquestion\u001b[0m\u001b[0;34m,\u001b[0m \u001b[0mreturn_tensors\u001b[0m\u001b[0;34m=\u001b[0m\u001b[0;34m\"pt\"\u001b[0m\u001b[0;34m)\u001b[0m\u001b[0;34m.\u001b[0m\u001b[0minput_ids\u001b[0m\u001b[0;34m.\u001b[0m\u001b[0mto\u001b[0m\u001b[0;34m(\u001b[0m\u001b[0;34m\"cuda\"\u001b[0m\u001b[0;34m)\u001b[0m\u001b[0;34m\u001b[0m\u001b[0;34m\u001b[0m\u001b[0m\n\u001b[0m\u001b[1;32m      3\u001b[0m \u001b[0mnum_beams\u001b[0m \u001b[0;34m=\u001b[0m \u001b[0;36m1\u001b[0m\u001b[0;34m\u001b[0m\u001b[0;34m\u001b[0m\u001b[0m\n\u001b[1;32m      4\u001b[0m \u001b[0moutputs\u001b[0m \u001b[0;34m=\u001b[0m \u001b[0mmodel\u001b[0m\u001b[0;34m.\u001b[0m\u001b[0mgenerate\u001b[0m\u001b[0;34m(\u001b[0m\u001b[0minputs\u001b[0m\u001b[0;34m,\u001b[0m \u001b[0mmax_length\u001b[0m\u001b[0;34m=\u001b[0m\u001b[0;36m3\u001b[0m\u001b[0;34m,\u001b[0m \u001b[0mnum_beams\u001b[0m\u001b[0;34m=\u001b[0m\u001b[0mnum_beams\u001b[0m\u001b[0;34m,\u001b[0m \u001b[0mnum_return_sequences\u001b[0m\u001b[0;34m=\u001b[0m\u001b[0mnum_beams\u001b[0m\u001b[0;34m)\u001b[0m\u001b[0;34m\u001b[0m\u001b[0;34m\u001b[0m\u001b[0m\n\u001b[1;32m      5\u001b[0m \u001b[0;32mfor\u001b[0m \u001b[0mi\u001b[0m \u001b[0;32min\u001b[0m \u001b[0mrange\u001b[0m\u001b[0;34m(\u001b[0m\u001b[0mnum_beams\u001b[0m\u001b[0;34m)\u001b[0m\u001b[0;34m:\u001b[0m\u001b[0;34m\u001b[0m\u001b[0;34m\u001b[0m\u001b[0m\n",
      "\u001b[0;31mNameError\u001b[0m: name 'tokenizer' is not defined"
     ]
    }
   ],
   "source": [
    "question = '[NLU] Tom bought 14 apples. He then ate <extra_id_0>. He now has 11 apples.'\n",
    "inputs = tokenizer(question, return_tensors=\"pt\").input_ids.to(\"cuda\")\n",
    "num_beams = 1\n",
    "outputs = model.generate(inputs, max_length=3, num_beams=num_beams, num_return_sequences=num_beams)\n",
    "for i in range(num_beams):\n",
    "    print(tokenizer.decode(outputs[i]))"
   ]
  },
  {
   "cell_type": "code",
   "execution_count": null,
   "metadata": {},
   "outputs": [],
   "source": [
    "target_string = '<extra_id_0> 7<extra_id_1>'\n",
    "labels_target = tokenizer(target_string, return_tensors=\"pt\").input_ids.to(\"cuda\")\n",
    "labels_target = labels_target[:, :-1].contiguous()\n",
    "outputs = model(inputs, labels=labels_target)\n",
    "outputs.loss\n",
    "log_p = -loss_fn_sum(outputs.logits[0][1:], labels_target[0][1:]) # [1:] to remove the first token <extra_id_0>\n",
    "import math\n",
    "print(math.exp(log_p))"
   ]
  },
  {
   "cell_type": "code",
   "execution_count": 22,
   "metadata": {},
   "outputs": [
    {
     "name": "stdout",
     "output_type": "stream",
     "text": [
      "0.18354186323251906\n"
     ]
    }
   ],
   "source": [
    "target_string = '<extra_id_0> 7<extra_id_1>'\n",
    "labels_target = tokenizer(target_string, return_tensors=\"pt\").input_ids.to(\"cuda\")\n",
    "labels_target = labels_target[:, :-1].contiguous()\n",
    "outputs = model(inputs, labels=labels_target)\n",
    "outputs.loss\n",
    "log_p = -loss_fn_sum(outputs.logits[0][1:], labels_target[0][1:]) # [1:] to remove the first token <extra_id_0>\n",
    "import math\n",
    "print(math.exp(log_p))"
   ]
  },
  {
   "cell_type": "code",
   "execution_count": 14,
   "metadata": {},
   "outputs": [
    {
     "name": "stdout",
     "output_type": "stream",
     "text": [
      "<pad><extra_id_0> 6<extra_id_1> 8<extra_id_2> How many apples did Tom buy? Tom bought 14 apples. He then\n",
      "<pad><extra_id_0> 6<extra_id_1> 10<extra_id_2> How many apples did Tom buy? Tom bought 14 apples. He then\n",
      "<pad><extra_id_0> 5<extra_id_1> 9<extra_id_2> How many apples did Tom buy? Tom bought 14 apples. He then\n",
      "<pad><extra_id_0> 3<extra_id_1> 11<extra_id_2> How many apples did Tom buy? Tom bought 14 apples. He then\n",
      "<pad><extra_id_0> 4<extra_id_1> 10<extra_id_2> How many apples did Tom buy? Tom bought 14 apples. He then\n",
      "<pad><extra_id_0> 6<extra_id_1> 8<extra_id_2> How many apples did he buy? Tom bought 14 apples. He\n",
      "<pad><extra_id_0> 3<extra_id_1> 9<extra_id_2> How many apples did Tom buy? Tom bought 14 apples. He then\n",
      "<pad><extra_id_0> 4<extra_id_1> 12<extra_id_2> How many apples did Tom buy? Tom bought 14 apples. He then\n",
      "<pad><extra_id_0> 1<extra_id_1> 13<extra_id_2> How many apples did Tom buy? Tom bought 14 apples. He then\n",
      "<pad><extra_id_0> 2<extra_id_1> 12<extra_id_2> How many apples did Tom buy? Tom bought 14 apples. He then\n",
      "<pad><extra_id_0> 8<extra_id_1> 12<extra_id_2> How many apples did Tom buy? Tom bought 14 apples. He then\n",
      "<pad><extra_id_0> 4<extra_id_1> 8<extra_id_2> How many apples did Tom buy? Tom bought 14 apples. He then\n",
      "<pad><extra_id_0> 6<extra_id_1> 12<extra_id_2> How many apples did Tom buy? Tom bought 14 apples. He then\n",
      "<pad><extra_id_0> 6<extra_id_1> 10<extra_id_2> How many apples did he buy? Tom bought 14 apples. He\n",
      "<pad><extra_id_0> 8<extra_id_1> 10<extra_id_2> How many apples did Tom buy? Tom bought 14 apples. He then\n",
      "<pad><extra_id_0> 8<extra_id_1> 6<extra_id_2> How many apples did Tom buy? Tom bought 14 apples. He then\n",
      "<pad><extra_id_0> 5<extra_id_1> 9<extra_id_2> How many apples did he buy? Tom bought 14 apples. He\n",
      "<pad><extra_id_0> 2<extra_id_1> 10<extra_id_2> How many apples did Tom buy? Tom bought 14 apples. He then\n",
      "<pad><extra_id_0> 6<extra_id_1> 8. How many apples did Tom buy? Tom bought 14 apples. He\n",
      "<pad><extra_id_0> 3<extra_id_1> 11<extra_id_2> How many apples did he buy? Tom bought 14 apples. He\n",
      "<pad><extra_id_0> 4<extra_id_1> 10<extra_id_2> How many apples did he buy? Tom bought 14 apples. He\n",
      "<pad><extra_id_0> 1<extra_id_1> 13<extra_id_2> How many apples did he buy? Tom bought 14 apples. He\n",
      "<pad><extra_id_0> 7<extra_id_1> 9<extra_id_2> How many apples did Tom buy? Tom bought 14 apples. He then\n",
      "<pad><extra_id_0> 3<extra_id_1> 9<extra_id_2> How many apples did he buy? Tom bought 14 apples. He\n",
      "<pad><extra_id_0> 6<extra_id_1> 8. How many apples did he buy? Tom bought 14 apples.\n",
      "<pad><extra_id_0> 8<extra_id_1> 12<extra_id_2> How many apples did he buy? Tom bought 14 apples. He\n",
      "<pad><extra_id_0> 5<extra_id_1> 11<extra_id_2> How many apples did Tom buy? Tom bought 14 apples. He then\n",
      "<pad><extra_id_0> 7<extra_id_1> 5<extra_id_2> How many apples did Tom buy? Tom bought 14 apples. He then\n",
      "<pad><extra_id_0> 6<extra_id_1> 12<extra_id_2> How many apples did he buy? Tom bought 14 apples. He\n",
      "<pad><extra_id_0> 4<extra_id_1> 12<extra_id_2> How many apples did he buy? Tom bought 14 apples. He\n",
      "<pad><extra_id_0> 3<extra_id_1> 10<extra_id_2> How many apples did Tom buy? Tom bought 14 apples. He then\n",
      "<pad><extra_id_0> 2<extra_id_1> 12<extra_id_2> How many apples did he buy? Tom bought 14 apples. He\n",
      "<pad><extra_id_0> 8<extra_id_1> 6<extra_id_2> How many apples did he buy? Tom bought 14 apples. He\n",
      "<pad><extra_id_0> 8<extra_id_1> 10<extra_id_2> How many apples did he buy? Tom bought 14 apples. He\n",
      "<pad><extra_id_0> 10<extra_id_1> 6<extra_id_2> How many apples did Tom buy? Tom bought 14 apples. He then\n",
      "<pad><extra_id_0> 8<extra_id_1> 2<extra_id_2> How many apples did Tom buy? Tom bought 14 apples. He then\n",
      "<pad><extra_id_0> 4<extra_id_1> 8<extra_id_2> How many apples did he buy? Tom bought 14 apples. He\n",
      "<pad><extra_id_0> 8<extra_id_1> 4<extra_id_2> How many apples did Tom buy? Tom bought 14 apples. He then\n",
      "<pad><extra_id_0> 5<extra_id_1> 7<extra_id_2> How many apples did Tom buy? Tom bought 14 apples. He then\n",
      "<pad><extra_id_0> 2<extra_id_1> 10<extra_id_2> How many apples did he buy? Tom bought 14 apples. He\n",
      "<pad><extra_id_0> 7<extra_id_1> 9<extra_id_2> How many apples did he buy? Tom bought 14 apples. He\n",
      "<pad><extra_id_0> 6 apples<extra_id_1> 8<extra_id_2> How many apples did Tom buy? Tom bought 14 apples. He\n",
      "<pad><extra_id_0> 5<extra_id_1> 9. How many apples did Tom buy? Tom bought 14 apples. He\n",
      "<pad><extra_id_0> 12<extra_id_1> 2<extra_id_2> How many apples did he buy? Tom bought 14 apples. He\n",
      "<pad><extra_id_0> 7<extra_id_1> 5<extra_id_2> How many apples did he buy? Tom bought 14 apples. He\n",
      "<pad><extra_id_0> 8<extra_id_1> 2<extra_id_2> How many apples did he buy? Tom bought 14 apples. He\n",
      "<pad><extra_id_0> 5<extra_id_1> 9. How many apples did he buy? Tom bought 14 apples.\n",
      "<pad><extra_id_0> 7<extra_id_1> 9. How many apples did Tom buy? Tom bought 14 apples. He\n",
      "<pad><extra_id_0> 8<extra_id_1> 4<extra_id_2> How many apples did he buy? Tom bought 14 apples. He\n",
      "<pad><extra_id_0> 4<extra_id_1> 8. How many apples did Tom buy? Tom bought 14 apples. He\n",
      "<pad><extra_id_0> 6 apples<extra_id_1> 10<extra_id_2> How many apples did Tom buy? Tom bought 14 apples. He\n",
      "<pad><extra_id_0> 3<extra_id_1> 10<extra_id_2> How many apples did he buy? Tom bought 14 apples. He\n",
      "<pad><extra_id_0> 10<extra_id_1> 6<extra_id_2> How many apples did he buy? Tom bought 14 apples. He\n",
      "<pad><extra_id_0> 10<extra_id_1> 2<extra_id_2> How many apples did he buy? Tom bought 14 apples. He\n",
      "<pad><extra_id_0> 6<extra_id_1> 8<extra_id_2> How many apples did he start with? Tom bought 14 apples.\n",
      "<pad><extra_id_0> 5<extra_id_1> 11<extra_id_2> How many apples did he buy? Tom bought 14 apples. He\n",
      "<pad><extra_id_0> 7<extra_id_1> 9. How many apples did he buy? Tom bought 14 apples.\n",
      "<pad><extra_id_0> 6<extra_id_1> 9<extra_id_2> How many apples did he buy? Tom bought 14 apples. He\n",
      "<pad><extra_id_0> 5<extra_id_1> 7<extra_id_2> How many apples did he buy? Tom bought 14 apples. He\n",
      "<pad><extra_id_0> 9<extra_id_1> 5<extra_id_2> How many apples did he buy? Tom bought 14 apples. He\n",
      "<pad><extra_id_0> 10<extra_id_1> 4<extra_id_2> How many apples did he buy? Tom bought 14 apples. He\n",
      "<pad><extra_id_0> 6 of them<extra_id_1> 8<extra_id_2> How many apples did Tom buy? Tom bought 14 apples.\n",
      "<pad><extra_id_0> 6<extra_id_1> 2<extra_id_2> How many apples did he buy? Tom bought 14 apples. He\n",
      "<pad><extra_id_0> 7<extra_id_1> 3<extra_id_2> How many apples did he buy? Tom bought 14 apples. He\n",
      "<pad><extra_id_0> 6<extra_id_1> 10<extra_id_2> How many apples did he start with? Tom bought 14 apples.\n",
      "<pad><extra_id_0> 6 apples<extra_id_1> 8<extra_id_2> How many apples did he buy? Tom bought 14 apples.\n",
      "<pad><extra_id_0> 4<extra_id_1> 8. How many apples did he buy? Tom bought 14 apples.\n",
      "<pad><extra_id_0> 6<extra_id_1> 8<extra_id_2> How many apples did he have at first? Tom bought 14 apples\n",
      "<pad><extra_id_0> 6<extra_id_1> 10. How many apples did he buy? Tom bought 14 apples.\n",
      "<pad><extra_id_0> 6<extra_id_1> 10<extra_id_2> How many apples did he have at first? Tom bought 14 apples\n",
      "<pad><extra_id_0> 6 of them<extra_id_1> 10<extra_id_2> How many apples did Tom buy? Tom bought 14 apples.\n",
      "<pad><extra_id_0> 6<extra_id_1> 8<extra_id_2> How many apples did he have to begin with? Tom bought 14\n",
      "<pad><extra_id_0> 6 apples<extra_id_1> 10<extra_id_2> How many apples did he buy? Tom bought 14 apples.\n",
      "<pad><extra_id_0> 5<extra_id_1> 9<extra_id_2> How many apples did he have at first? Tom bought 14 apples\n",
      "<pad><extra_id_0> 6<extra_id_1> 10<extra_id_2> How many apples did he have to begin with? Tom bought 14\n",
      "<pad><extra_id_0> 5<extra_id_1> 9<extra_id_2> How many apples did he have to begin with? Tom bought 14\n",
      "<pad><extra_id_0> 6 of them<extra_id_1> 8<extra_id_2> How many apples did he buy? Tom bought 14 apples\n",
      "<pad><extra_id_0> 6<extra_id_1> 8<extra_id_2> How many apples did he buy at first? Tom bought 14 apples\n",
      "<pad><extra_id_0> 4<extra_id_1> 10<extra_id_2> How many apples did he have at first? Tom bought 14 apples\n",
      "<pad><extra_id_0> 5<extra_id_1> 9<extra_id_2> How many apples did he buy at first? Tom bought 14 apples\n",
      "<pad><extra_id_0> 6<extra_id_1> 10<extra_id_2> How many apples did he buy at first? Tom bought 14 apples\n",
      "<pad><extra_id_0> 4<extra_id_1> 10<extra_id_2> How many apples did he have to begin with? Tom bought 14\n",
      "<pad><extra_id_0> 3<extra_id_1> 11<extra_id_2> How many apples did he have at first? Tom bought 14 apples\n",
      "<pad><extra_id_0> 3<extra_id_1> 9<extra_id_2> How many apples did he have at first? Tom bought 14 apples\n",
      "<pad><extra_id_0> 4<extra_id_1> 12<extra_id_2> How many apples did he have at first? Tom bought 14 apples\n",
      "<pad><extra_id_0> 3<extra_id_1> 9<extra_id_2> How many apples did he have to begin with? Tom bought 14\n",
      "<pad><extra_id_0> 4<extra_id_1> 10<extra_id_2> How many apples did he buy at first? Tom bought 14 apples\n",
      "<pad><extra_id_0> 6<extra_id_1> 8. How many apples did he start with? Tom bought 14 apples\n",
      "<pad><extra_id_0> 3<extra_id_1> 11<extra_id_2> How many apples did he have to begin with? Tom bought 14\n",
      "<pad><extra_id_0> 3<extra_id_1> 11<extra_id_2> How many apples did he buy at first? Tom bought 14 apples\n",
      "<pad><extra_id_0> 4<extra_id_1> 12<extra_id_2> How many apples did he have to begin with? Tom bought 14\n",
      "<pad><extra_id_0> 3<extra_id_1> 9<extra_id_2> How many apples did he buy at first? Tom bought 14 apples\n",
      "<pad><extra_id_0> 6<extra_id_1> 8. How many apples did he have to begin with? Tom bought\n",
      "<pad><extra_id_0> 6<extra_id_1> 8. How many apples did he have at first? Tom bought 14\n",
      "<pad><extra_id_0> 6<extra_id_1> 8. How many apples did he buy at first? Tom bought 14\n",
      "<pad><extra_id_0> 6<extra_id_1> 8<extra_id_2> How many apples did he start with? Tom started with 14 apples\n",
      "<pad><extra_id_0> 6<extra_id_1> 8<extra_id_2> How many apples did he have to start with? Tom bought 14\n",
      "<pad><extra_id_0> 6<extra_id_1> 10<extra_id_2> How many apples did he have to start with? Tom bought 14\n",
      "<pad><extra_id_0> 6<extra_id_1> 8. How many apples did he buy? Tom bought 14<extra_id_2> 6\n",
      "<pad><extra_id_0> 6<extra_id_1> 8<extra_id_2> How many apples did Tom buy? Tom bought 14 apples. He now\n"
     ]
    }
   ],
   "source": [
    "question = '[NLU] Tom bought 14 apples. He then ate <extra_id_0>. He now has <extra_id_1> apples.'\n",
    "inputs = tokenizer(question, return_tensors=\"pt\").input_ids.to(\"cuda\")\n",
    "num_beams = 100\n",
    "outputs = model.generate(inputs, max_length=20, num_beams=num_beams, num_return_sequences=num_beams)\n",
    "for i in range(num_beams):\n",
    "    print(tokenizer.decode(outputs[i]))"
   ]
  },
  {
   "cell_type": "code",
   "execution_count": 16,
   "metadata": {},
   "outputs": [
    {
     "name": "stdout",
     "output_type": "stream",
     "text": [
      "0.0017576984932042732\n"
     ]
    }
   ],
   "source": [
    "target_string = '<extra_id_0> 7<extra_id_1> 11<extra_id_2>'\n",
    "labels_target = tokenizer(target_string, return_tensors=\"pt\").input_ids.to(\"cuda\")\n",
    "labels_target = labels_target[:, :-1].contiguous()\n",
    "outputs = model(inputs, labels=labels_target)\n",
    "outputs.loss\n",
    "log_p = -loss_fn_sum(outputs.logits[0][1:], labels_target[0][1:]) # [1:] to remove the first token <extra_id_0>\n",
    "import math\n",
    "print(math.exp(log_p))"
   ]
  },
  {
   "cell_type": "code",
   "execution_count": 48,
   "metadata": {},
   "outputs": [
    {
     "name": "stdout",
     "output_type": "stream",
     "text": [
      "<pad><extra_id_0> 7\n",
      "<pad><extra_id_0> 5\n",
      "<pad><extra_id_0> 3\n",
      "<pad><extra_id_0> 9\n",
      "<pad><extra_id_0> 8\n",
      "<pad><extra_id_0> 6\n",
      "<pad><extra_id_0> seven\n",
      "<pad><extra_id_0> 4\n",
      "<pad><extra_id_0> 2\n",
      "<pad><extra_id_0> five\n"
     ]
    }
   ],
   "source": [
    "question = '[NLU] Tom bought 14 apples. He then ate <extra_id_0>. He now has 11 apples.'\n",
    "inputs = tokenizer(question, return_tensors=\"pt\").input_ids.to(\"cuda\")\n",
    "num_beams = 10\n",
    "outputs = model.generate(inputs, max_length=3, num_beams=num_beams, num_return_sequences=num_beams)\n",
    "for i in range(num_beams):\n",
    "    print(tokenizer.decode(outputs[i]))"
   ]
  },
  {
   "cell_type": "code",
   "execution_count": 6,
   "metadata": {},
   "outputs": [
    {
     "name": "stdout",
     "output_type": "stream",
     "text": [
      "<pad><extra_id_0> 5\n",
      "<pad><extra_id_0> 7\n"
     ]
    }
   ],
   "source": [
    "question = '[NLU] Tom bought 17 apples. He then ate 10 apples. He now has <extra_id_0> apples.'\n",
    "inputs = tokenizer(question, return_tensors=\"pt\").input_ids.to(\"cuda\")\n",
    "outputs = model.generate(inputs, max_length=3, num_beams=2, num_return_sequences=2, output_scores=True)\n",
    "for i in range(2):\n",
    "    print(tokenizer.decode(outputs[i]))"
   ]
  },
  {
   "cell_type": "code",
   "execution_count": 71,
   "metadata": {},
   "outputs": [
    {
     "data": {
      "text/plain": [
       "tensor([-0.5469, -0.7031], device='cuda:0')"
      ]
     },
     "execution_count": 71,
     "metadata": {},
     "output_type": "execute_result"
    }
   ],
   "source": [
    "outputs['sequences_scores']"
   ]
  },
  {
   "cell_type": "code",
   "execution_count": 1,
   "metadata": {},
   "outputs": [
    {
     "data": {
      "text/plain": [
       "'/work/09127/tomyoung/ls6/inconsistencies_project'"
      ]
     },
     "execution_count": 1,
     "metadata": {},
     "output_type": "execute_result"
    }
   ],
   "source": [
    "pwd"
   ]
  },
  {
   "cell_type": "code",
   "execution_count": 1,
   "metadata": {},
   "outputs": [],
   "source": [
    "import os\n",
    "from datetime import datetime\n",
    "# get a list of all files in the current dir\n",
    "file_list = os.listdir()\n",
    "# remove those that does not end with .ipynb or .py\n",
    "file_list = [file for file in file_list if file.endswith('.ipynb') or file.endswith('.py')]\n",
    "\n",
    "# get the last change date for each file\n",
    "file_change_dates = [datetime.fromtimestamp(os.path.getmtime(file)) for file in file_list]\n",
    "# for i in range(len(file_list)):\n",
    "#     print(file_list[i], file_change_dates[i])\n",
    "# put them in a nice table\n",
    "import pandas as pd\n",
    "df = pd.DataFrame({'file': file_list, 'date': file_change_dates})\n",
    "df.sort_values(by=['date'], inplace=True, ascending=False)\n",
    "df\n",
    "\n",
    "# save table to a csv file\n",
    "df.to_csv('code_note.csv')"
   ]
  }
 ],
 "metadata": {
  "kernelspec": {
   "display_name": "Python 3",
   "language": "python",
   "name": "python3"
  },
  "language_info": {
   "codemirror_mode": {
    "name": "ipython",
    "version": 3
   },
   "file_extension": ".py",
   "mimetype": "text/x-python",
   "name": "python",
   "nbconvert_exporter": "python",
   "pygments_lexer": "ipython3",
   "version": "3.10.13"
  },
  "orig_nbformat": 4
 },
 "nbformat": 4,
 "nbformat_minor": 2
}

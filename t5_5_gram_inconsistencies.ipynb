{
 "cells": [
  {
   "cell_type": "code",
   "execution_count": 17,
   "metadata": {},
   "outputs": [
    {
     "name": "stderr",
     "output_type": "stream",
     "text": [
      "/home1/09127/tomyoung/.local/lib/python3.9/site-packages/transformers/models/t5/tokenization_t5.py:164: FutureWarning: This tokenizer was incorrectly instantiated with a model max length of 512 which will be corrected in Transformers v5.\n",
      "For now, this behavior is kept to avoid breaking backwards compatibility when padding/encoding with `truncation is True`.\n",
      "- Be aware that you SHOULD NOT rely on t5-3b automatically truncating your input to 512 when padding/encoding.\n",
      "- If you want to encode/pad to sequences longer than 512 you can either instantiate this tokenizer with `model_max_length` or pass `max_length` when encoding/padding.\n",
      "- To avoid this warning, please instantiate this tokenizer with `model_max_length` set to your preferred value.\n",
      "  warnings.warn(\n"
     ]
    }
   ],
   "source": [
    "from transformers import T5Tokenizer, T5ForConditionalGeneration, AutoTokenizer\n",
    "import torch\n",
    "from tqdm import tqdm\n",
    "model_name = 't5-3b'\n",
    "cache_dir = '/work/09127/tomyoung/ls6/inconsistencies_project/t5-3b-cache'\n",
    "tokenizer = T5Tokenizer.from_pretrained(model_name)\n",
    "model = T5ForConditionalGeneration.from_pretrained(model_name, cache_dir=cache_dir).cuda()\n",
    "    "
   ]
  },
  {
   "cell_type": "code",
   "execution_count": 12,
   "metadata": {},
   "outputs": [],
   "source": [
    "import torch\n",
    "import torch.nn as nn\n",
    "import torch.nn.functional as F\n",
    "import math\n",
    "loss_fn = nn.CrossEntropyLoss(ignore_index=tokenizer.pad_token_id) #reduction='sum'\n",
    "# loss = loss_fn(logits.view(-1, logits.shape[-1]), labels.view(-1))\n",
    "loss_fn_sum = nn.CrossEntropyLoss(ignore_index=tokenizer.pad_token_id, reduction='sum') #reduction='sum'"
   ]
  },
  {
   "cell_type": "code",
   "execution_count": 13,
   "metadata": {},
   "outputs": [],
   "source": [
    "import pickle\n",
    "with open('/work/09127/tomyoung/ls6/data/pkls/dict_url_to_options_5_grams.pkl','rb') as f:\n",
    "    dict_url_to_options_5_grams = pickle.load(f)\n",
    "# get a list of punctuations\n",
    "import string\n",
    "punctuations = string.punctuation"
   ]
  },
  {
   "cell_type": "code",
   "execution_count": 21,
   "metadata": {},
   "outputs": [
    {
     "name": "stderr",
     "output_type": "stream",
     "text": [
      "100%|██████████| 2500/2500 [06:39<00:00,  6.26it/s]\n"
     ]
    }
   ],
   "source": [
    "dict_url_to_options_5_grams_keys = list(dict_url_to_options_5_grams.keys())\n",
    "url_to_t5_5_gram_probs_dict = {}\n",
    "# make sure it ends with a punctuation\n",
    "for i in tqdm(range(2500)):\n",
    "    key = dict_url_to_options_5_grams_keys[i]\n",
    "    # print('key:', key)\n",
    "    # print(dict_url_to_options_5_grams[key])\n",
    "    # alternative: make sure it ends with a punctuation\n",
    "    if dict_url_to_options_5_grams[key]['alternative'][-1] not in punctuations:\n",
    "        continue\n",
    "    # for 10-grams\n",
    "    # get the input string \n",
    "    original_sentence_words = dict_url_to_options_5_grams[key]['original_sentence'].split(' ')\n",
    "    # len should >= 15\n",
    "    if len(original_sentence_words) < 15:\n",
    "        continue\n",
    "    input_for_10_grams = ' '.join(original_sentence_words[:-10]) + ' <extra_id_0>'\n",
    "    input_for_10_grams_ids = tokenizer(input_for_10_grams, return_tensors=\"pt\").input_ids.to(\"cuda\")\n",
    "    # original 10-gram\n",
    "    original_10_gram = \"<extra_id_0> \" + ' '.join(original_sentence_words[-10:]) + ' <extra_id_1>'\n",
    "    labels_original_10_gram = tokenizer(original_10_gram, return_tensors=\"pt\").input_ids.to(\"cuda\")\n",
    "    labels_original_10_gram = labels_original_10_gram[:, :-1].contiguous() # remove the last token '</s>'\n",
    "    outputs = model(input_for_10_grams_ids, labels=labels_original_10_gram)\n",
    "    log_p_original_10_gram = -loss_fn_sum(outputs.logits[0][1:-1], labels_original_10_gram[0][1:-1]) # lose the <extra_id_0> and <extra_id_1>\n",
    "    \n",
    "    # probs = torch.nn.functional.softmax(outputs.logits, dim=-1)\n",
    "    # for i in range(len(labels_original_10_gram[0])):\n",
    "    #     print('label:', labels_original_10_gram[0][i], 'prob:', probs[0][i][labels_original_10_gram[0][i]])\n",
    "\n",
    "    # continue\n",
    "    # proposed 10-gram\n",
    "    proposed_10_gram = \"<extra_id_0> \" + \\\n",
    "     ' '.join(original_sentence_words[-10:-5]) + ' ' + \\\n",
    "    dict_url_to_options_5_grams[key]['alternative'] + ' <extra_id_1>'\n",
    "    labels_proposed_10_gram = tokenizer(proposed_10_gram, return_tensors=\"pt\").input_ids.to(\"cuda\")\n",
    "    labels_proposed_10_gram = labels_proposed_10_gram[:, :-1].contiguous() # remove the last token '</s>'\n",
    "    outputs = model(input_for_10_grams_ids, labels=labels_proposed_10_gram)\n",
    "    log_p_proposed_10_gram = -loss_fn_sum(outputs.logits[0][1:-1], labels_proposed_10_gram[0][1:-1]) # lose the <extra_id_0> and <extra_id_1>\n",
    "    # for 5-grams\n",
    "    # get the input string\n",
    "    input_for_5_grams = ' '.join(original_sentence_words[:-5]) + ' <extra_id_0>'\n",
    "    input_for_5_grams_ids = tokenizer(input_for_5_grams, return_tensors=\"pt\").input_ids.to(\"cuda\")\n",
    "    # original 5-gram\n",
    "    original_5_gram = \"<extra_id_0> \" + ' '.join(original_sentence_words[-5:]) + ' <extra_id_1>'\n",
    "    labels_original_5_gram = tokenizer(original_5_gram, return_tensors=\"pt\").input_ids.to(\"cuda\")\n",
    "    labels_original_5_gram = labels_original_5_gram[:, :-1].contiguous() # remove the last token '</s>'\n",
    "    outputs = model(input_for_5_grams_ids, labels=labels_original_5_gram)\n",
    "    log_p_original_5_gram = -loss_fn_sum(outputs.logits[0][1:-1], labels_original_5_gram[0][1:-1]) # lose the <extra_id_0> and <extra_id_1>\n",
    "    # proposed 5-gram\n",
    "    proposed_5_gram = \"<extra_id_0> \" + dict_url_to_options_5_grams[key]['alternative'] + ' <extra_id_1>'\n",
    "    labels_proposed_5_gram = tokenizer(proposed_5_gram, return_tensors=\"pt\").input_ids.to(\"cuda\")\n",
    "    labels_proposed_5_gram = labels_proposed_5_gram[:, :-1].contiguous() # remove the last token '</s>'\n",
    "    outputs = model(input_for_5_grams_ids, labels=labels_proposed_5_gram)\n",
    "    log_p_proposed_5_gram = -loss_fn_sum(outputs.logits[0][1:-1], labels_proposed_5_gram[0][1:-1]) # lose the <extra_id_0> and <extra_id_1>\n",
    "    # add them to the dictionary\n",
    "    url_to_t5_5_gram_probs_dict[key] = {'proposed 5_gram': math.exp(log_p_proposed_5_gram.to(torch.float32).detach().cpu().numpy()),\n",
    "                                         'original 5_gram': math.exp(log_p_original_5_gram.to(torch.float32).detach().cpu().numpy()),\n",
    "                                         'proposed 10_gram': math.exp(log_p_proposed_10_gram.to(torch.float32).detach().cpu().numpy()),\n",
    "                                         'original 10_gram': math.exp(log_p_original_10_gram.to(torch.float32).detach().cpu().numpy())}                                        \n",
    "        \n",
    "# save url_to_ul2_5_gram_probs_dict as a pkl\n",
    "with open('/work/09127/tomyoung/ls6/data/pkls/url_to_' + model_name + '_5_gram_probs_dict.pkl', 'wb') as f:\n",
    "    pickle.dump(url_to_t5_5_gram_probs_dict, f)"
   ]
  },
  {
   "cell_type": "code",
   "execution_count": 20,
   "metadata": {},
   "outputs": [
    {
     "data": {
      "text/plain": [
       "tensor([[   94,    19,     3,     9,  1709,   179,   533,   962,     5,    94,\n",
       "            19,    29,    31,    17,   424,    24,    62,    31,    60,  2794,\n",
       "            21,     3,     9, 10620,    21,     5, 32099,     1]],\n",
       "       device='cuda:0')"
      ]
     },
     "execution_count": 20,
     "metadata": {},
     "output_type": "execute_result"
    }
   ],
   "source": [
    "input_for_5_grams_ids"
   ]
  }
 ],
 "metadata": {
  "kernelspec": {
   "display_name": "Python 3",
   "language": "python",
   "name": "python3"
  },
  "language_info": {
   "codemirror_mode": {
    "name": "ipython",
    "version": 3
   },
   "file_extension": ".py",
   "mimetype": "text/x-python",
   "name": "python",
   "nbconvert_exporter": "python",
   "pygments_lexer": "ipython3",
   "version": "3.9.7"
  },
  "orig_nbformat": 4
 },
 "nbformat": 4,
 "nbformat_minor": 2
}

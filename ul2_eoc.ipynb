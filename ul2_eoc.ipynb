{
 "cells": [
  {
   "cell_type": "markdown",
   "metadata": {},
   "source": [
    "This code uses UL2 to \n",
    "\n",
    "(1) measure inconsistencies in its bidirectional conditionals; \n",
    "\n",
    "(2) improve llm inference with Emsemble of Conditionals.  \n",
    "\n"
   ]
  },
  {
   "cell_type": "markdown",
   "metadata": {},
   "source": [
    "### Imports and global utils"
   ]
  },
  {
   "cell_type": "code",
   "execution_count": 7,
   "metadata": {},
   "outputs": [],
   "source": [
    "'''imports'''\n",
    "import os\n",
    "# os.environ[\"CUDA_VISIBLE_DEVICES\"]=\"0,1,4,5,6,7\"\n",
    "os.environ[\"CUDA_VISIBLE_DEVICES\"]=\"0,1,2,3,4,5,6,7\"\n",
    "import general_utils\n",
    "# clear GPU memory\n",
    "if False:   \n",
    "    general_utils.kill_gpu_process(os.environ[\"CUDA_VISIBLE_DEVICES\"])\n",
    "import torch\n",
    "from transformers import T5ForConditionalGeneration, AutoTokenizer, T5Tokenizer\n",
    "import numpy as np\n",
    "import pickle\n",
    "import time\n",
    "from tqdm import tqdm\n",
    "import json\n",
    "import lambada_utils\n",
    "from lambada_utils import LambadaProcessor\n"
   ]
  },
  {
   "cell_type": "markdown",
   "metadata": {},
   "source": [
    "### Load tokenizer and model"
   ]
  },
  {
   "cell_type": "code",
   "execution_count": null,
   "metadata": {},
   "outputs": [],
   "source": [
    "# We are using custom huggingface cache dirs in case the default one doesn't have the capacity, since the models can be quite large.\n",
    "MY_HUGGINGFACE_CACHE_DIR ='huggingface_cache' # relative to this notebook path\n",
    "tokenizer = AutoTokenizer.from_pretrained(\"google/ul2\",\n",
    "                                        cache_dir = MY_HUGGINGFACE_CACHE_DIR+'/google-ul2')\n"
   ]
  },
  {
   "cell_type": "code",
   "execution_count": null,
   "metadata": {},
   "outputs": [],
   "source": [
    "RUN_CELL = 1 # Load model 0\n",
    "# device_map = general_utils.get_ul2_device_map('0,1')\n",
    "# device_map=\"balanced\"\n",
    "if RUN_CELL:\n",
    "    model = T5ForConditionalGeneration.from_pretrained(\"google/ul2\", \n",
    "                                                    cache_dir=MY_HUGGINGFACE_CACHE_DIR + '/google-ul2', \n",
    "                                                    low_cpu_mem_usage=True, \n",
    "                                                    torch_dtype=torch.bfloat16,\n",
    "                                                    device_map='cuda:0')"
   ]
  },
  {
   "cell_type": "code",
   "execution_count": null,
   "metadata": {},
   "outputs": [],
   "source": [
    "RUN_CELL = 0 # Load model 1\n",
    "# device_map=general_utils.get_ul2_device_map('2,3')\n",
    "if RUN_CELL:\n",
    "    model1 = T5ForConditionalGeneration.from_pretrained(\"google/ul2\",\n",
    "                                                        cache_dir=MY_HUGGINGFACE_CACHE_DIR + '/google-ul2',\n",
    "                                                        low_cpu_mem_usage=True,\n",
    "                                                        torch_dtype=torch.bfloat16,\n",
    "                                                        device_map='cuda:1')"
   ]
  },
  {
   "cell_type": "markdown",
   "metadata": {},
   "source": [
    "### Ensemble of Conditionals"
   ]
  },
  {
   "cell_type": "code",
   "execution_count": null,
   "metadata": {},
   "outputs": [],
   "source": [
    "'''instantiate the lambada processor'''\n",
    "IS_DEVELOPMENT = True # Set to False to run on the test set\n",
    "set_partition = 'validation_' if IS_DEVELOPMENT else '' # filename part for saving results\n",
    "\n",
    "LAMBADA_TEST_DATA_PATH = \"data/jsonls/validation.jsonl\" if IS_DEVELOPMENT else \"data/jsonls/test.jsonl\"\n",
    "UL2_MODE = \"[NLG]\"\n",
    "processor = LambadaProcessor(tokenizer, ul2_mode=UL2_MODE, lambada_dataset_path=LAMBADA_TEST_DATA_PATH)\n",
    "lambada = processor.dataset\n",
    "\n",
    "ce_loss = torch.nn.CrossEntropyLoss(ignore_index=tokenizer.pad_token_id) #reduction='avg'\n",
    "ce_loss_sum = torch.nn.CrossEntropyLoss(ignore_index=tokenizer.pad_token_id, reduction='sum') #reduction='sum'"
   ]
  },
  {
   "cell_type": "markdown",
   "metadata": {},
   "source": [
    "Strategy for different punctuations\n",
    "<details>\n",
    "<summary>click to expand</summary>\n",
    "\n",
    "In the LAMBADA last word prediction task, natural language models (LLMs) may append various punctuations to the same last word, leading to different completions. For example, to complete the sentence \"My color of my pet dog is\":\n",
    "\n",
    "Possible Completions:\n",
    "\n",
    "1. _white._ with probability `p_1`\n",
    "2. _white!_ with probability `p_2` (assuming `p_1 > p_2`)\n",
    "3. _black,_ with probability `p_3`\n",
    "4. _black?_ with probability `p_4` (assuming `p_3 > p_4`)\n",
    "\n",
    "Strategies to Rank _white_ and _black_:\n",
    "\n",
    "1. Maximum Probability Strategy\n",
    "\n",
    "- Probability of _white_: `p(white) = p_1`\n",
    "- Probability of _black_: `p(black) = p_3`\n",
    "\n",
    "2. Sum of Probabilities Strategy\n",
    "\n",
    "- Probability of _white_: `p(white) = p_1 + p_2`\n",
    "- Probability of _black_: `p(black) = p_3 + p_4`\n",
    "\n",
    "Afterwards `p(_white_)` and `p(_black_)` may need normalization."
   ]
  },
  {
   "cell_type": "code",
   "execution_count": null,
   "metadata": {
    "tags": []
   },
   "outputs": [],
   "source": [
    "RUN_CELL = 0 # '''Generate the top completions (through beam search) for each example, and get the word from each completion.'''\n",
    "if RUN_CELL:\n",
    "    # generate for all examples, and then get the words from the completions, and compare the first one with the target\n",
    "    count_correct = 0 # No. correct last word predictions if only the top completion is considered\n",
    "    count_correct_top_num_beams = 0 # ... if the top num_beams completions are considered\n",
    "    count_no_words_found = 0  # No. examples where no valid last word is found\n",
    "\n",
    "    # punctuated_word: the last word and the punctuation that follows it\n",
    "    id_to_punctuated_words = {} # maps example index to a list of word and punc pairs; every punc is kept for each word\n",
    "    id_to_punctuated_words_unique = {} # ...; every punc is kept for each word  \n",
    "    id_to_completions_ids = {}\n",
    "\n",
    "    MAX_COMPLETION_LENGTH = 8 # for last word prediction, 8 is sufficient\n",
    "    NUM_BEAMS = 20 # 20 is sufficient; more doesn't help\n",
    "\n",
    "    # for example_index in tqdm(range(10)): # len(lambada)\n",
    "    for example_index in tqdm(range(len(lambada))): # len(lambada)\n",
    "        input_string = lambada[example_index]['inputs_pretokenized']\n",
    "        inputs = tokenizer(input_string, return_tensors=\"pt\").input_ids.to(\"cuda\")\n",
    "        outputs = model.generate(inputs,\n",
    "                                max_length=MAX_COMPLETION_LENGTH, \n",
    "                                num_beams=NUM_BEAMS, \n",
    "                                num_return_sequences=NUM_BEAMS, \n",
    "                                output_scores=True,\n",
    "                                eos_token_id=tokenizer.convert_tokens_to_ids('<extra_id_1>'), \n",
    "                                return_dict_in_generate=True)\n",
    "        \n",
    "        completions = [tokenizer.decode(outputs['sequences'][i]) for i in range(NUM_BEAMS)]\n",
    "        completions_ids = [\n",
    "            outputs['sequences'][i].cpu()\n",
    "            for i in range(NUM_BEAMS)\n",
    "            if processor.get_word_from_completion(completions[i]) is not None # if the completion has a valid last word\n",
    "        ]\n",
    "\n",
    "        words = processor.get_words_from_completions(completions)\n",
    "\n",
    "        # TODO: combine them and move to utils.py\n",
    "        completions_without_pad = processor.remove_pad_id(completions_ids)\n",
    "        completions_without_pad_before_punctution = processor.before_first_punc(completions_without_pad)\n",
    "        \n",
    "        \n",
    "        if words:\n",
    "            if words[0] == lambada[example_index]['targets_pretokenized'][0]:\n",
    "                count_correct += 1\n",
    "        else:\n",
    "            count_no_words_found += 1\n",
    "            # print(\"no words found\")\n",
    "        punctuated_words = processor.get_punctuated_words(completions)\n",
    "        id_to_punctuated_words[example_index] = punctuated_words\n",
    "        words_unique = list(set(words))\n",
    "        id_to_punctuated_words_unique[example_index] = []\n",
    "        \n",
    "        id_to_completions_ids[example_index] = completions_without_pad_before_punctution\n",
    "\n",
    "        # find the best punctuatuation for each unique word (Maximum Probability Strategy, \n",
    "        # completions are naturally ordered by probs by generate()) TODO: move this for loop to utils.py\n",
    "        for word in words_unique:\n",
    "            found = 0\n",
    "            # iterate through the word and punc pairs, and find the one that matches the word\n",
    "            for punctuated_word in punctuated_words:\n",
    "                # it is a match if pair = word + punc\n",
    "                ENDING_PUNCTUATIONS = ',!.:;?'\n",
    "                for punc in ENDING_PUNCTUATIONS:\n",
    "                    if punctuated_word == word + punc:\n",
    "                        id_to_punctuated_words_unique[example_index].append(punctuated_word)\n",
    "                        found = 1\n",
    "                        break\n",
    "                if found == 1:\n",
    "                    break\n",
    "        \n",
    "        # calculate the number of correct top num_beams: if the correct word is in the top num_beams, then it is correct\n",
    "        for word in words_unique:\n",
    "            if word == lambada[example_index]['targets_pretokenized'][0]:\n",
    "                count_correct_top_num_beams += 1\n",
    "                break\n",
    "    print(\"count_correct\", count_correct)\n",
    "    # count_correct, NLU: 0.7595\n",
    "    # count_correct, NLG: 0.7680\n",
    "    # count_correct, S2S: 0.3743 (could be because how the mode handles extra_ids)\n"
   ]
  },
  {
   "cell_type": "code",
   "execution_count": null,
   "metadata": {},
   "outputs": [],
   "source": [
    "RUN_CELL = 0 # '''Save the beam search results by generate()'''\n",
    "if RUN_CELL:\n",
    "    timed_pickle_filename = 'data/pkls/' + set_partition + UL2_MODE + '_ul2_lambada_vanilla_beam_search_results_' + general_utils.get_time() + '.pickle'\n",
    "    print(timed_pickle_filename)\n",
    "\n",
    "    data_keys = ['count_correct', 'count_correct_top_num_beams', 'count_no_words_found',\n",
    "                'id_to_punctuated_words', 'id_to_punctuated_words_unique', 'id_to_completions_ids']\n",
    "    data = {}\n",
    "    for key in data_keys:\n",
    "        data[key] = locals()[key]\n",
    "\n",
    "    with open(timed_pickle_filename, 'wb') as fp:\n",
    "        pickle.dump(data, fp)"
   ]
  },
  {
   "cell_type": "code",
   "execution_count": null,
   "metadata": {},
   "outputs": [],
   "source": [
    "'''Load the beam search results'''\n",
    "# timed_pickle_filename = 'data/pkls/ul2_lambada_vanilla_beam_search_results_2023-11-11 20:08:17.pickle'\n",
    "timed_pickle_filename = 'data/pkls/validation_[NLG]_ul2_lambada_vanilla_beam_search_results_2023-11-29-22:45:19.pickle'\n",
    "\n",
    "with open(timed_pickle_filename, 'rb') as fp:\n",
    "    ul2_lambada_vanilla_beam_search_results = pickle.load(fp)\n",
    "id_to_completions_ids = ul2_lambada_vanilla_beam_search_results['id_to_completions_ids']"
   ]
  },
  {
   "cell_type": "markdown",
   "metadata": {},
   "source": [
    "K-offset Ensemble\n",
    "<details>\n",
    "<summary>Click to expand</summary>\n",
    "\n",
    "__K-offset Ensemble__ is a particular type of __Ensemble of Conditionals__ for last word prediction tasks like lambada.\n",
    "\n",
    "It aims to augment the only conditional distribution obtained by masking the last word with more distributions. The new distributions are obtained by masking the last __offset__ + 1 words.\n",
    "\n",
    "An example with the _lambada[0]_\n",
    "\n",
    "_lambada[0]['input_pretokenized']_: `... his mouth curved in a confident grin , i do n't care about <last_word>`\n",
    "\n",
    "We consider candidates `['angels.', 'signs.', 'that.']`.\n",
    "\n",
    "The baseline approach is to input `... his mouth curved in a confident grin , i do n't care about <extra_id_0>` to UL2 and obtain the distribution containing the 3 candidates.\n",
    "\n",
    "For the offset=1 case in K-offset Ensemble, we mask an extra token `about` in the end and input instead\n",
    "\n",
    "`... his mouth curved in a confident grin , i do n't care <extra_id_1>`\n",
    "\n",
    "This gives us a different distribution regarding `['about angels.', 'about signs.', 'about that.']`. They are given in an autoregressive manner\n",
    "e.g., `p(about angels) = p(about) * p(angels|about)`. Therefore we will use conditionals in the style of `p(angels|about)` to augment the baseline conditionals.\n",
    "\n",
    "Cases where __K__ is larger can be similarly derived.\n",
    "\n",
    "\n"
   ]
  },
  {
   "cell_type": "code",
   "execution_count": null,
   "metadata": {},
   "outputs": [],
   "source": [
    "MAX_OFFSET = 15"
   ]
  },
  {
   "cell_type": "code",
   "execution_count": null,
   "metadata": {
    "tags": []
   },
   "outputs": [],
   "source": [
    "RUN_CELL = 0 # '''Generate the offset samples'''\n",
    "if RUN_CELL:\n",
    "    id_and_offset_to_inputs_and_completions = \\\n",
    "        processor.get_offset_samples(\n",
    "            ul2_lambada_vanilla_beam_search_results['id_to_completions_ids'], \n",
    "            max_offset=MAX_OFFSET,\n",
    "            to_gpu=True\n",
    "        )"
   ]
  },
  {
   "cell_type": "code",
   "execution_count": null,
   "metadata": {},
   "outputs": [],
   "source": [
    "RUN_CELL = 0 # Save the offset samples\n",
    "if RUN_CELL:    \n",
    "    timed_pickle_filename = 'data/pkls/offset_samples_' + set_partition + 'max_offset_' + str(MAX_OFFSET) + '_' + general_utils.get_time() + '.pickle'\n",
    "    print(timed_pickle_filename)\n",
    "    with open(timed_pickle_filename, 'wb') as fp:\n",
    "        pickle.dump(id_and_offset_to_inputs_and_completions, fp)"
   ]
  },
  {
   "cell_type": "code",
   "execution_count": null,
   "metadata": {
    "tags": []
   },
   "outputs": [],
   "source": [
    "RUN_CELL = 1 # Load the offset samples\n",
    "if RUN_CELL:\n",
    "    # timed_pickle_filename = 'data/pkls/offset_samples_parallel_max_offset_5_2023-11-21-20:01:12.pickle'\n",
    "    timed_pickle_filename = 'data/pkls/offset_samples_validation_max_offset_15_2023-11-30-00:27:00.pickle'\n",
    "    with open(timed_pickle_filename, 'rb') as fp:\n",
    "        id_and_offset_to_inputs_and_completions = pickle.load(fp)"
   ]
  },
  {
   "cell_type": "code",
   "execution_count": null,
   "metadata": {},
   "outputs": [],
   "source": [
    "RUN_CELL = 1 # Obtain the avg_log_p_map_offset\n",
    "if RUN_CELL:\n",
    "# id_and_offset_to_input_and_completions:\n",
    "# (id, offset) -> input_ids, [completion_ids_0, completion_ids_1, completion_ids_2,...]\n",
    "    avg_log_p_map_offset = dict() # (id, offset, completion_index) -> avg_log_p of the tokens constituting the last word (might be punctuated)\n",
    "    \n",
    "    for example_index in tqdm(range(len(lambada))): \n",
    "    # for example_index in tqdm(range(1)): \n",
    "        if len(id_to_completions_ids[example_index]) == 0:\n",
    "            continue\n",
    "        for offset in range(MAX_OFFSET):\n",
    "            completions_batch = id_and_offset_to_inputs_and_completions[(example_index, offset)]['labels']\n",
    "            input_ids = id_and_offset_to_inputs_and_completions[(example_index, offset)]['inputs'].unsqueeze(0)\n",
    "            outputs = lambada_utils.multi_labels_forward(model, input_ids, completions_batch)\n",
    "\n",
    "            for completion_index in range(len(id_to_completions_ids[example_index])):\n",
    "                avg_log_p = -ce_loss(\n",
    "                    # Only care about the tokens corresponding to the last word and omit offset tokens \n",
    "                    # the first one is <extra_id_0> and omitted\n",
    "                    outputs.logits[completion_index][1+offset:], \n",
    "                    completions_batch[completion_index][1+offset:]\n",
    "                )\n",
    "                avg_log_p_map_offset[(example_index, offset, completion_index)] = \\\n",
    "                    avg_log_p.detach().cpu().tolist()"
   ]
  },
  {
   "cell_type": "code",
   "execution_count": null,
   "metadata": {},
   "outputs": [],
   "source": [
    "RUN_CELL = 1 # Save the avg_log_p_map_offset\n",
    "if RUN_CELL:\n",
    "    pickle_filename = 'data/pkls/avg_log_p_map_' + set_partition + 'max_offset_' + str(MAX_OFFSET) + '_' + general_utils.get_time() + '.pickle'\n",
    "    print(pickle_filename)\n",
    "    with open(pickle_filename, 'wb') as handle:\n",
    "        pickle.dump(avg_log_p_map_offset, handle)"
   ]
  },
  {
   "cell_type": "code",
   "execution_count": null,
   "metadata": {},
   "outputs": [],
   "source": [
    "RUN_CELL = 0 # Load the avg_log_p_map for the offset samples\n",
    "if RUN_CELL:\n",
    "    pickle_filename = 'data/pkls/avg_log_p_map_max_offset_30_2023-11-15-08:30:28.pickle'\n",
    "    # pickle_filename = 'data/pkls/avg_log_p_map_max_offset_5_2023-11-15-04:12:17.pickle'\n",
    "    # avg_log_p_map_offset (Dict): (id, offset, completion_index) -> avg_log_p of the tokens constituting the last word (might be punctuated)\n",
    "    with open(pickle_filename, 'rb') as handle:\n",
    "        avg_log_p_map_offset = pickle.load(handle)"
   ]
  },
  {
   "cell_type": "code",
   "execution_count": null,
   "metadata": {},
   "outputs": [],
   "source": [
    "RUN_CELL = 0 # '''Max reduction to emsemble the K different conditionals for the same last word, i.e., only the maximum avg_log_p is kept for each last word across different offsets. \n",
    "# We test K-offset ensemble for K up to MAX_OFFSET_TEST; MAX_OFFSET_TEST should be <= MAX_OFFSET used during avg_log_p_map generation\n",
    "if RUN_CELL:\n",
    "    MAX_OFFSET_TEST = 9 \n",
    "    offset_to_accuracy = dict()\n",
    "    offset_to_correct_ids = dict()\n",
    "    for offset_test in range(MAX_OFFSET_TEST + 1):\n",
    "        count_correct = 0 # No. correct last word predictions with K-offset\n",
    "        # Get the best completion based on avg_log_p_map_offset\n",
    "        for example_index in tqdm(range(len(lambada))): # len(lambada)\n",
    "            # Create a list of tuples (avg_log_p, completion) for each completion\n",
    "            avg_log_p_and_completion = [\n",
    "                (avg_log_p_map_offset[(example_index, offset, completion_index)], id_to_completions_ids[example_index][completion_index])\n",
    "                for offset in range(offset_test + 1)\n",
    "                for completion_index in range(len(id_to_completions_ids[example_index]))\n",
    "            ]\n",
    "            if len(avg_log_p_and_completion) == 0:\n",
    "                continue\n",
    "            # Find the tuple with the maximum avg_log_p; this is essentially max reduction\n",
    "            best_avg_log_p, best_completion = max(avg_log_p_and_completion, key=lambda x: x[0])\n",
    "            if processor.is_correct_completion(example_index, best_completion):\n",
    "                count_correct += 1\n",
    "                offset_to_correct_ids.setdefault(offset_test, []).append(example_index)\n",
    "        offset_to_accuracy[offset_test] = count_correct / (len(lambada))\n",
    "    print(offset_to_accuracy)"
   ]
  },
  {
   "cell_type": "code",
   "execution_count": null,
   "metadata": {},
   "outputs": [],
   "source": [
    "RUN_CELL = 0 # Quantify disagreement on last word predictions among K-offset conditionals\n",
    "if RUN_CELL: \n",
    "    for NUM_CONDITIONALS in range(2, 6): # 2, 3, 4, 5; how many sets of conditionals to consider; offset = 0 and offset = 1 are 2 different sets of conditionals\n",
    "        id_offset_to_lastword = dict()\n",
    "        id_to_lastwords_by_offsets = dict()\n",
    "        for offset in range(NUM_CONDITIONALS): # if NUM_CONDITIONALS = 2, then offset = 0, 1\n",
    "            for example_index in range(len(lambada)): # len(lambada)\n",
    "                # Create a list of tuples (avg_log_p, completion) for each completion\n",
    "                avg_log_p_and_completion = [\n",
    "                    (avg_log_p_map_offset[(example_index, offset, completion_index)], id_to_completions_ids[example_index][completion_index])\n",
    "                    for completion_index in range(len(id_to_completions_ids[example_index]))\n",
    "                ]\n",
    "                if len(avg_log_p_and_completion) == 0:\n",
    "                    continue\n",
    "                # Find the tuple with the maximum avg_log_p; this is essentially max reduction\n",
    "                best_avg_log_p, best_completion = max(avg_log_p_and_completion, key=lambda x: x[0])\n",
    "                lastword = processor.get_word_from_completion(tokenizer.decode(best_completion))\n",
    "                id_offset_to_lastword[(example_index, offset)] = lastword\n",
    "                if example_index not in id_to_lastwords_by_offsets:\n",
    "                    id_to_lastwords_by_offsets[example_index] = []\n",
    "                id_to_lastwords_by_offsets[example_index].append(lastword)\n",
    "        no_disagreement_count = 0\n",
    "        for example_index in id_to_lastwords_by_offsets:\n",
    "            if len(set(id_to_lastwords_by_offsets[example_index])) > 1:\n",
    "                no_disagreement_count += 1\n",
    "        ratio_disagreement = no_disagreement_count / (len(lambada) - ul2_lambada_vanilla_beam_search_results['count_no_words_found'])\n",
    "        print(\"NUM_CONDITIONALS\", NUM_CONDITIONALS, \"ratio_disagreement\", ratio_disagreement)"
   ]
  },
  {
   "cell_type": "markdown",
   "metadata": {},
   "source": [
    "Middle-off ensemble (incomplete)\n",
    "<details>\n",
    "<summary>Click to expand</summary>\n",
    "\n",
    "__Middle-off Ensemble__ is a particular type of __Ensemble of Conditionals__ for last word prediction tasks like lambada.\n",
    "\n",
    "\n",
    "It aims to augment the only conditional distribution obtained by masking some additional words in the middle of the input for additional distributions. The new distributions are obtained by masking the last __offset__ + 1 words.\n",
    "\n",
    "The key sample generation function is create_middle_off_sample() in lambada_utils, which is controlled by\n",
    "`middle_span_length`: the length of the masked span in the middle\n",
    "and \n",
    "`middle_to_end_gap`： the gap between the middle_span and the last word\n",
    "\n",
    "\n",
    "An example with the _lambada[0]_\n",
    "\n",
    "_lambada[0]['input_pretokenized']_: `... his mouth curved in a confident grin , i do n't care about <last_word>`\n",
    "\n",
    "We consider candidates `['angels.', 'signs.', 'that.']`.\n",
    "\n",
    "The baseline approach is to input `... his mouth curved in a confident grin , i do n't care about <extra_id_0>` to UL2 and obtain the distribution containing the 3 candidates.\n",
    "\n",
    "\n",
    "\n",
    "completion_lengths = [\n",
    "    id_and_offset_to_inputs_and_completions[example_index,0][completion_index][1].shape[0] - 1\n",
    "    for example_index in range(len(lambada)) \n",
    "    for completion_index in range(len(id_and_offset_to_inputs_and_completions[example_index,0]))\n",
    "] \n",
    "np.mean(completion_lengths) == 3.8\n"
   ]
  },
  {
   "cell_type": "code",
   "execution_count": null,
   "metadata": {},
   "outputs": [],
   "source": [
    "# define range_middle_span_length and range_middle_to_end_gap\n",
    "RANGE_MIDDLE_SPAN_LENGTH = [3]\n",
    "RANGE_MIDDLE_TO_END_GAP = [1, 2, 3, 4, 5, 6, 7, 8, 9, 10]\n",
    "LENGTH_GAP_TUPLES = [\n",
    "    (3, 1), (3, 2), (3, 3), (3, 4), (3, 5), \n",
    "    (3, 6), (3, 7), (3, 8), (3, 9), (3, 10)\n",
    "]"
   ]
  },
  {
   "cell_type": "code",
   "execution_count": null,
   "metadata": {},
   "outputs": [],
   "source": [
    "RUN_CELL = 1 # Generate the middle-off samples\n",
    "if RUN_CELL:\n",
    "    # id_middlespan_gap_to_input_and_completions: maps (id, middle_span_length, middle_to_end_gap) to a input_ids(Tensor) and completion_ids(List[Tensor])\n",
    "    id_middlespan_gap_to_input_and_completions = \\\n",
    "        processor.get_middle_off_samples(\n",
    "            id_to_completions_ids, \n",
    "            range_middle_span_length=RANGE_MIDDLE_SPAN_LENGTH,\n",
    "            range_middle_to_end_gap=RANGE_MIDDLE_TO_END_GAP,\n",
    "            to_gpu=True\n",
    "        )"
   ]
  },
  {
   "cell_type": "code",
   "execution_count": null,
   "metadata": {},
   "outputs": [],
   "source": [
    "RUN_CELL = 1 # Save the middle-off samples\n",
    "if RUN_CELL:    \n",
    "    timed_pickle_filename = 'data/pkls/middle_off_samples_' + set_partition + 'rmsl_' + str(RANGE_MIDDLE_SPAN_LENGTH[0]) + \\\n",
    "        '_rmteg_1_10' + '_' + general_utils.get_time() + '.pickle'\n",
    "    print(timed_pickle_filename)\n",
    "    with open(timed_pickle_filename, 'wb') as fp:\n",
    "        pickle.dump(id_middlespan_gap_to_input_and_completions, fp)"
   ]
  },
  {
   "cell_type": "code",
   "execution_count": null,
   "metadata": {},
   "outputs": [],
   "source": [
    "RUN_CELL = 0 # '''Load the middle-off samples'''\n",
    "if RUN_CELL:\n",
    "    timed_pickle_filename = 'data/pkls/middle_off_samples_rmsl_3_rmteg_1_10_2023-11-25-20:48:49.pickle'\n",
    "    with open(timed_pickle_filename, 'rb') as fp:\n",
    "        id_middlespan_gap_to_input_and_completions = pickle.load(fp)"
   ]
  },
  {
   "cell_type": "code",
   "execution_count": null,
   "metadata": {},
   "outputs": [],
   "source": [
    "RUN_CELL = 1 # Obtain and save the avg_log_p_map for middle-off samples\n",
    "if RUN_CELL:\n",
    "    # id_middlespan_gap_to_input_and_completions: maps (id, middle_span_length, middle_to_end_gap) to a input_ids(Tensor) and completion_ids(List[Tensor])\n",
    "    # avg_log_p_map_middle_off: maps (id, middle_span_length, middle_to_end_gap, completion_index) to avg_log_p of the tokens constituting the last word (might be punctuated)\n",
    "    avg_log_p_map_middle_off = dict()\n",
    "    for id_middlespan_gap in tqdm(id_middlespan_gap_to_input_and_completions):\n",
    "        input_ids = id_middlespan_gap_to_input_and_completions[id_middlespan_gap]['inputs'].unsqueeze(0)\n",
    "        completions_batch = id_middlespan_gap_to_input_and_completions[id_middlespan_gap]['labels']\n",
    "        outputs = lambada_utils.multi_labels_forward(model, input_ids, completions_batch)\n",
    "\n",
    "        middlespan_length = id_middlespan_gap[1]\n",
    "\n",
    "        for completion_index in range(len(completions_batch)):\n",
    "            avg_log_p = -ce_loss(\n",
    "                # Only care about the tokens corresponding to the last word\n",
    "                outputs.logits[completion_index][2+middlespan_length:], \n",
    "                completions_batch[completion_index][2+middlespan_length:]\n",
    "            )\n",
    "            avg_log_p_map_middle_off[(*id_middlespan_gap, completion_index)] = \\\n",
    "                avg_log_p.detach().cpu().tolist()\n",
    "            \n",
    "    '''Save the avg_log_p_map_middle_off'''\n",
    "    pickle_filename = 'data/pkls/avg_log_p_map_middle_off_' + set_partition + 'rmsl_' + str(RANGE_MIDDLE_SPAN_LENGTH[0]) + \\\n",
    "        '_rmteg_1_10' + '_' + general_utils.get_time() + '.pickle'\n",
    "    print(pickle_filename)\n",
    "    with open(pickle_filename, 'wb') as handle:\n",
    "        pickle.dump(avg_log_p_map_middle_off, handle)\n",
    "exit()"
   ]
  },
  {
   "cell_type": "code",
   "execution_count": null,
   "metadata": {},
   "outputs": [],
   "source": [
    "RUN_CELL = 1 # Load the avg_log_p_map_middle_off\n",
    "if RUN_CELL:\n",
    "    pickle_filename = 'data/pkls/avg_log_p_map_middle_off_rmsl_3_rmteg_1_10_2023-11-25-22:45:36.pickle'\n",
    "    with open(pickle_filename, 'rb') as handle:\n",
    "        avg_log_p_map_middle_off = pickle.load(handle)"
   ]
  },
  {
   "cell_type": "code",
   "execution_count": null,
   "metadata": {},
   "outputs": [],
   "source": [
    "'''Max reduction to emsemble middle-off conditionals for the same last word, \n",
    "i.e., only the maximum avg_log_p is kept for each last word across different range_middle_span_length's and range_middle_to_end_gap's.\n",
    "Possibly emsemble with the K-offset conditionals.'''\n",
    "\n",
    "\n",
    "ADD_MIDDLE_OFF = True # ADD the middle-off ensemble to the list\n",
    "ADD_BASELINE = True # ADD the baseline (offset = 0 from K-offset ensemble) to the list\n",
    "ADD_K_OFFSET = False # ADD the whole K-offset ensemble to the list\n",
    "MAX_OFFSET = 9\n",
    "LENGTH_GAP_TUPLES =  [(3,5)]\n",
    "\n",
    "count_correct = 0\n",
    "correct_ids = []\n",
    "for example_index in tqdm(range(len(lambada))): # len(lambada)\n",
    "    # Create a list of tuples (avg_log_p, completion) for each completion\n",
    "    avg_log_p_and_completion = []\n",
    "    # add middle-off to the list\n",
    "    if ADD_MIDDLE_OFF:\n",
    "        avg_log_p_and_completion += [\n",
    "            (avg_log_p_map_middle_off[(example_index, middle_span_length, middle_to_end_gap, completion_index)], id_to_completions_ids[example_index][completion_index])\n",
    "            for middle_span_length, middle_to_end_gap in LENGTH_GAP_TUPLES\n",
    "            for completion_index in range(len(id_to_completions_ids[example_index]))\n",
    "        ]\n",
    "    # add the baseline (offset = 0 from K-offset ensemble) to the list\n",
    "    if ADD_BASELINE:\n",
    "        avg_log_p_and_completion += [\n",
    "            (avg_log_p_map_offset[(example_index, 0, completion_index)], id_to_completions_ids[example_index][completion_index])\n",
    "            for completion_index in range(len(id_to_completions_ids[example_index]))\n",
    "        ]\n",
    "        \n",
    "    # add the whole K-offset ensemble to the list\n",
    "    if ADD_K_OFFSET:\n",
    "        avg_log_p_and_completion += [\n",
    "            (avg_log_p_map_offset[(example_index, offset, completion_index)], id_to_completions_ids[example_index][completion_index])\n",
    "            for offset in range(1, MAX_OFFSET + 1)\n",
    "            for completion_index in range(len(id_to_completions_ids[example_index]))\n",
    "        ]\n",
    "\n",
    "    if len(avg_log_p_and_completion) == 0: # if no completions are found\n",
    "        continue\n",
    "    # Find the tuple with the maximum avg_log_p; this is essentially max reduction\n",
    "    best_avg_log_p, best_completion = max(avg_log_p_and_completion, key=lambda x: x[0])\n",
    "    if processor.is_correct_completion(example_index, best_completion):\n",
    "        count_correct += 1\n",
    "        correct_ids.append(example_index)\n",
    "print(\"count_correct:\", count_correct)\n",
    "print(\"accuracy:\", count_correct / len(lambada))\n"
   ]
  },
  {
   "cell_type": "markdown",
   "metadata": {},
   "source": [
    "### Notes\n",
    "\n",
    " Hypothesis: conditionals based on the mask patterns used during pretraining are more powerful;\n",
    "\n",
    " just ensemble with one LENGTH_GAP_TUPLE == (3,5) leads to accuracy: 0.7814865127110421\n",
    "\n"
   ]
  },
  {
   "cell_type": "code",
   "execution_count": null,
   "metadata": {},
   "outputs": [],
   "source": [
    "LENGTH_GAP_TUPLES[:1]"
   ]
  },
  {
   "cell_type": "code",
   "execution_count": null,
   "metadata": {},
   "outputs": [],
   "source": [
    "avg_log_p_and_completion"
   ]
  },
  {
   "cell_type": "code",
   "execution_count": null,
   "metadata": {},
   "outputs": [],
   "source": [
    "avg_log_p_and_completion"
   ]
  },
  {
   "cell_type": "code",
   "execution_count": null,
   "metadata": {},
   "outputs": [],
   "source": [
    "offset_to_correct_ids[9].__len__()"
   ]
  },
  {
   "cell_type": "code",
   "execution_count": null,
   "metadata": {},
   "outputs": [],
   "source": [
    "where_k_offset_helps = set(offset_to_correct_ids[9]) - set(offset_to_correct_ids[0])"
   ]
  },
  {
   "cell_type": "code",
   "execution_count": null,
   "metadata": {},
   "outputs": [],
   "source": [
    "where_middle_off_helps = set(correct_ids) - set(offset_to_correct_ids[0])"
   ]
  },
  {
   "cell_type": "code",
   "execution_count": null,
   "metadata": {},
   "outputs": [],
   "source": [
    "where_k_offset_helps.__len__()"
   ]
  },
  {
   "cell_type": "code",
   "execution_count": null,
   "metadata": {},
   "outputs": [],
   "source": [
    "where_middle_off_helps.__len__()"
   ]
  },
  {
   "cell_type": "code",
   "execution_count": null,
   "metadata": {},
   "outputs": [],
   "source": [
    "where_k_offset_helps.intersection(where_middle_off_helps).__len__()"
   ]
  },
  {
   "cell_type": "code",
   "execution_count": null,
   "metadata": {},
   "outputs": [],
   "source": [
    "(where_k_offset_helps - where_middle_off_helps).__len__()"
   ]
  },
  {
   "cell_type": "code",
   "execution_count": null,
   "metadata": {},
   "outputs": [],
   "source": [
    "(where_middle_off_helps - where_k_offset_helps).__len__()"
   ]
  },
  {
   "cell_type": "code",
   "execution_count": null,
   "metadata": {},
   "outputs": [],
   "source": [
    "'''Obtain the avg_log_p_map for middle-off samples via data parallelism'''\n",
    "RUN_CELL = 0\n",
    "if RUN_CELL:\n",
    "    from multiprocessing import Process\n",
    "    import multiprocessing\n",
    "    avg_log_p_map_middle_off = dict()\n",
    "    # define the processing for each id_middlespan_gap example as a function and use threading to use 3 models in parallel\n",
    "    def process(list_id_middlespan_gap, model_, device='cuda:0'):\n",
    "        for id_middlespan_gap in tqdm(list_id_middlespan_gap):\n",
    "            input_ids = id_middlespan_gap_to_input_and_completions[id_middlespan_gap]['inputs'].unsqueeze(0).to(device)\n",
    "            completions_batch = id_middlespan_gap_to_input_and_completions[id_middlespan_gap]['labels'].to(device)\n",
    "            outputs = lambada_utils.multi_labels_forward(model_, input_ids, completions_batch)\n",
    "\n",
    "            middlespan_length = id_middlespan_gap[1]\n",
    "\n",
    "            for completion_index in range(len(completions_batch)):\n",
    "                avg_log_p = -ce_loss(\n",
    "                    # Only care about the tokens corresponding to the last word and omit offset tokens \n",
    "                    # the first one is <extra_id_0> and omitted\n",
    "                    outputs.logits[completion_index][2+middlespan_length:], \n",
    "                    completions_batch[completion_index][2+middlespan_length:]\n",
    "                )\n",
    "                avg_log_p_map_middle_off[(*id_middlespan_gap, completion_index)] = \\\n",
    "                    avg_log_p.detach().cpu().tolist()\n",
    "            \n",
    "    # run the above function in parallel\n",
    "    import threading\n",
    "    multiprocessing.set_start_method('spawn')\n",
    "\n",
    "    all_id_middlespan_gaps = list(id_middlespan_gap_to_input_and_completions.keys())\n",
    "    all_id_middlespan_gaps_0 = all_id_middlespan_gaps[:len(all_id_middlespan_gaps)//2]\n",
    "    all_id_middlespan_gaps_1 = all_id_middlespan_gaps[len(all_id_middlespan_gaps)//2:]\n",
    "    # all_id_middlespan_gaps_2 = all_id_middlespan_gaps[2*len(all_id_middlespan_gaps)//3:]\n",
    "\n",
    "    t0 = Process(target=process, args=(all_id_middlespan_gaps_0, model, 'cuda:0'))\n",
    "    t1 = Process(target=process, args=(all_id_middlespan_gaps_1, model1, 'cuda:2'))\n",
    "    # t2 = threading.Thread(target=process, args=(all_id_middlespan_gaps_2, model2, 'cuda:4'))\n",
    "\n",
    "    t0.start()\n",
    "    t1.start()\n",
    "    # t2.start()"
   ]
  },
  {
   "cell_type": "markdown",
   "metadata": {},
   "source": [
    "### End of main code"
   ]
  },
  {
   "cell_type": "code",
   "execution_count": null,
   "metadata": {},
   "outputs": [],
   "source": [
    "''' Plot ensembled conditionals vs accuracy'''\n",
    "%matplotlib inline\n",
    "import matplotlib.pyplot as plt\n",
    "import matplotlib.font_manager as fm\n",
    "\n",
    "# Load a nice font\n",
    "font_path = '/usr/share/fonts/urw-base35/NimbusMonoPS-Italic.otf'\n",
    "font_prop = fm.FontProperties(fname=font_path)\n",
    "\n",
    "# offset = 0 corresponds to the baseline, which is no. ensembled conditionals = 1; adjust the offset by 1\n",
    "no_ensembled_conditionals_to_accuracy = dict()\n",
    "for offset in range(1, MAX_OFFSET_TEST+1):\n",
    "    no_ensembled_conditionals_to_accuracy[offset] = offset_to_accuracy[offset-1]\n",
    "\n",
    "\n",
    "max_line = plt.plot(list(no_ensembled_conditionals_to_accuracy.keys()), list(no_ensembled_conditionals_to_accuracy.values()), label='max')\n",
    "plt.xlabel('No. ensembled conditionals', fontsize=14)\n",
    "plt.ylabel('Accuracy', fontsize=14)\n",
    "# the interval on x should be 10\n",
    "plt.xticks(np.arange(10, max(list(no_ensembled_conditionals_to_accuracy.keys()))+1, 10))\\\n",
    "# add a tick at 1 on the x axis\n",
    "plt.xticks(list(plt.xticks()[0]) + [1])\n",
    "\n",
    "plt.xticks(fontsize=13)\n",
    "plt.yticks(fontsize=13)\n",
    "\n",
    "# add a dot at each point\n",
    "plt.scatter(list(no_ensembled_conditionals_to_accuracy.keys()), list(no_ensembled_conditionals_to_accuracy.values()))\n",
    "\n",
    "\n",
    "# add a yellow horizontal line at y=offset_to_accuracy[0]\n",
    "plt.axhline(y=no_ensembled_conditionals_to_accuracy[1], color='y', linestyle='--')\n",
    "# add the word \"baseline\" at the end of the yellow line in the font of calibri\n",
    "plt.text(48, no_ensembled_conditionals_to_accuracy[1] + 0.0002, 'baseline', fontproperties=font_prop, fontsize=13)\n",
    "\n",
    "# # plot the accuracy with avg reduction\n",
    "# avg_line = plt.plot([item+1 for item in list(offset_to_accuracy_avg_reduction.keys())], list(offset_to_accuracy_avg_reduction.values()), color='r', label='avg')\n",
    "# # add a dot at each point\n",
    "# plt.scatter([item+1 for item in list(offset_to_accuracy_avg_reduction.keys())], list(offset_to_accuracy_avg_reduction.values()), color='r')\n",
    "\n",
    "plt.scatter(1, no_ensembled_conditionals_to_accuracy[1], color='y')\n",
    "\n",
    "plt.legend(handles=[max_line[0], avg_line[0]], loc='upper center', bbox_to_anchor=(0.9, 0.45), ncol=1, fontsize=10)\n",
    "\n",
    "\n",
    "plt.tight_layout()\n",
    "\n",
    "# show the plot at a high resolution\n",
    "# plt.savefig('no_ensembled_conditionals_to_accuracy_combined.png', dpi=1200)\n",
    "\n",
    "# plt.print()\n"
   ]
  },
  {
   "cell_type": "code",
   "execution_count": null,
   "metadata": {},
   "outputs": [],
   "source": [
    "import threading\n",
    "import time\n",
    "\n",
    "# A simple function that prints and sleeps\n",
    "def print_numbers(name):\n",
    "    for i in range(1, 6):\n",
    "        time.sleep(2)\n",
    "        print(f\"{name} prints: {i}\")\n",
    "\n",
    "# Creating threads\n",
    "thread1 = threading.Thread(target=print_numbers, args=(\"Thread 1\",))\n",
    "thread2 = threading.Thread(target=print_numbers, args=(\"Thread 2\",))\n",
    "\n",
    "# Starting threads\n",
    "thread1.start()\n",
    "thread2.start()\n",
    "\n",
    "# Waiting for threads to complete\n",
    "thread1.join()\n",
    "thread2.join()\n",
    "\n",
    "print(\"Threads finished execution\")\n"
   ]
  },
  {
   "cell_type": "code",
   "execution_count": null,
   "metadata": {},
   "outputs": [],
   "source": [
    "import importlib\n",
    "import lambada_utils  # Import the module, not just the class\n",
    "importlib.reload(lambada_utils)\n",
    "from lambada_utils import LambadaProcessor  # Re-import the class"
   ]
  },
  {
   "cell_type": "code",
   "execution_count": null,
   "metadata": {},
   "outputs": [],
   "source": [
    "import importlib\n",
    "import general_utils\n",
    "importlib.reload(general_utils)"
   ]
  },
  {
   "cell_type": "code",
   "execution_count": null,
   "metadata": {},
   "outputs": [],
   "source": [
    "model.hf_device_map.keys().__len__()"
   ]
  },
  {
   "cell_type": "code",
   "execution_count": null,
   "metadata": {},
   "outputs": [],
   "source": [
    "general_utils.get_ul2_device_map('6,7').__len__()"
   ]
  }
 ],
 "metadata": {
  "kernelspec": {
   "display_name": "Python 3",
   "language": "python",
   "name": "python3"
  },
  "language_info": {
   "codemirror_mode": {
    "name": "ipython",
    "version": 3
   },
   "file_extension": ".py",
   "mimetype": "text/x-python",
   "name": "python",
   "nbconvert_exporter": "python",
   "pygments_lexer": "ipython3",
   "version": "3.11.5"
  },
  "orig_nbformat": 4
 },
 "nbformat": 4,
 "nbformat_minor": 2
}

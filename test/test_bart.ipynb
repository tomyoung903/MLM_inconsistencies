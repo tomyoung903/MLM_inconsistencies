{
 "cells": [
  {
   "cell_type": "code",
   "execution_count": 20,
   "metadata": {},
   "outputs": [],
   "source": [
    "from transformers import BartForConditionalGeneration, BartTokenizer\n",
    "import torch\n",
    "import json\n",
    "model = BartForConditionalGeneration.from_pretrained(\"facebook/bart-large\", cache_dir = './facebook-bart-large-cache', forced_bos_token_id=0)\n",
    "tokenizer = BartTokenizer.from_pretrained(\"facebook/bart-large\")\n"
   ]
  },
  {
   "cell_type": "code",
   "execution_count": 8,
   "metadata": {},
   "outputs": [],
   "source": [
    "# corpus_file './data/c4-validation.00000-of-00001-list-of-lists.json'\n",
    "corpus_file = '/work/09127/tomyoung/ls6/data/jsons/c4-validation.00000-of-00001-list-of-lists.json'\n",
    "with open(corpus_file, 'r', encoding='utf8') as f:\n",
    "    dicts_realnewslike = json.load(f)"
   ]
  },
  {
   "cell_type": "code",
   "execution_count": 34,
   "metadata": {},
   "outputs": [],
   "source": [
    "# dicts_realnewslike[0][1]\n",
    "example_raw_sequence_bart_tokenized = tokenizer.tokenize('The new offering, which will be available later this month or in early December,') \n",
    "# example_raw_sequence_bart_tokenized_last_10_masked = example_raw_sequence_bart_tokenized[:-10] + ['<mask>']\n"
   ]
  },
  {
   "cell_type": "code",
   "execution_count": 35,
   "metadata": {},
   "outputs": [
    {
     "data": {
      "text/plain": [
       "['The',\n",
       " 'Ġnew',\n",
       " 'Ġoffering',\n",
       " ',',\n",
       " 'Ġwhich',\n",
       " 'Ġwill',\n",
       " 'Ġbe',\n",
       " 'Ġavailable',\n",
       " 'Ġlater',\n",
       " 'Ġthis',\n",
       " 'Ġmonth',\n",
       " 'Ġor',\n",
       " 'Ġin',\n",
       " 'Ġearly',\n",
       " 'ĠDecember',\n",
       " ',']"
      ]
     },
     "execution_count": 35,
     "metadata": {},
     "output_type": "execute_result"
    }
   ],
   "source": [
    "example_raw_sequence_bart_tokenized"
   ]
  },
  {
   "cell_type": "code",
   "execution_count": 38,
   "metadata": {},
   "outputs": [],
   "source": [
    "input_ids = tokenizer.convert_tokens_to_ids(example_raw_sequence_bart_tokenized)\n",
    "# add bos and eos token ids\n",
    "input_ids = [tokenizer.bos_token_id] + input_ids + [tokenizer.eos_token_id]\n",
    "# convert input_ids to a tensor'\n",
    "input_ids = torch.tensor(input_ids).unsqueeze(0)\n",
    "\n",
    "# generate sequences using bart\n",
    "outputs = model.generate(input_ids,\n",
    "                                return_dict_in_generate=True,\n",
    "                                num_beams=10,\n",
    "                                output_scores=True,\n",
    "                                num_return_sequences=10,\n",
    "                                max_new_tokens=1000)"
   ]
  },
  {
   "cell_type": "code",
   "execution_count": 39,
   "metadata": {},
   "outputs": [
    {
     "name": "stdout",
     "output_type": "stream",
     "text": [
      "</s><s>The new offering, which will be available later this month or in early December,</s><pad><pad><pad><pad><pad>\n",
      "</s><s>The new offering, which will be available later this month or in early December, will include:</s><pad><pad>\n",
      "</s><s>The new offering, which will be available later this month or in early December, can be found here.</s>\n",
      "</s><s>The new offering, which will be available later this month or in early December, includes:</s><pad><pad><pad>\n",
      "</s><s>The new offering, which will be available later this month or in early December, will include the following:</s>\n",
      "</s><s>The new offering, which will be available later this month or in early December, is available now.</s><pad>\n",
      "</s><s>The new offering, which will be available later this month or in early December, includes the following features:</s>\n",
      "</s><s>The new offering, which will be available later this month or in early December, includes the following:</s><pad>\n",
      "</s><s>The new offering, which will be available later this month or in early December, can be found here:</s>\n",
      "</s><s>The new offering will be available later this month or in early December,</s><pad><pad><pad><pad><pad><pad><pad>\n"
     ]
    }
   ],
   "source": [
    "# decode outputs.sequences\n",
    "for i in range(10):\n",
    "    print(tokenizer.decode(outputs.sequences[i]))\n",
    "    # print(outputs.sequences_scores[i].sum())"
   ]
  },
  {
   "cell_type": "code",
   "execution_count": null,
   "metadata": {},
   "outputs": [],
   "source": [
    "in"
   ]
  }
 ],
 "metadata": {
  "kernelspec": {
   "display_name": "Python 3",
   "language": "python",
   "name": "python3"
  },
  "language_info": {
   "codemirror_mode": {
    "name": "ipython",
    "version": 3
   },
   "file_extension": ".py",
   "mimetype": "text/x-python",
   "name": "python",
   "nbconvert_exporter": "python",
   "pygments_lexer": "ipython3",
   "version": "3.9.7"
  },
  "orig_nbformat": 4
 },
 "nbformat": 4,
 "nbformat_minor": 2
}

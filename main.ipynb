{
 "cells": [
  {
   "cell_type": "markdown",
   "metadata": {},
   "source": [
    "### Imports and global utils"
   ]
  },
  {
   "cell_type": "code",
   "execution_count": 1,
   "metadata": {},
   "outputs": [
    {
     "name": "stderr",
     "output_type": "stream",
     "text": [
      "/home/nus-ytj/miniconda3/envs/inconsistencies/lib/python3.11/site-packages/tqdm/auto.py:21: TqdmWarning: IProgress not found. Please update jupyter and ipywidgets. See https://ipywidgets.readthedocs.io/en/stable/user_install.html\n",
      "  from .autonotebook import tqdm as notebook_tqdm\n"
     ]
    }
   ],
   "source": [
    "'''imports'''\n",
    "import os\n",
    "# os.environ[\"CUDA_VISIBLE_DEVICES\"]=\"0,1,4,5,6,7\"\n",
    "os.environ[\"CUDA_VISIBLE_DEVICES\"]=\"0\"\n",
    "import pickle\n",
    "# clear GPU memory\n",
    "from utils import general_utils, eoc\n",
    "import torch\n",
    "from transformers import T5ForConditionalGeneration, AutoTokenizer, T5Tokenizer\n",
    "from tqdm import tqdm\n",
    "from datasets import load_dataset, concatenate_datasets\n",
    "from typing import Tuple, List\n",
    "import torch.nn.functional as F\n",
    "import eoc_datasets"
   ]
  },
  {
   "cell_type": "markdown",
   "metadata": {},
   "source": [
    "### Load model"
   ]
  },
  {
   "cell_type": "code",
   "execution_count": 30,
   "metadata": {},
   "outputs": [
    {
     "name": "stderr",
     "output_type": "stream",
     "text": [
      "Special tokens have been added in the vocabulary, make sure the associated word embeddings are fine-tuned or trained.\n"
     ]
    }
   ],
   "source": [
    "# Specify model and load tokenizer\n",
    "# model_identifier = \"google-ul2\"\n",
    "# model_identifier = \"t5-11b\" \n",
    "model_identifier = \"flan-ul2\"\n",
    "if model_identifier == \"t5-11b\":\n",
    "    model_name = \"t5-11b\" # \"google/ul2\" \n",
    "    model_dir = \"t5-11b\" # \"google-ul2\"\n",
    "    mode = 'T5'\n",
    "    no_extra_tokens = 1 # extra_id_0\n",
    "elif model_identifier == \"google-ul2\":\n",
    "    model_name = \"google/ul2\" \n",
    "    model_dir = \"google-ul2\"\n",
    "    mode = '[NLG]' # '[S2S]' is not supported by some functions (poor accuracy)\n",
    "    no_extra_tokens = 1 # extra_id_0\n",
    "elif model_identifier == \"flan-ul2\":\n",
    "    model_name = \"google/flan-ul2\" \n",
    "    model_dir = \"flan-ul2\"\n",
    "    mode = 'Flan-UL2'\n",
    "    no_extra_tokens = 0\n",
    "\n",
    "# Use custom huggingface cache dirs in case the default one has low capacity, since the models are large.\n",
    "MY_HUGGINGFACE_CACHE_DIR ='huggingface_cache'\n",
    "\n",
    "tokenizer = AutoTokenizer.from_pretrained(\n",
    "    model_name,\n",
    "    cache_dir=os.path.join(MY_HUGGINGFACE_CACHE_DIR, model_dir)\n",
    ")\n",
    "\n",
    "# define loss and get extra ids\n",
    "ce_loss = torch.nn.CrossEntropyLoss(ignore_index=tokenizer.pad_token_id) #reduction='avg'\n",
    "ce_loss_sum = torch.nn.CrossEntropyLoss(ignore_index=tokenizer.pad_token_id, reduction='sum') #reduction='sum'"
   ]
  },
  {
   "cell_type": "code",
   "execution_count": 3,
   "metadata": {},
   "outputs": [],
   "source": [
    "RUN_CELL = False   # Load model\n",
    "if RUN_CELL:\n",
    "    model = T5ForConditionalGeneration.from_pretrained(\n",
    "        model_name,\n",
    "        cache_dir=os.path.join(MY_HUGGINGFACE_CACHE_DIR, model_dir),\n",
    "        # low_cpu_mem_usage=True,\n",
    "        # torch_dtype=torch.bfloat16, # ul2\n",
    "        # device_map='balanced', # ul2\n",
    "        device_map='auto', # flan-ul2\n",
    "        load_in_8bit=True # flan-ul2\n",
    "    )"
   ]
  },
  {
   "cell_type": "code",
   "execution_count": 4,
   "metadata": {},
   "outputs": [],
   "source": [
    "# model.encoder.block[0].layer[0].SelfAttention.q.weight.dtype"
   ]
  },
  {
   "cell_type": "markdown",
   "metadata": {},
   "source": [
    "### Get dataset\n"
   ]
  },
  {
   "cell_type": "code",
   "execution_count": 5,
   "metadata": {},
   "outputs": [],
   "source": [
    "# dataset_processor = eoc_datasets.ARCProcessor()\n",
    "# dataset_processor = eoc_datasets.HellaswagProcessor()\n",
    "dataset_processor = eoc_datasets.MMLUProcessor()\n",
    "data = dataset_processor.get_dataset(\n",
    "    set_partition='test', \n",
    "    # shuffle=True, # for hellaswag; index bias: the first 1000 examples have very low accuracy compared to the whole\n",
    "    # first_k_instances=1000, # see above \n",
    ")\n",
    "\n",
    "example_generator = dataset_processor.example_generator"
   ]
  },
  {
   "cell_type": "code",
   "execution_count": 15,
   "metadata": {},
   "outputs": [
    {
     "name": "stderr",
     "output_type": "stream",
     "text": [
      "2280it [00:10, 214.70it/s]"
     ]
    },
    {
     "name": "stdout",
     "output_type": "stream",
     "text": [
      "input len max: 649, min: 21, avg: 54.15263157894737\n",
      "completion len max: 5, min: 1, avg: 3.373245614035088\n"
     ]
    },
    {
     "name": "stderr",
     "output_type": "stream",
     "text": [
      "\n"
     ]
    }
   ],
   "source": [
    "RUN_CELL = True   # set tensors_filtering_criterion by lengths\n",
    "if RUN_CELL:\n",
    "    def tensors_filtering_criterion(input_ids, completions_batch):\n",
    "        # return True\n",
    "        # remove trailing padding from completions   \n",
    "        # print('input_ids:', input_ids)\n",
    "        # print('completions_batch:', completions_batch)\n",
    "        return len(input_ids[0]) > 20 \\\n",
    "            and all([len(general_utils.remove_trailing_zeros_from_1d_tensor(completion)) < 6 for completion in completions_batch]) \\\n",
    "            # and all([len(completions_batch[i][completions_batch[i].nonzero()].squeeze()) > 6 for i in range(len(completions_batch))])\n",
    "\n",
    "    gen = example_generator(data, tokenizer, mode=mode, tensors_filtering_criterion=tensors_filtering_criterion)\n",
    "    input_lens = []\n",
    "    completion_lens = []\n",
    "    for example_id, input_ids, completions_batch, label in tqdm(gen):\n",
    "        input_lens.append(len(input_ids[0]))\n",
    "        completion_lens.append(len(completions_batch[0])) # with padding, this is the max len of the completions\n",
    "    # print(f\"input len > 20 and completion len < 10  and len > 6: {sum([i > 20 and j < 6 for i, j in zip(input_lens, completion_lens)])}\")\n",
    "    # print(f\"completion len < 6: {sum([j < 6 for j in completion_lens])}\")\n",
    "    print(f\"input len max: {max(input_lens)}, min: {min(input_lens)}, avg: {sum(input_lens)/len(input_lens)}\")\n",
    "    print(f\"completion len max: {max(completion_lens)}, min: {min(completion_lens)}, avg: {sum(completion_lens)/len(completion_lens)}\")"
   ]
  },
  {
   "cell_type": "markdown",
   "metadata": {},
   "source": [
    "### Baseline"
   ]
  },
  {
   "cell_type": "code",
   "execution_count": null,
   "metadata": {},
   "outputs": [],
   "source": [
    "RUN_CELL = True    # generate baseline info and conditionals\n",
    "\n",
    "if RUN_CELL:\n",
    "    baseline = dict() \n",
    "    # save the label and the number of completions\n",
    "    gen = example_generator(data, tokenizer, mode, tensors_filtering_criterion=tensors_filtering_criterion)\n",
    "    for example_id, input_ids, completions_batch, label in tqdm(gen):\n",
    "        baseline[example_id] = dict()\n",
    "        baseline[example_id]['label'] = label\n",
    "        baseline[example_id]['no_completions'] = len(completions_batch)\n",
    "        baseline[example_id]['p_map'] = []\n",
    "        p_and_completion = []\n",
    "        outputs = eoc.multi_labels_forward(model, input_ids.cuda(), completions_batch.cuda())\n",
    "\n",
    "        for completion_index in range(len(completions_batch)):\n",
    "            p = -ce_loss(\n",
    "                # Only care about the tokens corresponding to the last word and omit offset tokens \n",
    "                # if the first one is <extra_id_0> and it is omitted\n",
    "                outputs.logits[completion_index][no_extra_tokens:], \n",
    "                completions_batch[completion_index][no_extra_tokens:].cuda()\n",
    "            )\n",
    "\n",
    "            baseline[example_id]['p_map'] += [p.detach().cpu().tolist()]\n"
   ]
  },
  {
   "cell_type": "markdown",
   "metadata": {},
   "source": [
    "### K-offset Conditionals"
   ]
  },
  {
   "cell_type": "code",
   "execution_count": 23,
   "metadata": {},
   "outputs": [
    {
     "name": "stderr",
     "output_type": "stream",
     "text": [
      "0it [00:00, ?it/s]\n",
      "0it [00:00, ?it/s]\n"
     ]
    }
   ],
   "source": [
    "RUN_CELL = True \n",
    "if RUN_CELL:\n",
    "    MAX_OFFSET = 2\n",
    "    p_map_offset = dict() # maps (example_id, offset, completion_index) -> avg_p\n",
    "    for offset in range(1, MAX_OFFSET+1):\n",
    "        gen = example_generator(data, tokenizer, mode, tensors_filtering_criterion=tensors_filtering_criterion)\n",
    "        for example_id, input_ids, completions_batch, label in tqdm(gen):\n",
    "            input_ids_offset, labels_offset = eoc.create_offset_sample_from_batch(\n",
    "                tokenizer,\n",
    "                input_ids,\n",
    "                completions_batch,\n",
    "                offset\n",
    "            )\n",
    "            outputs = eoc.multi_labels_forward(model, input_ids_offset.cuda(), labels_offset.cuda())\n",
    "            for completion_index in range(len(completions_batch)):\n",
    "                avg_log_p = -ce_loss(\n",
    "                    # Only care about the tokens corresponding to the original completion and omit offset tokens \n",
    "                    # if the first one is <extra_id_0> and it is omitted\n",
    "                    outputs.logits[completion_index][no_extra_tokens+offset:], \n",
    "                    labels_offset[completion_index][no_extra_tokens+offset:].cuda()\n",
    "                )\n",
    "                p_map_offset[(example_id, offset, completion_index)] = \\\n",
    "                    avg_log_p.detach().cpu().tolist()"
   ]
  },
  {
   "cell_type": "markdown",
   "metadata": {},
   "source": [
    "### SAP\n",
    "\n",
    "Sequential autoregressive prompting\n",
    "\n",
    "__SAP__ is a particular type of __Ensemble of Conditionals__.\n",
    "\n",
    "It aims to augment the only conditional distribution obtained by masking the target with more distributions. The new distributions are obtained by unmasking the first __offset__ tokens from the target.\n",
    "\n",
    "An example\n",
    "\n",
    "prompt: `What is the best food? <extra_id_0>`\n",
    "\n",
    "candidates:\n",
    "\n",
    "`C1. French fries`\n",
    "\n",
    "`C2. Chicken drumlets`\n",
    "\n",
    "The baseline approach is to input `What is the best food? <extra_id_0>` to the model and obtain the probs of the C's.\n",
    "\n",
    "E.g., `P(C1) = P(French) * P(fries|French)`.\n",
    "\n",
    "SAP masks additional tokens at the start of C for different values of certain distributions.\n",
    "\n",
    "For the offset=1 case, we mask 1 extra token.\n",
    "\n",
    "prompt1: `What is the best food? French <extra_id_0>`\n",
    "\n",
    "prompt2: `What is the best food? Chicken <extra_id_0>`\n",
    "\n",
    "for candidates \n",
    "\n",
    "`C1. fries`\n",
    "\n",
    "`C2. drumlets`\n",
    "\n",
    "This gives us different values for distributions P(fries|French) and P(drumlets|Chicken), which gets put into our ensemble.\n",
    "\n",
    "\n",
    "\n"
   ]
  },
  {
   "cell_type": "code",
   "execution_count": 9,
   "metadata": {},
   "outputs": [],
   "source": [
    "RUN_CELL = False\n",
    "if RUN_CELL:\n",
    "    baseline = dict()\n",
    "    gen = example_generator(data, tokenizer, mode, tensors_filtering_criterion=tensors_filtering_criterion, pad_to_2d_tensor=False)\n",
    "    for example_id, input_ids, completions_batch, label in tqdm(gen):\n",
    "        baseline[example_id] = dict()\n",
    "        baseline[example_id]['label'] = label\n",
    "        baseline[example_id]['no_completions'] = len(completions_batch)\n",
    "        baseline[example_id]['p_map'] = []\n",
    "        for completion_index in range(len(completions_batch)):\n",
    "            # get the sap probs for each (example, completion) pair by using offsets 0~len(completion)-2 (minus the extra_id_0 and the last token)\n",
    "            sap_probs = [] # len(sap_probs) = len(completion) - no_extra_tokens\n",
    "            for offset in range(0, no_extra_tokens-len(completions_batch[completion_index]), -1): \n",
    "                input_ids_sap, completion_ids_sap = eoc.create_offset_sample(\n",
    "                    input_ids,\n",
    "                    completions_batch[completion_index],\n",
    "                    offset # offset is negative for sap\n",
    "                )\n",
    "                # take the first no_extra_tokens + 1 tokens from completion_ids_sap: <extra_id_0> (if it exists) and the first token of the completion\n",
    "                completion_ids_sap = completion_ids_sap[:1+no_extra_tokens].unsqueeze(0)\n",
    "                outputs = model(input_ids_sap.cuda(), labels=completion_ids_sap.cuda())\n",
    "                log_p = -ce_loss(\n",
    "                    outputs.logits[0][no_extra_tokens], # [0] to lose the batch dim, [no_extra_tokens] to skip the <extra_id_0> token\n",
    "                    completion_ids_sap[0][no_extra_tokens].cuda()\n",
    "                )\n",
    "                sap_probs.append(log_p.detach().cpu().tolist())\n",
    "            baseline[example_id]['p_map'] += [sum(sap_probs) / len(sap_probs)]"
   ]
  },
  {
   "cell_type": "markdown",
   "metadata": {},
   "source": [
    "### Multispan Conditionals"
   ]
  },
  {
   "cell_type": "code",
   "execution_count": 10,
   "metadata": {},
   "outputs": [],
   "source": [
    "RUN_CELL = False   # generate multispan conditionals\n",
    "if RUN_CELL:\n",
    "    if mode != \"[NLG]\":\n",
    "        raise ValueError(\"Only NLG mode is supported for multispan conditionals for now\")\n",
    "    span_length = 3\n",
    "    gap_between_spans = 5\n",
    "    num_spans = 1\n",
    "    p_map_multispan = dict()\n",
    "    gen = example_generator(data, tokenizer, mode, tensors_filtering_criterion=tensors_filtering_criterion)\n",
    "\n",
    "    for example_id, input_ids, completions_batch, label in tqdm(gen):\n",
    "        # print(input_ids.shape)\n",
    "        # continue\n",
    "        inputs_ids_multispan, labels_multispan = eoc.create_multiple_span_sample_from_batch(\n",
    "            tokenizer,\n",
    "            input_ids[0], # squeeze 1st dim\n",
    "            completions_batch,\n",
    "            span_length,\n",
    "            gap_between_spans,\n",
    "            num_spans,\n",
    "        )\n",
    "        outputs = eoc.multi_labels_forward(model, inputs_ids_multispan.cuda(), labels_multispan.cuda())\n",
    "\n",
    "        # assert multispan samples are correct \n",
    "        assert completions_batch[completion_index].nonzero().shape[0] == \\\n",
    "            labels_multispan[completion_index][num_spans * (span_length + 1) :].nonzero().shape[0]\n",
    "\n",
    "        for completion_index in range(len(completions_batch)):\n",
    "            avg_log_p = -ce_loss(\n",
    "                # Only care about the tokens corresponding to the completion (see assert below)); \n",
    "                # so the first <extra_id_0> is omitted, and for each span, the span + <extra_id_k> is omitted;\n",
    "                # totally 1 + num_spans * (span_length + 1) tokens are omitted;\n",
    "                # labels_multispan contains paddings.\n",
    "                outputs.logits[completion_index][1 + num_spans * (span_length + 1) :], \n",
    "                labels_multispan[completion_index][1 + num_spans * (span_length + 1) :].cuda()\n",
    "            )\n",
    "            p_map_multispan[(example_id, span_length, gap_between_spans, num_spans, completion_index)] = \\\n",
    "                avg_log_p.detach().cpu().tolist()"
   ]
  },
  {
   "cell_type": "markdown",
   "metadata": {},
   "source": [
    "### Ensemble of Conditionals"
   ]
  },
  {
   "cell_type": "code",
   "execution_count": 12,
   "metadata": {},
   "outputs": [
    {
     "name": "stderr",
     "output_type": "stream",
     "text": [
      "100%|██████████| 2300/2300 [00:00<00:00, 320016.56it/s]"
     ]
    },
    {
     "name": "stdout",
     "output_type": "stream",
     "text": [
      "accuracy: 0.35695652173913045\n"
     ]
    },
    {
     "name": "stderr",
     "output_type": "stream",
     "text": [
      "\n"
     ]
    }
   ],
   "source": [
    "RUN_CELL = True    # Max reduction to emsemble conditionals for the same last word\n",
    "'''Max reduction to emsemble conditionals, i.e., only the maximum avg_log_p is kept for each completion.\n",
    "Emsemble the baseline conditionals with the K-offset conditionals and middle-off conditionals.'''\n",
    "\n",
    "if RUN_CELL:\n",
    "    # Add the baseline (offset = 0 from K-offset ensemble) to the list\n",
    "    ADD_BASELINE = True\n",
    "\n",
    "    # Add K-offset conditionals to the list\n",
    "    ADD_K_OFFSET = False\n",
    "    MAX_OFFSET = 2\n",
    "\n",
    "    # Add multispan conditionals to the list\n",
    "    ADD_MULTISPAN = False\n",
    "    LENGTH_GAP_NUM_TUPLES = [\n",
    "        (3, 5, 1),\n",
    "        # (3, 10, 1), \n",
    "    ] # SPAN_LENGTH, GAP_LENGTH, NUM_SPANS. NUM_SPANS can be float, which is treated as auto_ratio.\n",
    "\n",
    "    count_correct = 0\n",
    "    for example_index in tqdm(range(len(baseline))):\n",
    "        no_completions = baseline[example_index]['no_completions']\n",
    "        # Create a list of tuples (avg_log_p, completion) for each completion\n",
    "        p_and_completion = []\n",
    "        \n",
    "        # add the baseline (offset = 0 from K-offset ensemble) to the list\n",
    "        if ADD_BASELINE:\n",
    "            p_and_completion += [\n",
    "                (baseline[example_index]['p_map'][completion_index], completion_index)\n",
    "                for completion_index in range(no_completions)\n",
    "            ]\n",
    "            \n",
    "        # add the whole K-offset ensemble to the list\n",
    "        if ADD_K_OFFSET:\n",
    "            for offset in range(1, MAX_OFFSET + 1):\n",
    "                p_and_completion += [\n",
    "                    (p_map_offset[(example_index, offset, completion_index)], completion_index)\n",
    "                    for completion_index in range(no_completions)\n",
    "                ]\n",
    "                \n",
    "        if ADD_MULTISPAN:\n",
    "            p_and_completion += [\n",
    "                (p_map_multispan[(example_index, *length_gap_num, completion_index)], completion_index)\n",
    "                for completion_index in range(no_completions)\n",
    "                for length_gap_num in LENGTH_GAP_NUM_TUPLES\n",
    "            ]\n",
    "\n",
    "        # Find the tuple with the maximum avg_log_p; this is essentially max reduction\n",
    "        _, best_completion_index = max(p_and_completion, key=lambda x: x[0])\n",
    "        label = baseline[example_index]['label']\n",
    "        if (isinstance(label, int) and best_completion_index == label) or \\\n",
    "        (isinstance(label, list) and best_completion_index in label) :# TruthfulQA has multiple correct answers\n",
    "            count_correct += 1\n",
    "        \n",
    "    print(\"accuracy:\", count_correct / len(baseline))"
   ]
  }
 ],
 "metadata": {
  "kernelspec": {
   "display_name": "cyn",
   "language": "python",
   "name": "python3"
  },
  "language_info": {
   "codemirror_mode": {
    "name": "ipython",
    "version": 3
   },
   "file_extension": ".py",
   "mimetype": "text/x-python",
   "name": "python",
   "nbconvert_exporter": "python",
   "pygments_lexer": "ipython3",
   "version": "3.11.5"
  }
 },
 "nbformat": 4,
 "nbformat_minor": 2
}

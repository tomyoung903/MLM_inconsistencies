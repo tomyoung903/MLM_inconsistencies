{
 "cells": [
  {
   "cell_type": "markdown",
   "metadata": {},
   "source": [
    "### Imports and global utils"
   ]
  },
  {
   "cell_type": "code",
   "execution_count": 1,
   "metadata": {},
   "outputs": [
    {
     "name": "stderr",
     "output_type": "stream",
     "text": [
      "/home/nus-ytj/miniconda3/envs/inconsistencies/lib/python3.11/site-packages/tqdm/auto.py:21: TqdmWarning: IProgress not found. Please update jupyter and ipywidgets. See https://ipywidgets.readthedocs.io/en/stable/user_install.html\n",
      "  from .autonotebook import tqdm as notebook_tqdm\n"
     ]
    }
   ],
   "source": [
    "'''imports'''\n",
    "import os\n",
    "# os.environ[\"CUDA_VISIBLE_DEVICES\"]=\"0,1,4,5,6,7\"\n",
    "os.environ[\"CUDA_VISIBLE_DEVICES\"]=\"0\"\n",
    "import pickle\n",
    "# clear GPU memory\n",
    "from utils import general_utils, eoc\n",
    "import torch\n",
    "from transformers import T5ForConditionalGeneration, AutoTokenizer, T5Tokenizer\n",
    "from tqdm import tqdm\n",
    "from datasets import load_dataset, concatenate_datasets\n",
    "from typing import Tuple, List\n",
    "import torch.nn.functional as F\n",
    "import eoc_datasets\n",
    "from model_configs import model_configs"
   ]
  },
  {
   "cell_type": "code",
   "execution_count": 2,
   "metadata": {},
   "outputs": [
    {
     "name": "stderr",
     "output_type": "stream",
     "text": [
      "Special tokens have been added in the vocabulary, make sure the associated word embeddings are fine-tuned or trained.\n"
     ]
    }
   ],
   "source": [
    "# Specify model and load tokenizer\n",
    "model_identifier = \"google-ul2\"\n",
    "# model_identifier = \"t5-11b\" \n",
    "# model_identifier = \"flan-ul2\"\n",
    "\n",
    "config = model_configs[model_identifier]\n",
    "\n",
    "model_name, model_dir, mode, no_extra_tokens, kwargs = \\\n",
    "    config['model_name'], config['model_dir'], config['mode'], config['no_extra_tokens'], config['kwargs']\n",
    "\n",
    "# Use custom huggingface cache dirs in case the default one has low capacity, since the models are large.\n",
    "MY_HUGGINGFACE_CACHE_DIR ='huggingface_cache'\n",
    "\n",
    "tokenizer = AutoTokenizer.from_pretrained(\n",
    "    model_name,\n",
    "    cache_dir=os.path.join(MY_HUGGINGFACE_CACHE_DIR, model_dir)\n",
    ")\n",
    "\n",
    "# define loss and get extra ids\n",
    "ce_loss = torch.nn.CrossEntropyLoss(ignore_index=tokenizer.pad_token_id) #reduction='avg'\n",
    "ce_loss_sum = torch.nn.CrossEntropyLoss(ignore_index=tokenizer.pad_token_id, reduction='sum') #reduction='sum'"
   ]
  },
  {
   "cell_type": "code",
   "execution_count": 3,
   "metadata": {},
   "outputs": [
    {
     "name": "stderr",
     "output_type": "stream",
     "text": [
      "Loading checkpoint shards: 100%|██████████| 4/4 [00:27<00:00,  6.84s/it]\n"
     ]
    }
   ],
   "source": [
    "RUN_CELL = True    # Load model\n",
    "if RUN_CELL:\n",
    "    model = T5ForConditionalGeneration.from_pretrained(\n",
    "        model_name,\n",
    "        cache_dir=os.path.join(MY_HUGGINGFACE_CACHE_DIR, model_dir),\n",
    "        **kwargs\n",
    "    )"
   ]
  },
  {
   "cell_type": "code",
   "execution_count": 5,
   "metadata": {},
   "outputs": [
    {
     "name": "stdout",
     "output_type": "stream",
     "text": [
      "Subject: tracking_shuffled_objects_seven_objects\n"
     ]
    },
    {
     "name": "stderr",
     "output_type": "stream",
     "text": [
      "57it [00:06, 10.75it/s]"
     ]
    }
   ],
   "source": [
    "subjects = ['tracking_shuffled_objects_seven_objects', 'salient_translation_error_detection', 'tracking_shuffled_objects_three_objects', 'logical_deduction_five_objects', 'hyperbaton', 'logical_deduction_seven_objects', 'logical_deduction_three_objects', 'snarks', 'disambiguation_qa', 'temporal_sequences', 'tracking_shuffled_objects_five_objects', 'penguins_in_a_table', 'date_understanding']\n",
    "\n",
    "for subject in subjects:\n",
    "    print(f\"Subject: {subject}\")\n",
    "    dataset_processor = eoc_datasets.BigBenchProcessor(subjects=[subject])\n",
    "    data = dataset_processor.get_dataset(\n",
    "        set_partition='train', \n",
    "        # shuffle=True, # for hellaswag; index bias: the first 1000 examples have very low accuracy compared to the whole\n",
    "        # first_k_instances=1000, # see above \n",
    "    )\n",
    "\n",
    "    example_generator = dataset_processor.example_generator\n",
    "    def tensors_filtering_criterion(input_ids, completions_batch):\n",
    "        # return True\n",
    "        # remove trailing padding from completions   \n",
    "        # print('input_ids:', input_ids)\n",
    "        # print('completions_batch:', completions_batch)\n",
    "        return len(input_ids[0]) > 20 \\\n",
    "            and all([len(general_utils.remove_trailing_zeros_from_1d_tensor(completion)) < 5 for completion in completions_batch]) \\\n",
    "            # and all([len(general_utils.remove_trailing_zeros_from_1d_tensor(completion)) < 6 for completion in completions_batch]) \\\n",
    "            # and not all([len(general_utils.remove_trailing_zeros_from_1d_tensor(completion)) < 4 for completion in completions_batch])\n",
    "\n",
    "    gen = example_generator(data, tokenizer, mode=mode, tensors_filtering_criterion=tensors_filtering_criterion)\n",
    "    input_lens = []\n",
    "    completion_lens = []\n",
    "    for example_id, input_ds, completions_batch, label in gen:\n",
    "        input_lens.append(len(input_ids[0]))\n",
    "        completion_lens.append(len(completions_batch[0])) # with padding, this is the max len of the completions\n",
    "    # print(f\"input len > 20 and completion len < 10  and len > 6: {sum([i > 20 and j < 6 for i, j in zip(input_lens, completion_lens)])}\")\n",
    "    # print(f\"completion len < 6: {sum([j < 6 for j in completion_lens])}\")\n",
    "    # print(f\"input len max: {max(input_lens)}, min: {min(input_lens)}, avg: {sum(input_lens)/len(input_lens)}\")\n",
    "    # print(f\"completion len max: {max(completion_lens)}, min: {min(completion_lens)}, avg: {sum(completion_lens)/len(completion_lens)}\")\n",
    "    baseline = dict() \n",
    "    # save the label and the number of completions\n",
    "    gen = example_generator(data, tokenizer, mode, tensors_filtering_criterion=tensors_filtering_criterion)\n",
    "    for example_id, input_ids, completions_batch, label in tqdm(gen):\n",
    "        baseline[example_id] = dict()\n",
    "        baseline[example_id]['label'] = label\n",
    "        baseline[example_id]['no_completions'] = len(completions_batch)\n",
    "        baseline[example_id]['p_map'] = []\n",
    "        p_and_completion = []\n",
    "        outputs = eoc.multi_labels_forward(model, input_ids.cuda(), completions_batch.cuda())\n",
    "\n",
    "        for completion_index in range(len(completions_batch)):\n",
    "            p = -ce_loss(\n",
    "                # Only care about the tokens corresponding to the last word and omit offset tokens \n",
    "                # if the first one is <extra_id_0> and it is omitted\n",
    "                outputs.logits[completion_index][no_extra_tokens:].cuda(), \n",
    "                completions_batch[completion_index][no_extra_tokens:].cuda()\n",
    "            )\n",
    "\n",
    "            baseline[example_id]['p_map'] += [p.detach().cpu().tolist()]\n",
    "    '''Define the EOC function'''\n",
    "    # Max reduction to emsemble conditionals for the same last word\n",
    "    '''Max reduction to emsemble conditionals for the same last word, \n",
    "    i.e., only the maximum avg_log_p is kept for each last word across different range_middle_span_length's and range_middle_to_end_gap's.\n",
    "    Emsemble the baseline conditionals with the K-offset conditionals and middle-off conditionals.'''\n",
    "\n",
    "    def run_eoc(offsets, length_gap_num_tuples):\n",
    "        add_baseline = True\n",
    "        add_k_offset = offsets != []\n",
    "        add_multispan = length_gap_num_tuples != []\n",
    "\n",
    "        count_correct = 0\n",
    "        for example_index in range(len(baseline)):\n",
    "            no_completions = baseline[example_index]['no_completions']\n",
    "            # Create a list of tuples (avg_log_p, completion) for each completion\n",
    "            p_and_completion = []\n",
    "            \n",
    "            # add the baseline (offset = 0 from K-offset ensemble) to the list\n",
    "            if add_baseline:\n",
    "                p_and_completion += [\n",
    "                    (baseline[example_index]['p_map'][completion_index], completion_index)\n",
    "                    for completion_index in range(no_completions)\n",
    "                ]\n",
    "                \n",
    "            # add the whole K-offset ensemble to the list\n",
    "            if add_k_offset:\n",
    "                for offset in offsets:\n",
    "                    p_and_completion += [\n",
    "                        (p_map_offset[(example_index, offset, completion_index)], completion_index)\n",
    "                        for completion_index in range(no_completions)\n",
    "                    ]\n",
    "                    \n",
    "            if add_multispan:\n",
    "                p_and_completion += [\n",
    "                    (p_map_multispan[(example_index, *length_gap_num, completion_index)], completion_index)\n",
    "                    for completion_index in range(no_completions)\n",
    "                    for length_gap_num in length_gap_num_tuples\n",
    "                ]\n",
    "\n",
    "            # Find the tuple with the maximum avg_log_p; this is essentially max reduction\n",
    "            _, best_completion_index = max(p_and_completion, key=lambda x: x[0])\n",
    "            label = baseline[example_index]['label']\n",
    "            if (isinstance(label, int) and best_completion_index == label) or \\\n",
    "            (isinstance(label, list) and best_completion_index in label) :# TruthfulQA has multiple correct answers\n",
    "                count_correct += 1\n",
    "            \n",
    "        # print(\"accuracy:\", count_correct / len(baseline))\n",
    "        return count_correct / len(baseline)\n",
    "    from itertools import combinations\n",
    "    import random        \n",
    "    # K-offset conditionals\n",
    "    ALL_OFFSETS = [1, 2, 3,]\n",
    "    # Multispan conditionals\n",
    "    ALL_LENGTH_GAP_NUM_TUPLES = [\n",
    "        (3, 5, 1),\n",
    "        (3, 5, 2),\n",
    "        (3, 3, 1),\n",
    "        (3, 3, 2),\n",
    "        (3, 4, 1),\n",
    "        (3, 4, 2),\n",
    "    ]\n",
    "    NO_OFFSETS = len(ALL_OFFSETS)\n",
    "    NO_MULTISPAN = len(ALL_LENGTH_GAP_NUM_TUPLES)\n",
    "    NO_DISTS_RANGE = [0]\n",
    "    avg_accs = []\n",
    "    for NO_DISTS in NO_DISTS_RANGE: # no of distributions to ensemble\n",
    "        all_dist_ids = list(combinations(range(NO_MULTISPAN + NO_OFFSETS), NO_DISTS))\n",
    "        # shuffle and take the first 100\n",
    "        random.shuffle(all_dist_ids)\n",
    "        all_dist_ids = all_dist_ids[:500]\n",
    "        all_accs = []\n",
    "        for dist_ids in all_dist_ids:\n",
    "            offsets = []\n",
    "            length_gap_num_tuples = []\n",
    "            for dist_id in dist_ids:\n",
    "                if dist_id < NO_OFFSETS:\n",
    "                    offsets.append(ALL_OFFSETS[dist_id])\n",
    "                else:\n",
    "                    length_gap_num_tuples.append(ALL_LENGTH_GAP_NUM_TUPLES[dist_id - NO_OFFSETS])            \n",
    "            acc = run_eoc(\n",
    "                offsets,\n",
    "                length_gap_num_tuples,\n",
    "            )\n",
    "            # print offsets and length_gap_num_tuples and acc\n",
    "            # print(offsets, length_gap_num_tuples, acc)\n",
    "            all_accs.append(acc)\n",
    "        avg_acc = sum(all_accs) / len(all_accs)\n",
    "        avg_accs.append(avg_acc)\n",
    "        # print number of dists and avg_acc\n",
    "        print(f\"NO_DISTS: {NO_DISTS}, avg_acc: {avg_acc}\")"
   ]
  }
 ],
 "metadata": {
  "kernelspec": {
   "display_name": "cyn",
   "language": "python",
   "name": "python3"
  },
  "language_info": {
   "codemirror_mode": {
    "name": "ipython",
    "version": 3
   },
   "file_extension": ".py",
   "mimetype": "text/x-python",
   "name": "python",
   "nbconvert_exporter": "python",
   "pygments_lexer": "ipython3",
   "version": "3.11.5"
  }
 },
 "nbformat": 4,
 "nbformat_minor": 2
}

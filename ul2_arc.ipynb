{
 "cells": [
  {
   "cell_type": "markdown",
   "metadata": {},
   "source": [
    "### Imports and global utils"
   ]
  },
  {
   "cell_type": "code",
   "execution_count": 2,
   "metadata": {},
   "outputs": [],
   "source": [
    "'''imports'''\n",
    "import os\n",
    "# os.environ[\"CUDA_VISIBLE_DEVICES\"]=\"0,1,4,5,6,7\"\n",
    "os.environ[\"CUDA_VISIBLE_DEVICES\"]=\"2,3\"\n",
    "# clear GPU memory\n",
    "from utils import general_utils, lambada_utils\n",
    "import torch\n",
    "from transformers import T5ForConditionalGeneration, AutoTokenizer, T5Tokenizer\n",
    "from tqdm import tqdm\n",
    "\n",
    "from typing import Tuple, List"
   ]
  },
  {
   "cell_type": "code",
   "execution_count": 3,
   "metadata": {},
   "outputs": [],
   "source": [
    "debug_print = False\n",
    "show = print if debug_print else lambda *args, **kwargs: None"
   ]
  },
  {
   "cell_type": "markdown",
   "metadata": {},
   "source": [
    "### Load tokenizer and model"
   ]
  },
  {
   "cell_type": "code",
   "execution_count": 4,
   "metadata": {},
   "outputs": [
    {
     "name": "stderr",
     "output_type": "stream",
     "text": [
      "Special tokens have been added in the vocabulary, make sure the associated word embeddings are fine-tuned or trained.\n"
     ]
    }
   ],
   "source": [
    "# We are using custom huggingface cache dirs in case the default one doesn't have the capacity, since the models can be quite large.\n",
    "MY_HUGGINGFACE_CACHE_DIR ='huggingface_cache' # relative to this notebook path\n",
    "tokenizer = AutoTokenizer.from_pretrained(\"google/ul2\",\n",
    "                                        cache_dir = MY_HUGGINGFACE_CACHE_DIR+'/google-ul2')\n"
   ]
  },
  {
   "cell_type": "code",
   "execution_count": 5,
   "metadata": {},
   "outputs": [],
   "source": [
    "RUN_CELL = False # Load model 1\n",
    "if RUN_CELL:\n",
    "    model = T5ForConditionalGeneration.from_pretrained(\"google/ul2\",\n",
    "                                                        cache_dir=MY_HUGGINGFACE_CACHE_DIR + '/google-ul2',\n",
    "                                                        low_cpu_mem_usage=True,\n",
    "                                                        torch_dtype=torch.bfloat16,\n",
    "                                                        device_map='balanced')"
   ]
  },
  {
   "cell_type": "markdown",
   "metadata": {},
   "source": [
    "### import MMLU datasets"
   ]
  },
  {
   "cell_type": "code",
   "execution_count": 6,
   "metadata": {},
   "outputs": [],
   "source": [
    "from datasets import load_dataset\n",
    "\n",
    "SUBJECTS = ['ARC-Challenge','ARC-Easy']\n",
    "DATASET_PATH = os.path.join(\"ai2_arc\")\n",
    "\n",
    "ARC_DATAS = [load_dataset(DATASET_PATH, sub) for sub in SUBJECTS]\n",
    "INDEX = [i for i in range(len(SUBJECTS))]\n",
    "NAMES_WITH_DATAS = zip(INDEX, SUBJECTS, ARC_DATAS)"
   ]
  },
  {
   "cell_type": "code",
   "execution_count": 10,
   "metadata": {},
   "outputs": [
    {
     "data": {
      "text/plain": [
       "Dataset({\n",
       "    features: ['id', 'question', 'choices', 'answerKey'],\n",
       "    num_rows: 2251\n",
       "})"
      ]
     },
     "execution_count": 10,
     "metadata": {},
     "output_type": "execute_result"
    }
   ],
   "source": [
    "import eoc_datasets\n",
    "eoc_datasets.ARC.get_dataset(set_partition='train', subset='ARC-Easy')"
   ]
  },
  {
   "cell_type": "markdown",
   "metadata": {},
   "source": [
    "#### Define Loss Function"
   ]
  },
  {
   "cell_type": "code",
   "execution_count": 9,
   "metadata": {},
   "outputs": [],
   "source": [
    "# define loss and get extra ids\n",
    "ce_loss = torch.nn.CrossEntropyLoss(ignore_index=tokenizer.pad_token_id) #reduction='avg'\n",
    "ce_loss_sum = torch.nn.CrossEntropyLoss(ignore_index=tokenizer.pad_token_id, reduction='sum') #reduction='sum'\n",
    "extra_id_0 = torch.tensor([tokenizer.convert_tokens_to_ids(\"<extra_id_0>\")])\n",
    "extra_id_1 = torch.tensor([tokenizer.convert_tokens_to_ids(\"<extra_id_1>\")])"
   ]
  },
  {
   "cell_type": "markdown",
   "metadata": {},
   "source": [
    "#### Define Question Prompt"
   ]
  },
  {
   "cell_type": "code",
   "execution_count": 64,
   "metadata": {},
   "outputs": [],
   "source": [
    "UL2_MODE = \"[NLG]\""
   ]
  },
  {
   "cell_type": "code",
   "execution_count": 66,
   "metadata": {},
   "outputs": [],
   "source": [
    "import torch.nn.functional as F\n",
    "\n",
    "def data_prompting(docs, tokenizer) -> Tuple:\n",
    "    '''\n",
    "        docs: dataset from huggingface datasets, ex:ARC-Challenge['train']\n",
    "        return: Tuple(input_ids, completions_ids_padded, labels)\n",
    "\n",
    "        input[example]: <prompt> \n",
    "        label[example]: A. <choice1> B. <choice2> C. <choice3> D. <choice4>\n",
    "\n",
    "        Todo: few-shot data prompting\n",
    "    '''\n",
    "\n",
    "    # key_to_index = {\"A\":0, \"B\":1, \"C\":2, \"D\":3}\n",
    "    for doc in docs:\n",
    "        texts = doc['choices']['text']\n",
    "        choices_list = doc['choices']['label']\n",
    "        answer = doc['answerKey']\n",
    "        index = choices_list.index(answer)\n",
    "\n",
    "        input_ = UL2_MODE + \" \" + \"Question:\" + \" \" + doc['question'] + \" \" + \"<extra_id_0>\"\n",
    "        # input_ = UL2_MODE + \" \" + doc['question'] + \" \" + \"<extra_id_0>\"\n",
    "        if UL2_MODE == \"[NLG]\":\n",
    "            # completions = [f\"<extra_id_0> {text}\" for text in texts]\n",
    "            completions = [f\"<extra_id_0> Answer: {text}\" for text in texts]\n",
    "        elif UL2_MODE == \"[S2S]\":\n",
    "            # completions = [text for text in texts]\n",
    "            completions = [f\"Answer: {text}\" for text in texts]\n",
    "        else:\n",
    "            raise ValueError(\"UL2_MODE not defined\")\n",
    "        \n",
    "        show(input_)\n",
    "        show(completions)\n",
    "        label = index\n",
    "\n",
    "        input_id = tokenizer(input_, return_tensors=\"pt\").input_ids.to(\"cuda\")\n",
    "\n",
    "        completions_ids = [tokenizer(completion, return_tensors=\"pt\").input_ids.to(\"cuda\")[:,:-1]\\\n",
    "                                                                for completion in completions] # remove <eos> token with [:,:-1]\n",
    "\n",
    "        # Assuming `max_length` is the maximum length you want to pad sequences to\n",
    "        max_length = max(seq.size(1) for seq in completions_ids)\n",
    "\n",
    "        # Pad sequences to the common length\n",
    "        padded_sequences = [F.pad(seq, (0, max_length - seq.size(1)), value=tokenizer.pad_token_id) for seq in completions_ids]\n",
    "\n",
    "        # Use pad_sequence\n",
    "        completions_ids_padded = torch.nn.utils.rnn.pad_sequence(padded_sequences, batch_first=True, padding_value=tokenizer.pad_token_id)\n",
    "\n",
    "        completions_ids_padded = torch.squeeze(completions_ids_padded, dim = 1)\n",
    "        yield input_id, completions_ids_padded, label\n"
   ]
  },
  {
   "cell_type": "markdown",
   "metadata": {},
   "source": [
    "### K-offset Ensemble"
   ]
  },
  {
   "cell_type": "code",
   "execution_count": 12,
   "metadata": {},
   "outputs": [],
   "source": [
    "MAX_OFFSET = 1"
   ]
  },
  {
   "cell_type": "code",
   "execution_count": 13,
   "metadata": {},
   "outputs": [],
   "source": [
    "IS_DEVELOPMENT = True\n",
    "set_partition = 'validation' if IS_DEVELOPMENT else 'test' "
   ]
  },
  {
   "cell_type": "code",
   "execution_count": 67,
   "metadata": {},
   "outputs": [
    {
     "name": "stderr",
     "output_type": "stream",
     "text": [
      "299it [01:08,  4.35it/s]\n"
     ]
    }
   ],
   "source": [
    "RUN_CELL = 1      # Obtain the avg_log_p_map_offset\n",
    "\n",
    "TOTAL_CASE = 0\n",
    "ACCURATE_CASE = 0\n",
    "\n",
    "if RUN_CELL:\n",
    "    avg_log_p_map_offset = dict() # (id, offset, completion_index) -> avg_log_p of the tokens constituting the last word (might be punctuated)\n",
    "    \n",
    "    for example_index in [0]: # tqdm(range(len(INDEX))): \n",
    "        data = ARC_DATAS[example_index]\n",
    "        # print(SUBJECTS[example_index])\n",
    "    \n",
    "        gen = data_prompting(data[set_partition], tokenizer)\n",
    "\n",
    "        for input_ids, completions_batch, label in tqdm(gen):\n",
    "            avg_log_p_and_completion = []\n",
    "            outputs = lambada_utils.multi_labels_forward(model, input_ids, completions_batch)\n",
    "\n",
    "            for completion_index in range(len(completions_batch)):\n",
    "                if UL2_MODE == \"[NLG]\":\n",
    "                    avg_log_p = -ce_loss(\n",
    "                            # the first one is <extra_id_0> and omitted\n",
    "                            outputs.logits[completion_index][1:], \n",
    "                            completions_batch[completion_index][1:]\n",
    "                    )   \n",
    "                elif UL2_MODE == \"[S2S]\":\n",
    "                    avg_log_p = -ce_loss(\n",
    "                            # the first one is <extra_id_0> and omitted\n",
    "                            outputs.logits[completion_index], \n",
    "                            completions_batch[completion_index]\n",
    "                    )\n",
    "                avg_log_p_map_offset[(example_index, 0, completion_index)] = \\\n",
    "                    avg_log_p.detach().cpu().tolist()\n",
    "                \n",
    "                avg_log_p_and_completion.append([avg_log_p.detach().cpu().tolist(), completion_index])\n",
    "\n",
    "            best_avg_log_p, best_completion_index = max(avg_log_p_and_completion, key=lambda x: x[0])\n",
    "\n",
    "            if best_completion_index == label:\n",
    "                ACCURATE_CASE += 1\n",
    "            TOTAL_CASE += 1\n",
    "            # break\n",
    "        # break"
   ]
  },
  {
   "cell_type": "markdown",
   "metadata": {},
   "source": [
    "### Experiment Log\n",
    "\n",
    "with question: and answer:\n",
    "challenge : 0.3745819397993311\n",
    "easy: 0.6035087719298246\n",
    "\n",
    "without question: and answer:\n",
    "challenge : 0.3377926421404682\n",
    "easy: 0.5666666666666667\n",
    "\n",
    "S2S mode without question: and answer:\n",
    "challenge : 0.3411371237458194\n",
    "easy: \n",
    "\n",
    "S2S mode with question: and answer:\n",
    "challenge : 0.3511705685618729\n",
    "easy:"
   ]
  },
  {
   "cell_type": "code",
   "execution_count": 63,
   "metadata": {},
   "outputs": [
    {
     "data": {
      "text/plain": [
       "0.3511705685618729"
      ]
     },
     "execution_count": 63,
     "metadata": {},
     "output_type": "execute_result"
    }
   ],
   "source": [
    "ACCURATE_CASE/TOTAL_CASE"
   ]
  }
 ],
 "metadata": {
  "kernelspec": {
   "display_name": "cyn",
   "language": "python",
   "name": "python3"
  },
  "language_info": {
   "codemirror_mode": {
    "name": "ipython",
    "version": 3
   },
   "file_extension": ".py",
   "mimetype": "text/x-python",
   "name": "python",
   "nbconvert_exporter": "python",
   "pygments_lexer": "ipython3",
   "version": "3.11.5"
  }
 },
 "nbformat": 4,
 "nbformat_minor": 2
}

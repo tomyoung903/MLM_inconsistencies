{
 "cells": [
  {
   "cell_type": "markdown",
   "metadata": {},
   "source": [
    "Add and commit files and push them to github using git python API and access token\n",
    "\n"
   ]
  },
  {
   "cell_type": "markdown",
   "metadata": {},
   "source": [
    "<h1 style=\"font-size: 20px;\"><a class=\"anchor\" id=\"0\"></a>Initialization with token, remote repo_url, and repo_path</h1>\n"
   ]
  },
  {
   "cell_type": "code",
   "execution_count": 7,
   "metadata": {},
   "outputs": [],
   "source": [
    "import git\n",
    "import os\n",
    "\n",
    "repo_path = os.getcwd()\n",
    "# Initialize the repo object\n",
    "repo = git.Repo(repo_path)\n"
   ]
  },
  {
   "cell_type": "markdown",
   "metadata": {},
   "source": [
    "<h1 style=\"font-size: 20px;\"><a class=\"anchor\" id=\"1\"></a>Choose the files with EXCLUDE_FOLDERS and MAX_FILE_SIZE</h1>"
   ]
  },
  {
   "cell_type": "code",
   "execution_count": null,
   "metadata": {},
   "outputs": [],
   "source": [
    "# file all files in the directory and all subdirectories iteratively down to the last level\n",
    "import os\n",
    "file_list = []\n",
    "for root, dirs, files in os.walk(repo_path):\n",
    "    for file in files:\n",
    "        file_list.append(os.path.join(root, file))\n",
    "\n",
    "# make sure it exists (sometimes there are broken links)\n",
    "file_list = [file for file in file_list if os.path.exists(file)]\n",
    "\n",
    "# exclude certain folders\n",
    "EXCLUDE_FOLDERS = ['.git', 'dustbin', 'possibly_deprecated', 'llm_cache']\n",
    "# add the full path to the exclude folders\n",
    "EXCLUDE_FOLDERS = [repo_path + '/' + exclude_folder + '/' for exclude_folder in EXCLUDE_FOLDERS]\n",
    "\n",
    "file_list = [file for file in file_list if not any(exclude_folder in file for exclude_folder in EXCLUDE_FOLDERS)]\n",
    "\n",
    "\n",
    "# MAX_FILE_SIZE = 1MB\n",
    "MAX_FILE_SIZE = 1 * 1024 * 1024\n",
    "file_list = [file for file in file_list if os.path.getsize(file) <= MAX_FILE_SIZE]\n",
    "\n",
    "file_list # this is the list of files that will be added to the commit"
   ]
  },
  {
   "cell_type": "markdown",
   "metadata": {},
   "source": [
    "<h1 style=\"font-size: 20px;\"><a class=\"anchor\" id=\"2\"></a>Add files</h1>\n"
   ]
  },
  {
   "cell_type": "code",
   "execution_count": 8,
   "metadata": {},
   "outputs": [
    {
     "data": {
      "text/plain": [
       "[(100644, 585b299d6b9d8eef86b7b75b698b9742818a14a9, 0, git_operations.ipynb)]"
      ]
     },
     "execution_count": 8,
     "metadata": {},
     "output_type": "execute_result"
    }
   ],
   "source": [
    "repo.index.add('git_operations.ipynb')"
   ]
  },
  {
   "cell_type": "markdown",
   "metadata": {},
   "source": [
    "<h1 style=\"font-size: 20px;\"><a class=\"anchor\" id=\"3\"></a>Delete files</h1>"
   ]
  },
  {
   "cell_type": "code",
   "execution_count": null,
   "metadata": {},
   "outputs": [],
   "source": [
    "# git rm --cached new_dir/new_file\n",
    "repo.index.remove(['publication/pics/eoc_max_pooling.png'], working_tree=False)"
   ]
  },
  {
   "cell_type": "markdown",
   "metadata": {},
   "source": [
    "<h1 style=\"font-size: 20px;\"><a class=\"anchor\" id=\"4\"></a>Commit and push</h1>"
   ]
  },
  {
   "cell_type": "code",
   "execution_count": 18,
   "metadata": {},
   "outputs": [],
   "source": [
    "'''Commit'''\n",
    "from datetime import datetime, timedelta\n",
    "\n",
    "# Get the current Singapore time\n",
    "current_utc_time = datetime.utcnow()\n",
    "time_plus_8_hours = current_utc_time + timedelta(hours=8)\n",
    "message_utc8 = time_plus_8_hours.strftime(\"%Y-%m-%d %H:%M:%S\")\n",
    "repo.index.commit(str(message_utc8))"
   ]
  },
  {
   "cell_type": "code",
   "execution_count": 15,
   "metadata": {},
   "outputs": [
    {
     "data": {
      "text/plain": [
       "datetime.datetime(2023, 11, 6, 13, 50, 28, 118084, tzinfo=datetime.timezone.utc)"
      ]
     },
     "execution_count": 15,
     "metadata": {},
     "output_type": "execute_result"
    }
   ],
   "source": [
    "current_utc_time"
   ]
  },
  {
   "cell_type": "code",
   "execution_count": 10,
   "metadata": {},
   "outputs": [
    {
     "data": {
      "text/plain": [
       "[<git.remote.PushInfo at 0x147f7f346de0>]"
      ]
     },
     "execution_count": 10,
     "metadata": {},
     "output_type": "execute_result"
    }
   ],
   "source": [
    "'''Push'''\n",
    "PUSH_URL = 'git@github.com:tomyoung903/MLM_inconsistencies.git'\n",
    "# Set the repository's push URL with the token\n",
    "repo.remote().set_url(PUSH_URL, push=True)\n",
    "# Push changes\n",
    "repo.remote().push()  # Assuming there's only one item in the list"
   ]
  }
 ],
 "metadata": {
  "kernelspec": {
   "display_name": "llm-eval",
   "language": "python",
   "name": "python3"
  },
  "language_info": {
   "codemirror_mode": {
    "name": "ipython",
    "version": 3
   },
   "file_extension": ".py",
   "mimetype": "text/x-python",
   "name": "python",
   "nbconvert_exporter": "python",
   "pygments_lexer": "ipython3",
   "version": "3.10.13"
  }
 },
 "nbformat": 4,
 "nbformat_minor": 2
}

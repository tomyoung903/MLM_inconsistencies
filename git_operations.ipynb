{
 "cells": [
  {
   "cell_type": "markdown",
   "metadata": {},
   "source": [
    "Add and commit files and push them to github using git python API and access token\n",
    "\n"
   ]
  },
  {
   "cell_type": "markdown",
   "metadata": {},
   "source": [
    "<h1 style=\"font-size: 20px;\"><a class=\"anchor\" id=\"0\"></a>Initialization with token, remote repo_url, and repo_path</h1>\n"
   ]
  },
  {
   "cell_type": "code",
   "execution_count": 1,
   "metadata": {},
   "outputs": [],
   "source": [
    "import git\n",
    "import os\n",
    "\n",
    "repo_path = os.getcwd()\n",
    "# Initialize the repo object\n",
    "repo = git.Repo(repo_path)\n"
   ]
  },
  {
   "cell_type": "code",
   "execution_count": 4,
   "metadata": {},
   "outputs": [
    {
     "name": "stdout",
     "output_type": "stream",
     "text": [
      "Untracked files:\n",
      "data/pkls/[NLG]_ul2_lambada_vanilla_beam_search_results_2023-12-07-11:25:07.pickle\n",
      "\u001b[31mSize: \u001b[0m5.81 MB\n",
      "data/pkls/avg_log_p_map_max_offset_15_2023-12-07-13:44:15.pickle\n",
      "\u001b[31mSize: \u001b[0m4.62 MB\n",
      "data/pkls/avg_log_p_map_middle_off_length_3_gap_5_num_1_2023-12-12-09:03:19.pickle\n",
      "\u001b[31mSize: \u001b[0m0.36 MB\n",
      "data/pkls/avg_log_p_map_middle_off_validation_length_3_gap_5_2023-12-01-04:22:26.pickle\n",
      "\u001b[31mSize: \u001b[0m1.14 MB\n",
      "data/pkls/avg_log_p_map_multiple_spans_test_length_3_gap_5_auto_numspan_2023-12-13-07:11:35.pickle\n",
      "\u001b[31mSize: \u001b[0m0.39 MB\n",
      "data/pkls/avg_log_p_map_multiple_spans_test_length_3_gap_5_numspan_1_multispan2023-12-13-07:52:08.pickle\n",
      "\u001b[31mSize: \u001b[0m0.39 MB\n",
      "data/pkls/middle_off_samples_length_3_gap_5_num_1_2023-12-12-08:47:19.pickle\n",
      "\u001b[31mSize: \u001b[0m7.69 MB\n",
      "data/pkls/middle_off_samples_validation_length_3_gap_5_2023-12-01-04:09:07.pickle\n",
      "\u001b[31mSize: \u001b[0m10.75 MB\n",
      "data/pkls/middle_off_samples_validation_length_3_gap_5_2023-12-01-04:09:58.pickle\n",
      "\u001b[31mSize: \u001b[0m10.75 MB\n",
      "data/pkls/offset_samples_max_offset_15_fixed_spaced_punc_2023-12-07-11:47:28.pickle\n",
      "\u001b[31mSize: \u001b[0m118.88 MB\n",
      "temp.out\n",
      "\u001b[31mSize: \u001b[0m0.00 MB\n",
      "test_and_backup/ul2_eoc_backup.ipynb\n",
      "\u001b[31mSize: \u001b[0m0.40 MB\n",
      "test_and_backup/ul2_eoc_backup_dec_13_2023.ipynb\n",
      "\u001b[31mSize: \u001b[0m0.04 MB\n",
      "\n"
     ]
    }
   ],
   "source": [
    "# Check untracked files and their sizes \n",
    "import os\n",
    "from termcolor import colored\n",
    "untracked_files = repo.untracked_files\n",
    "if untracked_files:\n",
    "    print(\"Untracked files:\")\n",
    "    for untracked_file in untracked_files:\n",
    "        print(untracked_file)\n",
    "        print(colored(\"Size: \", \"red\"), end=\"\")\n",
    "        size = os.path.getsize(untracked_file)\n",
    "        # Convert to MB\n",
    "        size = size / (1024 * 1024)\n",
    "        print(\"{:.2f} MB\".format(size))\n",
    "    print(\"\")"
   ]
  },
  {
   "cell_type": "markdown",
   "metadata": {},
   "source": [
    "<h1 style=\"font-size: 20px;\"><a class=\"anchor\" id=\"1\"></a>Choose the files with EXCLUDE_FOLDERS and MAX_FILE_SIZE</h1>"
   ]
  },
  {
   "cell_type": "code",
   "execution_count": null,
   "metadata": {},
   "outputs": [],
   "source": [
    "# file all files in the directory and all subdirectories iteratively down to the last level\n",
    "import os\n",
    "file_list = []\n",
    "for root, dirs, files in os.walk(repo_path):\n",
    "    for file in files:\n",
    "        file_list.append(os.path.join(root, file))\n",
    "\n",
    "# make sure it exists (sometimes there are broken links)\n",
    "file_list = [file for file in file_list if os.path.exists(file)]\n",
    "\n",
    "# exclude certain folders\n",
    "EXCLUDE_FOLDERS = ['.git', 'dustbin', 'possibly_deprecated', 'llm_cache']\n",
    "# add the full path to the exclude folders\n",
    "EXCLUDE_FOLDERS = [repo_path + '/' + exclude_folder + '/' for exclude_folder in EXCLUDE_FOLDERS]\n",
    "\n",
    "file_list = [file for file in file_list if not any(exclude_folder in file for exclude_folder in EXCLUDE_FOLDERS)]\n",
    "\n",
    "\n",
    "# MAX_FILE_SIZE = 1MB\n",
    "MAX_FILE_SIZE = 1 * 1024 * 1024\n",
    "file_list = [file for file in file_list if os.path.getsize(file) <= MAX_FILE_SIZE]\n",
    "\n",
    "file_list # this is the list of files that will be added to the commit\n",
    "# WARNING: omit .git files"
   ]
  },
  {
   "cell_type": "markdown",
   "metadata": {},
   "source": [
    "<h1 style=\"font-size: 20px;\"><a class=\"anchor\" id=\"2\"></a>Add files</h1>\n"
   ]
  },
  {
   "cell_type": "code",
   "execution_count": 8,
   "metadata": {},
   "outputs": [
    {
     "data": {
      "text/plain": [
       "[(100644, 75e8ab01fccda85899f2bdc3135eb47e56417576, 0, requirements.txt)]"
      ]
     },
     "execution_count": 8,
     "metadata": {},
     "output_type": "execute_result"
    }
   ],
   "source": [
    "repo.index.add('requirements.txt')"
   ]
  },
  {
   "cell_type": "markdown",
   "metadata": {},
   "source": [
    "<h1 style=\"font-size: 20px;\"><a class=\"anchor\" id=\"3\"></a>Delete files</h1>"
   ]
  },
  {
   "cell_type": "code",
   "execution_count": null,
   "metadata": {},
   "outputs": [],
   "source": [
    "# git rm --cached new_dir/new_file\n",
    "repo.index.remove(['publication/pics/eoc_max_pooling.png'], working_tree=False)"
   ]
  },
  {
   "cell_type": "markdown",
   "metadata": {},
   "source": [
    "<h1 style=\"font-size: 20px;\"><a class=\"anchor\" id=\"4\"></a>Commit and push</h1>"
   ]
  },
  {
   "cell_type": "code",
   "execution_count": 9,
   "metadata": {},
   "outputs": [
    {
     "data": {
      "text/plain": [
       "<git.Commit \"b5587aa1b039877c67408439c675a4683ab22fbb\">"
      ]
     },
     "execution_count": 9,
     "metadata": {},
     "output_type": "execute_result"
    }
   ],
   "source": [
    "'''Commit'''\n",
    "from datetime import datetime, timedelta\n",
    "\n",
    "# Get the current Singapore time\n",
    "current_utc_time = datetime.utcnow()\n",
    "time_plus_8_hours = current_utc_time + timedelta(hours=8)\n",
    "message_utc8 = time_plus_8_hours.strftime(\"%Y-%m-%d %H:%M:%S\")\n",
    "repo.index.commit(str(message_utc8))"
   ]
  },
  {
   "cell_type": "code",
   "execution_count": 11,
   "metadata": {},
   "outputs": [
    {
     "ename": "GitCommandError",
     "evalue": "Cmd('git') failed due to: exit code(128)\n  cmdline: git push --porcelain -- origin\n  stderr: 'fatal: could not read Username for 'https://github.com': No such device or address'",
     "output_type": "error",
     "traceback": [
      "\u001b[0;31m---------------------------------------------------------------------------\u001b[0m",
      "\u001b[0;31mGitCommandError\u001b[0m                           Traceback (most recent call last)",
      "\u001b[1;32m/data/personal/nus-ytj/MLM_inconsistencies/git_operations.ipynb Cell 12\u001b[0m line \u001b[0;36m6\n\u001b[1;32m      <a href='vscode-notebook-cell://ssh-remote%2Bhpc-ai-01.d2.comp.nus.edu.sg/data/personal/nus-ytj/MLM_inconsistencies/git_operations.ipynb#X15sdnNjb2RlLXJlbW90ZQ%3D%3D?line=3'>4</a>\u001b[0m repo\u001b[39m.\u001b[39mremote()\u001b[39m.\u001b[39mset_url(PUSH_URL, push\u001b[39m=\u001b[39m\u001b[39mTrue\u001b[39;00m)\n\u001b[1;32m      <a href='vscode-notebook-cell://ssh-remote%2Bhpc-ai-01.d2.comp.nus.edu.sg/data/personal/nus-ytj/MLM_inconsistencies/git_operations.ipynb#X15sdnNjb2RlLXJlbW90ZQ%3D%3D?line=4'>5</a>\u001b[0m \u001b[39m# Push changes\u001b[39;00m\n\u001b[0;32m----> <a href='vscode-notebook-cell://ssh-remote%2Bhpc-ai-01.d2.comp.nus.edu.sg/data/personal/nus-ytj/MLM_inconsistencies/git_operations.ipynb#X15sdnNjb2RlLXJlbW90ZQ%3D%3D?line=5'>6</a>\u001b[0m repo\u001b[39m.\u001b[39mremote()\u001b[39m.\u001b[39mpush()\n",
      "File \u001b[0;32m~/miniconda3/envs/inconsistencies/lib/python3.11/site-packages/git/remote.py:1117\u001b[0m, in \u001b[0;36mRemote.push\u001b[0;34m(self, refspec, progress, kill_after_timeout, allow_unsafe_protocols, allow_unsafe_options, **kwargs)\u001b[0m\n\u001b[1;32m   1105\u001b[0m     Git\u001b[39m.\u001b[39mcheck_unsafe_options(options\u001b[39m=\u001b[39m\u001b[39mlist\u001b[39m(kwargs\u001b[39m.\u001b[39mkeys()), unsafe_options\u001b[39m=\u001b[39m\u001b[39mself\u001b[39m\u001b[39m.\u001b[39munsafe_git_push_options)\n\u001b[1;32m   1107\u001b[0m proc \u001b[39m=\u001b[39m \u001b[39mself\u001b[39m\u001b[39m.\u001b[39mrepo\u001b[39m.\u001b[39mgit\u001b[39m.\u001b[39mpush(\n\u001b[1;32m   1108\u001b[0m     \u001b[39m\"\u001b[39m\u001b[39m--\u001b[39m\u001b[39m\"\u001b[39m,\n\u001b[1;32m   1109\u001b[0m     \u001b[39mself\u001b[39m,\n\u001b[0;32m   (...)\u001b[0m\n\u001b[1;32m   1115\u001b[0m     \u001b[39m*\u001b[39m\u001b[39m*\u001b[39mkwargs,\n\u001b[1;32m   1116\u001b[0m )\n\u001b[0;32m-> 1117\u001b[0m \u001b[39mreturn\u001b[39;00m \u001b[39mself\u001b[39m\u001b[39m.\u001b[39m_get_push_info(proc, progress, kill_after_timeout\u001b[39m=\u001b[39mkill_after_timeout)\n",
      "File \u001b[0;32m~/miniconda3/envs/inconsistencies/lib/python3.11/site-packages/git/remote.py:926\u001b[0m, in \u001b[0;36mRemote._get_push_info\u001b[0;34m(self, proc, progress, kill_after_timeout)\u001b[0m\n\u001b[1;32m    924\u001b[0m stderr_text \u001b[39m=\u001b[39m progress\u001b[39m.\u001b[39merror_lines \u001b[39mand\u001b[39;00m \u001b[39m\"\u001b[39m\u001b[39m\\n\u001b[39;00m\u001b[39m\"\u001b[39m\u001b[39m.\u001b[39mjoin(progress\u001b[39m.\u001b[39merror_lines) \u001b[39mor\u001b[39;00m \u001b[39m\"\u001b[39m\u001b[39m\"\u001b[39m\n\u001b[1;32m    925\u001b[0m \u001b[39mtry\u001b[39;00m:\n\u001b[0;32m--> 926\u001b[0m     proc\u001b[39m.\u001b[39mwait(stderr\u001b[39m=\u001b[39mstderr_text)\n\u001b[1;32m    927\u001b[0m \u001b[39mexcept\u001b[39;00m \u001b[39mException\u001b[39;00m \u001b[39mas\u001b[39;00m e:\n\u001b[1;32m    928\u001b[0m     \u001b[39m# This is different than fetch (which fails if there is any std_err\u001b[39;00m\n\u001b[1;32m    929\u001b[0m     \u001b[39m# even if there is an output)\u001b[39;00m\n\u001b[1;32m    930\u001b[0m     \u001b[39mif\u001b[39;00m \u001b[39mnot\u001b[39;00m output:\n",
      "File \u001b[0;32m~/miniconda3/envs/inconsistencies/lib/python3.11/site-packages/git/cmd.py:600\u001b[0m, in \u001b[0;36mGit.AutoInterrupt.wait\u001b[0;34m(self, stderr)\u001b[0m\n\u001b[1;32m    598\u001b[0m     errstr \u001b[39m=\u001b[39m read_all_from_possibly_closed_stream(p_stderr)\n\u001b[1;32m    599\u001b[0m     log\u001b[39m.\u001b[39mdebug(\u001b[39m\"\u001b[39m\u001b[39mAutoInterrupt wait stderr: \u001b[39m\u001b[39m%r\u001b[39;00m\u001b[39m\"\u001b[39m \u001b[39m%\u001b[39m (errstr,))\n\u001b[0;32m--> 600\u001b[0m     \u001b[39mraise\u001b[39;00m GitCommandError(remove_password_if_present(\u001b[39mself\u001b[39m\u001b[39m.\u001b[39margs), status, errstr)\n\u001b[1;32m    601\u001b[0m \u001b[39mreturn\u001b[39;00m status\n",
      "\u001b[0;31mGitCommandError\u001b[0m: Cmd('git') failed due to: exit code(128)\n  cmdline: git push --porcelain -- origin\n  stderr: 'fatal: could not read Username for 'https://github.com': No such device or address'"
     ]
    }
   ],
   "source": [
    "'''Push'''\n",
    "PUSH_URL = 'git@github.com:tomyoung903/MLM_inconsistencies.git'\n",
    "# Set the repository's push URL with the token\n",
    "repo.remote().set_url(PUSH_URL, push=True)\n",
    "# Push changes\n",
    "repo.remote().push()  # Assuming there's only one item in the list"
   ]
  },
  {
   "cell_type": "code",
   "execution_count": 7,
   "metadata": {},
   "outputs": [
    {
     "data": {
      "text/plain": [
       "<git.Remote \"origin\">"
      ]
     },
     "execution_count": 7,
     "metadata": {},
     "output_type": "execute_result"
    }
   ],
   "source": [
    "repo.remote()"
   ]
  }
 ],
 "metadata": {
  "kernelspec": {
   "display_name": "llm-eval",
   "language": "python",
   "name": "python3"
  },
  "language_info": {
   "codemirror_mode": {
    "name": "ipython",
    "version": 3
   },
   "file_extension": ".py",
   "mimetype": "text/x-python",
   "name": "python",
   "nbconvert_exporter": "python",
   "pygments_lexer": "ipython3",
   "version": "3.11.5"
  }
 },
 "nbformat": 4,
 "nbformat_minor": 2
}

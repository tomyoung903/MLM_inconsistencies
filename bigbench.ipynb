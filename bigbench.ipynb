{
 "cells": [
  {
   "cell_type": "code",
   "execution_count": 1,
   "metadata": {},
   "outputs": [
    {
     "name": "stderr",
     "output_type": "stream",
     "text": [
      "/home/nus-ytj/miniconda3/envs/inconsistencies/lib/python3.11/site-packages/tqdm/auto.py:21: TqdmWarning: IProgress not found. Please update jupyter and ipywidgets. See https://ipywidgets.readthedocs.io/en/stable/user_install.html\n",
      "  from .autonotebook import tqdm as notebook_tqdm\n"
     ]
    }
   ],
   "source": [
    "import datasets"
   ]
  },
  {
   "cell_type": "code",
   "execution_count": 2,
   "metadata": {},
   "outputs": [],
   "source": [
    "subjects = ['tracking_shuffled_objects_seven_objects', 'salient_translation_error_detection', 'tracking_shuffled_objects_three_objects', 'geometric_shapes', 'object_counting', 'word_sorting', 'logical_deduction_five_objects', 'hyperbaton', 'sports_understanding', 'logical_deduction_seven_objects', 'multistep_arithmetic_two', 'ruin_names', 'causal_judgement', 'logical_deduction_three_objects', 'formal_fallacies', 'snarks', 'boolean_expressions', 'reasoning_about_colored_objects', 'dyck_languages', 'navigate', 'disambiguation_qa', 'temporal_sequences', 'web_of_lies', 'tracking_shuffled_objects_five_objects', 'penguins_in_a_table', 'movie_recommendation', 'date_understanding']"
   ]
  },
  {
   "cell_type": "code",
   "execution_count": 3,
   "metadata": {},
   "outputs": [],
   "source": [
    "import traceback\n",
    "identified_subjects = []\n",
    "for subject in subjects:\n",
    "    try:\n",
    "        set_partition = 'train'\n",
    "        key_to_index = {\"(A)\":0, \"(B)\":1, \"(C)\":2, \"(D)\":3, \"(E)\":4, \"(F)\":5, \"(G)\":6, \"(H)\":7, \"(I)\":8, \"(J)\":9}\n",
    "        dataset = datasets.load_dataset(\"maveriq/bigbenchhard\", subject)[set_partition]\n",
    "        \n",
    "        if any([dataset[i]['target'] not in key_to_index for i in range(len(dataset))]):\n",
    "            continue\n",
    "        # print(subject)\n",
    "        identified_subjects.append(subject)\n",
    "        # print(key_to_index[dataset[i]['target']])\n",
    "        i = 0\n",
    "        # Splitting the text to isolate the options part\n",
    "        input_text, options_text = dataset[i]['input'].split(\"Options:\\n\")\n",
    "        if input_text.endswith(\"\\n\"):\n",
    "            input_text = input_text[:-1]\n",
    "        # print(input_text)\n",
    "        # Splitting the options part by newline to get each option\n",
    "        options_list = options_text.split(\"\\n\")\n",
    "\n",
    "        # print(options_list)\n",
    "        options_list = [option[4:] for option in options_list]\n",
    "        # print(options_list)\n",
    "    except:\n",
    "        # print error stack trace\n",
    "        traceback.print_exc()"
   ]
  },
  {
   "cell_type": "code",
   "execution_count": 4,
   "metadata": {},
   "outputs": [
    {
     "data": {
      "text/plain": [
       "\"['tracking_shuffled_objects_seven_objects', 'salient_translation_error_detection', 'tracking_shuffled_objects_three_objects', 'logical_deduction_five_objects', 'hyperbaton', 'logical_deduction_seven_objects', 'logical_deduction_three_objects', 'snarks', 'disambiguation_qa', 'temporal_sequences', 'tracking_shuffled_objects_five_objects', 'penguins_in_a_table', 'date_understanding']\""
      ]
     },
     "execution_count": 4,
     "metadata": {},
     "output_type": "execute_result"
    }
   ],
   "source": [
    "identified_subjects.__repr__()"
   ]
  }
 ],
 "metadata": {
  "kernelspec": {
   "display_name": "inconsistencies",
   "language": "python",
   "name": "python3"
  },
  "language_info": {
   "codemirror_mode": {
    "name": "ipython",
    "version": 3
   },
   "file_extension": ".py",
   "mimetype": "text/x-python",
   "name": "python",
   "nbconvert_exporter": "python",
   "pygments_lexer": "ipython3",
   "version": "3.11.5"
  }
 },
 "nbformat": 4,
 "nbformat_minor": 2
}

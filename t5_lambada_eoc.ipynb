{
 "cells": [
  {
   "cell_type": "markdown",
   "metadata": {},
   "source": [
    "Add and commit files and push them to github using git python API and access token\n",
    "\n",
    "\n",
    "\n",
    "<span style=\"font-size:25px;\">Table of Contents</span>\n",
    "\n",
    "* [Initialization with token, remote repo_url, and repo_path](#0)\n",
    "* [Choose the files with EXCLUDE_FOLDERS and MAX_FILE_SIZE](#1)\n",
    "* [Add files](#2)\n",
    "* [Delete files](#3)\n",
    "* [Commit and push](#4)\n",
    "\n"
   ]
  },
  {
   "cell_type": "code",
   "execution_count": null,
   "metadata": {},
   "outputs": [],
   "source": [
    "from transformers import T5ForConditionalGeneration, AutoTokenizer\n",
    "import torch\n",
    "import os\n",
    "import numpy as np\n",
    "import pickle\n",
    "import time\n",
    "from tqdm import tqdm\n",
    "import datetime"
   ]
  },
  {
   "cell_type": "code",
   "execution_count": 2,
   "metadata": {},
   "outputs": [
    {
     "name": "stderr",
     "output_type": "stream",
     "text": [
      "/home1/09127/tomyoung/.local/lib/python3.9/site-packages/transformers/models/t5/tokenization_t5_fast.py:156: FutureWarning: This tokenizer was incorrectly instantiated with a model max length of 512 which will be corrected in Transformers v5.\n",
      "For now, this behavior is kept to avoid breaking backwards compatibility when padding/encoding with `truncation is True`.\n",
      "- Be aware that you SHOULD NOT rely on t5-11b automatically truncating your input to 512 when padding/encoding.\n",
      "- If you want to encode/pad to sequences longer than 512 you can either instantiate this tokenizer with `model_max_length` or pass `max_length` when encoding/padding.\n",
      "- To avoid this warning, please instantiate this tokenizer with `model_max_length` set to your preferred value.\n",
      "  warnings.warn(\n"
     ]
    }
   ],
   "source": [
    "tokenizer = AutoTokenizer.from_pretrained(\"t5-11b\")"
   ]
  },
  {
   "cell_type": "code",
   "execution_count": 78,
   "metadata": {},
   "outputs": [
    {
     "name": "stdout",
     "output_type": "stream",
     "text": [
      "self.device_map\n",
      "{0: [0, 1, 2, 3, 4, 5, 6, 7], 1: [8, 9, 10, 11, 12, 13, 14, 15], 2: [16, 17, 18, 19, 20, 21, 22, 23]}\n"
     ]
    }
   ],
   "source": [
    "model = T5ForConditionalGeneration.from_pretrained(\"t5-11b\", cache_dir='/work/09127/tomyoung/ls6/inconsistencies_project/t5-11b-cache', low_cpu_mem_usage=True, torch_dtype=torch.bfloat16)\n",
    "model.parallelize()"
   ]
  },
  {
   "cell_type": "code",
   "execution_count": 79,
   "metadata": {},
   "outputs": [],
   "source": [
    "device = torch.device(\"cuda:0\")"
   ]
  },
  {
   "cell_type": "code",
   "execution_count": 1,
   "metadata": {},
   "outputs": [],
   "source": [
    "activate_print = False\n",
    "\n",
    "if activate_print:\n",
    "    # define show as a function that takes any kind of input and does nothing\n",
    "    def show(*args, **kwargs):\n",
    "        pass\n",
    "else:\n",
    "    show = print"
   ]
  },
  {
   "cell_type": "code",
   "execution_count": 81,
   "metadata": {},
   "outputs": [],
   "source": []
  },
  {
   "cell_type": "code",
   "execution_count": 22,
   "metadata": {},
   "outputs": [],
   "source": [
    "# /work/09127/tomyoung/ls6/glm/GLM-130B/evaluation_data/evaluation/lambada/lambada/please_next_word/gen/test.jsonl\n",
    "import json\n",
    "import os\n",
    "with open(\"/work/09127/tomyoung/ls6/glm/GLM-130B/evaluation_data/evaluation/lambada/lambada/please_next_word/gen/test.jsonl\", \"r\") as f:\n",
    "    data = [json.loads(line) for line in f.readlines()]\n",
    "# append [NLG] to the beginning of each input, and <extra_id_0> to the end\n",
    "data_appended = [{\"inputs_pretokenized\": x['inputs_pretokenized'] + \" <extra_id_0>\", \"targets_pretokenized\": x['targets_pretokenized']} for x in data]"
   ]
  },
  {
   "cell_type": "code",
   "execution_count": 3,
   "metadata": {},
   "outputs": [],
   "source": [
    "from string import punctuation as PUNCTUATIONS\n",
    "PUNCTUATIONS_LIST = list(PUNCTUATIONS)\n",
    "PUNCTUATIONS_LIST.remove(\"<\")\n",
    "PUNCTUATIONS_LIST.remove(\">\")\n",
    "PUNCTUATIONS_LIST.remove(\"_\")\n",
    "PUNCTUATION_IDS_LIST = [tokenizer.get_vocab()[p] for p in PUNCTUATIONS_LIST if p in tokenizer.get_vocab()]"
   ]
  },
  {
   "cell_type": "code",
   "execution_count": 4,
   "metadata": {},
   "outputs": [],
   "source": [
    "# TODO: a bit hacky, add explanations\n",
    "def get_words_from_options(options):\n",
    "    '''Get the first word from each of the given options. Return the words.'''\n",
    "    # if a punctuation can be found in the option, get the word before the punctuation\n",
    "    words = []\n",
    "    for option in options:\n",
    "        # find the punctuation\n",
    "        for i in range(len(option)):\n",
    "            if option[i] in PUNCTUATIONS_LIST:\n",
    "                word = option[:i]\n",
    "                words.append(word)\n",
    "                # print(words)\n",
    "                break\n",
    "\n",
    "    # if the word starts with <pad>, remove it\n",
    "    words = [word[5:] if word.startswith(\"<pad>\") else word for word in words]\n",
    "\n",
    "    # check it it the case that, assert that if the word starts with <extra_id_0>, ' ' follows. print the word if it is not the case\n",
    "    for word in words:\n",
    "        if word.startswith(\"<extra_id_0>\") and len(word) > 13:\n",
    "            if word[12] != \" \":\n",
    "                print('word[12] != \\\" \\\"')\n",
    "                print(word)\n",
    "\n",
    "    # if the word starts with <extra_id_0>, remove it\n",
    "    words = [word[12:] if word.startswith(\"<extra_id_0>\") else word for word in words]\n",
    "    # if the word starts with ' ', remove it\n",
    "    words = [word[1:] if word.startswith(\" \") else word for word in words]\n",
    "    # if the word ends with ' ', remove it\n",
    "    words = [word[:-1] if word.endswith(\" \") else word for word in words]\n",
    "    # if the word is empty, remove it\n",
    "    words = [word for word in words if word != \"\"]\n",
    "    # if there are multiple words in word, remove it\n",
    "    words = [word for word in words if len(word.split(\" \")) == 1]\n",
    "    return words"
   ]
  },
  {
   "cell_type": "code",
   "execution_count": 5,
   "metadata": {},
   "outputs": [],
   "source": [
    "def get_word_from_option(option):\n",
    "    '''Get the first word from the given option. Return the word.'''\n",
    "    found = False\n",
    "    # if a punctuation can be found in the option, get the word before the punctuation\n",
    "    for i in range(len(option)):\n",
    "        if option[i] in PUNCTUATIONS_LIST:\n",
    "            word = option[:i]\n",
    "            found = True\n",
    "            break\n",
    "    if not found:\n",
    "        return None\n",
    "\n",
    "    # if the word starts with <pad>, remove it\n",
    "    word = word[5:] if word.startswith(\"<pad>\") else word\n",
    "\n",
    "    # check it it the case that, assert that if the word starts with <extra_id_0>, ' ' follows. print the word if it is not the case\n",
    "    if word.startswith(\"<extra_id_0>\") and len(word) > 13:\n",
    "        if word[12] != \" \":\n",
    "            show('word[12] != \\\" \\\"')\n",
    "            show(word)\n",
    "\n",
    "    # if the word starts with <extra_id_0>, remove it\n",
    "    word = word[12:] if word.startswith(\"<extra_id_0>\") else word\n",
    "    # if the word starts with ' ', remove it\n",
    "    word = word[1:] if word.startswith(\" \") else word\n",
    "    # if the word ends with ' ', remove it\n",
    "    word = word[:-1] if word.endswith(\" \") else word\n",
    "    # if the word is empty, remove it\n",
    "    word = word if word != \"\" else None\n",
    "    # if there are multiple words in word, remove it\n",
    "    if word:\n",
    "        word = word if len(word.split(\" \")) == 1 else None\n",
    "    return word"
   ]
  },
  {
   "cell_type": "code",
   "execution_count": 6,
   "metadata": {},
   "outputs": [],
   "source": [
    "def get_word_punc_pairs(options):\n",
    "    '''given a list of options (completions by the LLM), return a list of word-punc pairs'''\n",
    "    # show(options)\n",
    "    # if a punctuation can be found in the option, get the word before the punctuation\n",
    "    words = []\n",
    "    for option in options:\n",
    "        # find the punctuation\n",
    "        for i in range(len(option)):\n",
    "            if option[i] in PUNCTUATIONS_LIST:\n",
    "                word = option[:i+1]\n",
    "                words.append(word)\n",
    "                # show(words)\n",
    "                break\n",
    "    \n",
    "    # if the word starts with <pad>, remove the <pad>\n",
    "    words = [word[5:] if word.startswith(\"<pad>\") else word for word in words]\n",
    "    # if the word starts with <extra_id_0>, remove the <extra_id_0>\n",
    "    words = [word[12:] if word.startswith(\"<extra_id_0>\") else word for word in words]\n",
    "    # if the word starts with ' ', remove it\n",
    "    words = [word[1:] if word.startswith(\" \") else word for word in words]\n",
    "    # if the word ends with ' ', remove it\n",
    "    words = [word[:-1] if word.endswith(\" \") else word for word in words]\n",
    "    # if the word is empty, remove it\n",
    "    words = [word for word in words if word != \"\"]\n",
    "    # if there are multiple words in word, remove it\n",
    "    words = [word for word in words if len(word.split(\" \")) == 1]\n",
    "    # if the length is 1, remove it (to prevent the case where it is just a punctuation)\n",
    "    words = [word for word in words if len(word) > 1]\n",
    "    # if the word contains <unk>, remove it\n",
    "    words = [word for word in words if \"<unk>\" not in word]\n",
    "    return list(set(words))"
   ]
  },
  {
   "cell_type": "code",
   "execution_count": 7,
   "metadata": {},
   "outputs": [],
   "source": [
    "def remove_pad(options):\n",
    "    '''given a list of options (completions by the LLM), remove the <pad>'''\n",
    "    # if the word starts with <pad>, remove the <pad>\n",
    "    options = [option[5:] if option.startswith(\"<pad>\") else option for option in options]\n",
    "    return options"
   ]
  },
  {
   "cell_type": "code",
   "execution_count": 8,
   "metadata": {},
   "outputs": [],
   "source": [
    "def remove_pad_id(options):\n",
    "    '''given a list of options of ids (completions by the LLM), remove the <pad>'''\n",
    "    pad_id = tokenizer.convert_tokens_to_ids(\"<pad>\")\n",
    "    # if the word starts with <pad>, remove the <pad>\n",
    "    options_return = []\n",
    "    for option in options:\n",
    "        if option[0] == pad_id:\n",
    "            options_return.append(option[1:])\n",
    "        else:\n",
    "            options_return.append(option)\n",
    "    return options_return"
   ]
  },
  {
   "cell_type": "code",
   "execution_count": 9,
   "metadata": {},
   "outputs": [],
   "source": [
    "def before_first_punc(options):\n",
    "    options_return = []\n",
    "    for option in options:\n",
    "        for i in range(len(option)):\n",
    "            if option[i] in PUNCTUATION_IDS_LIST:\n",
    "                options_return.append(option[:i+1])\n",
    "                break\n",
    "    return options_return"
   ]
  },
  {
   "cell_type": "code",
   "execution_count": 10,
   "metadata": {},
   "outputs": [],
   "source": [
    "from tqdm import tqdm\n",
    "# cross entroy loss with logits and labels\n",
    "import torch\n",
    "import torch.nn as nn\n",
    "import torch.nn.functional as F\n",
    "loss_fn = nn.CrossEntropyLoss(ignore_index=tokenizer.pad_token_id) #reduction='sum'\n",
    "# loss = loss_fn(logits.view(-1, logits.shape[-1]), labels.view(-1))\n",
    "loss_fn_sum = nn.CrossEntropyLoss(ignore_index=tokenizer.pad_token_id, reduction='sum') #reduction='sum'\n",
    "# loss"
   ]
  },
  {
   "cell_type": "code",
   "execution_count": null,
   "metadata": {},
   "outputs": [],
   "source": [
    "# generate for all examples, and then get the words from the options, and compare the first one with the target\n",
    "count_correct = 0\n",
    "count_correct_top_num_beams = 0\n",
    "count_no_words_found = 0\n",
    "id_to_word_and_punc_pairs = {}\n",
    "id_to_word_and_punc_pairs_processed = {}\n",
    "id_to_options = {}\n",
    "for example_index in tqdm(range(len(data_appended))): # len(data_appended)\n",
    "    input_string = data_appended[example_index]['inputs_pretokenized']\n",
    "    inputs = tokenizer(input_string, return_tensors=\"pt\").input_ids.to(device)\n",
    "    num_beams = 10\n",
    "    outputs = model.generate(inputs, \n",
    "                             max_length=8,\n",
    "                             num_beams=num_beams, \n",
    "                             num_return_sequences=num_beams, \n",
    "                             output_scores=True,\n",
    "                             eos_token_id=tokenizer.convert_tokens_to_ids('<extra_id_1>'), \n",
    "                             return_dict_in_generate=True)\n",
    "    \n",
    "    options = [tokenizer.decode(outputs['sequences'][i]) for i in range(num_beams)]\n",
    "    # for option in options:\n",
    "    #     print(option)\n",
    "    # print([tokenizer.batch_decode(outputs['sequences'][i]) for i in range(num_beams)])\n",
    "    options_ids = [outputs['sequences'][i] for i in range(num_beams) if get_word_from_option(options[i]) is not None]\n",
    "    words = get_words_from_options(options)\n",
    "    options_without_pad = remove_pad_id(options_ids)\n",
    "    options_without_pad_before_punctution = before_first_punc(options_without_pad)\n",
    "    # print(words)\n",
    "    if words:\n",
    "        # print(options)\n",
    "        # print(words[0], data_appended[example_index]['targets_pretokenized'])\n",
    "        if words[0] == data_appended[example_index]['targets_pretokenized'][0]:\n",
    "            count_correct += 1\n",
    "    else:\n",
    "        count_no_words_found += 1\n",
    "        print(\"no words found\")\n",
    "    word_and_punc_pairs = get_word_punc_pairs(options)\n",
    "    id_to_word_and_punc_pairs[example_index] = word_and_punc_pairs\n",
    "    words_unique = list(set(words))\n",
    "    id_to_word_and_punc_pairs_processed[example_index] = []\n",
    "    id_to_options[example_index] = options_without_pad_before_punctution\n",
    "    for word in words_unique:\n",
    "        found = 0\n",
    "        # iterate through the word and punc pairs, and find the one that matches the word\n",
    "        for word_and_punc_pair in word_and_punc_pairs:\n",
    "            # it is a match if pair = word + punc\n",
    "            for punc in PUNCTUATIONS_LIST:\n",
    "                if word_and_punc_pair == word + punc:\n",
    "                    id_to_word_and_punc_pairs_processed[example_index].append(word_and_punc_pair)\n",
    "                    found = 1\n",
    "                    break\n",
    "            if found == 1:\n",
    "                break\n",
    "    # calculate the number of correct top num_beams: if the correct word is in the top num_beams, then it is correct\n",
    "    for word in words_unique:\n",
    "        if word == data_appended[example_index]['targets_pretokenized'][0]:\n",
    "            count_correct_top_num_beams += 1\n",
    "            break\n",
    "id_to_options_numpy = {}\n",
    "for key in id_to_options:\n",
    "    options_numpy = []\n",
    "    for option in id_to_options[key]:\n",
    "        options_numpy.append(np.array(option.cpu()))\n",
    "    id_to_options_numpy[key] = options_numpy\n",
    "\n",
    "timed_pickle_file_name = '/work/09127/tomyoung/ls6/data/pkls/t5_lambada_vanilla_beam_search_results_' + datetime.datetime.fromtimestamp(time.time()).strftime('%Y-%m-%d %H:%M:%S') + '.pickle'\n",
    "# Save your data to a pickle file\n",
    "\n",
    "with open(timed_pickle_file_name, 'wb') as fp:\n",
    "    pickle.dump({'count_correct': count_correct,\n",
    "                 'count_correct_top_num_beams': count_correct_top_num_beams,\n",
    "                 'count_no_words_found': count_no_words_found,\n",
    "                 'id_to_word_and_punc_pairs': id_to_word_and_punc_pairs,\n",
    "                 'id_to_word_and_punc_pairs_processed': id_to_word_and_punc_pairs_processed,\n",
    "                 'id_to_options_numpy': id_to_options_numpy}, fp)\n"
   ]
  },
  {
   "cell_type": "code",
   "execution_count": null,
   "metadata": {},
   "outputs": [],
   "source": [
    "id_to_options_numpy = {}\n",
    "for key in id_to_options:\n",
    "    options_numpy = []\n",
    "    for option in id_to_options[key]:\n",
    "        options_numpy.append(np.array(option.cpu()))\n",
    "    id_to_options_numpy[key] = options_numpy\n"
   ]
  },
  {
   "cell_type": "code",
   "execution_count": 34,
   "metadata": {},
   "outputs": [],
   "source": [
    "timed_pickle_file_name = '/work/09127/tomyoung/ls6/data/pkls/t5_lambada_vanilla_beam_search_results_' + str(time.time()) + '.pickle'\n",
    "# Save your data to a pickle file\n",
    "with open(timed_pickle_file_name, 'wb') as fp:\n",
    "    pickle.dump({'count_correct': count_correct,\n",
    "                 'count_correct_top_num_beams': count_correct_top_num_beams,\n",
    "                 'count_no_words_found': count_no_words_found,\n",
    "                 'id_to_word_and_punc_pairs': id_to_word_and_punc_pairs,\n",
    "                 'id_to_word_and_punc_pairs_processed': id_to_word_and_punc_pairs_processed,\n",
    "                 'id_to_options_numpy': id_to_options_numpy}, fp)"
   ]
  },
  {
   "cell_type": "code",
   "execution_count": 16,
   "metadata": {},
   "outputs": [],
   "source": [
    "# load it back\n",
    "# /work/09127/tomyoung/ls6/data/pkls/t5_lambada_vanilla_beam_search_results_2023-06-18 09:50:49.pickle\n",
    "timed_pickle_file_name = '/work/09127/tomyoung/ls6/data/pkls/t5_lambada_vanilla_beam_search_results_2023-06-18 09:50:49.pickle'\n",
    "with open(timed_pickle_file_name, 'rb') as fp:\n",
    "    t5_lambada_vanilla_beam_search_results = pickle.load(fp)"
   ]
  },
  {
   "cell_type": "code",
   "execution_count": 18,
   "metadata": {},
   "outputs": [],
   "source": [
    "id_to_options = t5_lambada_vanilla_beam_search_results['id_to_options_numpy']"
   ]
  },
  {
   "cell_type": "code",
   "execution_count": null,
   "metadata": {},
   "outputs": [],
   "source": [
    "id_to_options = {}\n",
    "for key in t5_lambada_vanilla_beam_search_results['id_to_options_numpy']:\n",
    "    options = []\n",
    "    for option in t5_lambada_vanilla_beam_search_results['id_to_options_numpy'][key]:\n",
    "        options.append(torch.from_numpy(option).to(device))\n",
    "    id_to_options[key] = options"
   ]
  },
  {
   "cell_type": "code",
   "execution_count": 19,
   "metadata": {},
   "outputs": [],
   "source": [
    "def get_avg_log_p_of_option_without_pad(inputs_pretokenized, option, offset=0):\n",
    "    # input_ids: 1*len = words + 32099 + 1\n",
    "    input_ids = tokenizer(inputs_pretokenized, return_tensors=\"pt\").input_ids.to(device)\n",
    "    # labels: 1*len = 32099 + words\n",
    "    labels = option.unsqueeze(0).to(device)\n",
    "    # print('input_ids', input_ids)\n",
    "    # print('labels', labels)\n",
    "    # when offset is used, we move the last offset from input_ids to the front of labels.\n",
    "    if offset != 0:\n",
    "        to_move = input_ids[0][-offset-2:-2]\n",
    "        labels = torch.cat((labels[0][0].unsqueeze(0), to_move, labels[0][1:]), dim=0).unsqueeze(0)\n",
    "        input_ids = torch.cat((input_ids[0][:-offset-2], input_ids[0][-2:]), dim=0).unsqueeze(0)\n",
    "    # print('input_ids offset', input_ids)\n",
    "    # print('labels offset', labels)\n",
    "    outputs = model(input_ids, labels=labels)\n",
    "    return -outputs.loss, outputs.logits"
   ]
  },
  {
   "cell_type": "code",
   "execution_count": 20,
   "metadata": {},
   "outputs": [],
   "source": [
    "def get_offsetted(inputs_pretokenized, option, offset=0):\n",
    "    # input_ids: 1*len = words + 32099 + 1\n",
    "    input_ids = tokenizer(inputs_pretokenized, return_tensors=\"pt\").input_ids.to(device)\n",
    "    # labels: 1*len = 32099 + words\n",
    "    labels = option.unsqueeze(0).to(device)\n",
    "    # print('input_ids', input_ids)\n",
    "    # print('labels', labels)\n",
    "    # when offset is used, we move the last offset from input_ids to the front of labels.\n",
    "    if offset != 0:\n",
    "        to_move = input_ids[0][-offset-2:-2]\n",
    "        labels = torch.cat((labels[0][0].unsqueeze(0), to_move, labels[0][1:]), dim=0)\n",
    "        input_ids = torch.cat((input_ids[0][:-offset-2], input_ids[0][-2:]), dim=0)\n",
    "    else:\n",
    "        # squeeze the batch dimension\n",
    "        labels = labels[0]\n",
    "        input_ids = input_ids[0]\n",
    "    # print('input_ids offset', input_ids)\n",
    "    # print('labels offset', labels)\n",
    "    return (input_ids, labels)"
   ]
  },
  {
   "cell_type": "code",
   "execution_count": 96,
   "metadata": {},
   "outputs": [
    {
     "name": "stderr",
     "output_type": "stream",
     "text": [
      "100%|██████████| 5153/5153 [07:02<00:00, 12.20it/s]\n"
     ]
    }
   ],
   "source": [
    "''''obtain the offsetted input_ids and labels for each option for each id'''\n",
    "id_and_offset_to_input_and_options = {}\n",
    "max_offset = 30\n",
    "for id in tqdm(range(len(id_to_options))): #len(id_to_options)\n",
    "    # # offset = 0\n",
    "    # id_to_offset_to_input_and_options[(id, 0)] = []\n",
    "    # for option in id_to_options[id]:\n",
    "    #     id_to_offset_to_input_and_options[(id, 0)].append(get_offsetted(data_appended[id]['inputs_pretokenized'], option, offset=0))\n",
    "    # print(id_to_offset_to_input_and_options[(id, 0)])\n",
    "    # print('---------------')\n",
    "    # print('id:', id)\n",
    "    for offset in range(max_offset):\n",
    "        # print('offset:', offset)\n",
    "        id_and_offset_to_input_and_options[(id, offset)] = []\n",
    "        for option in id_to_options[id]:\n",
    "            id_and_offset_to_input_and_options[(id, offset)].append(get_offsetted(data_appended[id]['inputs_pretokenized'], option, offset=offset))\n",
    "            # print(get_offsetted(data_appended[id]['inputs_pretokenized'], option, offset=offset))\n",
    "            # print('---------------')"
   ]
  },
  {
   "cell_type": "code",
   "execution_count": null,
   "metadata": {},
   "outputs": [],
   "source": [
    "# save id_and_offset_to_input_and_options to a pickle file\n",
    "pickle_file_name = '/work/09127/tomyoung/ls6/data/pkls/id_and_offset_to_input_and_options_t5.pickle'\n",
    "with open(pickle_file_name, 'wb') as fp:\n",
    "    pickle.dump(id_and_offset_to_input_and_options, fp)"
   ]
  },
  {
   "cell_type": "code",
   "execution_count": 13,
   "metadata": {},
   "outputs": [],
   "source": [
    "def get_avg_log_p_of_option_without_pad_batch(inputs_pretokenized_batch, options_batch):\n",
    "    # input_ids: batch_size*len = words + 32099 + 1\n",
    "    input_ids = tokenizer(inputs_pretokenized_batch, return_tensors=\"pt\", padding=True).input_ids.to(device)\n",
    "    labels = options_batch.to(device)\n",
    "    outputs = model(input_ids, labels=labels)\n",
    "    return -outputs.loss, outputs.logits"
   ]
  },
  {
   "cell_type": "code",
   "execution_count": null,
   "metadata": {},
   "outputs": [],
   "source": [
    "''' count the number of correct predictions again using get_avg_log_p_of_options_without_pad and ids_to_options_without_pad'''\n",
    "count_correct_avg_log_p_reranking_without_pad = 0\n",
    "for example_index in range(100): # len(data_appended)\n",
    "    # print(example_index)\n",
    "    input_string = data_appended[example_index]['inputs_pretokenized']\n",
    "    option_avg_log_p_max = -10000000\n",
    "    best_option =  \"\"\n",
    "    print('-------------')\n",
    "    for option in id_to_options[example_index]:\n",
    "        avg_log_p, logits = get_avg_log_p_of_option_without_pad(input_string, option, offset=0)\n",
    "        # print(avg_log_p)\n",
    "        # print(logits)\n",
    "        # probs = torch.nn.functional.softmax(logits, dim=-1)\n",
    "        # argmax for each index\n",
    "        # for i in range(probs.shape[1]):\n",
    "            # print(torch.argmax(probs[0][i]))\n",
    "            # print(probs[0][i][torch.argmax(probs[0][i])])\n",
    "        print('avg_log_p', avg_log_p)\n",
    "        if avg_log_p > option_avg_log_p_max:\n",
    "            option_avg_log_p_max = avg_log_p\n",
    "            best_option = option\n",
    "    if best_option != \"\":\n",
    "        best_option_string = tokenizer.decode(best_option)\n",
    "        if get_words_from_options([best_option_string]) != []:\n",
    "            best_word = get_words_from_options([best_option_string])[0]\n",
    "            # print(best_word)\n",
    "            # print(best_option)\n",
    "            if best_word == data_appended[example_index]['targets_pretokenized'][0]:\n",
    "                count_correct_avg_log_p_reranking_without_pad += 1"
   ]
  },
  {
   "cell_type": "code",
   "execution_count": 18,
   "metadata": {},
   "outputs": [
    {
     "name": "stderr",
     "output_type": "stream",
     "text": [
      "100%|██████████| 100/100 [00:21<00:00,  4.64it/s]\n"
     ]
    }
   ],
   "source": [
    "''' count the number of correct predictions again using get_avg_log_p_of_options_without_pad and ids_to_options_without_pad using batch processing'''\n",
    "count_correct_avg_log_p_reranking_without_pad_batch = 0\n",
    "id_to_offset_to_option_probs = dict()\n",
    "for example_index in tqdm(range(100)): # len(data_appended)\n",
    "    # print(example_index)\n",
    "    input_string = data_appended[example_index]['inputs_pretokenized']\n",
    "    input_ids = tokenizer(input_string, return_tensors=\"pt\").input_ids.to(device)\n",
    "    if len(id_to_options[example_index]) == 0:\n",
    "        continue\n",
    "    option_avg_log_p_max = -10000000\n",
    "    best_option =  \"\"\n",
    "    # for option in id_to_options[example_index]:\n",
    "    #     avg_log_p, logits = get_avg_log_p_of_option_without_pad(input_string, option, offset=1)\n",
    "    #     if avg_log_p > option_avg_log_p_max:\n",
    "    #         option_avg_log_p_max = avg_log_p\n",
    "    #         best_option = option\n",
    "    options_batch = torch.nn.utils.rnn.pad_sequence(id_to_options[example_index], batch_first=True, padding_value=tokenizer.pad_token_id)\n",
    "    # options_batch\n",
    "    # create a number of input_ids same to the number of elements in ids_to_options[0]\n",
    "    input_ids_batch = torch.cat([input_ids for i in range(len(id_to_options[example_index]))], dim=0)\n",
    "    # print('input_ids_batch', input_ids_batch)\n",
    "    # print('options_batch', options_batch)\n",
    "    outputs = model(input_ids_batch, labels=options_batch)\n",
    "    # print('-------------')\n",
    "    for option_index in range(len(id_to_options[example_index])):\n",
    "        avg_log_p = -loss_fn(outputs.logits[option_index][1:], options_batch[option_index][1:]) # [1:] to remove the first token <extra_id_0>\n",
    "        # print('avg_log_p', avg_log_p)\n",
    "        if avg_log_p > option_avg_log_p_max:\n",
    "            option_avg_log_p_max = avg_log_p\n",
    "            best_option = options_batch[option_index]\n",
    "\n",
    "    if best_option != \"\":\n",
    "        best_option_string = tokenizer.decode(best_option)\n",
    "        if get_words_from_options([best_option_string]) != []:\n",
    "            best_word = get_words_from_options([best_option_string])[0]\n",
    "            if best_word == data_appended[example_index]['targets_pretokenized'][0]:\n",
    "                count_correct_avg_log_p_reranking_without_pad_batch += 1"
   ]
  },
  {
   "cell_type": "code",
   "execution_count": 99,
   "metadata": {},
   "outputs": [
    {
     "name": "stderr",
     "output_type": "stream",
     "text": [
      "  0%|          | 0/5153 [00:00<?, ?it/s]"
     ]
    },
    {
     "name": "stderr",
     "output_type": "stream",
     "text": [
      "100%|██████████| 5153/5153 [5:38:46<00:00,  3.94s/it]  \n"
     ]
    }
   ],
   "source": [
    "''' obtain the avg_log_ps '''\n",
    "import traceback\n",
    "import datetime\n",
    "max_offset = 30\n",
    "\n",
    "id_and_offset_to_option_probs = dict()\n",
    "failed_example_indices = []\n",
    "for example_index in tqdm(range(len(data_appended))): # len(data_appended)\n",
    "    try:\n",
    "        if len(id_to_options[example_index]) == 0:\n",
    "            continue\n",
    "        for offset in range(max_offset):\n",
    "            options_batch = torch.nn.utils.rnn.pad_sequence([id_and_offset_to_input_and_options[(example_index, offset)][i][1].to(device) for i in range(len(id_to_options[example_index]))], batch_first=True, padding_value=tokenizer.pad_token_id)\n",
    "            input_ids_batch = torch.cat([id_and_offset_to_input_and_options[(example_index, offset)][i][0].to(device).unsqueeze(0) for i in range(len(id_to_options[example_index]))], dim=0)\n",
    "            outputs = model(input_ids_batch, labels=options_batch)\n",
    "            for option_index in range(len(id_to_options[example_index])):\n",
    "                avg_log_p = -loss_fn(outputs.logits[option_index][1+offset:], options_batch[option_index][1+offset:]) # [1:] to remove the first token <extra_id_0>\n",
    "                id_and_offset_to_option_probs[(example_index, offset, option_index)] = avg_log_p.detach().cpu().tolist()\n",
    "            \n",
    "            # allocated_memory_bytes = torch.cuda.memory_allocated()\n",
    "            # # Convert the allocated memory to gigabytes\n",
    "            # allocated_memory_gb = allocated_memory_bytes / (1024 ** 3)\n",
    "            # print(f\"Current GPU memory allocation: {allocated_memory_gb} GB\")\n",
    "    except Exception as e:\n",
    "        print(f\"An error occurred: {e}\")\n",
    "        print('example_index:', example_index, ' failed')\n",
    "        failed_example_indices.append(example_index)\n",
    "        traceback.print_exc()\n",
    "\n",
    "# save avg_log_ps into a pickle file with timestamp\n",
    "timestamp = datetime.datetime.now().strftime(\"%Y%m%d-%H%M%S\")\n",
    "with open(f'/work/09127/tomyoung/ls6/data/pkls/id_and_offset_to_option_probs_{timestamp}.pickle', 'wb') as handle:\n",
    "    pickle.dump(id_and_offset_to_option_probs, handle, protocol=pickle.HIGHEST_PROTOCOL)\n",
    "# save failed_example_indices into a pickle file with timestamp\n",
    "timestamp = datetime.datetime.now().strftime(\"%Y%m%d-%H%M%S\")\n",
    "with open(f'/work/09127/tomyoung/ls6/data/pkls/failed_example_indices_{timestamp}.pickle', 'wb') as handle:\n",
    "    pickle.dump(failed_example_indices, handle, protocol=pickle.HIGHEST_PROTOCOL)"
   ]
  },
  {
   "cell_type": "code",
   "execution_count": 46,
   "metadata": {},
   "outputs": [],
   "source": [
    "failed_example_indices\n",
    "# save failed_example_indices into a pickle file with timestamp\n",
    "timestamp = datetime.datetime.now().strftime(\"%Y%m%d-%H%M%S\")\n",
    "with open(f'failed_example_indices_{timestamp}.pickle', 'wb') as handle:\n",
    "    pickle.dump(failed_example_indices, handle, protocol=pickle.HIGHEST_PROTOCOL)"
   ]
  },
  {
   "cell_type": "code",
   "execution_count": 20,
   "metadata": {},
   "outputs": [],
   "source": [
    "# id_and_offset_to_option_probs_20230509-155934.pickle\n",
    "import pickle\n",
    "with open('id_and_offset_to_option_probs_20230509-155934.pickle', 'rb') as handle:\n",
    "    id_and_offset_to_option_probs = pickle.load(handle)\n",
    "# failed_example_indices_20230509-155934.pickle\n",
    "with open('failed_example_indices_20230509-155934.pickle', 'rb') as handle:\n",
    "    failed_example_indices = pickle.load(handle)"
   ]
  },
  {
   "cell_type": "code",
   "execution_count": 14,
   "metadata": {},
   "outputs": [],
   "source": [
    "# failed_example_indices_20230524-190511\n",
    "import pickle\n",
    "with open('/work/09127/tomyoung/ls6/data/pkls/id_and_offset_to_option_probs_20230618-165808.pickle', 'rb') as handle:\n",
    "    id_and_offset_to_option_probs = pickle.load(handle)\n",
    "\n",
    "with open('/work/09127/tomyoung/ls6/data/pkls/failed_example_indices_20230618-165808.pickle', 'rb') as handle:\n",
    "    failed_example_indices = pickle.load(handle)"
   ]
  },
  {
   "cell_type": "code",
   "execution_count": 37,
   "metadata": {},
   "outputs": [
    {
     "name": "stderr",
     "output_type": "stream",
     "text": [
      "100%|██████████| 154590/154590 [02:19<00:00, 1111.55it/s]\n"
     ]
    }
   ],
   "source": [
    "id_and_offset_to_input_and_options[(0,0)][0]\n",
    "id_and_offset_to_input_and_options_numpy = dict()\n",
    "for key in tqdm(id_and_offset_to_input_and_options):\n",
    "    id_and_offset_to_input_and_options_numpy[key] = \\\n",
    "        [(id_and_offset_to_input_and_options[key][i][0].detach().cpu().numpy(), \\\n",
    "          id_and_offset_to_input_and_options[key][i][1].detach().cpu().numpy()) \n",
    "          for i in range(len(id_and_offset_to_input_and_options[key]))]"
   ]
  },
  {
   "cell_type": "code",
   "execution_count": 28,
   "metadata": {},
   "outputs": [
    {
     "data": {
      "text/plain": [
       "[(0, 0, 0),\n",
       " (0, 0, 1),\n",
       " (0, 0, 2),\n",
       " (0, 0, 3),\n",
       " (0, 1, 0),\n",
       " (0, 1, 1),\n",
       " (0, 1, 2),\n",
       " (0, 1, 3),\n",
       " (0, 2, 0),\n",
       " (0, 2, 1),\n",
       " (0, 2, 2),\n",
       " (0, 2, 3),\n",
       " (0, 3, 0),\n",
       " (0, 3, 1),\n",
       " (0, 3, 2),\n",
       " (0, 3, 3),\n",
       " (0, 4, 0),\n",
       " (0, 4, 1),\n",
       " (0, 4, 2),\n",
       " (0, 4, 3),\n",
       " (0, 5, 0),\n",
       " (0, 5, 1),\n",
       " (0, 5, 2),\n",
       " (0, 5, 3),\n",
       " (0, 6, 0),\n",
       " (0, 6, 1),\n",
       " (0, 6, 2),\n",
       " (0, 6, 3),\n",
       " (0, 7, 0),\n",
       " (0, 7, 1),\n",
       " (0, 7, 2),\n",
       " (0, 7, 3),\n",
       " (0, 8, 0),\n",
       " (0, 8, 1),\n",
       " (0, 8, 2),\n",
       " (0, 8, 3),\n",
       " (0, 9, 0),\n",
       " (0, 9, 1),\n",
       " (0, 9, 2),\n",
       " (0, 9, 3),\n",
       " (0, 10, 0),\n",
       " (0, 10, 1),\n",
       " (0, 10, 2),\n",
       " (0, 10, 3),\n",
       " (0, 11, 0),\n",
       " (0, 11, 1),\n",
       " (0, 11, 2),\n",
       " (0, 11, 3),\n",
       " (0, 12, 0),\n",
       " (0, 12, 1),\n",
       " (0, 12, 2),\n",
       " (0, 12, 3),\n",
       " (0, 13, 0),\n",
       " (0, 13, 1),\n",
       " (0, 13, 2),\n",
       " (0, 13, 3),\n",
       " (0, 14, 0),\n",
       " (0, 14, 1),\n",
       " (0, 14, 2),\n",
       " (0, 14, 3),\n",
       " (0, 15, 0),\n",
       " (0, 15, 1),\n",
       " (0, 15, 2),\n",
       " (0, 15, 3),\n",
       " (0, 16, 0),\n",
       " (0, 16, 1),\n",
       " (0, 16, 2),\n",
       " (0, 16, 3),\n",
       " (0, 17, 0),\n",
       " (0, 17, 1),\n",
       " (0, 17, 2),\n",
       " (0, 17, 3),\n",
       " (0, 18, 0),\n",
       " (0, 18, 1),\n",
       " (0, 18, 2),\n",
       " (0, 18, 3),\n",
       " (0, 19, 0),\n",
       " (0, 19, 1),\n",
       " (0, 19, 2),\n",
       " (0, 19, 3),\n",
       " (0, 20, 0),\n",
       " (0, 20, 1),\n",
       " (0, 20, 2),\n",
       " (0, 20, 3),\n",
       " (0, 21, 0),\n",
       " (0, 21, 1),\n",
       " (0, 21, 2),\n",
       " (0, 21, 3),\n",
       " (0, 22, 0),\n",
       " (0, 22, 1),\n",
       " (0, 22, 2),\n",
       " (0, 22, 3),\n",
       " (0, 23, 0),\n",
       " (0, 23, 1),\n",
       " (0, 23, 2),\n",
       " (0, 23, 3),\n",
       " (0, 24, 0),\n",
       " (0, 24, 1),\n",
       " (0, 24, 2),\n",
       " (0, 24, 3)]"
      ]
     },
     "execution_count": 28,
     "metadata": {},
     "output_type": "execute_result"
    }
   ],
   "source": [
    "list(id_and_offset_to_option_probs.keys())[:100]"
   ]
  },
  {
   "cell_type": "code",
   "execution_count": null,
   "metadata": {},
   "outputs": [],
   "source": [
    "'''EOC with max pooling'''\n",
    "max_offset_test = 30\n",
    "offset_to_accuracy = dict()\n",
    "\n",
    "for offset_test in range(max_offset_test):\n",
    "    count_eoc = 0\n",
    "    # postprocess the id_and_offset_to_option_probs to get the best option\n",
    "    for example_index in tqdm(range(len(data_appended))): # len(data_appended)\n",
    "        if len(id_to_options[example_index]) == 0 or example_index in failed_example_indices:\n",
    "            continue\n",
    "        option_avg_log_p_max = -10000000\n",
    "        best_option =  \"\"\n",
    "        for offset in range(offset_test+1):\n",
    "            for option_index in range(100):\n",
    "                if (example_index, offset, option_index) not in id_and_offset_to_option_probs:\n",
    "                    continue\n",
    "                avg_log_p = id_and_offset_to_option_probs[(example_index, offset, option_index)]\n",
    "                if avg_log_p > option_avg_log_p_max:\n",
    "                    option_avg_log_p_max = avg_log_p\n",
    "                    best_option = id_to_options[example_index][option_index]\n",
    "\n",
    "                        \n",
    "        best_option_string = tokenizer.decode(best_option)\n",
    "        # print('best_option_string', best_option_string)\n",
    "        if get_words_from_options([best_option_string]) != []:\n",
    "            best_word = get_words_from_options([best_option_string])[0]\n",
    "            if best_word == data_appended[example_index]['targets_pretokenized'][0]:\n",
    "                count_eoc += 1\n",
    "    offset_to_accuracy[offset_test] = count_eoc / (len(data_appended) - len(failed_example_indices))"
   ]
  },
  {
   "cell_type": "code",
   "execution_count": null,
   "metadata": {},
   "outputs": [],
   "source": [
    "'''EOC with avg pooling'''\n",
    "max_offset_test = 30\n",
    "offset_to_accuracy_avg_pooling = dict()\n",
    "for offset_test in range(max_offset_test):\n",
    "    count_eoc = 0\n",
    "    # postprocess the id_and_offset_to_option_probs to get the best option\n",
    "    for example_index in tqdm(range(len(data_appended))): # len(data_appended)\n",
    "        if len(id_to_options[example_index]) == 0 or example_index in failed_example_indices:\n",
    "            continue\n",
    "        option_avg_log_p_avg_over_offset_max = -10000000\n",
    "        best_option =  \"\"\n",
    "        for option_index in range(len(id_to_options[example_index])):\n",
    "            option_avg_log_p_avg_over_offset = 0\n",
    "            for offset in range(offset_test+1):\n",
    "                avg_log_p = id_and_offset_to_option_probs[(example_index, offset, option_index)]\n",
    "                option_avg_log_p_avg_over_offset += avg_log_p\n",
    "            option_avg_log_p_avg_over_offset /= (offset_test+1)\n",
    "            if option_avg_log_p_avg_over_offset > option_avg_log_p_avg_over_offset_max:\n",
    "                option_avg_log_p_avg_over_offset_max = option_avg_log_p_avg_over_offset\n",
    "                best_option = id_to_options[example_index][option_index]\n",
    "        best_option_string = tokenizer.decode(best_option)\n",
    "        # print('best_option_string', best_option_string)\n",
    "        if get_words_from_options([best_option_string]) != []:\n",
    "            best_word = get_words_from_options([best_option_string])[0]\n",
    "            if best_word == data_appended[example_index]['targets_pretokenized'][0]:\n",
    "                count_eoc += 1\n",
    "    offset_to_accuracy_avg_pooling[offset_test] = count_eoc / (len(data_appended) - len(failed_example_indices))"
   ]
  },
  {
   "cell_type": "code",
   "execution_count": 36,
   "metadata": {},
   "outputs": [],
   "source": [
    "# keep the 0: points of offset_to_accuracy\n",
    "offset_to_accuracy_20 = dict()\n",
    "for i in range(20):\n",
    "    offset_to_accuracy_20[i] = offset_to_accuracy[i]\n",
    "offset_to_accuracy_avg_pooling_20 = dict()\n",
    "for i in range(20):\n",
    "    offset_to_accuracy_avg_pooling_20[i] = offset_to_accuracy_avg_pooling[i]\n",
    "\n",
    "# add 1 to all the keys\n",
    "offset_to_accuracy_20_plus_1 = dict()\n",
    "for key in offset_to_accuracy_20:\n",
    "    offset_to_accuracy_20_plus_1[key+1] = offset_to_accuracy_20[key]\n",
    "offset_to_accuracy_avg_pooling_20_plus_1 = dict()\n",
    "for key in offset_to_accuracy_avg_pooling_20:\n",
    "    offset_to_accuracy_avg_pooling_20_plus_1[key+1] = offset_to_accuracy_avg_pooling_20[key]"
   ]
  },
  {
   "cell_type": "code",
   "execution_count": 48,
   "metadata": {},
   "outputs": [
    {
     "data": {
      "image/png": "[encoded data removed]",
      "text/plain": [
       "<Figure size 432x288 with 1 Axes>"
      ]
     },
     "metadata": {
      "needs_background": "light"
     },
     "output_type": "display_data"
    }
   ],
   "source": [
    "%matplotlib inline\n",
    "import matplotlib.pyplot as plt\n",
    "import matplotlib.pyplot as plt\n",
    "import matplotlib.font_manager as fm\n",
    "\n",
    "# Load a font\n",
    "font_path = '/usr/share/fonts/urw-base35/NimbusMonoPS-Italic.otf'\n",
    "font_prop = fm.FontProperties(fname=font_path)\n",
    "\n",
    "max_line = plt.plot(list(offset_to_accuracy_20_plus_1.keys()), list(offset_to_accuracy_20_plus_1.values()),label='max')\n",
    "plt.xlabel('offset')\n",
    "plt.ylabel('accuracy')\n",
    "# the interval on x should be 1\n",
    "plt.xticks(np.arange(min(list(offset_to_accuracy_20_plus_1.keys())), max(list(offset_to_accuracy_20_plus_1.keys()))+1, 1.0))\n",
    "# add a dot at each point\n",
    "plt.scatter(list(offset_to_accuracy_20_plus_1.keys()), list(offset_to_accuracy_20_plus_1.values()))\n",
    "\n",
    "# draw the avg pooling\n",
    "avg_line = plt.plot(list(offset_to_accuracy_avg_pooling_20_plus_1.keys()), list(offset_to_accuracy_avg_pooling_20_plus_1.values()), color='red', label='avg')\n",
    "plt.scatter(list(offset_to_accuracy_avg_pooling_20_plus_1.keys()), list(offset_to_accuracy_avg_pooling_20_plus_1.values()), color='red')\n",
    "\n",
    "# add a yellow horizontal line at y=offset_to_accuracy[0]\n",
    "plt.axhline(y=offset_to_accuracy_avg_pooling_20_plus_1[1], color='y', linestyle='--')\n",
    "# add the word \"baseline\" at the end of the yellow line in the font of calibri\n",
    "plt.text(17, offset_to_accuracy_avg_pooling_20_plus_1[1] - 0.0025, 'baseline', fontproperties=font_prop, fontsize=13)\n",
    "plt.scatter(1, offset_to_accuracy_avg_pooling_20_plus_1[1], color='y')\n",
    "\n",
    "plt.legend(handles=[max_line[0], avg_line[0]], loc='upper center', bbox_to_anchor=(0.9, 0.45), ncol=1, fontsize=10)\n",
    "\n",
    "plt.show()\n"
   ]
  },
  {
   "cell_type": "code",
   "execution_count": null,
   "metadata": {},
   "outputs": [],
   "source": [
    "offset_to_accuracy"
   ]
  },
  {
   "cell_type": "code",
   "execution_count": 53,
   "metadata": {},
   "outputs": [
    {
     "data": {
      "image/png": "[encoded data removed]",
      "text/plain": [
       "<Figure size 432x288 with 1 Axes>"
      ]
     },
     "metadata": {
      "needs_background": "light"
     },
     "output_type": "display_data"
    }
   ],
   "source": [
    "plt.plot(list(offset_to_accuracy_avg_pooling.keys()), list(offset_to_accuracy_avg_pooling.values()))\n",
    "plt.xlabel('offset')\n",
    "plt.ylabel('accuracy')\n",
    "# the interval on x should be 1\n",
    "plt.xticks(np.arange(min(list(offset_to_accuracy_avg_pooling.keys())), max(list(offset_to_accuracy_avg_pooling.keys()))+1, 1.0))\n",
    "# add a dot at each point\n",
    "plt.scatter(list(offset_to_accuracy_avg_pooling.keys()), list(offset_to_accuracy_avg_pooling.values()))\n",
    "plt.show()"
   ]
  },
  {
   "cell_type": "code",
   "execution_count": null,
   "metadata": {},
   "outputs": [],
   "source": [
    "offset_to_accuracy"
   ]
  },
  {
   "cell_type": "code",
   "execution_count": 23,
   "metadata": {},
   "outputs": [
    {
     "data": {
      "text/plain": [
       "224"
      ]
     },
     "execution_count": 23,
     "metadata": {},
     "output_type": "execute_result"
    }
   ],
   "source": [
    "import gc\n",
    "\n",
    "del options_batch\n",
    "del input_ids_batch\n",
    "del outputs\n",
    "gc.collect()"
   ]
  },
  {
   "cell_type": "code",
   "execution_count": 45,
   "metadata": {},
   "outputs": [],
   "source": [
    "# empty the cache\n",
    "torch.cuda.empty_cache()"
   ]
  },
  {
   "cell_type": "code",
   "execution_count": 18,
   "metadata": {},
   "outputs": [
    {
     "name": "stdout",
     "output_type": "stream",
     "text": [
      "Current GPU memory allocation: 12.651713848114014 GB\n"
     ]
    }
   ],
   "source": [
    "import torch\n",
    "\n",
    "# Get the current GPU memory allocation\n",
    "allocated_memory_bytes = torch.cuda.memory_allocated(device=0)\n",
    "# Convert the allocated memory to gigabytes\n",
    "allocated_memory_gb = allocated_memory_bytes / (1024 ** 3)\n",
    "print(f\"Current GPU memory allocation: {allocated_memory_gb} GB\")"
   ]
  },
  {
   "cell_type": "code",
   "execution_count": 80,
   "metadata": {},
   "outputs": [],
   "source": [
    "# empty the cache\n",
    "torch.cuda.empty_cache()"
   ]
  },
  {
   "cell_type": "code",
   "execution_count": 36,
   "metadata": {},
   "outputs": [
    {
     "data": {
      "text/plain": [
       "tensor([32099,  8029,    15,    17,     3,     5], device='cuda:0')"
      ]
     },
     "execution_count": 36,
     "metadata": {},
     "output_type": "execute_result"
    }
   ],
   "source": [
    "'''Concatenate all options to get a huge tensor'''\n",
    "all_options = []"
   ]
  },
  {
   "cell_type": "code",
   "execution_count": 40,
   "metadata": {},
   "outputs": [
    {
     "data": {
      "text/plain": [
       "tensor([[32099,  3957,     3,     5,     0,     0,     0],\n",
       "        [32099,    24,     3,     5,     0,     0,     0],\n",
       "        [32099,  3957,     3,     5,     0,     0,     0],\n",
       "        [32099, 11831,     7,     3,     5,     0,     0],\n",
       "        [32099,     3,     7,  2618,    15,     3,     5],\n",
       "        [32099,  2049,     3,     5,     0,     0,     0],\n",
       "        [32099,   278,     3,    31,     0,     0,     0],\n",
       "        [32099,     3,     7,  2618,    15,     3,     6],\n",
       "        [32099,     3,     7,  2618,    15,     3,    55]], device='cuda:0')"
      ]
     },
     "execution_count": 40,
     "metadata": {},
     "output_type": "execute_result"
    }
   ],
   "source": [
    "options_batch = torch.nn.utils.rnn.pad_sequence(id_to_options[0] + id_to_options[1] , batch_first=True, padding_value=tokenizer.pad_token_id)\n",
    "options_batch"
   ]
  },
  {
   "cell_type": "code",
   "execution_count": 27,
   "metadata": {},
   "outputs": [
    {
     "data": {
      "text/plain": [
       "[tensor([32099,  3957,     3,     5], device='cuda:0'),\n",
       " tensor([32099,    24,     3,     5], device='cuda:0'),\n",
       " tensor([32099,  3957,     3,     5], device='cuda:0'),\n",
       " tensor([32099, 11831,     7,     3,     5], device='cuda:0')]"
      ]
     },
     "execution_count": 27,
     "metadata": {},
     "output_type": "execute_result"
    }
   ],
   "source": [
    "input_string = data_appended[0]['inputs_pretokenized']\n",
    "input_ids = tokenizer(input_string, return_tensors=\"pt\").input_ids.to(device)\n",
    "id_to_options[0]"
   ]
  },
  {
   "cell_type": "code",
   "execution_count": 47,
   "metadata": {},
   "outputs": [
    {
     "data": {
      "text/plain": [
       "12.290122258878323"
      ]
     },
     "execution_count": 47,
     "metadata": {},
     "output_type": "execute_result"
    }
   ],
   "source": [
    "total_no_options = 0\n",
    "no_options_list = []\n",
    "for id in id_to_options:\n",
    "    total_no_options += len(id_to_options[id])\n",
    "    no_options_list.append(len(id_to_options[id]))\n",
    "# avg\n",
    "total_no_options/len(id_to_options)"
   ]
  },
  {
   "cell_type": "code",
   "execution_count": 24,
   "metadata": {},
   "outputs": [],
   "source": [
    "'''test to make sure that padding and concatenating individual examaples doesn't mess up results'''\n",
    "\n",
    "# options is below\n",
    "# [tensor([32099,  3957,     3,     5], device='cuda:0'),\n",
    "#  tensor([32099,    24,     3,     5], device='cuda:0'),\n",
    "#  tensor([32099,  3957,     3,     5], device='cuda:0'),\n",
    "#  tensor([32099, 11831,     7,     3,     5], device='cuda:0')]\n",
    "\n",
    "#convert to options_batch by padding to the max length\n",
    "options_batch = torch.nn.utils.rnn.pad_sequence(id_to_options[0], batch_first=True, padding_value=tokenizer.pad_token_id)\n",
    "# options_batch\n",
    "# create a number of input_ids same to the number of elements in ids_to_options[0]\n",
    "input_ids_batch = torch.cat([input_ids for i in range(len(id_to_options[0]))], dim=0)\n",
    "\n",
    "outputs = model(input_ids_batch, labels=options_batch)\n",
    "# outputs = model(input_ids_batch[1].unsqueeze(0), labels=options_batch[1].unsqueeze(0))\n",
    "# outputs.loss"
   ]
  },
  {
   "cell_type": "code",
   "execution_count": 28,
   "metadata": {},
   "outputs": [],
   "source": [
    "options_batch_1 = id_to_options[0][1].unsqueeze(0)\n",
    "input_ids_batch_1 = input_ids\n",
    "outputs_1 = model(input_ids_batch_1, labels=options_batch_1)"
   ]
  },
  {
   "cell_type": "code",
   "execution_count": 44,
   "metadata": {},
   "outputs": [
    {
     "name": "stdout",
     "output_type": "stream",
     "text": [
      "tensor([[-18.2500, -20.6250, -19.7500,  ..., -46.5000, -48.5000, -46.7500],\n",
      "        [-21.3750, -14.9375, -11.7500,  ..., -47.0000, -49.2500, -48.0000],\n",
      "        [-18.8750, -14.7500,  -8.5000,  ..., -47.2500, -49.5000, -48.2500],\n",
      "        [-24.0000, -14.8750,  -4.2812,  ..., -54.2500, -57.0000, -55.2500]],\n",
      "       device='cuda:0', dtype=torch.bfloat16, grad_fn=<SliceBackward0>)\n",
      "tensor([[-18.3750, -20.6250, -19.7500,  ..., -46.5000, -48.7500, -47.0000],\n",
      "        [-21.2500, -14.9375, -11.7500,  ..., -47.0000, -49.2500, -48.0000],\n",
      "        [-18.8750, -14.6875,  -8.3750,  ..., -47.0000, -49.2500, -48.0000],\n",
      "        [-23.7500, -14.8125,  -4.2188,  ..., -54.0000, -56.7500, -55.0000]],\n",
      "       device='cuda:0', dtype=torch.bfloat16, grad_fn=<SelectBackward0>)\n",
      "tensor([[32099,    24,     3,     5]], device='cuda:0')\n",
      "tensor(0.8242, device='cuda:0', dtype=torch.bfloat16,\n",
      "       grad_fn=<NllLossBackward0>)\n",
      "tensor(0.8242, device='cuda:0', dtype=torch.bfloat16,\n",
      "       grad_fn=<NllLossBackward0>)\n",
      "tensor(0.8281, device='cuda:0', dtype=torch.bfloat16,\n",
      "       grad_fn=<NllLossBackward0>)\n"
     ]
    }
   ],
   "source": [
    "outputs.logits[1][:-1] == outputs_1.logits[0]\n",
    "print(outputs.logits[1][:-1])\n",
    "print(outputs_1.logits[0])\n",
    "print(options_batch_1)\n",
    "\n",
    "loss0 = loss_fn(outputs.logits[1][:-1], options_batch_1[0])\n",
    "loss0_padded = loss_fn(outputs.logits[1], options_batch[1])\n",
    "loss0_1 = loss_fn(outputs_1.logits[0], options_batch_1[0])\n",
    "print(loss0)\n",
    "print(loss0_padded)\n",
    "print(loss0_1)"
   ]
  },
  {
   "cell_type": "code",
   "execution_count": 34,
   "metadata": {},
   "outputs": [
    {
     "data": {
      "text/plain": [
       "[tensor([32099, 17162,     3,     5], device='cuda:0'),\n",
       " tensor([32099,  1907,    51,     9,     3,     5], device='cuda:0'),\n",
       " tensor([32099,   103,     3,    29,    31], device='cuda:0'),\n",
       " tensor([32099, 17162,     3,     6], device='cuda:0'),\n",
       " tensor([32099,   470,     3,     5], device='cuda:0'),\n",
       " tensor([32099, 17162,     3,     6], device='cuda:0'),\n",
       " tensor([32099,  1907,    51,     9,     3,     6], device='cuda:0'),\n",
       " tensor([32099, 17162,     3,     6], device='cuda:0'),\n",
       " tensor([32099,   103,     3,    29,    31], device='cuda:0'),\n",
       " tensor([32099, 17162,     3,     5], device='cuda:0'),\n",
       " tensor([32099, 17162,     3,     5], device='cuda:0')]"
      ]
     },
     "execution_count": 34,
     "metadata": {},
     "output_type": "execute_result"
    }
   ],
   "source": [
    "options"
   ]
  },
  {
   "cell_type": "code",
   "execution_count": 64,
   "metadata": {},
   "outputs": [
    {
     "data": {
      "text/plain": [
       "[tensor([32099,  3957,     3,     5], device='cuda:0'),\n",
       " tensor([32099,    24,     3,     5], device='cuda:0'),\n",
       " tensor([32099,  3957,     3,     5], device='cuda:0'),\n",
       " tensor([32099, 11831,     7,     3,     5], device='cuda:0')]"
      ]
     },
     "execution_count": 64,
     "metadata": {},
     "output_type": "execute_result"
    }
   ],
   "source": [
    "id_to_options[0]"
   ]
  },
  {
   "cell_type": "code",
   "execution_count": 32,
   "metadata": {},
   "outputs": [
    {
     "name": "stdout",
     "output_type": "stream",
     "text": [
      "torch.Size([5, 32128])\n",
      "torch.Size([4, 32128])\n"
     ]
    }
   ],
   "source": [
    "print(outputs.logits[1].shape)\n",
    "print(outputs_1.logits[0].shape)"
   ]
  },
  {
   "cell_type": "code",
   "execution_count": 59,
   "metadata": {},
   "outputs": [
    {
     "data": {
      "text/plain": [
       "tensor(4.3438, device='cuda:0', dtype=torch.bfloat16,\n",
       "       grad_fn=<NllLossBackward0>)"
      ]
     },
     "execution_count": 59,
     "metadata": {},
     "output_type": "execute_result"
    }
   ],
   "source": [
    "# loss_fn(outputs.logits, options_batch)\n",
    "logits_0 = outputs.logits[1]\n",
    "options_batch_0 = options_batch[1]\n",
    "# logits_0.shape\n",
    "\n",
    "loss = loss_fn(logits_0, options_batch_0)\n",
    "loss"
   ]
  },
  {
   "cell_type": "code",
   "execution_count": 113,
   "metadata": {},
   "outputs": [
    {
     "name": "stdout",
     "output_type": "stream",
     "text": [
      "tensor([1.3621e-08, 1.1132e-09, 3.0414e-09,  ..., 7.3057e-21, 9.9262e-22,\n",
      "        5.6910e-21], device='cuda:0', dtype=torch.bfloat16)\n",
      "tensor(32099, device='cuda:0')\n",
      "tensor(1., device='cuda:0', dtype=torch.bfloat16)\n",
      "tensor([4.6202e-10, 2.5518e-07, 6.1691e-06,  ..., 3.0308e-21, 3.1929e-22,\n",
      "        1.1117e-21], device='cuda:0', dtype=torch.bfloat16)\n",
      "tensor(8, device='cuda:0')\n",
      "tensor(0.1855, device='cuda:0', dtype=torch.bfloat16)\n",
      "tensor([9.3860e-10, 1.2442e-06, 3.0160e-05,  ..., 2.4458e-20, 3.3087e-21,\n",
      "        8.9997e-21], device='cuda:0', dtype=torch.bfloat16)\n",
      "tensor(11831, device='cuda:0')\n",
      "tensor(0.2373, device='cuda:0', dtype=torch.bfloat16)\n",
      "tensor([7.8944e-10, 3.6135e-07, 1.1349e-04,  ..., 1.1581e-21, 1.2160e-22,\n",
      "        4.2352e-22], device='cuda:0', dtype=torch.bfloat16)\n",
      "tensor(3, device='cuda:0')\n",
      "tensor(0.5703, device='cuda:0', dtype=torch.bfloat16)\n",
      "tensor([8.4128e-11, 3.8743e-07, 4.8340e-02,  ..., 1.6647e-23, 1.0663e-24,\n",
      "        4.7821e-24], device='cuda:0', dtype=torch.bfloat16)\n",
      "tensor(5, device='cuda:0')\n",
      "tensor(0.8008, device='cuda:0', dtype=torch.bfloat16)\n",
      "tensor([9.1968e-09, 1.6689e-05, 1.5831e-04,  ..., 5.3363e-20, 4.3940e-21,\n",
      "        1.1911e-20], device='cuda:0', dtype=torch.bfloat16)\n",
      "tensor(3, device='cuda:0')\n",
      "tensor(0.6641, device='cuda:0', dtype=torch.bfloat16)\n",
      "tensor([1.3024e-09, 1.2591e-06, 7.8125e-02,  ..., 3.7554e-22, 3.0812e-23,\n",
      "        1.0753e-22], device='cuda:0', dtype=torch.bfloat16)\n",
      "tensor(23, device='cuda:0')\n",
      "tensor(0.8438, device='cuda:0', dtype=torch.bfloat16)\n"
     ]
    }
   ],
   "source": [
    "outputs['scores']\n",
    "for i in range(len(outputs['scores'])):\n",
    "    probs_outputs_beam_scores = torch.nn.functional.softmax(outputs['scores'][i], dim=-1)\n",
    "    print(probs_outputs_beam_scores[0])\n",
    "    # argmax \n",
    "    print(torch.argmax(probs_outputs_beam_scores[0]))\n",
    "    # decode it\n",
    "    # print(tokenizer.decode(torch.argmax(probs_outputs_beam_scores[0])))\n",
    "    # the value\n",
    "    print(probs_outputs_beam_scores[0][torch.argmax(probs_outputs_beam_scores[0])])"
   ]
  },
  {
   "cell_type": "code",
   "execution_count": 53,
   "metadata": {},
   "outputs": [
    {
     "name": "stderr",
     "output_type": "stream",
     "text": [
      "/home1/09127/tomyoung/.local/lib/python3.9/site-packages/transformers/generation_utils.py:1296: UserWarning: Neither `max_length` nor `max_new_tokens` has been set, `max_length` will default to 20 (`self.config.max_length`). Controlling `max_length` via the config is deprecated and `max_length` will be removed from the config in v5 of Transformers -- we recommend using `max_new_tokens` to control the maximum length of the generation.\n",
      "  warnings.warn(\n"
     ]
    }
   ],
   "source": [
    "input_string = data_appended[0]['inputs_pretokenized']\n",
    "inputs = tokenizer(input_string, return_tensors=\"pt\").input_ids.to(device)\n",
    "num_beams = 2\n",
    "outputs = model.generate(inputs, \n",
    "                        # max_length=8, \n",
    "                        num_beams=num_beams, \n",
    "                        num_return_sequences=num_beams,\n",
    "                        # eos_token_id=tokenizer.convert_tokens_to_ids('<extra_id_1>'),\n",
    "                        return_dict_in_generate=True,\n",
    "                        output_scores=True)"
   ]
  },
  {
   "cell_type": "code",
   "execution_count": 54,
   "metadata": {},
   "outputs": [
    {
     "data": {
      "text/plain": [
       "tensor(-0.6948, device='cuda:0')"
      ]
     },
     "execution_count": 54,
     "metadata": {},
     "output_type": "execute_result"
    }
   ],
   "source": [
    "outputs['sequences_scores'][0]"
   ]
  },
  {
   "cell_type": "code",
   "execution_count": 52,
   "metadata": {},
   "outputs": [
    {
     "data": {
      "text/plain": [
       "'<pad><extra_id_0> signs anymore. i'"
      ]
     },
     "execution_count": 52,
     "metadata": {},
     "output_type": "execute_result"
    }
   ],
   "source": [
    "tokenizer.decode(outputs['sequences'][0])"
   ]
  },
  {
   "cell_type": "code",
   "execution_count": 50,
   "metadata": {},
   "outputs": [
    {
     "data": {
      "text/plain": [
       "['<pad>', '<extra_id_0>', 'signs', 'anymore', '', '.', '', 'i']"
      ]
     },
     "execution_count": 50,
     "metadata": {},
     "output_type": "execute_result"
    }
   ],
   "source": [
    "# decode the ids in outputs['sequences'][0] one by one\n",
    "decoded = []\n",
    "for id in outputs['sequences'][0]:\n",
    "    decoded.append(tokenizer.decode(id))\n",
    "decoded"
   ]
  },
  {
   "cell_type": "code",
   "execution_count": 113,
   "metadata": {},
   "outputs": [
    {
     "name": "stdout",
     "output_type": "stream",
     "text": [
      "[NLU] in my palm is a clear stone , and inside it is a small ivory statuette . a guardian angel . `` figured if you 're going to be out at night getting hit by cars , you might as well have some backup . '' i look at him , feeling stunned . like this is some sort of sign . but as i stare at harlin , his mouth curved in a confident grin , i do n't care about <extra_id_0>\n",
      "<extra_id_0> signs. <extra_id_1>\n"
     ]
    },
    {
     "data": {
      "text/plain": [
       "tensor([[[-18.6250, -20.8750, -19.6250,  ..., -46.5000, -48.5000, -46.7500],\n",
       "         [-21.5000, -14.5625, -12.0625,  ..., -47.0000, -49.2500, -47.7500],\n",
       "         [-20.3750, -15.2500, -10.1250,  ..., -50.7500, -53.2500, -52.0000],\n",
       "         [-16.8750, -11.0625,  -6.5000,  ..., -42.2500, -44.7500, -43.7500],\n",
       "         [-18.6250, -14.0000,  -4.1562,  ..., -41.5000, -43.7500, -43.0000]]],\n",
       "       device='cuda:0', dtype=torch.bfloat16, grad_fn=<UnsafeViewBackward0>)"
      ]
     },
     "execution_count": 113,
     "metadata": {},
     "output_type": "execute_result"
    }
   ],
   "source": [
    "input_ids = tokenizer(data_appended[0]['inputs_pretokenized'], return_tensors=\"pt\").input_ids.to(device)\n",
    "print(data_appended[0]['inputs_pretokenized'])\n",
    "labels = tokenizer(\"<extra_id_0> \" + id_to_word_and_punc_pairs_processed[0][2] + \" <extra_id_1>\", return_tensors=\"pt\").input_ids.to(device)\n",
    "print(\"<extra_id_0> \" + id_to_word_and_punc_pairs_processed[0][2] + \" <extra_id_1>\")\n",
    "outputs = model(input_ids, labels=labels)\n",
    "loss = outputs.loss\n",
    "logits = outputs.logits\n",
    "# logits"
   ]
  },
  {
   "cell_type": "code",
   "execution_count": 68,
   "metadata": {},
   "outputs": [
    {
     "data": {
      "text/plain": [
       "tensor(1.0312, device='cuda:0', dtype=torch.bfloat16,\n",
       "       grad_fn=<NllLossBackward0>)"
      ]
     },
     "execution_count": 68,
     "metadata": {},
     "output_type": "execute_result"
    }
   ],
   "source": [
    "# calculate loss with cross entropy loss function\n",
    "loss_fn = nn.CrossEntropyLoss()\n",
    "loss = loss_fn(logits.view(-1, logits.shape[-1]), labels.view(-1))\n",
    "loss"
   ]
  },
  {
   "cell_type": "code",
   "execution_count": 1,
   "metadata": {},
   "outputs": [
    {
     "ename": "NameError",
     "evalue": "name 'tokenizer' is not defined",
     "output_type": "error",
     "traceback": [
      "\u001b[0;31m---------------------------------------------------------------------------\u001b[0m",
      "\u001b[0;31mNameError\u001b[0m                                 Traceback (most recent call last)",
      "\u001b[0;32m/tmp/ipykernel_1477073/3438722888.py\u001b[0m in \u001b[0;36m<module>\u001b[0;34m\u001b[0m\n\u001b[1;32m      1\u001b[0m \u001b[0minput_string\u001b[0m \u001b[0;34m=\u001b[0m \u001b[0;34m\"[NLG] A man is having a bun for <extra_id_0>\"\u001b[0m\u001b[0;34m\u001b[0m\u001b[0;34m\u001b[0m\u001b[0m\n\u001b[0;32m----> 2\u001b[0;31m \u001b[0minputs\u001b[0m \u001b[0;34m=\u001b[0m \u001b[0mtokenizer\u001b[0m\u001b[0;34m(\u001b[0m\u001b[0minput_string\u001b[0m\u001b[0;34m,\u001b[0m \u001b[0mreturn_tensors\u001b[0m\u001b[0;34m=\u001b[0m\u001b[0;34m\"pt\"\u001b[0m\u001b[0;34m)\u001b[0m\u001b[0;34m.\u001b[0m\u001b[0minput_ids\u001b[0m\u001b[0;34m.\u001b[0m\u001b[0mto\u001b[0m\u001b[0;34m(\u001b[0m\u001b[0;34m\"cuda\"\u001b[0m\u001b[0;34m)\u001b[0m\u001b[0;34m\u001b[0m\u001b[0;34m\u001b[0m\u001b[0m\n\u001b[0m\u001b[1;32m      3\u001b[0m \u001b[0mnum_beams\u001b[0m \u001b[0;34m=\u001b[0m \u001b[0;36m1\u001b[0m\u001b[0;34m\u001b[0m\u001b[0;34m\u001b[0m\u001b[0m\n\u001b[1;32m      4\u001b[0m \u001b[0;31m# outputs = model.generate(inputs, num_beams=num_beams, max_length=3, num_return_sequences=num_beams, output_scores=True, return_dict_in_generate=True)\u001b[0m\u001b[0;34m\u001b[0m\u001b[0;34m\u001b[0m\u001b[0m\n\u001b[1;32m      5\u001b[0m \u001b[0moutputs\u001b[0m \u001b[0;34m=\u001b[0m \u001b[0mmodel\u001b[0m\u001b[0;34m.\u001b[0m\u001b[0mgenerate\u001b[0m\u001b[0;34m(\u001b[0m\u001b[0minputs\u001b[0m\u001b[0;34m,\u001b[0m \u001b[0mmax_length\u001b[0m\u001b[0;34m=\u001b[0m\u001b[0;36m3\u001b[0m\u001b[0;34m,\u001b[0m \u001b[0moutput_scores\u001b[0m\u001b[0;34m=\u001b[0m\u001b[0;32mTrue\u001b[0m\u001b[0;34m,\u001b[0m \u001b[0mreturn_dict_in_generate\u001b[0m\u001b[0;34m=\u001b[0m\u001b[0;32mTrue\u001b[0m\u001b[0;34m)\u001b[0m\u001b[0;34m\u001b[0m\u001b[0;34m\u001b[0m\u001b[0m\n",
      "\u001b[0;31mNameError\u001b[0m: name 'tokenizer' is not defined"
     ]
    }
   ],
   "source": [
    "input_string = \"[NLG] A man is having a bun for <extra_id_0>\"\n",
    "inputs = tokenizer(input_string, return_tensors=\"pt\").input_ids.to(device)\n",
    "num_beams = 1\n",
    "# outputs = model.generate(inputs, num_beams=num_beams, max_length=3, num_return_sequences=num_beams, output_scores=True, return_dict_in_generate=True)\n",
    "outputs = model.generate(inputs, max_length=3, output_scores=True, return_dict_in_generate=True)\n",
    "# outputs = model.generate(inputs, output_scores=True, return_dict_in_generate=True)\n",
    "\n",
    "for i in range(num_beams):\n",
    "    # print(outputs['sequences'][i])\n",
    "    print(tokenizer.decode(outputs['sequences'][i]))\n",
    "    # decode outputs['sequences'][i] one by one token\n",
    "    print('-------------')\n",
    "    # print(outputs['sequences_scores'][i])"
   ]
  },
  {
   "cell_type": "code",
   "execution_count": 7,
   "metadata": {},
   "outputs": [],
   "source": [
    "# /work/09127/tomyoung/ls6/data/pkls/url_to_probs_c4_dict_with_labels_t5_11b_valid.pkl\n",
    "import pickle\n",
    "with open('/work/09127/tomyoung/ls6/data/pkls/url_to_probs_c4_dict_with_labels_t5_11b_valid.pkl', 'rb') as f:\n",
    "    url_to_probs_c4_dict_with_labels_t5_11b_valid = pickle.load(f)"
   ]
  },
  {
   "cell_type": "code",
   "execution_count": 6,
   "metadata": {},
   "outputs": [],
   "source": [
    "# '/work/09127/tomyoung/ls6/data/pkls/acceptable_alternatives_1000_ignore_cws_nos_50_valid.pkl'\n",
    "with open('/work/09127/tomyoung/ls6/data/pkls/acceptable_alternatives_1000_ignore_cws_nos_50_valid.pkl', 'rb') as f:\n",
    "    acceptable_alternatives_1000_ignore_cws_nos_50_valid = pickle.load(f)"
   ]
  },
  {
   "cell_type": "code",
   "execution_count": 8,
   "metadata": {},
   "outputs": [],
   "source": [
    "c4_json_file = '/work/09127/tomyoung/ls6/data/jsons/c4-validation.00000-of-00001-list-of-lists.json'\n",
    "import json\n",
    "with open(c4_json_file, 'r', encoding='utf8') as f:\n",
    "    dicts_realnewslike = json.load(f)"
   ]
  },
  {
   "cell_type": "code",
   "execution_count": 5,
   "metadata": {},
   "outputs": [
    {
     "name": "stderr",
     "output_type": "stream",
     "text": [
      "/home1/09127/tomyoung/.local/lib/python3.9/site-packages/transformers/models/t5/tokenization_t5.py:164: FutureWarning: This tokenizer was incorrectly instantiated with a model max length of 512 which will be corrected in Transformers v5.\n",
      "For now, this behavior is kept to avoid breaking backwards compatibility when padding/encoding with `truncation is True`.\n",
      "- Be aware that you SHOULD NOT rely on t5-3b automatically truncating your input to 512 when padding/encoding.\n",
      "- If you want to encode/pad to sequences longer than 512 you can either instantiate this tokenizer with `model_max_length` or pass `max_length` when encoding/padding.\n",
      "- To avoid this warning, please instantiate this tokenizer with `model_max_length` set to your preferred value.\n",
      "  warnings.warn(\n"
     ]
    }
   ],
   "source": [
    "from transformers import T5Tokenizer, BartTokenizer\n",
    "t5_tokenizer = T5Tokenizer.from_pretrained('t5-3b')\n",
    "bart_tokenizer = BartTokenizer.from_pretrained(\"facebook/bart-large\")"
   ]
  },
  {
   "cell_type": "code",
   "execution_count": 53,
   "metadata": {},
   "outputs": [
    {
     "name": "stdout",
     "output_type": "stream",
     "text": [
      "proposed_bigram:  upgrade package\n",
      "preceding_tokens: <s>Also included in\n",
      "following_tokens:  is a new Linux Cluster Install Tool, which automates much of the installation work, IBM officials said.</s>\n"
     ]
    }
   ],
   "source": [
    "'''based on url_to_probs_c4_dict_with_labels_t5_11b_valid and acceptable_alternatives_1000_ignore_cws_nos_50_valid\n",
    "generate the input string and target string for the models like ul2 and glm'''\n",
    "proposed_bigram = t5_tokenizer.decode(url_to_probs_c4_dict_with_labels_t5_11b_valid[((0,17,4),(0,17,5),1)]['proposed bigram'])\n",
    "\n",
    "acceptable_alternatives_1000_ignore_cws_nos_50_valid[(0,17,4)][0][1]\n",
    "\n",
    "proposed_bigram = bart_tokenizer.decode(acceptable_alternatives_1000_ignore_cws_nos_50_valid[(0,17,4)][0][1][4+1:4+3])\n",
    "print('proposed_bigram:', proposed_bigram)\n",
    "\n",
    "preceding_tokens = bart_tokenizer.decode(acceptable_alternatives_1000_ignore_cws_nos_50_valid[(0,17,4)][0][1][:4])\n",
    "print('preceding_tokens:', preceding_tokens)\n",
    "\n",
    "following_tokens = bart_tokenizer.decode(acceptable_alternatives_1000_ignore_cws_nos_50_valid[(0,17,4)][0][1][4+3:])\n",
    "print('following_tokens:', following_tokens)\n"
   ]
  },
  {
   "cell_type": "code",
   "execution_count": 10,
   "metadata": {},
   "outputs": [
    {
     "name": "stderr",
     "output_type": "stream",
     "text": [
      "100%|██████████| 22152/22152 [1:55:33<00:00,  3.20it/s]  \n"
     ]
    },
    {
     "ename": "",
     "evalue": "",
     "output_type": "error",
     "traceback": [
      "\u001b[1;31mThe Kernel crashed while executing code in the the current cell or a previous cell. Please review the code in the cell(s) to identify a possible cause of the failure. Click <a href='https://aka.ms/vscodeJupyterKernelCrash'>here</a> for more info. View Jupyter <a href='command:jupyter.viewOutput'>log</a> for further details."
     ]
    }
   ],
   "source": [
    "url_to_probs_c4_dict_with_labels_t5_11b_valid_keys = list(url_to_probs_c4_dict_with_labels_t5_11b_valid.keys())\n",
    "\n",
    "url_to_ul2_probs_dict = {}\n",
    "import math\n",
    "for i in tqdm(range(len(url_to_probs_c4_dict_with_labels_t5_11b_valid_keys))):#len(url_to_probs_c4_dict_with_labels_t5_11b_valid_keys)\n",
    "    key = url_to_probs_c4_dict_with_labels_t5_11b_valid_keys[i]\n",
    "    url_to_ul2_probs_dict[url_to_probs_c4_dict_with_labels_t5_11b_valid_keys[i]] = {}\n",
    "    show(key)\n",
    "    show(key[0])\n",
    "    show(acceptable_alternatives_1000_ignore_cws_nos_50_valid[key[0]])\n",
    "    # acceptable_alternatives_1000_ignore_cws_nos_50_valid\n",
    "    # process the proposed bigram and token\n",
    "    url = key[0]\n",
    "    story_id = key[0][0]\n",
    "    paragraph_id = key[0][1]\n",
    "    option_id = key[2]\n",
    "    proposed_token_pos = key[0][2]\n",
    "\n",
    "    ''' proposed token '''\n",
    "    # acceptable_alternatives_1000_ignore_cws_nos_50_valid has an <s> </s>\n",
    "    proposed_token = bart_tokenizer.decode(acceptable_alternatives_1000_ignore_cws_nos_50_valid[url][0][option_id][proposed_token_pos+1:proposed_token_pos+2])\n",
    "    preceding_tokens_to_proposed_token = bart_tokenizer.decode(acceptable_alternatives_1000_ignore_cws_nos_50_valid[url][0][option_id][:proposed_token_pos+1])\n",
    "    following_tokens_to_proposed_token = bart_tokenizer.decode(acceptable_alternatives_1000_ignore_cws_nos_50_valid[url][0][option_id][proposed_token_pos+2:])\n",
    "    show('proposed_token:', proposed_token)\n",
    "    show('preceding_tokens_to_proposed_token:', preceding_tokens_to_proposed_token)\n",
    "    show('following_tokens_to_proposed_token:', following_tokens_to_proposed_token)\n",
    "    # generate the input string by adding a <extra_id_0> in the middle of the sentence\n",
    "    input_string = preceding_tokens_to_proposed_token + ' <extra_id_0>' + following_tokens_to_proposed_token\n",
    "    # remove <s> and </s> in the input string\n",
    "    input_string = input_string.replace('<s>', '')\n",
    "    input_string = input_string.replace('</s>', '')\n",
    "    # add [NLU] to the input string\n",
    "    input_string = '[NLU] ' + input_string\n",
    "    show('input_string:', input_string)\n",
    "    target_string = '<extra_id_0>' + proposed_token + ' <extra_id_1>'\n",
    "    show('target_string_proposed_token:', target_string)\n",
    "    inputs = tokenizer(input_string, return_tensors=\"pt\").input_ids.to(device)\n",
    "    labels = tokenizer(target_string, return_tensors=\"pt\").input_ids.to(device)\n",
    "    show('labels_proposed_token:', labels)\n",
    "    # remove the last </s> token from labels\n",
    "    labels = labels[:, :-1].contiguous()\n",
    "    show('inputs:', inputs)\n",
    "    show('labels:', labels)\n",
    "    outputs = model(inputs, labels=labels)\n",
    "    # print('outputs:', outputs)\n",
    "    log_p = -loss_fn_sum(outputs.logits[0][1:], labels[0][1:]) # [1:] to remove the first token <extra_id_0>\n",
    "    show('log_p_proposed_token:', log_p)\n",
    "    example_raw_sequence = dicts_realnewslike[story_id][paragraph_id]\n",
    "    show('example_raw_sequence:', example_raw_sequence)\n",
    "    # tokenize the raw sequence\n",
    "    example_raw_sequence_bart_tokenized = bart_tokenizer.tokenize(example_raw_sequence)\n",
    "    bart_ids_original = bart_tokenizer.convert_tokens_to_ids(example_raw_sequence_bart_tokenized)\n",
    "    \n",
    "    ''' original token '''\n",
    "    original_token = bart_tokenizer.decode(bart_ids_original[proposed_token_pos])\n",
    "    show('original_token:', original_token)\n",
    "    target_string_original_token = '<extra_id_0>' + original_token + ' <extra_id_1>'\n",
    "    show('target_string_original_token:', target_string_original_token)\n",
    "    labels_original_token = tokenizer(target_string_original_token, return_tensors=\"pt\").input_ids.to(device)\n",
    "    labels_original_token = labels_original_token[:, :-1].contiguous()\n",
    "    show('labels_original_token:', labels_original_token)\n",
    "    outputs = model(inputs, labels=labels_original_token)\n",
    "    log_p_original_token = -loss_fn_sum(outputs.logits[0][1:], labels_original_token[0][1:]) # [1:] to remove the first token <extra_id_0>\n",
    "    show('log_p_original_token:', log_p_original_token)\n",
    "    \n",
    "    \n",
    "    ''' proposed bigram '''\n",
    "    constant_token_pos = key[1][2]\n",
    "    proposed_token_is_to_the_left = proposed_token_pos < constant_token_pos\n",
    "    if proposed_token_is_to_the_left:\n",
    "        proposed_bigram = bart_tokenizer.decode(acceptable_alternatives_1000_ignore_cws_nos_50_valid[url][0][option_id][proposed_token_pos+1:proposed_token_pos+3])\n",
    "        preceding_tokens_to_proposed_bigram = bart_tokenizer.decode(acceptable_alternatives_1000_ignore_cws_nos_50_valid[url][0][option_id][:proposed_token_pos+1])\n",
    "        following_tokens_to_proposed_bigram = bart_tokenizer.decode(acceptable_alternatives_1000_ignore_cws_nos_50_valid[url][0][option_id][proposed_token_pos+3:])\n",
    "        original_bigram = bart_tokenizer.decode(bart_ids_original[proposed_token_pos:proposed_token_pos+2])\n",
    "    else:\n",
    "        proposed_bigram = bart_tokenizer.decode(acceptable_alternatives_1000_ignore_cws_nos_50_valid[url][0][option_id][proposed_token_pos:proposed_token_pos+2])\n",
    "        preceding_tokens_to_proposed_bigram = bart_tokenizer.decode(acceptable_alternatives_1000_ignore_cws_nos_50_valid[url][0][option_id][:proposed_token_pos])\n",
    "        following_tokens_to_proposed_bigram = bart_tokenizer.decode(acceptable_alternatives_1000_ignore_cws_nos_50_valid[url][0][option_id][proposed_token_pos+2:])\n",
    "        original_bigram = bart_tokenizer.decode(bart_ids_original[proposed_token_pos-1:proposed_token_pos+1])\n",
    "    show('proposed_bigram:', proposed_bigram)\n",
    "    show('preceding_tokens_to_proposed_bigram:', preceding_tokens_to_proposed_bigram)\n",
    "    show('following_tokens_to_proposed_bigram:', following_tokens_to_proposed_bigram)\n",
    "    show('original_bigram:', original_bigram)\n",
    "    \n",
    "    \n",
    "    # generate the input string by adding a <extra_id_0> in the middle of the sentence\n",
    "    input_string = preceding_tokens_to_proposed_bigram + ' <extra_id_0>' + following_tokens_to_proposed_bigram\n",
    "    # remove <s> and </s> in the input string\n",
    "    input_string = input_string.replace('<s>', '')\n",
    "    input_string = input_string.replace('</s>', '')\n",
    "    # add [NLU] to the input string\n",
    "    input_string = '[NLU] ' + input_string\n",
    "    show('input_string:', input_string)\n",
    "    target_string = '<extra_id_0>' + proposed_bigram + ' <extra_id_1>'\n",
    "    show('target_string:', target_string)\n",
    "    inputs = tokenizer(input_string, return_tensors=\"pt\").input_ids.to(device)\n",
    "    labels = tokenizer(target_string, return_tensors=\"pt\").input_ids.to(device)\n",
    "    # remove the last </s> token from labels\n",
    "    labels = labels[:, :-1].contiguous()\n",
    "    show('inputs:', inputs)\n",
    "    show('labels:', labels)\n",
    "    outputs = model(inputs, labels=labels)\n",
    "    # print('outputs:', outputs)\n",
    "    log_p_proposed_bigram = -loss_fn_sum(outputs.logits[0][1:], labels[0][1:]) #\n",
    "    show('log_p_proposed_bigram:', log_p_proposed_bigram)\n",
    "\n",
    "\n",
    "    '''original bigram'''\n",
    "    target_string_original_bigram = '<extra_id_0>' + original_bigram + ' <extra_id_1>'\n",
    "    show('target_string_original_bigram:', target_string_original_bigram)\n",
    "    labels_original_bigram = tokenizer(target_string_original_bigram, return_tensors=\"pt\").input_ids.to(device)\n",
    "    labels_original_bigram = labels_original_bigram[:, :-1].contiguous()\n",
    "    outputs = model(inputs, labels=labels_original_bigram)\n",
    "    # print('outputs:', outputs)\n",
    "    log_p_original_bigram = -loss_fn_sum(outputs.logits[0][1:], labels_original_bigram[0][1:]) #\n",
    "    show('log_p_original_bigram:', log_p_original_bigram)\n",
    "    # put the log_p's into the dictionary\n",
    "    url_to_ul2_probs_dict[key] = {'proposed token': math.exp(log_p.to(torch.float32).detach().cpu().numpy()),\n",
    "                                'original token': math.exp(log_p_original_token.to(torch.float32).detach().cpu().numpy()),\n",
    "                                'proposed bigram': math.exp(log_p_proposed_bigram.to(torch.float32).detach().cpu().numpy()),\n",
    "                                'original bigram': math.exp(log_p_original_bigram.to(torch.float32).detach().cpu().numpy())}\n",
    "url_to_ul2_probs_dict_filepath = '/work/09127/tomyoung/ls6/data/pkls/url_to_ul2_probs_dict_valid.pkl'\n",
    "with open(url_to_ul2_probs_dict_filepath, 'wb') as f:\n",
    "    pickle.dump(url_to_ul2_probs_dict, f)\n"
   ]
  },
  {
   "cell_type": "code",
   "execution_count": null,
   "metadata": {},
   "outputs": [],
   "source": [
    "url_to_ul2_probs_dict_filepath = '/work/09127/tomyoung/ls6/data/pkls/url_to_ul2_probs_dict_valid.pkl'\n",
    "with open(url_to_ul2_probs_dict_filepath, 'wb') as f:\n",
    "    pickle.dump(url_to_ul2_probs_dict, f)\n"
   ]
  },
  {
   "cell_type": "code",
   "execution_count": null,
   "metadata": {},
   "outputs": [],
   "source": [
    "# /work/09127/tomyoung/ls6/data/pkls/url_to_probs_c4_dict_with_labels_t5_11b_valid.pkl\n",
    "import pickle\n",
    "with open('/work/09127/tomyoung/ls6/data/pkls/url_to_probs_c4_dict_with_labels_t5_11b_valid.pkl', 'rb') as f:\n",
    "    url_to_probs_c4_dict_with_labels_t5_11b_valid = pickle.load(f)"
   ]
  },
  {
   "cell_type": "code",
   "execution_count": null,
   "metadata": {},
   "outputs": [],
   "source": [
    "url_to_probs_c4_dict_with_labels_t5_11b_valid[((0,17,4),(0,17,5),1)]"
   ]
  }
 ],
 "metadata": {
  "kernelspec": {
   "display_name": "Python 3",
   "language": "python",
   "name": "python3"
  },
  "language_info": {
   "codemirror_mode": {
    "name": "ipython",
    "version": 3
   },
   "file_extension": ".py",
   "mimetype": "text/x-python",
   "name": "python",
   "nbconvert_exporter": "python",
   "pygments_lexer": "ipython3",
   "version": "3.10.13"
  },
  "orig_nbformat": 4
 },
 "nbformat": 4,
 "nbformat_minor": 2
}
